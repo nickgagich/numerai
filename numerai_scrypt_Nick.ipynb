{
 "cells": [
  {
   "cell_type": "code",
   "execution_count": 1,
   "metadata": {},
   "outputs": [],
   "source": [
    "import pandas as pd\n",
    "import numpy as np\n",
    "import numerapi\n",
    "import sklearn.linear_model\n",
    "import matplotlib.pylab as plt\n",
    "\n",
    "from datetime import timedelta\n",
    "import tqdm"
   ]
  },
  {
   "cell_type": "code",
   "execution_count": 2,
   "metadata": {},
   "outputs": [],
   "source": [
    "df = pd.DataFrame(data={'Animal': ['cat', 'penguin', 'dog',\n",
    "                                   'spider', 'snake'],\n",
    "                        'Number_legs': [4, 2, 4, 8, np.nan]})\n",
    "df['pct_rank'] = df['Number_legs'].rank(pct=True)\n",
    "df['pct_rank_1'] = df['Number_legs'].rank(pct=True, method = \"first\")"
   ]
  },
  {
   "cell_type": "code",
   "execution_count": 3,
   "metadata": {},
   "outputs": [
    {
     "output_type": "execute_result",
     "data": {
      "text/plain": [
       "    Animal  Number_legs  pct_rank  pct_rank_1\n",
       "0      cat          4.0     0.625        0.50\n",
       "1  penguin          2.0     0.250        0.25\n",
       "2      dog          4.0     0.625        0.75\n",
       "3   spider          8.0     1.000        1.00\n",
       "4    snake          NaN       NaN         NaN"
      ],
      "text/html": "<div>\n<style scoped>\n    .dataframe tbody tr th:only-of-type {\n        vertical-align: middle;\n    }\n\n    .dataframe tbody tr th {\n        vertical-align: top;\n    }\n\n    .dataframe thead th {\n        text-align: right;\n    }\n</style>\n<table border=\"1\" class=\"dataframe\">\n  <thead>\n    <tr style=\"text-align: right;\">\n      <th></th>\n      <th>Animal</th>\n      <th>Number_legs</th>\n      <th>pct_rank</th>\n      <th>pct_rank_1</th>\n    </tr>\n  </thead>\n  <tbody>\n    <tr>\n      <th>0</th>\n      <td>cat</td>\n      <td>4.0</td>\n      <td>0.625</td>\n      <td>0.50</td>\n    </tr>\n    <tr>\n      <th>1</th>\n      <td>penguin</td>\n      <td>2.0</td>\n      <td>0.250</td>\n      <td>0.25</td>\n    </tr>\n    <tr>\n      <th>2</th>\n      <td>dog</td>\n      <td>4.0</td>\n      <td>0.625</td>\n      <td>0.75</td>\n    </tr>\n    <tr>\n      <th>3</th>\n      <td>spider</td>\n      <td>8.0</td>\n      <td>1.000</td>\n      <td>1.00</td>\n    </tr>\n    <tr>\n      <th>4</th>\n      <td>snake</td>\n      <td>NaN</td>\n      <td>NaN</td>\n      <td>NaN</td>\n    </tr>\n  </tbody>\n</table>\n</div>"
     },
     "metadata": {},
     "execution_count": 3
    }
   ],
   "source": [
    "df"
   ]
  },
  {
   "cell_type": "code",
   "execution_count": 4,
   "metadata": {},
   "outputs": [],
   "source": [
    "# The models should be scored based on the rank-correlation (spearman) with the target\n",
    "def numerai_score(y_true, y_pred):\n",
    "    rank_pred = y_pred.groupby(eras).apply(lambda x: x.rank(pct=True, method=\"first\"))\n",
    "    return np.corrcoef(y_true, rank_pred)[0,1]\n",
    "\n",
    "# It can also be convenient while working to evaluate based on the regular (pearson) correlation\n",
    "def correlation_score(y_true, y_pred):\n",
    "    return np.corrcoef(y_true, y_pred)[0,1]"
   ]
  },
  {
   "cell_type": "code",
   "execution_count": 5,
   "metadata": {},
   "outputs": [
    {
     "output_type": "execute_result",
     "data": {
      "text/plain": [
       "                 id   era data_type  feature_intelligence1  \\\n",
       "0  n000315175b67977  era1     train                   0.00   \n",
       "1  n0014af834a96cdd  era1     train                   0.00   \n",
       "2  n001c93979ac41d4  era1     train                   0.25   \n",
       "3  n0034e4143f22a13  era1     train                   1.00   \n",
       "4  n00679d1a636062f  era1     train                   0.25   \n",
       "\n",
       "   feature_intelligence2  feature_intelligence3  feature_intelligence4  \\\n",
       "0                   0.50                   0.25                   0.00   \n",
       "1                   0.00                   0.00                   0.25   \n",
       "2                   0.50                   0.25                   0.25   \n",
       "3                   0.00                   0.00                   0.50   \n",
       "4                   0.25                   0.25                   0.25   \n",
       "\n",
       "   feature_intelligence5  feature_intelligence6  feature_intelligence7  ...  \\\n",
       "0                    0.5                   0.25                   0.25  ...   \n",
       "1                    0.5                   0.00                   0.00  ...   \n",
       "2                    1.0                   0.75                   0.75  ...   \n",
       "3                    0.5                   0.25                   0.25  ...   \n",
       "4                    0.0                   0.25                   0.50  ...   \n",
       "\n",
       "   feature_wisdom38  feature_wisdom39  feature_wisdom40  feature_wisdom41  \\\n",
       "0              1.00              1.00              0.75              0.50   \n",
       "1              1.00              1.00              0.00              0.00   \n",
       "2              0.25              0.50              0.00              0.00   \n",
       "3              1.00              1.00              0.75              0.75   \n",
       "4              0.75              0.75              0.25              0.50   \n",
       "\n",
       "   feature_wisdom42  feature_wisdom43  feature_wisdom44  feature_wisdom45  \\\n",
       "0              0.75              0.50              1.00              0.50   \n",
       "1              0.75              0.25              0.00              0.25   \n",
       "2              0.50              1.00              0.00              0.25   \n",
       "3              1.00              1.00              0.75              1.00   \n",
       "4              0.75              0.00              0.50              0.25   \n",
       "\n",
       "   feature_wisdom46  target  \n",
       "0              0.75    0.50  \n",
       "1              1.00    0.25  \n",
       "2              0.75    0.25  \n",
       "3              1.00    0.25  \n",
       "4              0.75    0.75  \n",
       "\n",
       "[5 rows x 314 columns]"
      ],
      "text/html": "<div>\n<style scoped>\n    .dataframe tbody tr th:only-of-type {\n        vertical-align: middle;\n    }\n\n    .dataframe tbody tr th {\n        vertical-align: top;\n    }\n\n    .dataframe thead th {\n        text-align: right;\n    }\n</style>\n<table border=\"1\" class=\"dataframe\">\n  <thead>\n    <tr style=\"text-align: right;\">\n      <th></th>\n      <th>id</th>\n      <th>era</th>\n      <th>data_type</th>\n      <th>feature_intelligence1</th>\n      <th>feature_intelligence2</th>\n      <th>feature_intelligence3</th>\n      <th>feature_intelligence4</th>\n      <th>feature_intelligence5</th>\n      <th>feature_intelligence6</th>\n      <th>feature_intelligence7</th>\n      <th>...</th>\n      <th>feature_wisdom38</th>\n      <th>feature_wisdom39</th>\n      <th>feature_wisdom40</th>\n      <th>feature_wisdom41</th>\n      <th>feature_wisdom42</th>\n      <th>feature_wisdom43</th>\n      <th>feature_wisdom44</th>\n      <th>feature_wisdom45</th>\n      <th>feature_wisdom46</th>\n      <th>target</th>\n    </tr>\n  </thead>\n  <tbody>\n    <tr>\n      <th>0</th>\n      <td>n000315175b67977</td>\n      <td>era1</td>\n      <td>train</td>\n      <td>0.00</td>\n      <td>0.50</td>\n      <td>0.25</td>\n      <td>0.00</td>\n      <td>0.5</td>\n      <td>0.25</td>\n      <td>0.25</td>\n      <td>...</td>\n      <td>1.00</td>\n      <td>1.00</td>\n      <td>0.75</td>\n      <td>0.50</td>\n      <td>0.75</td>\n      <td>0.50</td>\n      <td>1.00</td>\n      <td>0.50</td>\n      <td>0.75</td>\n      <td>0.50</td>\n    </tr>\n    <tr>\n      <th>1</th>\n      <td>n0014af834a96cdd</td>\n      <td>era1</td>\n      <td>train</td>\n      <td>0.00</td>\n      <td>0.00</td>\n      <td>0.00</td>\n      <td>0.25</td>\n      <td>0.5</td>\n      <td>0.00</td>\n      <td>0.00</td>\n      <td>...</td>\n      <td>1.00</td>\n      <td>1.00</td>\n      <td>0.00</td>\n      <td>0.00</td>\n      <td>0.75</td>\n      <td>0.25</td>\n      <td>0.00</td>\n      <td>0.25</td>\n      <td>1.00</td>\n      <td>0.25</td>\n    </tr>\n    <tr>\n      <th>2</th>\n      <td>n001c93979ac41d4</td>\n      <td>era1</td>\n      <td>train</td>\n      <td>0.25</td>\n      <td>0.50</td>\n      <td>0.25</td>\n      <td>0.25</td>\n      <td>1.0</td>\n      <td>0.75</td>\n      <td>0.75</td>\n      <td>...</td>\n      <td>0.25</td>\n      <td>0.50</td>\n      <td>0.00</td>\n      <td>0.00</td>\n      <td>0.50</td>\n      <td>1.00</td>\n      <td>0.00</td>\n      <td>0.25</td>\n      <td>0.75</td>\n      <td>0.25</td>\n    </tr>\n    <tr>\n      <th>3</th>\n      <td>n0034e4143f22a13</td>\n      <td>era1</td>\n      <td>train</td>\n      <td>1.00</td>\n      <td>0.00</td>\n      <td>0.00</td>\n      <td>0.50</td>\n      <td>0.5</td>\n      <td>0.25</td>\n      <td>0.25</td>\n      <td>...</td>\n      <td>1.00</td>\n      <td>1.00</td>\n      <td>0.75</td>\n      <td>0.75</td>\n      <td>1.00</td>\n      <td>1.00</td>\n      <td>0.75</td>\n      <td>1.00</td>\n      <td>1.00</td>\n      <td>0.25</td>\n    </tr>\n    <tr>\n      <th>4</th>\n      <td>n00679d1a636062f</td>\n      <td>era1</td>\n      <td>train</td>\n      <td>0.25</td>\n      <td>0.25</td>\n      <td>0.25</td>\n      <td>0.25</td>\n      <td>0.0</td>\n      <td>0.25</td>\n      <td>0.50</td>\n      <td>...</td>\n      <td>0.75</td>\n      <td>0.75</td>\n      <td>0.25</td>\n      <td>0.50</td>\n      <td>0.75</td>\n      <td>0.00</td>\n      <td>0.50</td>\n      <td>0.25</td>\n      <td>0.75</td>\n      <td>0.75</td>\n    </tr>\n  </tbody>\n</table>\n<p>5 rows × 314 columns</p>\n</div>"
     },
     "metadata": {},
     "execution_count": 5
    }
   ],
   "source": [
    "training_data = pd.read_csv(\"https://numerai-public-datasets.s3-us-west-2.amazonaws.com/latest_numerai_training_data.csv.xz\")\n",
    "training_data.head()"
   ]
  },
  {
   "cell_type": "code",
   "execution_count": 6,
   "metadata": {},
   "outputs": [
    {
     "output_type": "execute_result",
     "data": {
      "text/plain": [
       "                 id     era   data_type  feature_intelligence1  \\\n",
       "0  n0003aa52cab36c2  era121  validation                   0.25   \n",
       "1  n000920ed083903f  era121  validation                   0.75   \n",
       "2  n0038e640522c4a6  era121  validation                   1.00   \n",
       "3  n004ac94a87dc54b  era121  validation                   0.75   \n",
       "4  n0052fe97ea0c05f  era121  validation                   0.25   \n",
       "\n",
       "   feature_intelligence2  feature_intelligence3  feature_intelligence4  \\\n",
       "0                   0.75                   0.50                   0.50   \n",
       "1                   0.50                   0.75                   1.00   \n",
       "2                   0.00                   0.00                   1.00   \n",
       "3                   1.00                   1.00                   0.50   \n",
       "4                   0.50                   0.50                   0.25   \n",
       "\n",
       "   feature_intelligence5  feature_intelligence6  feature_intelligence7  ...  \\\n",
       "0                    0.0                   0.75                    0.5  ...   \n",
       "1                    0.5                   0.00                    0.0  ...   \n",
       "2                    1.0                   1.00                    1.0  ...   \n",
       "3                    0.0                   0.00                    0.0  ...   \n",
       "4                    1.0                   0.50                    0.5  ...   \n",
       "\n",
       "   feature_wisdom38  feature_wisdom39  feature_wisdom40  feature_wisdom41  \\\n",
       "0              0.75              0.75              1.00              0.75   \n",
       "1              0.50              0.50              0.75              1.00   \n",
       "2              0.00              0.00              0.50              0.25   \n",
       "3              0.00              0.00              0.00              0.25   \n",
       "4              0.50              0.75              0.00              0.00   \n",
       "\n",
       "   feature_wisdom42  feature_wisdom43  feature_wisdom44  feature_wisdom45  \\\n",
       "0              0.50               0.5               1.0              0.00   \n",
       "1              0.75               0.5               0.5              0.50   \n",
       "2              0.00               0.0               0.5              0.50   \n",
       "3              0.00               0.0               0.0              0.25   \n",
       "4              0.75               1.0               0.0              0.25   \n",
       "\n",
       "   feature_wisdom46  target  \n",
       "0              0.00    0.25  \n",
       "1              0.50    0.50  \n",
       "2              0.00    1.00  \n",
       "3              0.25    0.50  \n",
       "4              1.00    0.75  \n",
       "\n",
       "[5 rows x 314 columns]"
      ],
      "text/html": "<div>\n<style scoped>\n    .dataframe tbody tr th:only-of-type {\n        vertical-align: middle;\n    }\n\n    .dataframe tbody tr th {\n        vertical-align: top;\n    }\n\n    .dataframe thead th {\n        text-align: right;\n    }\n</style>\n<table border=\"1\" class=\"dataframe\">\n  <thead>\n    <tr style=\"text-align: right;\">\n      <th></th>\n      <th>id</th>\n      <th>era</th>\n      <th>data_type</th>\n      <th>feature_intelligence1</th>\n      <th>feature_intelligence2</th>\n      <th>feature_intelligence3</th>\n      <th>feature_intelligence4</th>\n      <th>feature_intelligence5</th>\n      <th>feature_intelligence6</th>\n      <th>feature_intelligence7</th>\n      <th>...</th>\n      <th>feature_wisdom38</th>\n      <th>feature_wisdom39</th>\n      <th>feature_wisdom40</th>\n      <th>feature_wisdom41</th>\n      <th>feature_wisdom42</th>\n      <th>feature_wisdom43</th>\n      <th>feature_wisdom44</th>\n      <th>feature_wisdom45</th>\n      <th>feature_wisdom46</th>\n      <th>target</th>\n    </tr>\n  </thead>\n  <tbody>\n    <tr>\n      <th>0</th>\n      <td>n0003aa52cab36c2</td>\n      <td>era121</td>\n      <td>validation</td>\n      <td>0.25</td>\n      <td>0.75</td>\n      <td>0.50</td>\n      <td>0.50</td>\n      <td>0.0</td>\n      <td>0.75</td>\n      <td>0.5</td>\n      <td>...</td>\n      <td>0.75</td>\n      <td>0.75</td>\n      <td>1.00</td>\n      <td>0.75</td>\n      <td>0.50</td>\n      <td>0.5</td>\n      <td>1.0</td>\n      <td>0.00</td>\n      <td>0.00</td>\n      <td>0.25</td>\n    </tr>\n    <tr>\n      <th>1</th>\n      <td>n000920ed083903f</td>\n      <td>era121</td>\n      <td>validation</td>\n      <td>0.75</td>\n      <td>0.50</td>\n      <td>0.75</td>\n      <td>1.00</td>\n      <td>0.5</td>\n      <td>0.00</td>\n      <td>0.0</td>\n      <td>...</td>\n      <td>0.50</td>\n      <td>0.50</td>\n      <td>0.75</td>\n      <td>1.00</td>\n      <td>0.75</td>\n      <td>0.5</td>\n      <td>0.5</td>\n      <td>0.50</td>\n      <td>0.50</td>\n      <td>0.50</td>\n    </tr>\n    <tr>\n      <th>2</th>\n      <td>n0038e640522c4a6</td>\n      <td>era121</td>\n      <td>validation</td>\n      <td>1.00</td>\n      <td>0.00</td>\n      <td>0.00</td>\n      <td>1.00</td>\n      <td>1.0</td>\n      <td>1.00</td>\n      <td>1.0</td>\n      <td>...</td>\n      <td>0.00</td>\n      <td>0.00</td>\n      <td>0.50</td>\n      <td>0.25</td>\n      <td>0.00</td>\n      <td>0.0</td>\n      <td>0.5</td>\n      <td>0.50</td>\n      <td>0.00</td>\n      <td>1.00</td>\n    </tr>\n    <tr>\n      <th>3</th>\n      <td>n004ac94a87dc54b</td>\n      <td>era121</td>\n      <td>validation</td>\n      <td>0.75</td>\n      <td>1.00</td>\n      <td>1.00</td>\n      <td>0.50</td>\n      <td>0.0</td>\n      <td>0.00</td>\n      <td>0.0</td>\n      <td>...</td>\n      <td>0.00</td>\n      <td>0.00</td>\n      <td>0.00</td>\n      <td>0.25</td>\n      <td>0.00</td>\n      <td>0.0</td>\n      <td>0.0</td>\n      <td>0.25</td>\n      <td>0.25</td>\n      <td>0.50</td>\n    </tr>\n    <tr>\n      <th>4</th>\n      <td>n0052fe97ea0c05f</td>\n      <td>era121</td>\n      <td>validation</td>\n      <td>0.25</td>\n      <td>0.50</td>\n      <td>0.50</td>\n      <td>0.25</td>\n      <td>1.0</td>\n      <td>0.50</td>\n      <td>0.5</td>\n      <td>...</td>\n      <td>0.50</td>\n      <td>0.75</td>\n      <td>0.00</td>\n      <td>0.00</td>\n      <td>0.75</td>\n      <td>1.0</td>\n      <td>0.0</td>\n      <td>0.25</td>\n      <td>1.00</td>\n      <td>0.75</td>\n    </tr>\n  </tbody>\n</table>\n<p>5 rows × 314 columns</p>\n</div>"
     },
     "metadata": {},
     "execution_count": 6
    }
   ],
   "source": [
    "# download the latest tournament dataset (takes around 30s)\n",
    "tournament_data = pd.read_csv(\"https://numerai-public-datasets.s3-us-west-2.amazonaws.com/latest_numerai_tournament_data.csv.xz\")\n",
    "tournament_data.head()"
   ]
  },
  {
   "cell_type": "code",
   "execution_count": 7,
   "metadata": {},
   "outputs": [],
   "source": [
    "# find only the feature columns\n",
    "feature_cols = training_data.columns[training_data.columns.str.startswith('feature')]"
   ]
  },
  {
   "cell_type": "code",
   "execution_count": 8,
   "metadata": {},
   "outputs": [],
   "source": [
    "# select those columns out of the training dataset\n",
    "training_features = training_data[feature_cols]"
   ]
  },
  {
   "cell_type": "code",
   "execution_count": 10,
   "metadata": {},
   "outputs": [],
   "source": [
    "target = training_data['target']"
   ]
  },
  {
   "cell_type": "code",
   "execution_count": 11,
   "metadata": {},
   "outputs": [],
   "source": [
    "eras = training_data['era']\n",
    "eras_live = tournament_data.era"
   ]
  },
  {
   "cell_type": "code",
   "execution_count": 12,
   "metadata": {
    "tags": []
   },
   "outputs": [],
   "source": [
    "N_ERAS_IN_FOLD = 12\n",
    "N_FOLDS = int(len(eras.unique()) / N_ERAS_IN_FOLD)\n",
    "\n",
    "eras2_binned = []\n",
    "current_era = 1\n",
    "thresh_era_limit = N_ERAS_IN_FOLD\n",
    "for era in eras:\n",
    "    era_num = int(era.split('era')[-1])\n",
    "    if era_num <= thresh_era_limit:\n",
    "        eras2_binned.append(current_era)\n",
    "    else:\n",
    "        current_era += 1\n",
    "        thresh_era_limit += N_ERAS_IN_FOLD\n",
    "        eras2_binned.append(current_era)"
   ]
  },
  {
   "cell_type": "code",
   "execution_count": 13,
   "metadata": {},
   "outputs": [],
   "source": [
    "validation_ids = tournament_data.data_type=='validation'"
   ]
  },
  {
   "cell_type": "markdown",
   "metadata": {},
   "source": [
    "### Feature importance"
   ]
  },
  {
   "cell_type": "code",
   "execution_count": 14,
   "metadata": {},
   "outputs": [],
   "source": [
    "from sklearn.linear_model import RidgeClassifier\n",
    "\n",
    "from sklearn.metrics import log_loss, accuracy_score\n",
    "from sklearn import model_selection\n",
    "\n",
    "from scipy.cluster.hierarchy import linkage, fcluster\n",
    "from itertools import product"
   ]
  },
  {
   "cell_type": "code",
   "execution_count": 15,
   "metadata": {},
   "outputs": [],
   "source": [
    "from sklearn import model_selection\n",
    "from sklearn import metrics\n",
    "from sklearn.preprocessing import LabelEncoder\n",
    "from sklearn.metrics import classification_report"
   ]
  },
  {
   "cell_type": "code",
   "execution_count": 16,
   "metadata": {},
   "outputs": [],
   "source": [
    "REFERENCES = [0.0, 0.25, 0.5, 0.75, 1.0]"
   ]
  },
  {
   "cell_type": "code",
   "execution_count": 17,
   "metadata": {},
   "outputs": [],
   "source": [
    "def get_base_model(cw = {0: 1,\n",
    "                          1: 1.1,\n",
    "                          2: 1,\n",
    "                          3: 1.1,\n",
    "                          4: 1\n",
    "                        }):\n",
    "    return RidgeClassifier(alpha = 1, \n",
    "                           class_weight = cw\n",
    "                                    )\n",
    "    \n",
    "def ridge_classifier_2single_prediction(model, X, temperature = 1.0):\n",
    "    try:\n",
    "        predictions_proba_mean = model.decision_function(X)\n",
    "    except:\n",
    "        predictions_proba_mean = model.predict_proba(X)\n",
    "    predictions = np.argmax(predictions_proba_mean, axis=1)\n",
    "    predictions_proba = np.array([np.exp(di / temperature) / np.sum(np.exp(di / temperature)) for di in predictions_proba_mean])\n",
    "    single_score_predictions = np.array(\n",
    "            [\n",
    "                sum(REFERENCES[i] * x[i] for i in range(len(REFERENCES))) for x in predictions_proba\n",
    "            ]\n",
    "        )\n",
    "\n",
    "    return single_score_predictions\n",
    "\n",
    "def train_model(X_train, Y_train, model = None):\n",
    "    if model == None:\n",
    "        model_i = get_base_model()\n",
    "    else:\n",
    "        model_i = model\n",
    "    model_i.fit(X_train, Y_train)\n",
    "    return model_i\n",
    "\n",
    "def calculate_score(train_data, predictions, eras):\n",
    "\n",
    "    ns = numerai_score(train_data, pd.Series(predictions))\n",
    "    cs = correlation_score(train_data, pd.Series(predictions))\n",
    "\n",
    "    df2 = pd.DataFrame(\n",
    "        {\n",
    "            \"era\": eras,\n",
    "            \"preds\": predictions,\n",
    "            \"target\": train_data\n",
    "        }\n",
    "    )\n",
    "\n",
    "    scores_per_era = df2.groupby(\"era\").apply(lambda d: np.corrcoef(d[\"preds\"], d[\"target\"])[0,1])\n",
    "\n",
    "    per_era_score, per_era_std = scores_per_era.mean(), scores_per_era.std()\n",
    "    sharpe_era_score = scores_per_era.mean() / scores_per_era.std()\n",
    "    return ns, cs, per_era_score, per_era_std, sharpe_era_score\n",
    "\n",
    "\n",
    "def ridge2probas(model, X, temperature = 1.0):\n",
    "    try:\n",
    "        predictions_proba_mean = model.decision_function(X)\n",
    "    except:\n",
    "        predictions_proba_mean = model.predict_proba(X)\n",
    "    predictions = np.argmax(predictions_proba_mean, axis=1)\n",
    "    predictions_proba = np.array([np.exp(di / temperature) / np.sum(np.exp(di / temperature)) for di in predictions_proba_mean])\n",
    "    return predictions_proba\n",
    "\n",
    "def softmax2singlescore(predictions_proba):\n",
    "    single_score_predictions = np.array(\n",
    "            [\n",
    "                sum(REFERENCES[i] * x[i] for i in range(len(REFERENCES))) for x in predictions_proba\n",
    "            ]\n",
    "        )\n",
    "\n",
    "    return single_score_predictions"
   ]
  },
  {
   "cell_type": "markdown",
   "metadata": {},
   "source": [
    "# Baseline"
   ]
  },
  {
   "cell_type": "code",
   "execution_count": 18,
   "metadata": {},
   "outputs": [],
   "source": [
    "validation_ids = tournament_data.data_type=='validation'\n",
    "tournament_data = tournament_data[validation_ids]"
   ]
  },
  {
   "cell_type": "code",
   "execution_count": 19,
   "metadata": {},
   "outputs": [],
   "source": [
    "le = LabelEncoder()\n",
    "\n",
    "X = training_features\n",
    "Y = le.fit_transform(target)\n",
    "Y_nmr = target"
   ]
  },
  {
   "cell_type": "code",
   "execution_count": 21,
   "metadata": {},
   "outputs": [],
   "source": [
    "X_test = tournament_data[feature_cols]\n",
    "Y_test = le.fit_transform(tournament_data.target)\n",
    "Y_nmr_test = tournament_data.target\n",
    "test_eras = tournament_data.era"
   ]
  },
  {
   "cell_type": "code",
   "execution_count": 22,
   "metadata": {},
   "outputs": [],
   "source": [
    "clf = get_base_model()\n",
    "clf.fit(X, Y)\n",
    "pred_c = clf.predict(X_test)\n",
    "pred = ridge_classifier_2single_prediction(clf, X_test)"
   ]
  },
  {
   "cell_type": "code",
   "execution_count": 24,
   "metadata": {},
   "outputs": [
    {
     "output_type": "stream",
     "name": "stdout",
     "text": [
      "              precision    recall  f1-score   support\n\n           0       0.00      0.00      0.00         0\n           1       0.01      0.23      0.01       709\n           2       0.99      0.50      0.67    135810\n           3       0.01      0.23      0.02      1260\n           4       0.00      0.00      0.00         0\n\n    accuracy                           0.50    137779\n   macro avg       0.20      0.19      0.14    137779\nweighted avg       0.98      0.50      0.66    137779\n\n"
     ]
    }
   ],
   "source": [
    "print(classification_report(pred_c, Y_test))"
   ]
  },
  {
   "cell_type": "code",
   "execution_count": 25,
   "metadata": {},
   "outputs": [
    {
     "output_type": "display_data",
     "data": {
      "text/plain": "<Figure size 432x288 with 1 Axes>",
      "image/svg+xml": "<?xml version=\"1.0\" encoding=\"utf-8\" standalone=\"no\"?>\r\n<!DOCTYPE svg PUBLIC \"-//W3C//DTD SVG 1.1//EN\"\r\n  \"http://www.w3.org/Graphics/SVG/1.1/DTD/svg11.dtd\">\r\n<!-- Created with matplotlib (https://matplotlib.org/) -->\r\n<svg height=\"248.518125pt\" version=\"1.1\" viewBox=\"0 0 386.845313 248.518125\" width=\"386.845313pt\" xmlns=\"http://www.w3.org/2000/svg\" xmlns:xlink=\"http://www.w3.org/1999/xlink\">\r\n <metadata>\r\n  <rdf:RDF xmlns:cc=\"http://creativecommons.org/ns#\" xmlns:dc=\"http://purl.org/dc/elements/1.1/\" xmlns:rdf=\"http://www.w3.org/1999/02/22-rdf-syntax-ns#\">\r\n   <cc:Work>\r\n    <dc:type rdf:resource=\"http://purl.org/dc/dcmitype/StillImage\"/>\r\n    <dc:date>2020-11-29T16:31:57.861617</dc:date>\r\n    <dc:format>image/svg+xml</dc:format>\r\n    <dc:creator>\r\n     <cc:Agent>\r\n      <dc:title>Matplotlib v3.3.3, https://matplotlib.org/</dc:title>\r\n     </cc:Agent>\r\n    </dc:creator>\r\n   </cc:Work>\r\n  </rdf:RDF>\r\n </metadata>\r\n <defs>\r\n  <style type=\"text/css\">*{stroke-linecap:butt;stroke-linejoin:round;}</style>\r\n </defs>\r\n <g id=\"figure_1\">\r\n  <g id=\"patch_1\">\r\n   <path d=\"M 0 248.518125 \r\nL 386.845313 248.518125 \r\nL 386.845313 0 \r\nL 0 0 \r\nz\r\n\" style=\"fill:none;\"/>\r\n  </g>\r\n  <g id=\"axes_1\">\r\n   <g id=\"patch_2\">\r\n    <path d=\"M 44.845313 224.64 \r\nL 379.645313 224.64 \r\nL 379.645313 7.2 \r\nL 44.845313 7.2 \r\nz\r\n\" style=\"fill:#ffffff;\"/>\r\n   </g>\r\n   <g id=\"matplotlib.axis_1\">\r\n    <g id=\"xtick_1\">\r\n     <g id=\"line2d_1\">\r\n      <defs>\r\n       <path d=\"M 0 0 \r\nL 0 3.5 \r\n\" id=\"m990529d465\" style=\"stroke:#000000;stroke-width:0.8;\"/>\r\n      </defs>\r\n      <g>\r\n       <use style=\"stroke:#000000;stroke-width:0.8;\" x=\"60.063494\" xlink:href=\"#m990529d465\" y=\"224.64\"/>\r\n      </g>\r\n     </g>\r\n     <g id=\"text_1\">\r\n      <!-- 0 -->\r\n      <g transform=\"translate(56.882244 239.238438)scale(0.1 -0.1)\">\r\n       <defs>\r\n        <path d=\"M 31.78125 66.40625 \r\nQ 24.171875 66.40625 20.328125 58.90625 \r\nQ 16.5 51.421875 16.5 36.375 \r\nQ 16.5 21.390625 20.328125 13.890625 \r\nQ 24.171875 6.390625 31.78125 6.390625 \r\nQ 39.453125 6.390625 43.28125 13.890625 \r\nQ 47.125 21.390625 47.125 36.375 \r\nQ 47.125 51.421875 43.28125 58.90625 \r\nQ 39.453125 66.40625 31.78125 66.40625 \r\nz\r\nM 31.78125 74.21875 \r\nQ 44.046875 74.21875 50.515625 64.515625 \r\nQ 56.984375 54.828125 56.984375 36.375 \r\nQ 56.984375 17.96875 50.515625 8.265625 \r\nQ 44.046875 -1.421875 31.78125 -1.421875 \r\nQ 19.53125 -1.421875 13.0625 8.265625 \r\nQ 6.59375 17.96875 6.59375 36.375 \r\nQ 6.59375 54.828125 13.0625 64.515625 \r\nQ 19.53125 74.21875 31.78125 74.21875 \r\nz\r\n\" id=\"DejaVuSans-48\"/>\r\n       </defs>\r\n       <use xlink:href=\"#DejaVuSans-48\"/>\r\n      </g>\r\n     </g>\r\n    </g>\r\n    <g id=\"xtick_2\">\r\n     <g id=\"line2d_2\">\r\n      <g>\r\n       <use style=\"stroke:#000000;stroke-width:0.8;\" x=\"116.427131\" xlink:href=\"#m990529d465\" y=\"224.64\"/>\r\n      </g>\r\n     </g>\r\n     <g id=\"text_2\">\r\n      <!-- 5 -->\r\n      <g transform=\"translate(113.245881 239.238438)scale(0.1 -0.1)\">\r\n       <defs>\r\n        <path d=\"M 10.796875 72.90625 \r\nL 49.515625 72.90625 \r\nL 49.515625 64.59375 \r\nL 19.828125 64.59375 \r\nL 19.828125 46.734375 \r\nQ 21.96875 47.46875 24.109375 47.828125 \r\nQ 26.265625 48.1875 28.421875 48.1875 \r\nQ 40.625 48.1875 47.75 41.5 \r\nQ 54.890625 34.8125 54.890625 23.390625 \r\nQ 54.890625 11.625 47.5625 5.09375 \r\nQ 40.234375 -1.421875 26.90625 -1.421875 \r\nQ 22.3125 -1.421875 17.546875 -0.640625 \r\nQ 12.796875 0.140625 7.71875 1.703125 \r\nL 7.71875 11.625 \r\nQ 12.109375 9.234375 16.796875 8.0625 \r\nQ 21.484375 6.890625 26.703125 6.890625 \r\nQ 35.15625 6.890625 40.078125 11.328125 \r\nQ 45.015625 15.765625 45.015625 23.390625 \r\nQ 45.015625 31 40.078125 35.4375 \r\nQ 35.15625 39.890625 26.703125 39.890625 \r\nQ 22.75 39.890625 18.8125 39.015625 \r\nQ 14.890625 38.140625 10.796875 36.28125 \r\nz\r\n\" id=\"DejaVuSans-53\"/>\r\n       </defs>\r\n       <use xlink:href=\"#DejaVuSans-53\"/>\r\n      </g>\r\n     </g>\r\n    </g>\r\n    <g id=\"xtick_3\">\r\n     <g id=\"line2d_3\">\r\n      <g>\r\n       <use style=\"stroke:#000000;stroke-width:0.8;\" x=\"172.790767\" xlink:href=\"#m990529d465\" y=\"224.64\"/>\r\n      </g>\r\n     </g>\r\n     <g id=\"text_3\">\r\n      <!-- 10 -->\r\n      <g transform=\"translate(166.428267 239.238438)scale(0.1 -0.1)\">\r\n       <defs>\r\n        <path d=\"M 12.40625 8.296875 \r\nL 28.515625 8.296875 \r\nL 28.515625 63.921875 \r\nL 10.984375 60.40625 \r\nL 10.984375 69.390625 \r\nL 28.421875 72.90625 \r\nL 38.28125 72.90625 \r\nL 38.28125 8.296875 \r\nL 54.390625 8.296875 \r\nL 54.390625 0 \r\nL 12.40625 0 \r\nz\r\n\" id=\"DejaVuSans-49\"/>\r\n       </defs>\r\n       <use xlink:href=\"#DejaVuSans-49\"/>\r\n       <use x=\"63.623047\" xlink:href=\"#DejaVuSans-48\"/>\r\n      </g>\r\n     </g>\r\n    </g>\r\n    <g id=\"xtick_4\">\r\n     <g id=\"line2d_4\">\r\n      <g>\r\n       <use style=\"stroke:#000000;stroke-width:0.8;\" x=\"229.154403\" xlink:href=\"#m990529d465\" y=\"224.64\"/>\r\n      </g>\r\n     </g>\r\n     <g id=\"text_4\">\r\n      <!-- 15 -->\r\n      <g transform=\"translate(222.791903 239.238438)scale(0.1 -0.1)\">\r\n       <use xlink:href=\"#DejaVuSans-49\"/>\r\n       <use x=\"63.623047\" xlink:href=\"#DejaVuSans-53\"/>\r\n      </g>\r\n     </g>\r\n    </g>\r\n    <g id=\"xtick_5\">\r\n     <g id=\"line2d_5\">\r\n      <g>\r\n       <use style=\"stroke:#000000;stroke-width:0.8;\" x=\"285.51804\" xlink:href=\"#m990529d465\" y=\"224.64\"/>\r\n      </g>\r\n     </g>\r\n     <g id=\"text_5\">\r\n      <!-- 20 -->\r\n      <g transform=\"translate(279.15554 239.238438)scale(0.1 -0.1)\">\r\n       <defs>\r\n        <path d=\"M 19.1875 8.296875 \r\nL 53.609375 8.296875 \r\nL 53.609375 0 \r\nL 7.328125 0 \r\nL 7.328125 8.296875 \r\nQ 12.9375 14.109375 22.625 23.890625 \r\nQ 32.328125 33.6875 34.8125 36.53125 \r\nQ 39.546875 41.84375 41.421875 45.53125 \r\nQ 43.3125 49.21875 43.3125 52.78125 \r\nQ 43.3125 58.59375 39.234375 62.25 \r\nQ 35.15625 65.921875 28.609375 65.921875 \r\nQ 23.96875 65.921875 18.8125 64.3125 \r\nQ 13.671875 62.703125 7.8125 59.421875 \r\nL 7.8125 69.390625 \r\nQ 13.765625 71.78125 18.9375 73 \r\nQ 24.125 74.21875 28.421875 74.21875 \r\nQ 39.75 74.21875 46.484375 68.546875 \r\nQ 53.21875 62.890625 53.21875 53.421875 \r\nQ 53.21875 48.921875 51.53125 44.890625 \r\nQ 49.859375 40.875 45.40625 35.40625 \r\nQ 44.1875 33.984375 37.640625 27.21875 \r\nQ 31.109375 20.453125 19.1875 8.296875 \r\nz\r\n\" id=\"DejaVuSans-50\"/>\r\n       </defs>\r\n       <use xlink:href=\"#DejaVuSans-50\"/>\r\n       <use x=\"63.623047\" xlink:href=\"#DejaVuSans-48\"/>\r\n      </g>\r\n     </g>\r\n    </g>\r\n    <g id=\"xtick_6\">\r\n     <g id=\"line2d_6\">\r\n      <g>\r\n       <use style=\"stroke:#000000;stroke-width:0.8;\" x=\"341.881676\" xlink:href=\"#m990529d465\" y=\"224.64\"/>\r\n      </g>\r\n     </g>\r\n     <g id=\"text_6\">\r\n      <!-- 25 -->\r\n      <g transform=\"translate(335.519176 239.238438)scale(0.1 -0.1)\">\r\n       <use xlink:href=\"#DejaVuSans-50\"/>\r\n       <use x=\"63.623047\" xlink:href=\"#DejaVuSans-53\"/>\r\n      </g>\r\n     </g>\r\n    </g>\r\n   </g>\r\n   <g id=\"matplotlib.axis_2\">\r\n    <g id=\"ytick_1\">\r\n     <g id=\"line2d_7\">\r\n      <defs>\r\n       <path d=\"M 0 0 \r\nL -3.5 0 \r\n\" id=\"m3f29e7d636\" style=\"stroke:#000000;stroke-width:0.8;\"/>\r\n      </defs>\r\n      <g>\r\n       <use style=\"stroke:#000000;stroke-width:0.8;\" x=\"44.845313\" xlink:href=\"#m3f29e7d636\" y=\"219.338266\"/>\r\n      </g>\r\n     </g>\r\n     <g id=\"text_7\">\r\n      <!-- −0.06 -->\r\n      <g transform=\"translate(7.2 223.137485)scale(0.1 -0.1)\">\r\n       <defs>\r\n        <path d=\"M 10.59375 35.5 \r\nL 73.1875 35.5 \r\nL 73.1875 27.203125 \r\nL 10.59375 27.203125 \r\nz\r\n\" id=\"DejaVuSans-8722\"/>\r\n        <path d=\"M 10.6875 12.40625 \r\nL 21 12.40625 \r\nL 21 0 \r\nL 10.6875 0 \r\nz\r\n\" id=\"DejaVuSans-46\"/>\r\n        <path d=\"M 33.015625 40.375 \r\nQ 26.375 40.375 22.484375 35.828125 \r\nQ 18.609375 31.296875 18.609375 23.390625 \r\nQ 18.609375 15.53125 22.484375 10.953125 \r\nQ 26.375 6.390625 33.015625 6.390625 \r\nQ 39.65625 6.390625 43.53125 10.953125 \r\nQ 47.40625 15.53125 47.40625 23.390625 \r\nQ 47.40625 31.296875 43.53125 35.828125 \r\nQ 39.65625 40.375 33.015625 40.375 \r\nz\r\nM 52.59375 71.296875 \r\nL 52.59375 62.3125 \r\nQ 48.875 64.0625 45.09375 64.984375 \r\nQ 41.3125 65.921875 37.59375 65.921875 \r\nQ 27.828125 65.921875 22.671875 59.328125 \r\nQ 17.53125 52.734375 16.796875 39.40625 \r\nQ 19.671875 43.65625 24.015625 45.921875 \r\nQ 28.375 48.1875 33.59375 48.1875 \r\nQ 44.578125 48.1875 50.953125 41.515625 \r\nQ 57.328125 34.859375 57.328125 23.390625 \r\nQ 57.328125 12.15625 50.6875 5.359375 \r\nQ 44.046875 -1.421875 33.015625 -1.421875 \r\nQ 20.359375 -1.421875 13.671875 8.265625 \r\nQ 6.984375 17.96875 6.984375 36.375 \r\nQ 6.984375 53.65625 15.1875 63.9375 \r\nQ 23.390625 74.21875 37.203125 74.21875 \r\nQ 40.921875 74.21875 44.703125 73.484375 \r\nQ 48.484375 72.75 52.59375 71.296875 \r\nz\r\n\" id=\"DejaVuSans-54\"/>\r\n       </defs>\r\n       <use xlink:href=\"#DejaVuSans-8722\"/>\r\n       <use x=\"83.789062\" xlink:href=\"#DejaVuSans-48\"/>\r\n       <use x=\"147.412109\" xlink:href=\"#DejaVuSans-46\"/>\r\n       <use x=\"179.199219\" xlink:href=\"#DejaVuSans-48\"/>\r\n       <use x=\"242.822266\" xlink:href=\"#DejaVuSans-54\"/>\r\n      </g>\r\n     </g>\r\n    </g>\r\n    <g id=\"ytick_2\">\r\n     <g id=\"line2d_8\">\r\n      <g>\r\n       <use style=\"stroke:#000000;stroke-width:0.8;\" x=\"44.845313\" xlink:href=\"#m3f29e7d636\" y=\"191.221279\"/>\r\n      </g>\r\n     </g>\r\n     <g id=\"text_8\">\r\n      <!-- −0.04 -->\r\n      <g transform=\"translate(7.2 195.020498)scale(0.1 -0.1)\">\r\n       <defs>\r\n        <path d=\"M 37.796875 64.3125 \r\nL 12.890625 25.390625 \r\nL 37.796875 25.390625 \r\nz\r\nM 35.203125 72.90625 \r\nL 47.609375 72.90625 \r\nL 47.609375 25.390625 \r\nL 58.015625 25.390625 \r\nL 58.015625 17.1875 \r\nL 47.609375 17.1875 \r\nL 47.609375 0 \r\nL 37.796875 0 \r\nL 37.796875 17.1875 \r\nL 4.890625 17.1875 \r\nL 4.890625 26.703125 \r\nz\r\n\" id=\"DejaVuSans-52\"/>\r\n       </defs>\r\n       <use xlink:href=\"#DejaVuSans-8722\"/>\r\n       <use x=\"83.789062\" xlink:href=\"#DejaVuSans-48\"/>\r\n       <use x=\"147.412109\" xlink:href=\"#DejaVuSans-46\"/>\r\n       <use x=\"179.199219\" xlink:href=\"#DejaVuSans-48\"/>\r\n       <use x=\"242.822266\" xlink:href=\"#DejaVuSans-52\"/>\r\n      </g>\r\n     </g>\r\n    </g>\r\n    <g id=\"ytick_3\">\r\n     <g id=\"line2d_9\">\r\n      <g>\r\n       <use style=\"stroke:#000000;stroke-width:0.8;\" x=\"44.845313\" xlink:href=\"#m3f29e7d636\" y=\"163.104292\"/>\r\n      </g>\r\n     </g>\r\n     <g id=\"text_9\">\r\n      <!-- −0.02 -->\r\n      <g transform=\"translate(7.2 166.903511)scale(0.1 -0.1)\">\r\n       <use xlink:href=\"#DejaVuSans-8722\"/>\r\n       <use x=\"83.789062\" xlink:href=\"#DejaVuSans-48\"/>\r\n       <use x=\"147.412109\" xlink:href=\"#DejaVuSans-46\"/>\r\n       <use x=\"179.199219\" xlink:href=\"#DejaVuSans-48\"/>\r\n       <use x=\"242.822266\" xlink:href=\"#DejaVuSans-50\"/>\r\n      </g>\r\n     </g>\r\n    </g>\r\n    <g id=\"ytick_4\">\r\n     <g id=\"line2d_10\">\r\n      <g>\r\n       <use style=\"stroke:#000000;stroke-width:0.8;\" x=\"44.845313\" xlink:href=\"#m3f29e7d636\" y=\"134.987306\"/>\r\n      </g>\r\n     </g>\r\n     <g id=\"text_10\">\r\n      <!-- 0.00 -->\r\n      <g transform=\"translate(15.579688 138.786524)scale(0.1 -0.1)\">\r\n       <use xlink:href=\"#DejaVuSans-48\"/>\r\n       <use x=\"63.623047\" xlink:href=\"#DejaVuSans-46\"/>\r\n       <use x=\"95.410156\" xlink:href=\"#DejaVuSans-48\"/>\r\n       <use x=\"159.033203\" xlink:href=\"#DejaVuSans-48\"/>\r\n      </g>\r\n     </g>\r\n    </g>\r\n    <g id=\"ytick_5\">\r\n     <g id=\"line2d_11\">\r\n      <g>\r\n       <use style=\"stroke:#000000;stroke-width:0.8;\" x=\"44.845313\" xlink:href=\"#m3f29e7d636\" y=\"106.870319\"/>\r\n      </g>\r\n     </g>\r\n     <g id=\"text_11\">\r\n      <!-- 0.02 -->\r\n      <g transform=\"translate(15.579688 110.669538)scale(0.1 -0.1)\">\r\n       <use xlink:href=\"#DejaVuSans-48\"/>\r\n       <use x=\"63.623047\" xlink:href=\"#DejaVuSans-46\"/>\r\n       <use x=\"95.410156\" xlink:href=\"#DejaVuSans-48\"/>\r\n       <use x=\"159.033203\" xlink:href=\"#DejaVuSans-50\"/>\r\n      </g>\r\n     </g>\r\n    </g>\r\n    <g id=\"ytick_6\">\r\n     <g id=\"line2d_12\">\r\n      <g>\r\n       <use style=\"stroke:#000000;stroke-width:0.8;\" x=\"44.845313\" xlink:href=\"#m3f29e7d636\" y=\"78.753332\"/>\r\n      </g>\r\n     </g>\r\n     <g id=\"text_12\">\r\n      <!-- 0.04 -->\r\n      <g transform=\"translate(15.579688 82.552551)scale(0.1 -0.1)\">\r\n       <use xlink:href=\"#DejaVuSans-48\"/>\r\n       <use x=\"63.623047\" xlink:href=\"#DejaVuSans-46\"/>\r\n       <use x=\"95.410156\" xlink:href=\"#DejaVuSans-48\"/>\r\n       <use x=\"159.033203\" xlink:href=\"#DejaVuSans-52\"/>\r\n      </g>\r\n     </g>\r\n    </g>\r\n    <g id=\"ytick_7\">\r\n     <g id=\"line2d_13\">\r\n      <g>\r\n       <use style=\"stroke:#000000;stroke-width:0.8;\" x=\"44.845313\" xlink:href=\"#m3f29e7d636\" y=\"50.636346\"/>\r\n      </g>\r\n     </g>\r\n     <g id=\"text_13\">\r\n      <!-- 0.06 -->\r\n      <g transform=\"translate(15.579688 54.435564)scale(0.1 -0.1)\">\r\n       <use xlink:href=\"#DejaVuSans-48\"/>\r\n       <use x=\"63.623047\" xlink:href=\"#DejaVuSans-46\"/>\r\n       <use x=\"95.410156\" xlink:href=\"#DejaVuSans-48\"/>\r\n       <use x=\"159.033203\" xlink:href=\"#DejaVuSans-54\"/>\r\n      </g>\r\n     </g>\r\n    </g>\r\n    <g id=\"ytick_8\">\r\n     <g id=\"line2d_14\">\r\n      <g>\r\n       <use style=\"stroke:#000000;stroke-width:0.8;\" x=\"44.845313\" xlink:href=\"#m3f29e7d636\" y=\"22.519359\"/>\r\n      </g>\r\n     </g>\r\n     <g id=\"text_14\">\r\n      <!-- 0.08 -->\r\n      <g transform=\"translate(15.579688 26.318578)scale(0.1 -0.1)\">\r\n       <defs>\r\n        <path d=\"M 31.78125 34.625 \r\nQ 24.75 34.625 20.71875 30.859375 \r\nQ 16.703125 27.09375 16.703125 20.515625 \r\nQ 16.703125 13.921875 20.71875 10.15625 \r\nQ 24.75 6.390625 31.78125 6.390625 \r\nQ 38.8125 6.390625 42.859375 10.171875 \r\nQ 46.921875 13.96875 46.921875 20.515625 \r\nQ 46.921875 27.09375 42.890625 30.859375 \r\nQ 38.875 34.625 31.78125 34.625 \r\nz\r\nM 21.921875 38.8125 \r\nQ 15.578125 40.375 12.03125 44.71875 \r\nQ 8.5 49.078125 8.5 55.328125 \r\nQ 8.5 64.0625 14.71875 69.140625 \r\nQ 20.953125 74.21875 31.78125 74.21875 \r\nQ 42.671875 74.21875 48.875 69.140625 \r\nQ 55.078125 64.0625 55.078125 55.328125 \r\nQ 55.078125 49.078125 51.53125 44.71875 \r\nQ 48 40.375 41.703125 38.8125 \r\nQ 48.828125 37.15625 52.796875 32.3125 \r\nQ 56.78125 27.484375 56.78125 20.515625 \r\nQ 56.78125 9.90625 50.3125 4.234375 \r\nQ 43.84375 -1.421875 31.78125 -1.421875 \r\nQ 19.734375 -1.421875 13.25 4.234375 \r\nQ 6.78125 9.90625 6.78125 20.515625 \r\nQ 6.78125 27.484375 10.78125 32.3125 \r\nQ 14.796875 37.15625 21.921875 38.8125 \r\nz\r\nM 18.3125 54.390625 \r\nQ 18.3125 48.734375 21.84375 45.5625 \r\nQ 25.390625 42.390625 31.78125 42.390625 \r\nQ 38.140625 42.390625 41.71875 45.5625 \r\nQ 45.3125 48.734375 45.3125 54.390625 \r\nQ 45.3125 60.0625 41.71875 63.234375 \r\nQ 38.140625 66.40625 31.78125 66.40625 \r\nQ 25.390625 66.40625 21.84375 63.234375 \r\nQ 18.3125 60.0625 18.3125 54.390625 \r\nz\r\n\" id=\"DejaVuSans-56\"/>\r\n       </defs>\r\n       <use xlink:href=\"#DejaVuSans-48\"/>\r\n       <use x=\"63.623047\" xlink:href=\"#DejaVuSans-46\"/>\r\n       <use x=\"95.410156\" xlink:href=\"#DejaVuSans-48\"/>\r\n       <use x=\"159.033203\" xlink:href=\"#DejaVuSans-56\"/>\r\n      </g>\r\n     </g>\r\n    </g>\r\n   </g>\r\n   <g id=\"line2d_15\">\r\n    <path clip-path=\"url(#p343616afa4)\" d=\"M 60.063494 137.208765 \r\nL 71.336222 123.63847 \r\nL 82.608949 84.845906 \r\nL 93.881676 79.684093 \r\nL 105.154403 105.918679 \r\nL 116.427131 77.317729 \r\nL 127.699858 140.921172 \r\nL 138.972585 43.033624 \r\nL 150.245313 141.332793 \r\nL 161.51804 90.055081 \r\nL 172.790767 86.312451 \r\nL 184.063494 17.083636 \r\nL 195.336222 110.142477 \r\nL 206.608949 173.873735 \r\nL 217.881676 214.756364 \r\nL 229.154403 87.239784 \r\nL 240.427131 123.852089 \r\nL 251.699858 105.792364 \r\nL 262.972585 98.114383 \r\nL 274.245313 87.881523 \r\nL 285.51804 169.814596 \r\nL 296.790767 151.659351 \r\nL 308.063494 57.751609 \r\nL 319.336222 109.653386 \r\nL 330.608949 96.217578 \r\nL 341.881676 139.618439 \r\nL 353.154403 196.482373 \r\nL 364.427131 100.275492 \r\n\" style=\"fill:none;stroke:#000000;stroke-linecap:square;stroke-width:1.5;\"/>\r\n   </g>\r\n   <g id=\"line2d_16\">\r\n    <path clip-path=\"url(#p343616afa4)\" d=\"M 44.845313 134.987306 \r\nL 379.645313 134.987306 \r\n\" style=\"fill:none;stroke:#808080;stroke-dasharray:5.55,2.4;stroke-dashoffset:0;stroke-width:1.5;\"/>\r\n   </g>\r\n   <g id=\"patch_3\">\r\n    <path d=\"M 44.845313 224.64 \r\nL 44.845313 7.2 \r\n\" style=\"fill:none;stroke:#000000;stroke-linecap:square;stroke-linejoin:miter;stroke-width:0.8;\"/>\r\n   </g>\r\n   <g id=\"patch_4\">\r\n    <path d=\"M 379.645313 224.64 \r\nL 379.645313 7.2 \r\n\" style=\"fill:none;stroke:#000000;stroke-linecap:square;stroke-linejoin:miter;stroke-width:0.8;\"/>\r\n   </g>\r\n   <g id=\"patch_5\">\r\n    <path d=\"M 44.845313 224.64 \r\nL 379.645313 224.64 \r\n\" style=\"fill:none;stroke:#000000;stroke-linecap:square;stroke-linejoin:miter;stroke-width:0.8;\"/>\r\n   </g>\r\n   <g id=\"patch_6\">\r\n    <path d=\"M 44.845313 7.2 \r\nL 379.645313 7.2 \r\n\" style=\"fill:none;stroke:#000000;stroke-linecap:square;stroke-linejoin:miter;stroke-width:0.8;\"/>\r\n   </g>\r\n  </g>\r\n </g>\r\n <defs>\r\n  <clipPath id=\"p343616afa4\">\r\n   <rect height=\"217.44\" width=\"334.8\" x=\"44.845313\" y=\"7.2\"/>\r\n  </clipPath>\r\n </defs>\r\n</svg>\r\n",
      "image/png": "[encoded data removed]"
     },
     "metadata": {
      "needs_background": "light"
     }
    },
    {
     "output_type": "stream",
     "name": "stdout",
     "text": [
      "corr_spearman    = 0.016\ncorr_pearson     = 0.015\nper_era_avg_corr = 0.016\nper_era_std_corr = 0.031\nsharpe_era_corr  = 0.51\n"
     ]
    }
   ],
   "source": [
    "ns_bs = numerai_score(Y_nmr_test, pd.Series(pred))\n",
    "cs_bs = correlation_score(Y_nmr_test, pd.Series(pred))\n",
    "\n",
    "df2 = pd.DataFrame(\n",
    "    {\n",
    "        \"era\": test_eras,\n",
    "        \"preds\": pred,\n",
    "        \"target\": Y_nmr_test\n",
    "    }\n",
    ")\n",
    "\n",
    "scores_per_era_bs = df2.groupby(\"era\").apply(lambda d: np.corrcoef(d[\"preds\"], d[\"target\"])[0,1])\n",
    "\n",
    "per_era_score, per_era_std = scores_per_era_bs.mean(), scores_per_era_bs.std()\n",
    "sharpe_era_score = scores_per_era_bs.mean() / scores_per_era_bs.std()\n",
    "\n",
    "plt.figure()\n",
    "plt.plot(scores_per_era_bs.values, color = 'black')\n",
    "plt.axhline(0.0, ls = '--', color = 'grey')\n",
    "plt.show()\n",
    "print('corr_spearman    = {}'.format(round(ns_bs, 3)))\n",
    "print('corr_pearson     = {}'.format(round(cs_bs, 3)))\n",
    "print('per_era_avg_corr = {}'.format(round(per_era_score, 3)))\n",
    "print('per_era_std_corr = {}'.format(round(per_era_std, 3)))\n",
    "print('sharpe_era_corr  = {}'.format(round(sharpe_era_score, 3)))"
   ]
  },
  {
   "cell_type": "code",
   "execution_count": 56,
   "metadata": {},
   "outputs": [],
   "source": [
    "def featImpMDA(X, y, cv, eras_groups):\n",
    "\n",
    "    cvGen = model_selection.GroupKFold(cv)\n",
    "    X_old = X.copy()\n",
    "    scr0,scr1=pd.Series(), pd.DataFrame(columns=X.columns)\n",
    "\n",
    "    for i, (train,test) in tqdm.tqdm(enumerate(cvGen.split(X=X, groups = eras_groups))):\n",
    "\n",
    "\n",
    "        X0, y0 = X.iloc[train, :], y[train]\n",
    "        X1, y1 = X.iloc[test, :], y[test] \n",
    "        # eras_test = pd.Series(eras2_binned).iloc[test]\n",
    "        eras_test = pd.Series(eras_groups).iloc[test]\n",
    "\n",
    "        clf = get_base_model()\n",
    "        clf.fit(X=X0,y=y0)\n",
    "        y1 = le.inverse_transform(y1)\n",
    "\n",
    "        # pred = fit.predict(X1)\n",
    "        pred = ridge_classifier_2single_prediction(clf, X1)\n",
    "\n",
    "        # scr0.loc[i]=correlation_score(y1,pred)\n",
    "        sharpes_metrics = calculate_score(y1, pred, eras_test)\n",
    "        scr0.loc[i] = sharpes_metrics[0]\n",
    "\n",
    "        for j in X.columns:\n",
    "\n",
    "            X1_ = X1.copy(deep=True)\n",
    "            np.random.shuffle(X1_[j].values) # permutation of a single column\n",
    "\n",
    "            pred_shuffled = ridge_classifier_2single_prediction(clf, X1_)\n",
    "\n",
    "            # scr1.loc[i,j]=correlation_score(y1,pred_shuffled)\n",
    "            sharpes_metrics_shuffled = calculate_score(y1, pred_shuffled, eras_test)\n",
    "            scr1.loc[i,j] = sharpes_metrics_shuffled[0]\n",
    "\n",
    "    imp=(-scr1).add(scr0,axis=0)\n",
    "    imp=imp/(1.-scr1)\n",
    "    imp=pd.concat({'mean':imp.mean(),'std':imp.std()*imp.shape[0]**-.5},axis=1)\n",
    "    return imp,scr0.mean()"
   ]
  },
  {
   "source": [
    "## Selecting importances features"
   ],
   "cell_type": "markdown",
   "metadata": {}
  },
  {
   "cell_type": "code",
   "execution_count": 57,
   "metadata": {},
   "outputs": [],
   "source": [
    "X_FOR_FEATURE_IMPORTANCE = X[:int(len(X)/2)]\n",
    "Y_FOR_FEATURE_IMPORTANCE = Y[:int(len(Y)/2)]\n",
    "ERAS_FOR_FI = eras2_binned[:int(len(eras2_binned)/2)]"
   ]
  },
  {
   "cell_type": "code",
   "execution_count": 58,
   "metadata": {},
   "outputs": [
    {
     "output_type": "stream",
     "name": "stderr",
     "text": [
      "5it [17:38, 211.78s/it]\n"
     ]
    }
   ],
   "source": [
    "importances, oos = featImpMDA(X=X_FOR_FEATURE_IMPORTANCE, \n",
    "                               y=Y_FOR_FEATURE_IMPORTANCE,\n",
    "                               cv = 5,\n",
    "                               eras_groups = ERAS_FOR_FI)"
   ]
  },
  {
   "cell_type": "code",
   "execution_count": 64,
   "metadata": {},
   "outputs": [
    {
     "output_type": "execute_result",
     "data": {
      "text/plain": [
       "                           mean       std\n",
       "feature_intelligence1  0.001990  0.000813\n",
       "feature_intelligence2  0.004476  0.001423\n",
       "feature_intelligence3  0.001649  0.000755\n",
       "feature_intelligence4  0.000346  0.000488\n",
       "feature_intelligence5  0.000038  0.000432\n",
       "...                         ...       ...\n",
       "feature_wisdom42      -0.000224  0.000219\n",
       "feature_wisdom43       0.000089  0.000216\n",
       "feature_wisdom44       0.000255  0.000172\n",
       "feature_wisdom45       0.000659  0.000442\n",
       "feature_wisdom46       0.000796  0.000267\n",
       "\n",
       "[310 rows x 2 columns]"
      ],
      "text/html": "<div>\n<style scoped>\n    .dataframe tbody tr th:only-of-type {\n        vertical-align: middle;\n    }\n\n    .dataframe tbody tr th {\n        vertical-align: top;\n    }\n\n    .dataframe thead th {\n        text-align: right;\n    }\n</style>\n<table border=\"1\" class=\"dataframe\">\n  <thead>\n    <tr style=\"text-align: right;\">\n      <th></th>\n      <th>mean</th>\n      <th>std</th>\n    </tr>\n  </thead>\n  <tbody>\n    <tr>\n      <th>feature_intelligence1</th>\n      <td>0.001990</td>\n      <td>0.000813</td>\n    </tr>\n    <tr>\n      <th>feature_intelligence2</th>\n      <td>0.004476</td>\n      <td>0.001423</td>\n    </tr>\n    <tr>\n      <th>feature_intelligence3</th>\n      <td>0.001649</td>\n      <td>0.000755</td>\n    </tr>\n    <tr>\n      <th>feature_intelligence4</th>\n      <td>0.000346</td>\n      <td>0.000488</td>\n    </tr>\n    <tr>\n      <th>feature_intelligence5</th>\n      <td>0.000038</td>\n      <td>0.000432</td>\n    </tr>\n    <tr>\n      <th>...</th>\n      <td>...</td>\n      <td>...</td>\n    </tr>\n    <tr>\n      <th>feature_wisdom42</th>\n      <td>-0.000224</td>\n      <td>0.000219</td>\n    </tr>\n    <tr>\n      <th>feature_wisdom43</th>\n      <td>0.000089</td>\n      <td>0.000216</td>\n    </tr>\n    <tr>\n      <th>feature_wisdom44</th>\n      <td>0.000255</td>\n      <td>0.000172</td>\n    </tr>\n    <tr>\n      <th>feature_wisdom45</th>\n      <td>0.000659</td>\n      <td>0.000442</td>\n    </tr>\n    <tr>\n      <th>feature_wisdom46</th>\n      <td>0.000796</td>\n      <td>0.000267</td>\n    </tr>\n  </tbody>\n</table>\n<p>310 rows × 2 columns</p>\n</div>"
     },
     "metadata": {},
     "execution_count": 64
    }
   ],
   "source": [
    "importances"
   ]
  },
  {
   "cell_type": "code",
   "execution_count": 60,
   "metadata": {},
   "outputs": [],
   "source": [
    "# importances_more_zero = importances[importances['mean'] - importances['std']  > 0]\n",
    "# importances_more_zero['mean_std_diff'] = importances_more_zero['mean'] - importances_more_zero['std']\n",
    "importances_more_zero = importances[importances['mean']  > 0]\n",
    "# importances_more_zero = importances.sort_values('mean')[::-1]"
   ]
  },
  {
   "cell_type": "code",
   "execution_count": 62,
   "metadata": {},
   "outputs": [],
   "source": [
    "DOWN, UP = 0, 100\n",
    "COLUMN = 'mean'"
   ]
  },
  {
   "cell_type": "code",
   "execution_count": 63,
   "metadata": {},
   "outputs": [
    {
     "output_type": "display_data",
     "data": {
      "text/plain": "<Figure size 432x288 with 1 Axes>",
      "image/svg+xml": "<?xml version=\"1.0\" encoding=\"utf-8\" standalone=\"no\"?>\r\n<!DOCTYPE svg PUBLIC \"-//W3C//DTD SVG 1.1//EN\"\r\n  \"http://www.w3.org/Graphics/SVG/1.1/DTD/svg11.dtd\">\r\n<!-- Created with matplotlib (https://matplotlib.org/) -->\r\n<svg height=\"248.518125pt\" version=\"1.1\" viewBox=\"0 0 368.925 248.518125\" width=\"368.925pt\" xmlns=\"http://www.w3.org/2000/svg\" xmlns:xlink=\"http://www.w3.org/1999/xlink\">\r\n <metadata>\r\n  <rdf:RDF xmlns:cc=\"http://creativecommons.org/ns#\" xmlns:dc=\"http://purl.org/dc/elements/1.1/\" xmlns:rdf=\"http://www.w3.org/1999/02/22-rdf-syntax-ns#\">\r\n   <cc:Work>\r\n    <dc:type rdf:resource=\"http://purl.org/dc/dcmitype/StillImage\"/>\r\n    <dc:date>2020-11-29T18:06:11.480920</dc:date>\r\n    <dc:format>image/svg+xml</dc:format>\r\n    <dc:creator>\r\n     <cc:Agent>\r\n      <dc:title>Matplotlib v3.3.3, https://matplotlib.org/</dc:title>\r\n     </cc:Agent>\r\n    </dc:creator>\r\n   </cc:Work>\r\n  </rdf:RDF>\r\n </metadata>\r\n <defs>\r\n  <style type=\"text/css\">*{stroke-linecap:butt;stroke-linejoin:round;}</style>\r\n </defs>\r\n <g id=\"figure_1\">\r\n  <g id=\"patch_1\">\r\n   <path d=\"M -0 248.518125 \r\nL 368.925 248.518125 \r\nL 368.925 0 \r\nL -0 0 \r\nz\r\n\" style=\"fill:none;\"/>\r\n  </g>\r\n  <g id=\"axes_1\">\r\n   <g id=\"patch_2\">\r\n    <path d=\"M 26.925 224.64 \r\nL 361.725 224.64 \r\nL 361.725 7.2 \r\nL 26.925 7.2 \r\nz\r\n\" style=\"fill:#ffffff;\"/>\r\n   </g>\r\n   <g id=\"patch_3\">\r\n    <path clip-path=\"url(#p871e283a94)\" d=\"M 42.143182 224.64 \r\nL 43.427417 224.64 \r\nL 43.427417 79.68 \r\nL 42.143182 79.68 \r\nz\r\n\" style=\"fill:#1f77b4;\"/>\r\n   </g>\r\n   <g id=\"patch_4\">\r\n    <path clip-path=\"url(#p871e283a94)\" d=\"M 43.427417 224.64 \r\nL 44.711651 224.64 \r\nL 44.711651 38.262857 \r\nL 43.427417 38.262857 \r\nz\r\n\" style=\"fill:#1f77b4;\"/>\r\n   </g>\r\n   <g id=\"patch_5\">\r\n    <path clip-path=\"url(#p871e283a94)\" d=\"M 44.711651 224.64 \r\nL 45.995886 224.64 \r\nL 45.995886 38.262857 \r\nL 44.711651 38.262857 \r\nz\r\n\" style=\"fill:#1f77b4;\"/>\r\n   </g>\r\n   <g id=\"patch_6\">\r\n    <path clip-path=\"url(#p871e283a94)\" d=\"M 45.995886 224.64 \r\nL 47.280121 224.64 \r\nL 47.280121 121.097143 \r\nL 45.995886 121.097143 \r\nz\r\n\" style=\"fill:#1f77b4;\"/>\r\n   </g>\r\n   <g id=\"patch_7\">\r\n    <path clip-path=\"url(#p871e283a94)\" d=\"M 47.280121 224.64 \r\nL 48.564356 224.64 \r\nL 48.564356 79.68 \r\nL 47.280121 79.68 \r\nz\r\n\" style=\"fill:#1f77b4;\"/>\r\n   </g>\r\n   <g id=\"patch_8\">\r\n    <path clip-path=\"url(#p871e283a94)\" d=\"M 48.564356 224.64 \r\nL 49.84859 224.64 \r\nL 49.84859 121.097143 \r\nL 48.564356 121.097143 \r\nz\r\n\" style=\"fill:#1f77b4;\"/>\r\n   </g>\r\n   <g id=\"patch_9\">\r\n    <path clip-path=\"url(#p871e283a94)\" d=\"M 49.84859 224.64 \r\nL 51.132825 224.64 \r\nL 51.132825 79.68 \r\nL 49.84859 79.68 \r\nz\r\n\" style=\"fill:#1f77b4;\"/>\r\n   </g>\r\n   <g id=\"patch_10\">\r\n    <path clip-path=\"url(#p871e283a94)\" d=\"M 51.132825 224.64 \r\nL 52.41706 224.64 \r\nL 52.41706 17.554286 \r\nL 51.132825 17.554286 \r\nz\r\n\" style=\"fill:#1f77b4;\"/>\r\n   </g>\r\n   <g id=\"patch_11\">\r\n    <path clip-path=\"url(#p871e283a94)\" d=\"M 52.41706 224.64 \r\nL 53.701295 224.64 \r\nL 53.701295 17.554286 \r\nL 52.41706 17.554286 \r\nz\r\n\" style=\"fill:#1f77b4;\"/>\r\n   </g>\r\n   <g id=\"patch_12\">\r\n    <path clip-path=\"url(#p871e283a94)\" d=\"M 53.701295 224.64 \r\nL 54.985529 224.64 \r\nL 54.985529 100.388571 \r\nL 53.701295 100.388571 \r\nz\r\n\" style=\"fill:#1f77b4;\"/>\r\n   </g>\r\n   <g id=\"patch_13\">\r\n    <path clip-path=\"url(#p871e283a94)\" d=\"M 54.985529 224.64 \r\nL 56.269764 224.64 \r\nL 56.269764 203.931429 \r\nL 54.985529 203.931429 \r\nz\r\n\" style=\"fill:#1f77b4;\"/>\r\n   </g>\r\n   <g id=\"patch_14\">\r\n    <path clip-path=\"url(#p871e283a94)\" d=\"M 56.269764 224.64 \r\nL 57.553999 224.64 \r\nL 57.553999 121.097143 \r\nL 56.269764 121.097143 \r\nz\r\n\" style=\"fill:#1f77b4;\"/>\r\n   </g>\r\n   <g id=\"patch_15\">\r\n    <path clip-path=\"url(#p871e283a94)\" d=\"M 57.553999 224.64 \r\nL 58.838234 224.64 \r\nL 58.838234 100.388571 \r\nL 57.553999 100.388571 \r\nz\r\n\" style=\"fill:#1f77b4;\"/>\r\n   </g>\r\n   <g id=\"patch_16\">\r\n    <path clip-path=\"url(#p871e283a94)\" d=\"M 58.838234 224.64 \r\nL 60.122468 224.64 \r\nL 60.122468 38.262857 \r\nL 58.838234 38.262857 \r\nz\r\n\" style=\"fill:#1f77b4;\"/>\r\n   </g>\r\n   <g id=\"patch_17\">\r\n    <path clip-path=\"url(#p871e283a94)\" d=\"M 60.122468 224.64 \r\nL 61.406703 224.64 \r\nL 61.406703 100.388571 \r\nL 60.122468 100.388571 \r\nz\r\n\" style=\"fill:#1f77b4;\"/>\r\n   </g>\r\n   <g id=\"patch_18\">\r\n    <path clip-path=\"url(#p871e283a94)\" d=\"M 61.406703 224.64 \r\nL 62.690938 224.64 \r\nL 62.690938 121.097143 \r\nL 61.406703 121.097143 \r\nz\r\n\" style=\"fill:#1f77b4;\"/>\r\n   </g>\r\n   <g id=\"patch_19\">\r\n    <path clip-path=\"url(#p871e283a94)\" d=\"M 62.690938 224.64 \r\nL 63.975173 224.64 \r\nL 63.975173 121.097143 \r\nL 62.690938 121.097143 \r\nz\r\n\" style=\"fill:#1f77b4;\"/>\r\n   </g>\r\n   <g id=\"patch_20\">\r\n    <path clip-path=\"url(#p871e283a94)\" d=\"M 63.975173 224.64 \r\nL 65.259407 224.64 \r\nL 65.259407 162.514286 \r\nL 63.975173 162.514286 \r\nz\r\n\" style=\"fill:#1f77b4;\"/>\r\n   </g>\r\n   <g id=\"patch_21\">\r\n    <path clip-path=\"url(#p871e283a94)\" d=\"M 65.259407 224.64 \r\nL 66.543642 224.64 \r\nL 66.543642 141.805714 \r\nL 65.259407 141.805714 \r\nz\r\n\" style=\"fill:#1f77b4;\"/>\r\n   </g>\r\n   <g id=\"patch_22\">\r\n    <path clip-path=\"url(#p871e283a94)\" d=\"M 66.543642 224.64 \r\nL 67.827877 224.64 \r\nL 67.827877 141.805714 \r\nL 66.543642 141.805714 \r\nz\r\n\" style=\"fill:#1f77b4;\"/>\r\n   </g>\r\n   <g id=\"patch_23\">\r\n    <path clip-path=\"url(#p871e283a94)\" d=\"M 67.827877 224.64 \r\nL 69.112112 224.64 \r\nL 69.112112 203.931429 \r\nL 67.827877 203.931429 \r\nz\r\n\" style=\"fill:#1f77b4;\"/>\r\n   </g>\r\n   <g id=\"patch_24\">\r\n    <path clip-path=\"url(#p871e283a94)\" d=\"M 69.112112 224.64 \r\nL 70.396346 224.64 \r\nL 70.396346 183.222857 \r\nL 69.112112 183.222857 \r\nz\r\n\" style=\"fill:#1f77b4;\"/>\r\n   </g>\r\n   <g id=\"patch_25\">\r\n    <path clip-path=\"url(#p871e283a94)\" d=\"M 70.396346 224.64 \r\nL 71.680581 224.64 \r\nL 71.680581 203.931429 \r\nL 70.396346 203.931429 \r\nz\r\n\" style=\"fill:#1f77b4;\"/>\r\n   </g>\r\n   <g id=\"patch_26\">\r\n    <path clip-path=\"url(#p871e283a94)\" d=\"M 71.680581 224.64 \r\nL 72.964816 224.64 \r\nL 72.964816 224.64 \r\nL 71.680581 224.64 \r\nz\r\n\" style=\"fill:#1f77b4;\"/>\r\n   </g>\r\n   <g id=\"patch_27\">\r\n    <path clip-path=\"url(#p871e283a94)\" d=\"M 72.964816 224.64 \r\nL 74.249051 224.64 \r\nL 74.249051 121.097143 \r\nL 72.964816 121.097143 \r\nz\r\n\" style=\"fill:#1f77b4;\"/>\r\n   </g>\r\n   <g id=\"patch_28\">\r\n    <path clip-path=\"url(#p871e283a94)\" d=\"M 74.249051 224.64 \r\nL 75.533285 224.64 \r\nL 75.533285 162.514286 \r\nL 74.249051 162.514286 \r\nz\r\n\" style=\"fill:#1f77b4;\"/>\r\n   </g>\r\n   <g id=\"patch_29\">\r\n    <path clip-path=\"url(#p871e283a94)\" d=\"M 75.533285 224.64 \r\nL 76.81752 224.64 \r\nL 76.81752 183.222857 \r\nL 75.533285 183.222857 \r\nz\r\n\" style=\"fill:#1f77b4;\"/>\r\n   </g>\r\n   <g id=\"patch_30\">\r\n    <path clip-path=\"url(#p871e283a94)\" d=\"M 76.81752 224.64 \r\nL 78.101755 224.64 \r\nL 78.101755 141.805714 \r\nL 76.81752 141.805714 \r\nz\r\n\" style=\"fill:#1f77b4;\"/>\r\n   </g>\r\n   <g id=\"patch_31\">\r\n    <path clip-path=\"url(#p871e283a94)\" d=\"M 78.101755 224.64 \r\nL 79.38599 224.64 \r\nL 79.38599 141.805714 \r\nL 78.101755 141.805714 \r\nz\r\n\" style=\"fill:#1f77b4;\"/>\r\n   </g>\r\n   <g id=\"patch_32\">\r\n    <path clip-path=\"url(#p871e283a94)\" d=\"M 79.38599 224.64 \r\nL 80.670224 224.64 \r\nL 80.670224 100.388571 \r\nL 79.38599 100.388571 \r\nz\r\n\" style=\"fill:#1f77b4;\"/>\r\n   </g>\r\n   <g id=\"patch_33\">\r\n    <path clip-path=\"url(#p871e283a94)\" d=\"M 80.670224 224.64 \r\nL 81.954459 224.64 \r\nL 81.954459 183.222857 \r\nL 80.670224 183.222857 \r\nz\r\n\" style=\"fill:#1f77b4;\"/>\r\n   </g>\r\n   <g id=\"patch_34\">\r\n    <path clip-path=\"url(#p871e283a94)\" d=\"M 81.954459 224.64 \r\nL 83.238694 224.64 \r\nL 83.238694 162.514286 \r\nL 81.954459 162.514286 \r\nz\r\n\" style=\"fill:#1f77b4;\"/>\r\n   </g>\r\n   <g id=\"patch_35\">\r\n    <path clip-path=\"url(#p871e283a94)\" d=\"M 83.238694 224.64 \r\nL 84.522929 224.64 \r\nL 84.522929 224.64 \r\nL 83.238694 224.64 \r\nz\r\n\" style=\"fill:#1f77b4;\"/>\r\n   </g>\r\n   <g id=\"patch_36\">\r\n    <path clip-path=\"url(#p871e283a94)\" d=\"M 84.522929 224.64 \r\nL 85.807163 224.64 \r\nL 85.807163 162.514286 \r\nL 84.522929 162.514286 \r\nz\r\n\" style=\"fill:#1f77b4;\"/>\r\n   </g>\r\n   <g id=\"patch_37\">\r\n    <path clip-path=\"url(#p871e283a94)\" d=\"M 85.807163 224.64 \r\nL 87.091398 224.64 \r\nL 87.091398 183.222857 \r\nL 85.807163 183.222857 \r\nz\r\n\" style=\"fill:#1f77b4;\"/>\r\n   </g>\r\n   <g id=\"patch_38\">\r\n    <path clip-path=\"url(#p871e283a94)\" d=\"M 87.091398 224.64 \r\nL 88.375633 224.64 \r\nL 88.375633 203.931429 \r\nL 87.091398 203.931429 \r\nz\r\n\" style=\"fill:#1f77b4;\"/>\r\n   </g>\r\n   <g id=\"patch_39\">\r\n    <path clip-path=\"url(#p871e283a94)\" d=\"M 88.375633 224.64 \r\nL 89.659868 224.64 \r\nL 89.659868 183.222857 \r\nL 88.375633 183.222857 \r\nz\r\n\" style=\"fill:#1f77b4;\"/>\r\n   </g>\r\n   <g id=\"patch_40\">\r\n    <path clip-path=\"url(#p871e283a94)\" d=\"M 89.659868 224.64 \r\nL 90.944102 224.64 \r\nL 90.944102 203.931429 \r\nL 89.659868 203.931429 \r\nz\r\n\" style=\"fill:#1f77b4;\"/>\r\n   </g>\r\n   <g id=\"patch_41\">\r\n    <path clip-path=\"url(#p871e283a94)\" d=\"M 90.944102 224.64 \r\nL 92.228337 224.64 \r\nL 92.228337 203.931429 \r\nL 90.944102 203.931429 \r\nz\r\n\" style=\"fill:#1f77b4;\"/>\r\n   </g>\r\n   <g id=\"patch_42\">\r\n    <path clip-path=\"url(#p871e283a94)\" d=\"M 92.228337 224.64 \r\nL 93.512572 224.64 \r\nL 93.512572 183.222857 \r\nL 92.228337 183.222857 \r\nz\r\n\" style=\"fill:#1f77b4;\"/>\r\n   </g>\r\n   <g id=\"patch_43\">\r\n    <path clip-path=\"url(#p871e283a94)\" d=\"M 93.512572 224.64 \r\nL 94.796807 224.64 \r\nL 94.796807 121.097143 \r\nL 93.512572 121.097143 \r\nz\r\n\" style=\"fill:#1f77b4;\"/>\r\n   </g>\r\n   <g id=\"patch_44\">\r\n    <path clip-path=\"url(#p871e283a94)\" d=\"M 94.796807 224.64 \r\nL 96.081041 224.64 \r\nL 96.081041 224.64 \r\nL 94.796807 224.64 \r\nz\r\n\" style=\"fill:#1f77b4;\"/>\r\n   </g>\r\n   <g id=\"patch_45\">\r\n    <path clip-path=\"url(#p871e283a94)\" d=\"M 96.081041 224.64 \r\nL 97.365276 224.64 \r\nL 97.365276 141.805714 \r\nL 96.081041 141.805714 \r\nz\r\n\" style=\"fill:#1f77b4;\"/>\r\n   </g>\r\n   <g id=\"patch_46\">\r\n    <path clip-path=\"url(#p871e283a94)\" d=\"M 97.365276 224.64 \r\nL 98.649511 224.64 \r\nL 98.649511 203.931429 \r\nL 97.365276 203.931429 \r\nz\r\n\" style=\"fill:#1f77b4;\"/>\r\n   </g>\r\n   <g id=\"patch_47\">\r\n    <path clip-path=\"url(#p871e283a94)\" d=\"M 98.649511 224.64 \r\nL 99.933746 224.64 \r\nL 99.933746 224.64 \r\nL 98.649511 224.64 \r\nz\r\n\" style=\"fill:#1f77b4;\"/>\r\n   </g>\r\n   <g id=\"patch_48\">\r\n    <path clip-path=\"url(#p871e283a94)\" d=\"M 99.933746 224.64 \r\nL 101.21798 224.64 \r\nL 101.21798 183.222857 \r\nL 99.933746 183.222857 \r\nz\r\n\" style=\"fill:#1f77b4;\"/>\r\n   </g>\r\n   <g id=\"patch_49\">\r\n    <path clip-path=\"url(#p871e283a94)\" d=\"M 101.21798 224.64 \r\nL 102.502215 224.64 \r\nL 102.502215 183.222857 \r\nL 101.21798 183.222857 \r\nz\r\n\" style=\"fill:#1f77b4;\"/>\r\n   </g>\r\n   <g id=\"patch_50\">\r\n    <path clip-path=\"url(#p871e283a94)\" d=\"M 102.502215 224.64 \r\nL 103.78645 224.64 \r\nL 103.78645 203.931429 \r\nL 102.502215 203.931429 \r\nz\r\n\" style=\"fill:#1f77b4;\"/>\r\n   </g>\r\n   <g id=\"patch_51\">\r\n    <path clip-path=\"url(#p871e283a94)\" d=\"M 103.78645 224.64 \r\nL 105.070685 224.64 \r\nL 105.070685 183.222857 \r\nL 103.78645 183.222857 \r\nz\r\n\" style=\"fill:#1f77b4;\"/>\r\n   </g>\r\n   <g id=\"patch_52\">\r\n    <path clip-path=\"url(#p871e283a94)\" d=\"M 105.070685 224.64 \r\nL 106.354919 224.64 \r\nL 106.354919 203.931429 \r\nL 105.070685 203.931429 \r\nz\r\n\" style=\"fill:#1f77b4;\"/>\r\n   </g>\r\n   <g id=\"patch_53\">\r\n    <path clip-path=\"url(#p871e283a94)\" d=\"M 106.354919 224.64 \r\nL 107.639154 224.64 \r\nL 107.639154 183.222857 \r\nL 106.354919 183.222857 \r\nz\r\n\" style=\"fill:#1f77b4;\"/>\r\n   </g>\r\n   <g id=\"patch_54\">\r\n    <path clip-path=\"url(#p871e283a94)\" d=\"M 107.639154 224.64 \r\nL 108.923389 224.64 \r\nL 108.923389 203.931429 \r\nL 107.639154 203.931429 \r\nz\r\n\" style=\"fill:#1f77b4;\"/>\r\n   </g>\r\n   <g id=\"patch_55\">\r\n    <path clip-path=\"url(#p871e283a94)\" d=\"M 108.923389 224.64 \r\nL 110.207624 224.64 \r\nL 110.207624 203.931429 \r\nL 108.923389 203.931429 \r\nz\r\n\" style=\"fill:#1f77b4;\"/>\r\n   </g>\r\n   <g id=\"patch_56\">\r\n    <path clip-path=\"url(#p871e283a94)\" d=\"M 110.207624 224.64 \r\nL 111.491858 224.64 \r\nL 111.491858 203.931429 \r\nL 110.207624 203.931429 \r\nz\r\n\" style=\"fill:#1f77b4;\"/>\r\n   </g>\r\n   <g id=\"patch_57\">\r\n    <path clip-path=\"url(#p871e283a94)\" d=\"M 111.491858 224.64 \r\nL 112.776093 224.64 \r\nL 112.776093 203.931429 \r\nL 111.491858 203.931429 \r\nz\r\n\" style=\"fill:#1f77b4;\"/>\r\n   </g>\r\n   <g id=\"patch_58\">\r\n    <path clip-path=\"url(#p871e283a94)\" d=\"M 112.776093 224.64 \r\nL 114.060328 224.64 \r\nL 114.060328 203.931429 \r\nL 112.776093 203.931429 \r\nz\r\n\" style=\"fill:#1f77b4;\"/>\r\n   </g>\r\n   <g id=\"patch_59\">\r\n    <path clip-path=\"url(#p871e283a94)\" d=\"M 114.060328 224.64 \r\nL 115.344563 224.64 \r\nL 115.344563 203.931429 \r\nL 114.060328 203.931429 \r\nz\r\n\" style=\"fill:#1f77b4;\"/>\r\n   </g>\r\n   <g id=\"patch_60\">\r\n    <path clip-path=\"url(#p871e283a94)\" d=\"M 115.344563 224.64 \r\nL 116.628797 224.64 \r\nL 116.628797 224.64 \r\nL 115.344563 224.64 \r\nz\r\n\" style=\"fill:#1f77b4;\"/>\r\n   </g>\r\n   <g id=\"patch_61\">\r\n    <path clip-path=\"url(#p871e283a94)\" d=\"M 116.628797 224.64 \r\nL 117.913032 224.64 \r\nL 117.913032 224.64 \r\nL 116.628797 224.64 \r\nz\r\n\" style=\"fill:#1f77b4;\"/>\r\n   </g>\r\n   <g id=\"patch_62\">\r\n    <path clip-path=\"url(#p871e283a94)\" d=\"M 117.913032 224.64 \r\nL 119.197267 224.64 \r\nL 119.197267 224.64 \r\nL 117.913032 224.64 \r\nz\r\n\" style=\"fill:#1f77b4;\"/>\r\n   </g>\r\n   <g id=\"patch_63\">\r\n    <path clip-path=\"url(#p871e283a94)\" d=\"M 119.197267 224.64 \r\nL 120.481502 224.64 \r\nL 120.481502 203.931429 \r\nL 119.197267 203.931429 \r\nz\r\n\" style=\"fill:#1f77b4;\"/>\r\n   </g>\r\n   <g id=\"patch_64\">\r\n    <path clip-path=\"url(#p871e283a94)\" d=\"M 120.481502 224.64 \r\nL 121.765736 224.64 \r\nL 121.765736 224.64 \r\nL 120.481502 224.64 \r\nz\r\n\" style=\"fill:#1f77b4;\"/>\r\n   </g>\r\n   <g id=\"patch_65\">\r\n    <path clip-path=\"url(#p871e283a94)\" d=\"M 121.765736 224.64 \r\nL 123.049971 224.64 \r\nL 123.049971 183.222857 \r\nL 121.765736 183.222857 \r\nz\r\n\" style=\"fill:#1f77b4;\"/>\r\n   </g>\r\n   <g id=\"patch_66\">\r\n    <path clip-path=\"url(#p871e283a94)\" d=\"M 123.049971 224.64 \r\nL 124.334206 224.64 \r\nL 124.334206 224.64 \r\nL 123.049971 224.64 \r\nz\r\n\" style=\"fill:#1f77b4;\"/>\r\n   </g>\r\n   <g id=\"patch_67\">\r\n    <path clip-path=\"url(#p871e283a94)\" d=\"M 124.334206 224.64 \r\nL 125.618441 224.64 \r\nL 125.618441 203.931429 \r\nL 124.334206 203.931429 \r\nz\r\n\" style=\"fill:#1f77b4;\"/>\r\n   </g>\r\n   <g id=\"patch_68\">\r\n    <path clip-path=\"url(#p871e283a94)\" d=\"M 125.618441 224.64 \r\nL 126.902675 224.64 \r\nL 126.902675 203.931429 \r\nL 125.618441 203.931429 \r\nz\r\n\" style=\"fill:#1f77b4;\"/>\r\n   </g>\r\n   <g id=\"patch_69\">\r\n    <path clip-path=\"url(#p871e283a94)\" d=\"M 126.902675 224.64 \r\nL 128.18691 224.64 \r\nL 128.18691 183.222857 \r\nL 126.902675 183.222857 \r\nz\r\n\" style=\"fill:#1f77b4;\"/>\r\n   </g>\r\n   <g id=\"patch_70\">\r\n    <path clip-path=\"url(#p871e283a94)\" d=\"M 128.18691 224.64 \r\nL 129.471145 224.64 \r\nL 129.471145 203.931429 \r\nL 128.18691 203.931429 \r\nz\r\n\" style=\"fill:#1f77b4;\"/>\r\n   </g>\r\n   <g id=\"patch_71\">\r\n    <path clip-path=\"url(#p871e283a94)\" d=\"M 129.471145 224.64 \r\nL 130.75538 224.64 \r\nL 130.75538 224.64 \r\nL 129.471145 224.64 \r\nz\r\n\" style=\"fill:#1f77b4;\"/>\r\n   </g>\r\n   <g id=\"patch_72\">\r\n    <path clip-path=\"url(#p871e283a94)\" d=\"M 130.75538 224.64 \r\nL 132.039614 224.64 \r\nL 132.039614 224.64 \r\nL 130.75538 224.64 \r\nz\r\n\" style=\"fill:#1f77b4;\"/>\r\n   </g>\r\n   <g id=\"patch_73\">\r\n    <path clip-path=\"url(#p871e283a94)\" d=\"M 132.039614 224.64 \r\nL 133.323849 224.64 \r\nL 133.323849 203.931429 \r\nL 132.039614 203.931429 \r\nz\r\n\" style=\"fill:#1f77b4;\"/>\r\n   </g>\r\n   <g id=\"patch_74\">\r\n    <path clip-path=\"url(#p871e283a94)\" d=\"M 133.323849 224.64 \r\nL 134.608084 224.64 \r\nL 134.608084 224.64 \r\nL 133.323849 224.64 \r\nz\r\n\" style=\"fill:#1f77b4;\"/>\r\n   </g>\r\n   <g id=\"patch_75\">\r\n    <path clip-path=\"url(#p871e283a94)\" d=\"M 134.608084 224.64 \r\nL 135.892319 224.64 \r\nL 135.892319 224.64 \r\nL 134.608084 224.64 \r\nz\r\n\" style=\"fill:#1f77b4;\"/>\r\n   </g>\r\n   <g id=\"patch_76\">\r\n    <path clip-path=\"url(#p871e283a94)\" d=\"M 135.892319 224.64 \r\nL 137.176554 224.64 \r\nL 137.176554 203.931429 \r\nL 135.892319 203.931429 \r\nz\r\n\" style=\"fill:#1f77b4;\"/>\r\n   </g>\r\n   <g id=\"patch_77\">\r\n    <path clip-path=\"url(#p871e283a94)\" d=\"M 137.176554 224.64 \r\nL 138.460788 224.64 \r\nL 138.460788 183.222857 \r\nL 137.176554 183.222857 \r\nz\r\n\" style=\"fill:#1f77b4;\"/>\r\n   </g>\r\n   <g id=\"patch_78\">\r\n    <path clip-path=\"url(#p871e283a94)\" d=\"M 138.460788 224.64 \r\nL 139.745023 224.64 \r\nL 139.745023 224.64 \r\nL 138.460788 224.64 \r\nz\r\n\" style=\"fill:#1f77b4;\"/>\r\n   </g>\r\n   <g id=\"patch_79\">\r\n    <path clip-path=\"url(#p871e283a94)\" d=\"M 139.745023 224.64 \r\nL 141.029258 224.64 \r\nL 141.029258 183.222857 \r\nL 139.745023 183.222857 \r\nz\r\n\" style=\"fill:#1f77b4;\"/>\r\n   </g>\r\n   <g id=\"patch_80\">\r\n    <path clip-path=\"url(#p871e283a94)\" d=\"M 141.029258 224.64 \r\nL 142.313493 224.64 \r\nL 142.313493 224.64 \r\nL 141.029258 224.64 \r\nz\r\n\" style=\"fill:#1f77b4;\"/>\r\n   </g>\r\n   <g id=\"patch_81\">\r\n    <path clip-path=\"url(#p871e283a94)\" d=\"M 142.313493 224.64 \r\nL 143.597727 224.64 \r\nL 143.597727 224.64 \r\nL 142.313493 224.64 \r\nz\r\n\" style=\"fill:#1f77b4;\"/>\r\n   </g>\r\n   <g id=\"patch_82\">\r\n    <path clip-path=\"url(#p871e283a94)\" d=\"M 143.597727 224.64 \r\nL 144.881962 224.64 \r\nL 144.881962 224.64 \r\nL 143.597727 224.64 \r\nz\r\n\" style=\"fill:#1f77b4;\"/>\r\n   </g>\r\n   <g id=\"patch_83\">\r\n    <path clip-path=\"url(#p871e283a94)\" d=\"M 144.881962 224.64 \r\nL 146.166197 224.64 \r\nL 146.166197 224.64 \r\nL 144.881962 224.64 \r\nz\r\n\" style=\"fill:#1f77b4;\"/>\r\n   </g>\r\n   <g id=\"patch_84\">\r\n    <path clip-path=\"url(#p871e283a94)\" d=\"M 146.166197 224.64 \r\nL 147.450432 224.64 \r\nL 147.450432 224.64 \r\nL 146.166197 224.64 \r\nz\r\n\" style=\"fill:#1f77b4;\"/>\r\n   </g>\r\n   <g id=\"patch_85\">\r\n    <path clip-path=\"url(#p871e283a94)\" d=\"M 147.450432 224.64 \r\nL 148.734666 224.64 \r\nL 148.734666 203.931429 \r\nL 147.450432 203.931429 \r\nz\r\n\" style=\"fill:#1f77b4;\"/>\r\n   </g>\r\n   <g id=\"patch_86\">\r\n    <path clip-path=\"url(#p871e283a94)\" d=\"M 148.734666 224.64 \r\nL 150.018901 224.64 \r\nL 150.018901 183.222857 \r\nL 148.734666 183.222857 \r\nz\r\n\" style=\"fill:#1f77b4;\"/>\r\n   </g>\r\n   <g id=\"patch_87\">\r\n    <path clip-path=\"url(#p871e283a94)\" d=\"M 150.018901 224.64 \r\nL 151.303136 224.64 \r\nL 151.303136 203.931429 \r\nL 150.018901 203.931429 \r\nz\r\n\" style=\"fill:#1f77b4;\"/>\r\n   </g>\r\n   <g id=\"patch_88\">\r\n    <path clip-path=\"url(#p871e283a94)\" d=\"M 151.303136 224.64 \r\nL 152.587371 224.64 \r\nL 152.587371 224.64 \r\nL 151.303136 224.64 \r\nz\r\n\" style=\"fill:#1f77b4;\"/>\r\n   </g>\r\n   <g id=\"patch_89\">\r\n    <path clip-path=\"url(#p871e283a94)\" d=\"M 152.587371 224.64 \r\nL 153.871605 224.64 \r\nL 153.871605 224.64 \r\nL 152.587371 224.64 \r\nz\r\n\" style=\"fill:#1f77b4;\"/>\r\n   </g>\r\n   <g id=\"patch_90\">\r\n    <path clip-path=\"url(#p871e283a94)\" d=\"M 153.871605 224.64 \r\nL 155.15584 224.64 \r\nL 155.15584 224.64 \r\nL 153.871605 224.64 \r\nz\r\n\" style=\"fill:#1f77b4;\"/>\r\n   </g>\r\n   <g id=\"patch_91\">\r\n    <path clip-path=\"url(#p871e283a94)\" d=\"M 155.15584 224.64 \r\nL 156.440075 224.64 \r\nL 156.440075 224.64 \r\nL 155.15584 224.64 \r\nz\r\n\" style=\"fill:#1f77b4;\"/>\r\n   </g>\r\n   <g id=\"patch_92\">\r\n    <path clip-path=\"url(#p871e283a94)\" d=\"M 156.440075 224.64 \r\nL 157.72431 224.64 \r\nL 157.72431 224.64 \r\nL 156.440075 224.64 \r\nz\r\n\" style=\"fill:#1f77b4;\"/>\r\n   </g>\r\n   <g id=\"patch_93\">\r\n    <path clip-path=\"url(#p871e283a94)\" d=\"M 157.72431 224.64 \r\nL 159.008544 224.64 \r\nL 159.008544 224.64 \r\nL 157.72431 224.64 \r\nz\r\n\" style=\"fill:#1f77b4;\"/>\r\n   </g>\r\n   <g id=\"patch_94\">\r\n    <path clip-path=\"url(#p871e283a94)\" d=\"M 159.008544 224.64 \r\nL 160.292779 224.64 \r\nL 160.292779 224.64 \r\nL 159.008544 224.64 \r\nz\r\n\" style=\"fill:#1f77b4;\"/>\r\n   </g>\r\n   <g id=\"patch_95\">\r\n    <path clip-path=\"url(#p871e283a94)\" d=\"M 160.292779 224.64 \r\nL 161.577014 224.64 \r\nL 161.577014 224.64 \r\nL 160.292779 224.64 \r\nz\r\n\" style=\"fill:#1f77b4;\"/>\r\n   </g>\r\n   <g id=\"patch_96\">\r\n    <path clip-path=\"url(#p871e283a94)\" d=\"M 161.577014 224.64 \r\nL 162.861249 224.64 \r\nL 162.861249 224.64 \r\nL 161.577014 224.64 \r\nz\r\n\" style=\"fill:#1f77b4;\"/>\r\n   </g>\r\n   <g id=\"patch_97\">\r\n    <path clip-path=\"url(#p871e283a94)\" d=\"M 162.861249 224.64 \r\nL 164.145483 224.64 \r\nL 164.145483 224.64 \r\nL 162.861249 224.64 \r\nz\r\n\" style=\"fill:#1f77b4;\"/>\r\n   </g>\r\n   <g id=\"patch_98\">\r\n    <path clip-path=\"url(#p871e283a94)\" d=\"M 164.145483 224.64 \r\nL 165.429718 224.64 \r\nL 165.429718 203.931429 \r\nL 164.145483 203.931429 \r\nz\r\n\" style=\"fill:#1f77b4;\"/>\r\n   </g>\r\n   <g id=\"patch_99\">\r\n    <path clip-path=\"url(#p871e283a94)\" d=\"M 165.429718 224.64 \r\nL 166.713953 224.64 \r\nL 166.713953 224.64 \r\nL 165.429718 224.64 \r\nz\r\n\" style=\"fill:#1f77b4;\"/>\r\n   </g>\r\n   <g id=\"patch_100\">\r\n    <path clip-path=\"url(#p871e283a94)\" d=\"M 166.713953 224.64 \r\nL 167.998188 224.64 \r\nL 167.998188 203.931429 \r\nL 166.713953 203.931429 \r\nz\r\n\" style=\"fill:#1f77b4;\"/>\r\n   </g>\r\n   <g id=\"patch_101\">\r\n    <path clip-path=\"url(#p871e283a94)\" d=\"M 167.998188 224.64 \r\nL 169.282422 224.64 \r\nL 169.282422 224.64 \r\nL 167.998188 224.64 \r\nz\r\n\" style=\"fill:#1f77b4;\"/>\r\n   </g>\r\n   <g id=\"patch_102\">\r\n    <path clip-path=\"url(#p871e283a94)\" d=\"M 169.282422 224.64 \r\nL 170.566657 224.64 \r\nL 170.566657 224.64 \r\nL 169.282422 224.64 \r\nz\r\n\" style=\"fill:#1f77b4;\"/>\r\n   </g>\r\n   <g id=\"patch_103\">\r\n    <path clip-path=\"url(#p871e283a94)\" d=\"M 170.566657 224.64 \r\nL 171.850892 224.64 \r\nL 171.850892 183.222857 \r\nL 170.566657 183.222857 \r\nz\r\n\" style=\"fill:#1f77b4;\"/>\r\n   </g>\r\n   <g id=\"patch_104\">\r\n    <path clip-path=\"url(#p871e283a94)\" d=\"M 171.850892 224.64 \r\nL 173.135127 224.64 \r\nL 173.135127 224.64 \r\nL 171.850892 224.64 \r\nz\r\n\" style=\"fill:#1f77b4;\"/>\r\n   </g>\r\n   <g id=\"patch_105\">\r\n    <path clip-path=\"url(#p871e283a94)\" d=\"M 173.135127 224.64 \r\nL 174.419361 224.64 \r\nL 174.419361 224.64 \r\nL 173.135127 224.64 \r\nz\r\n\" style=\"fill:#1f77b4;\"/>\r\n   </g>\r\n   <g id=\"patch_106\">\r\n    <path clip-path=\"url(#p871e283a94)\" d=\"M 174.419361 224.64 \r\nL 175.703596 224.64 \r\nL 175.703596 203.931429 \r\nL 174.419361 203.931429 \r\nz\r\n\" style=\"fill:#1f77b4;\"/>\r\n   </g>\r\n   <g id=\"patch_107\">\r\n    <path clip-path=\"url(#p871e283a94)\" d=\"M 175.703596 224.64 \r\nL 176.987831 224.64 \r\nL 176.987831 224.64 \r\nL 175.703596 224.64 \r\nz\r\n\" style=\"fill:#1f77b4;\"/>\r\n   </g>\r\n   <g id=\"patch_108\">\r\n    <path clip-path=\"url(#p871e283a94)\" d=\"M 176.987831 224.64 \r\nL 178.272066 224.64 \r\nL 178.272066 203.931429 \r\nL 176.987831 203.931429 \r\nz\r\n\" style=\"fill:#1f77b4;\"/>\r\n   </g>\r\n   <g id=\"patch_109\">\r\n    <path clip-path=\"url(#p871e283a94)\" d=\"M 178.272066 224.64 \r\nL 179.5563 224.64 \r\nL 179.5563 224.64 \r\nL 178.272066 224.64 \r\nz\r\n\" style=\"fill:#1f77b4;\"/>\r\n   </g>\r\n   <g id=\"patch_110\">\r\n    <path clip-path=\"url(#p871e283a94)\" d=\"M 179.5563 224.64 \r\nL 180.840535 224.64 \r\nL 180.840535 203.931429 \r\nL 179.5563 203.931429 \r\nz\r\n\" style=\"fill:#1f77b4;\"/>\r\n   </g>\r\n   <g id=\"patch_111\">\r\n    <path clip-path=\"url(#p871e283a94)\" d=\"M 180.840535 224.64 \r\nL 182.12477 224.64 \r\nL 182.12477 224.64 \r\nL 180.840535 224.64 \r\nz\r\n\" style=\"fill:#1f77b4;\"/>\r\n   </g>\r\n   <g id=\"patch_112\">\r\n    <path clip-path=\"url(#p871e283a94)\" d=\"M 182.12477 224.64 \r\nL 183.409005 224.64 \r\nL 183.409005 203.931429 \r\nL 182.12477 203.931429 \r\nz\r\n\" style=\"fill:#1f77b4;\"/>\r\n   </g>\r\n   <g id=\"patch_113\">\r\n    <path clip-path=\"url(#p871e283a94)\" d=\"M 183.409005 224.64 \r\nL 184.693239 224.64 \r\nL 184.693239 224.64 \r\nL 183.409005 224.64 \r\nz\r\n\" style=\"fill:#1f77b4;\"/>\r\n   </g>\r\n   <g id=\"patch_114\">\r\n    <path clip-path=\"url(#p871e283a94)\" d=\"M 184.693239 224.64 \r\nL 185.977474 224.64 \r\nL 185.977474 224.64 \r\nL 184.693239 224.64 \r\nz\r\n\" style=\"fill:#1f77b4;\"/>\r\n   </g>\r\n   <g id=\"patch_115\">\r\n    <path clip-path=\"url(#p871e283a94)\" d=\"M 185.977474 224.64 \r\nL 187.261709 224.64 \r\nL 187.261709 203.931429 \r\nL 185.977474 203.931429 \r\nz\r\n\" style=\"fill:#1f77b4;\"/>\r\n   </g>\r\n   <g id=\"patch_116\">\r\n    <path clip-path=\"url(#p871e283a94)\" d=\"M 187.261709 224.64 \r\nL 188.545944 224.64 \r\nL 188.545944 224.64 \r\nL 187.261709 224.64 \r\nz\r\n\" style=\"fill:#1f77b4;\"/>\r\n   </g>\r\n   <g id=\"patch_117\">\r\n    <path clip-path=\"url(#p871e283a94)\" d=\"M 188.545944 224.64 \r\nL 189.830178 224.64 \r\nL 189.830178 224.64 \r\nL 188.545944 224.64 \r\nz\r\n\" style=\"fill:#1f77b4;\"/>\r\n   </g>\r\n   <g id=\"patch_118\">\r\n    <path clip-path=\"url(#p871e283a94)\" d=\"M 189.830178 224.64 \r\nL 191.114413 224.64 \r\nL 191.114413 224.64 \r\nL 189.830178 224.64 \r\nz\r\n\" style=\"fill:#1f77b4;\"/>\r\n   </g>\r\n   <g id=\"patch_119\">\r\n    <path clip-path=\"url(#p871e283a94)\" d=\"M 191.114413 224.64 \r\nL 192.398648 224.64 \r\nL 192.398648 224.64 \r\nL 191.114413 224.64 \r\nz\r\n\" style=\"fill:#1f77b4;\"/>\r\n   </g>\r\n   <g id=\"patch_120\">\r\n    <path clip-path=\"url(#p871e283a94)\" d=\"M 192.398648 224.64 \r\nL 193.682883 224.64 \r\nL 193.682883 224.64 \r\nL 192.398648 224.64 \r\nz\r\n\" style=\"fill:#1f77b4;\"/>\r\n   </g>\r\n   <g id=\"patch_121\">\r\n    <path clip-path=\"url(#p871e283a94)\" d=\"M 193.682883 224.64 \r\nL 194.967117 224.64 \r\nL 194.967117 203.931429 \r\nL 193.682883 203.931429 \r\nz\r\n\" style=\"fill:#1f77b4;\"/>\r\n   </g>\r\n   <g id=\"patch_122\">\r\n    <path clip-path=\"url(#p871e283a94)\" d=\"M 194.967117 224.64 \r\nL 196.251352 224.64 \r\nL 196.251352 224.64 \r\nL 194.967117 224.64 \r\nz\r\n\" style=\"fill:#1f77b4;\"/>\r\n   </g>\r\n   <g id=\"patch_123\">\r\n    <path clip-path=\"url(#p871e283a94)\" d=\"M 196.251352 224.64 \r\nL 197.535587 224.64 \r\nL 197.535587 224.64 \r\nL 196.251352 224.64 \r\nz\r\n\" style=\"fill:#1f77b4;\"/>\r\n   </g>\r\n   <g id=\"patch_124\">\r\n    <path clip-path=\"url(#p871e283a94)\" d=\"M 197.535587 224.64 \r\nL 198.819822 224.64 \r\nL 198.819822 224.64 \r\nL 197.535587 224.64 \r\nz\r\n\" style=\"fill:#1f77b4;\"/>\r\n   </g>\r\n   <g id=\"patch_125\">\r\n    <path clip-path=\"url(#p871e283a94)\" d=\"M 198.819822 224.64 \r\nL 200.104056 224.64 \r\nL 200.104056 224.64 \r\nL 198.819822 224.64 \r\nz\r\n\" style=\"fill:#1f77b4;\"/>\r\n   </g>\r\n   <g id=\"patch_126\">\r\n    <path clip-path=\"url(#p871e283a94)\" d=\"M 200.104056 224.64 \r\nL 201.388291 224.64 \r\nL 201.388291 224.64 \r\nL 200.104056 224.64 \r\nz\r\n\" style=\"fill:#1f77b4;\"/>\r\n   </g>\r\n   <g id=\"patch_127\">\r\n    <path clip-path=\"url(#p871e283a94)\" d=\"M 201.388291 224.64 \r\nL 202.672526 224.64 \r\nL 202.672526 203.931429 \r\nL 201.388291 203.931429 \r\nz\r\n\" style=\"fill:#1f77b4;\"/>\r\n   </g>\r\n   <g id=\"patch_128\">\r\n    <path clip-path=\"url(#p871e283a94)\" d=\"M 202.672526 224.64 \r\nL 203.956761 224.64 \r\nL 203.956761 224.64 \r\nL 202.672526 224.64 \r\nz\r\n\" style=\"fill:#1f77b4;\"/>\r\n   </g>\r\n   <g id=\"patch_129\">\r\n    <path clip-path=\"url(#p871e283a94)\" d=\"M 203.956761 224.64 \r\nL 205.240995 224.64 \r\nL 205.240995 203.931429 \r\nL 203.956761 203.931429 \r\nz\r\n\" style=\"fill:#1f77b4;\"/>\r\n   </g>\r\n   <g id=\"patch_130\">\r\n    <path clip-path=\"url(#p871e283a94)\" d=\"M 205.240995 224.64 \r\nL 206.52523 224.64 \r\nL 206.52523 224.64 \r\nL 205.240995 224.64 \r\nz\r\n\" style=\"fill:#1f77b4;\"/>\r\n   </g>\r\n   <g id=\"patch_131\">\r\n    <path clip-path=\"url(#p871e283a94)\" d=\"M 206.52523 224.64 \r\nL 207.809465 224.64 \r\nL 207.809465 224.64 \r\nL 206.52523 224.64 \r\nz\r\n\" style=\"fill:#1f77b4;\"/>\r\n   </g>\r\n   <g id=\"patch_132\">\r\n    <path clip-path=\"url(#p871e283a94)\" d=\"M 207.809465 224.64 \r\nL 209.0937 224.64 \r\nL 209.0937 224.64 \r\nL 207.809465 224.64 \r\nz\r\n\" style=\"fill:#1f77b4;\"/>\r\n   </g>\r\n   <g id=\"patch_133\">\r\n    <path clip-path=\"url(#p871e283a94)\" d=\"M 209.0937 224.64 \r\nL 210.377934 224.64 \r\nL 210.377934 224.64 \r\nL 209.0937 224.64 \r\nz\r\n\" style=\"fill:#1f77b4;\"/>\r\n   </g>\r\n   <g id=\"patch_134\">\r\n    <path clip-path=\"url(#p871e283a94)\" d=\"M 210.377934 224.64 \r\nL 211.662169 224.64 \r\nL 211.662169 224.64 \r\nL 210.377934 224.64 \r\nz\r\n\" style=\"fill:#1f77b4;\"/>\r\n   </g>\r\n   <g id=\"patch_135\">\r\n    <path clip-path=\"url(#p871e283a94)\" d=\"M 211.662169 224.64 \r\nL 212.946404 224.64 \r\nL 212.946404 203.931429 \r\nL 211.662169 203.931429 \r\nz\r\n\" style=\"fill:#1f77b4;\"/>\r\n   </g>\r\n   <g id=\"patch_136\">\r\n    <path clip-path=\"url(#p871e283a94)\" d=\"M 212.946404 224.64 \r\nL 214.230639 224.64 \r\nL 214.230639 224.64 \r\nL 212.946404 224.64 \r\nz\r\n\" style=\"fill:#1f77b4;\"/>\r\n   </g>\r\n   <g id=\"patch_137\">\r\n    <path clip-path=\"url(#p871e283a94)\" d=\"M 214.230639 224.64 \r\nL 215.514873 224.64 \r\nL 215.514873 203.931429 \r\nL 214.230639 203.931429 \r\nz\r\n\" style=\"fill:#1f77b4;\"/>\r\n   </g>\r\n   <g id=\"patch_138\">\r\n    <path clip-path=\"url(#p871e283a94)\" d=\"M 215.514873 224.64 \r\nL 216.799108 224.64 \r\nL 216.799108 224.64 \r\nL 215.514873 224.64 \r\nz\r\n\" style=\"fill:#1f77b4;\"/>\r\n   </g>\r\n   <g id=\"patch_139\">\r\n    <path clip-path=\"url(#p871e283a94)\" d=\"M 216.799108 224.64 \r\nL 218.083343 224.64 \r\nL 218.083343 224.64 \r\nL 216.799108 224.64 \r\nz\r\n\" style=\"fill:#1f77b4;\"/>\r\n   </g>\r\n   <g id=\"patch_140\">\r\n    <path clip-path=\"url(#p871e283a94)\" d=\"M 218.083343 224.64 \r\nL 219.367578 224.64 \r\nL 219.367578 224.64 \r\nL 218.083343 224.64 \r\nz\r\n\" style=\"fill:#1f77b4;\"/>\r\n   </g>\r\n   <g id=\"patch_141\">\r\n    <path clip-path=\"url(#p871e283a94)\" d=\"M 219.367578 224.64 \r\nL 220.651812 224.64 \r\nL 220.651812 224.64 \r\nL 219.367578 224.64 \r\nz\r\n\" style=\"fill:#1f77b4;\"/>\r\n   </g>\r\n   <g id=\"patch_142\">\r\n    <path clip-path=\"url(#p871e283a94)\" d=\"M 220.651812 224.64 \r\nL 221.936047 224.64 \r\nL 221.936047 224.64 \r\nL 220.651812 224.64 \r\nz\r\n\" style=\"fill:#1f77b4;\"/>\r\n   </g>\r\n   <g id=\"patch_143\">\r\n    <path clip-path=\"url(#p871e283a94)\" d=\"M 221.936047 224.64 \r\nL 223.220282 224.64 \r\nL 223.220282 224.64 \r\nL 221.936047 224.64 \r\nz\r\n\" style=\"fill:#1f77b4;\"/>\r\n   </g>\r\n   <g id=\"patch_144\">\r\n    <path clip-path=\"url(#p871e283a94)\" d=\"M 223.220282 224.64 \r\nL 224.504517 224.64 \r\nL 224.504517 203.931429 \r\nL 223.220282 203.931429 \r\nz\r\n\" style=\"fill:#1f77b4;\"/>\r\n   </g>\r\n   <g id=\"patch_145\">\r\n    <path clip-path=\"url(#p871e283a94)\" d=\"M 224.504517 224.64 \r\nL 225.788751 224.64 \r\nL 225.788751 224.64 \r\nL 224.504517 224.64 \r\nz\r\n\" style=\"fill:#1f77b4;\"/>\r\n   </g>\r\n   <g id=\"patch_146\">\r\n    <path clip-path=\"url(#p871e283a94)\" d=\"M 225.788751 224.64 \r\nL 227.072986 224.64 \r\nL 227.072986 224.64 \r\nL 225.788751 224.64 \r\nz\r\n\" style=\"fill:#1f77b4;\"/>\r\n   </g>\r\n   <g id=\"patch_147\">\r\n    <path clip-path=\"url(#p871e283a94)\" d=\"M 227.072986 224.64 \r\nL 228.357221 224.64 \r\nL 228.357221 224.64 \r\nL 227.072986 224.64 \r\nz\r\n\" style=\"fill:#1f77b4;\"/>\r\n   </g>\r\n   <g id=\"patch_148\">\r\n    <path clip-path=\"url(#p871e283a94)\" d=\"M 228.357221 224.64 \r\nL 229.641456 224.64 \r\nL 229.641456 203.931429 \r\nL 228.357221 203.931429 \r\nz\r\n\" style=\"fill:#1f77b4;\"/>\r\n   </g>\r\n   <g id=\"patch_149\">\r\n    <path clip-path=\"url(#p871e283a94)\" d=\"M 229.641456 224.64 \r\nL 230.92569 224.64 \r\nL 230.92569 224.64 \r\nL 229.641456 224.64 \r\nz\r\n\" style=\"fill:#1f77b4;\"/>\r\n   </g>\r\n   <g id=\"patch_150\">\r\n    <path clip-path=\"url(#p871e283a94)\" d=\"M 230.92569 224.64 \r\nL 232.209925 224.64 \r\nL 232.209925 224.64 \r\nL 230.92569 224.64 \r\nz\r\n\" style=\"fill:#1f77b4;\"/>\r\n   </g>\r\n   <g id=\"patch_151\">\r\n    <path clip-path=\"url(#p871e283a94)\" d=\"M 232.209925 224.64 \r\nL 233.49416 224.64 \r\nL 233.49416 224.64 \r\nL 232.209925 224.64 \r\nz\r\n\" style=\"fill:#1f77b4;\"/>\r\n   </g>\r\n   <g id=\"patch_152\">\r\n    <path clip-path=\"url(#p871e283a94)\" d=\"M 233.49416 224.64 \r\nL 234.778395 224.64 \r\nL 234.778395 224.64 \r\nL 233.49416 224.64 \r\nz\r\n\" style=\"fill:#1f77b4;\"/>\r\n   </g>\r\n   <g id=\"patch_153\">\r\n    <path clip-path=\"url(#p871e283a94)\" d=\"M 234.778395 224.64 \r\nL 236.062629 224.64 \r\nL 236.062629 224.64 \r\nL 234.778395 224.64 \r\nz\r\n\" style=\"fill:#1f77b4;\"/>\r\n   </g>\r\n   <g id=\"patch_154\">\r\n    <path clip-path=\"url(#p871e283a94)\" d=\"M 236.062629 224.64 \r\nL 237.346864 224.64 \r\nL 237.346864 203.931429 \r\nL 236.062629 203.931429 \r\nz\r\n\" style=\"fill:#1f77b4;\"/>\r\n   </g>\r\n   <g id=\"patch_155\">\r\n    <path clip-path=\"url(#p871e283a94)\" d=\"M 237.346864 224.64 \r\nL 238.631099 224.64 \r\nL 238.631099 224.64 \r\nL 237.346864 224.64 \r\nz\r\n\" style=\"fill:#1f77b4;\"/>\r\n   </g>\r\n   <g id=\"patch_156\">\r\n    <path clip-path=\"url(#p871e283a94)\" d=\"M 238.631099 224.64 \r\nL 239.915334 224.64 \r\nL 239.915334 224.64 \r\nL 238.631099 224.64 \r\nz\r\n\" style=\"fill:#1f77b4;\"/>\r\n   </g>\r\n   <g id=\"patch_157\">\r\n    <path clip-path=\"url(#p871e283a94)\" d=\"M 239.915334 224.64 \r\nL 241.199568 224.64 \r\nL 241.199568 203.931429 \r\nL 239.915334 203.931429 \r\nz\r\n\" style=\"fill:#1f77b4;\"/>\r\n   </g>\r\n   <g id=\"patch_158\">\r\n    <path clip-path=\"url(#p871e283a94)\" d=\"M 241.199568 224.64 \r\nL 242.483803 224.64 \r\nL 242.483803 203.931429 \r\nL 241.199568 203.931429 \r\nz\r\n\" style=\"fill:#1f77b4;\"/>\r\n   </g>\r\n   <g id=\"patch_159\">\r\n    <path clip-path=\"url(#p871e283a94)\" d=\"M 242.483803 224.64 \r\nL 243.768038 224.64 \r\nL 243.768038 224.64 \r\nL 242.483803 224.64 \r\nz\r\n\" style=\"fill:#1f77b4;\"/>\r\n   </g>\r\n   <g id=\"patch_160\">\r\n    <path clip-path=\"url(#p871e283a94)\" d=\"M 243.768038 224.64 \r\nL 245.052273 224.64 \r\nL 245.052273 224.64 \r\nL 243.768038 224.64 \r\nz\r\n\" style=\"fill:#1f77b4;\"/>\r\n   </g>\r\n   <g id=\"patch_161\">\r\n    <path clip-path=\"url(#p871e283a94)\" d=\"M 245.052273 224.64 \r\nL 246.336507 224.64 \r\nL 246.336507 224.64 \r\nL 245.052273 224.64 \r\nz\r\n\" style=\"fill:#1f77b4;\"/>\r\n   </g>\r\n   <g id=\"patch_162\">\r\n    <path clip-path=\"url(#p871e283a94)\" d=\"M 246.336507 224.64 \r\nL 247.620742 224.64 \r\nL 247.620742 203.931429 \r\nL 246.336507 203.931429 \r\nz\r\n\" style=\"fill:#1f77b4;\"/>\r\n   </g>\r\n   <g id=\"patch_163\">\r\n    <path clip-path=\"url(#p871e283a94)\" d=\"M 247.620742 224.64 \r\nL 248.904977 224.64 \r\nL 248.904977 224.64 \r\nL 247.620742 224.64 \r\nz\r\n\" style=\"fill:#1f77b4;\"/>\r\n   </g>\r\n   <g id=\"patch_164\">\r\n    <path clip-path=\"url(#p871e283a94)\" d=\"M 248.904977 224.64 \r\nL 250.189212 224.64 \r\nL 250.189212 224.64 \r\nL 248.904977 224.64 \r\nz\r\n\" style=\"fill:#1f77b4;\"/>\r\n   </g>\r\n   <g id=\"patch_165\">\r\n    <path clip-path=\"url(#p871e283a94)\" d=\"M 250.189212 224.64 \r\nL 251.473446 224.64 \r\nL 251.473446 224.64 \r\nL 250.189212 224.64 \r\nz\r\n\" style=\"fill:#1f77b4;\"/>\r\n   </g>\r\n   <g id=\"patch_166\">\r\n    <path clip-path=\"url(#p871e283a94)\" d=\"M 251.473446 224.64 \r\nL 252.757681 224.64 \r\nL 252.757681 224.64 \r\nL 251.473446 224.64 \r\nz\r\n\" style=\"fill:#1f77b4;\"/>\r\n   </g>\r\n   <g id=\"patch_167\">\r\n    <path clip-path=\"url(#p871e283a94)\" d=\"M 252.757681 224.64 \r\nL 254.041916 224.64 \r\nL 254.041916 224.64 \r\nL 252.757681 224.64 \r\nz\r\n\" style=\"fill:#1f77b4;\"/>\r\n   </g>\r\n   <g id=\"patch_168\">\r\n    <path clip-path=\"url(#p871e283a94)\" d=\"M 254.041916 224.64 \r\nL 255.326151 224.64 \r\nL 255.326151 224.64 \r\nL 254.041916 224.64 \r\nz\r\n\" style=\"fill:#1f77b4;\"/>\r\n   </g>\r\n   <g id=\"patch_169\">\r\n    <path clip-path=\"url(#p871e283a94)\" d=\"M 255.326151 224.64 \r\nL 256.610386 224.64 \r\nL 256.610386 224.64 \r\nL 255.326151 224.64 \r\nz\r\n\" style=\"fill:#1f77b4;\"/>\r\n   </g>\r\n   <g id=\"patch_170\">\r\n    <path clip-path=\"url(#p871e283a94)\" d=\"M 256.610386 224.64 \r\nL 257.89462 224.64 \r\nL 257.89462 224.64 \r\nL 256.610386 224.64 \r\nz\r\n\" style=\"fill:#1f77b4;\"/>\r\n   </g>\r\n   <g id=\"patch_171\">\r\n    <path clip-path=\"url(#p871e283a94)\" d=\"M 257.89462 224.64 \r\nL 259.178855 224.64 \r\nL 259.178855 224.64 \r\nL 257.89462 224.64 \r\nz\r\n\" style=\"fill:#1f77b4;\"/>\r\n   </g>\r\n   <g id=\"patch_172\">\r\n    <path clip-path=\"url(#p871e283a94)\" d=\"M 259.178855 224.64 \r\nL 260.46309 224.64 \r\nL 260.46309 203.931429 \r\nL 259.178855 203.931429 \r\nz\r\n\" style=\"fill:#1f77b4;\"/>\r\n   </g>\r\n   <g id=\"patch_173\">\r\n    <path clip-path=\"url(#p871e283a94)\" d=\"M 260.46309 224.64 \r\nL 261.747325 224.64 \r\nL 261.747325 224.64 \r\nL 260.46309 224.64 \r\nz\r\n\" style=\"fill:#1f77b4;\"/>\r\n   </g>\r\n   <g id=\"patch_174\">\r\n    <path clip-path=\"url(#p871e283a94)\" d=\"M 261.747325 224.64 \r\nL 263.031559 224.64 \r\nL 263.031559 224.64 \r\nL 261.747325 224.64 \r\nz\r\n\" style=\"fill:#1f77b4;\"/>\r\n   </g>\r\n   <g id=\"patch_175\">\r\n    <path clip-path=\"url(#p871e283a94)\" d=\"M 263.031559 224.64 \r\nL 264.315794 224.64 \r\nL 264.315794 224.64 \r\nL 263.031559 224.64 \r\nz\r\n\" style=\"fill:#1f77b4;\"/>\r\n   </g>\r\n   <g id=\"patch_176\">\r\n    <path clip-path=\"url(#p871e283a94)\" d=\"M 264.315794 224.64 \r\nL 265.600029 224.64 \r\nL 265.600029 224.64 \r\nL 264.315794 224.64 \r\nz\r\n\" style=\"fill:#1f77b4;\"/>\r\n   </g>\r\n   <g id=\"patch_177\">\r\n    <path clip-path=\"url(#p871e283a94)\" d=\"M 265.600029 224.64 \r\nL 266.884264 224.64 \r\nL 266.884264 224.64 \r\nL 265.600029 224.64 \r\nz\r\n\" style=\"fill:#1f77b4;\"/>\r\n   </g>\r\n   <g id=\"patch_178\">\r\n    <path clip-path=\"url(#p871e283a94)\" d=\"M 266.884264 224.64 \r\nL 268.168498 224.64 \r\nL 268.168498 224.64 \r\nL 266.884264 224.64 \r\nz\r\n\" style=\"fill:#1f77b4;\"/>\r\n   </g>\r\n   <g id=\"patch_179\">\r\n    <path clip-path=\"url(#p871e283a94)\" d=\"M 268.168498 224.64 \r\nL 269.452733 224.64 \r\nL 269.452733 224.64 \r\nL 268.168498 224.64 \r\nz\r\n\" style=\"fill:#1f77b4;\"/>\r\n   </g>\r\n   <g id=\"patch_180\">\r\n    <path clip-path=\"url(#p871e283a94)\" d=\"M 269.452733 224.64 \r\nL 270.736968 224.64 \r\nL 270.736968 224.64 \r\nL 269.452733 224.64 \r\nz\r\n\" style=\"fill:#1f77b4;\"/>\r\n   </g>\r\n   <g id=\"patch_181\">\r\n    <path clip-path=\"url(#p871e283a94)\" d=\"M 270.736968 224.64 \r\nL 272.021203 224.64 \r\nL 272.021203 224.64 \r\nL 270.736968 224.64 \r\nz\r\n\" style=\"fill:#1f77b4;\"/>\r\n   </g>\r\n   <g id=\"patch_182\">\r\n    <path clip-path=\"url(#p871e283a94)\" d=\"M 272.021203 224.64 \r\nL 273.305437 224.64 \r\nL 273.305437 224.64 \r\nL 272.021203 224.64 \r\nz\r\n\" style=\"fill:#1f77b4;\"/>\r\n   </g>\r\n   <g id=\"patch_183\">\r\n    <path clip-path=\"url(#p871e283a94)\" d=\"M 273.305437 224.64 \r\nL 274.589672 224.64 \r\nL 274.589672 224.64 \r\nL 273.305437 224.64 \r\nz\r\n\" style=\"fill:#1f77b4;\"/>\r\n   </g>\r\n   <g id=\"patch_184\">\r\n    <path clip-path=\"url(#p871e283a94)\" d=\"M 274.589672 224.64 \r\nL 275.873907 224.64 \r\nL 275.873907 224.64 \r\nL 274.589672 224.64 \r\nz\r\n\" style=\"fill:#1f77b4;\"/>\r\n   </g>\r\n   <g id=\"patch_185\">\r\n    <path clip-path=\"url(#p871e283a94)\" d=\"M 275.873907 224.64 \r\nL 277.158142 224.64 \r\nL 277.158142 224.64 \r\nL 275.873907 224.64 \r\nz\r\n\" style=\"fill:#1f77b4;\"/>\r\n   </g>\r\n   <g id=\"patch_186\">\r\n    <path clip-path=\"url(#p871e283a94)\" d=\"M 277.158142 224.64 \r\nL 278.442376 224.64 \r\nL 278.442376 224.64 \r\nL 277.158142 224.64 \r\nz\r\n\" style=\"fill:#1f77b4;\"/>\r\n   </g>\r\n   <g id=\"patch_187\">\r\n    <path clip-path=\"url(#p871e283a94)\" d=\"M 278.442376 224.64 \r\nL 279.726611 224.64 \r\nL 279.726611 203.931429 \r\nL 278.442376 203.931429 \r\nz\r\n\" style=\"fill:#1f77b4;\"/>\r\n   </g>\r\n   <g id=\"patch_188\">\r\n    <path clip-path=\"url(#p871e283a94)\" d=\"M 279.726611 224.64 \r\nL 281.010846 224.64 \r\nL 281.010846 224.64 \r\nL 279.726611 224.64 \r\nz\r\n\" style=\"fill:#1f77b4;\"/>\r\n   </g>\r\n   <g id=\"patch_189\">\r\n    <path clip-path=\"url(#p871e283a94)\" d=\"M 281.010846 224.64 \r\nL 282.295081 224.64 \r\nL 282.295081 224.64 \r\nL 281.010846 224.64 \r\nz\r\n\" style=\"fill:#1f77b4;\"/>\r\n   </g>\r\n   <g id=\"patch_190\">\r\n    <path clip-path=\"url(#p871e283a94)\" d=\"M 282.295081 224.64 \r\nL 283.579315 224.64 \r\nL 283.579315 224.64 \r\nL 282.295081 224.64 \r\nz\r\n\" style=\"fill:#1f77b4;\"/>\r\n   </g>\r\n   <g id=\"patch_191\">\r\n    <path clip-path=\"url(#p871e283a94)\" d=\"M 283.579315 224.64 \r\nL 284.86355 224.64 \r\nL 284.86355 224.64 \r\nL 283.579315 224.64 \r\nz\r\n\" style=\"fill:#1f77b4;\"/>\r\n   </g>\r\n   <g id=\"patch_192\">\r\n    <path clip-path=\"url(#p871e283a94)\" d=\"M 284.86355 224.64 \r\nL 286.147785 224.64 \r\nL 286.147785 224.64 \r\nL 284.86355 224.64 \r\nz\r\n\" style=\"fill:#1f77b4;\"/>\r\n   </g>\r\n   <g id=\"patch_193\">\r\n    <path clip-path=\"url(#p871e283a94)\" d=\"M 286.147785 224.64 \r\nL 287.43202 224.64 \r\nL 287.43202 224.64 \r\nL 286.147785 224.64 \r\nz\r\n\" style=\"fill:#1f77b4;\"/>\r\n   </g>\r\n   <g id=\"patch_194\">\r\n    <path clip-path=\"url(#p871e283a94)\" d=\"M 287.43202 224.64 \r\nL 288.716254 224.64 \r\nL 288.716254 224.64 \r\nL 287.43202 224.64 \r\nz\r\n\" style=\"fill:#1f77b4;\"/>\r\n   </g>\r\n   <g id=\"patch_195\">\r\n    <path clip-path=\"url(#p871e283a94)\" d=\"M 288.716254 224.64 \r\nL 290.000489 224.64 \r\nL 290.000489 224.64 \r\nL 288.716254 224.64 \r\nz\r\n\" style=\"fill:#1f77b4;\"/>\r\n   </g>\r\n   <g id=\"patch_196\">\r\n    <path clip-path=\"url(#p871e283a94)\" d=\"M 290.000489 224.64 \r\nL 291.284724 224.64 \r\nL 291.284724 224.64 \r\nL 290.000489 224.64 \r\nz\r\n\" style=\"fill:#1f77b4;\"/>\r\n   </g>\r\n   <g id=\"patch_197\">\r\n    <path clip-path=\"url(#p871e283a94)\" d=\"M 291.284724 224.64 \r\nL 292.568959 224.64 \r\nL 292.568959 224.64 \r\nL 291.284724 224.64 \r\nz\r\n\" style=\"fill:#1f77b4;\"/>\r\n   </g>\r\n   <g id=\"patch_198\">\r\n    <path clip-path=\"url(#p871e283a94)\" d=\"M 292.568959 224.64 \r\nL 293.853193 224.64 \r\nL 293.853193 224.64 \r\nL 292.568959 224.64 \r\nz\r\n\" style=\"fill:#1f77b4;\"/>\r\n   </g>\r\n   <g id=\"patch_199\">\r\n    <path clip-path=\"url(#p871e283a94)\" d=\"M 293.853193 224.64 \r\nL 295.137428 224.64 \r\nL 295.137428 224.64 \r\nL 293.853193 224.64 \r\nz\r\n\" style=\"fill:#1f77b4;\"/>\r\n   </g>\r\n   <g id=\"patch_200\">\r\n    <path clip-path=\"url(#p871e283a94)\" d=\"M 295.137428 224.64 \r\nL 296.421663 224.64 \r\nL 296.421663 224.64 \r\nL 295.137428 224.64 \r\nz\r\n\" style=\"fill:#1f77b4;\"/>\r\n   </g>\r\n   <g id=\"patch_201\">\r\n    <path clip-path=\"url(#p871e283a94)\" d=\"M 296.421663 224.64 \r\nL 297.705898 224.64 \r\nL 297.705898 224.64 \r\nL 296.421663 224.64 \r\nz\r\n\" style=\"fill:#1f77b4;\"/>\r\n   </g>\r\n   <g id=\"patch_202\">\r\n    <path clip-path=\"url(#p871e283a94)\" d=\"M 297.705898 224.64 \r\nL 298.990132 224.64 \r\nL 298.990132 224.64 \r\nL 297.705898 224.64 \r\nz\r\n\" style=\"fill:#1f77b4;\"/>\r\n   </g>\r\n   <g id=\"patch_203\">\r\n    <path clip-path=\"url(#p871e283a94)\" d=\"M 298.990132 224.64 \r\nL 300.274367 224.64 \r\nL 300.274367 224.64 \r\nL 298.990132 224.64 \r\nz\r\n\" style=\"fill:#1f77b4;\"/>\r\n   </g>\r\n   <g id=\"patch_204\">\r\n    <path clip-path=\"url(#p871e283a94)\" d=\"M 300.274367 224.64 \r\nL 301.558602 224.64 \r\nL 301.558602 224.64 \r\nL 300.274367 224.64 \r\nz\r\n\" style=\"fill:#1f77b4;\"/>\r\n   </g>\r\n   <g id=\"patch_205\">\r\n    <path clip-path=\"url(#p871e283a94)\" d=\"M 301.558602 224.64 \r\nL 302.842837 224.64 \r\nL 302.842837 224.64 \r\nL 301.558602 224.64 \r\nz\r\n\" style=\"fill:#1f77b4;\"/>\r\n   </g>\r\n   <g id=\"patch_206\">\r\n    <path clip-path=\"url(#p871e283a94)\" d=\"M 302.842837 224.64 \r\nL 304.127071 224.64 \r\nL 304.127071 224.64 \r\nL 302.842837 224.64 \r\nz\r\n\" style=\"fill:#1f77b4;\"/>\r\n   </g>\r\n   <g id=\"patch_207\">\r\n    <path clip-path=\"url(#p871e283a94)\" d=\"M 304.127071 224.64 \r\nL 305.411306 224.64 \r\nL 305.411306 224.64 \r\nL 304.127071 224.64 \r\nz\r\n\" style=\"fill:#1f77b4;\"/>\r\n   </g>\r\n   <g id=\"patch_208\">\r\n    <path clip-path=\"url(#p871e283a94)\" d=\"M 305.411306 224.64 \r\nL 306.695541 224.64 \r\nL 306.695541 224.64 \r\nL 305.411306 224.64 \r\nz\r\n\" style=\"fill:#1f77b4;\"/>\r\n   </g>\r\n   <g id=\"patch_209\">\r\n    <path clip-path=\"url(#p871e283a94)\" d=\"M 306.695541 224.64 \r\nL 307.979776 224.64 \r\nL 307.979776 224.64 \r\nL 306.695541 224.64 \r\nz\r\n\" style=\"fill:#1f77b4;\"/>\r\n   </g>\r\n   <g id=\"patch_210\">\r\n    <path clip-path=\"url(#p871e283a94)\" d=\"M 307.979776 224.64 \r\nL 309.26401 224.64 \r\nL 309.26401 224.64 \r\nL 307.979776 224.64 \r\nz\r\n\" style=\"fill:#1f77b4;\"/>\r\n   </g>\r\n   <g id=\"patch_211\">\r\n    <path clip-path=\"url(#p871e283a94)\" d=\"M 309.26401 224.64 \r\nL 310.548245 224.64 \r\nL 310.548245 224.64 \r\nL 309.26401 224.64 \r\nz\r\n\" style=\"fill:#1f77b4;\"/>\r\n   </g>\r\n   <g id=\"patch_212\">\r\n    <path clip-path=\"url(#p871e283a94)\" d=\"M 310.548245 224.64 \r\nL 311.83248 224.64 \r\nL 311.83248 224.64 \r\nL 310.548245 224.64 \r\nz\r\n\" style=\"fill:#1f77b4;\"/>\r\n   </g>\r\n   <g id=\"patch_213\">\r\n    <path clip-path=\"url(#p871e283a94)\" d=\"M 311.83248 224.64 \r\nL 313.116715 224.64 \r\nL 313.116715 224.64 \r\nL 311.83248 224.64 \r\nz\r\n\" style=\"fill:#1f77b4;\"/>\r\n   </g>\r\n   <g id=\"patch_214\">\r\n    <path clip-path=\"url(#p871e283a94)\" d=\"M 313.116715 224.64 \r\nL 314.400949 224.64 \r\nL 314.400949 224.64 \r\nL 313.116715 224.64 \r\nz\r\n\" style=\"fill:#1f77b4;\"/>\r\n   </g>\r\n   <g id=\"patch_215\">\r\n    <path clip-path=\"url(#p871e283a94)\" d=\"M 314.400949 224.64 \r\nL 315.685184 224.64 \r\nL 315.685184 203.931429 \r\nL 314.400949 203.931429 \r\nz\r\n\" style=\"fill:#1f77b4;\"/>\r\n   </g>\r\n   <g id=\"patch_216\">\r\n    <path clip-path=\"url(#p871e283a94)\" d=\"M 315.685184 224.64 \r\nL 316.969419 224.64 \r\nL 316.969419 224.64 \r\nL 315.685184 224.64 \r\nz\r\n\" style=\"fill:#1f77b4;\"/>\r\n   </g>\r\n   <g id=\"patch_217\">\r\n    <path clip-path=\"url(#p871e283a94)\" d=\"M 316.969419 224.64 \r\nL 318.253654 224.64 \r\nL 318.253654 224.64 \r\nL 316.969419 224.64 \r\nz\r\n\" style=\"fill:#1f77b4;\"/>\r\n   </g>\r\n   <g id=\"patch_218\">\r\n    <path clip-path=\"url(#p871e283a94)\" d=\"M 318.253654 224.64 \r\nL 319.537888 224.64 \r\nL 319.537888 224.64 \r\nL 318.253654 224.64 \r\nz\r\n\" style=\"fill:#1f77b4;\"/>\r\n   </g>\r\n   <g id=\"patch_219\">\r\n    <path clip-path=\"url(#p871e283a94)\" d=\"M 319.537888 224.64 \r\nL 320.822123 224.64 \r\nL 320.822123 224.64 \r\nL 319.537888 224.64 \r\nz\r\n\" style=\"fill:#1f77b4;\"/>\r\n   </g>\r\n   <g id=\"patch_220\">\r\n    <path clip-path=\"url(#p871e283a94)\" d=\"M 320.822123 224.64 \r\nL 322.106358 224.64 \r\nL 322.106358 224.64 \r\nL 320.822123 224.64 \r\nz\r\n\" style=\"fill:#1f77b4;\"/>\r\n   </g>\r\n   <g id=\"patch_221\">\r\n    <path clip-path=\"url(#p871e283a94)\" d=\"M 322.106358 224.64 \r\nL 323.390593 224.64 \r\nL 323.390593 224.64 \r\nL 322.106358 224.64 \r\nz\r\n\" style=\"fill:#1f77b4;\"/>\r\n   </g>\r\n   <g id=\"patch_222\">\r\n    <path clip-path=\"url(#p871e283a94)\" d=\"M 323.390593 224.64 \r\nL 324.674827 224.64 \r\nL 324.674827 224.64 \r\nL 323.390593 224.64 \r\nz\r\n\" style=\"fill:#1f77b4;\"/>\r\n   </g>\r\n   <g id=\"patch_223\">\r\n    <path clip-path=\"url(#p871e283a94)\" d=\"M 324.674827 224.64 \r\nL 325.959062 224.64 \r\nL 325.959062 224.64 \r\nL 324.674827 224.64 \r\nz\r\n\" style=\"fill:#1f77b4;\"/>\r\n   </g>\r\n   <g id=\"patch_224\">\r\n    <path clip-path=\"url(#p871e283a94)\" d=\"M 325.959062 224.64 \r\nL 327.243297 224.64 \r\nL 327.243297 224.64 \r\nL 325.959062 224.64 \r\nz\r\n\" style=\"fill:#1f77b4;\"/>\r\n   </g>\r\n   <g id=\"patch_225\">\r\n    <path clip-path=\"url(#p871e283a94)\" d=\"M 327.243297 224.64 \r\nL 328.527532 224.64 \r\nL 328.527532 224.64 \r\nL 327.243297 224.64 \r\nz\r\n\" style=\"fill:#1f77b4;\"/>\r\n   </g>\r\n   <g id=\"patch_226\">\r\n    <path clip-path=\"url(#p871e283a94)\" d=\"M 328.527532 224.64 \r\nL 329.811766 224.64 \r\nL 329.811766 224.64 \r\nL 328.527532 224.64 \r\nz\r\n\" style=\"fill:#1f77b4;\"/>\r\n   </g>\r\n   <g id=\"patch_227\">\r\n    <path clip-path=\"url(#p871e283a94)\" d=\"M 329.811766 224.64 \r\nL 331.096001 224.64 \r\nL 331.096001 224.64 \r\nL 329.811766 224.64 \r\nz\r\n\" style=\"fill:#1f77b4;\"/>\r\n   </g>\r\n   <g id=\"patch_228\">\r\n    <path clip-path=\"url(#p871e283a94)\" d=\"M 331.096001 224.64 \r\nL 332.380236 224.64 \r\nL 332.380236 224.64 \r\nL 331.096001 224.64 \r\nz\r\n\" style=\"fill:#1f77b4;\"/>\r\n   </g>\r\n   <g id=\"patch_229\">\r\n    <path clip-path=\"url(#p871e283a94)\" d=\"M 332.380236 224.64 \r\nL 333.664471 224.64 \r\nL 333.664471 224.64 \r\nL 332.380236 224.64 \r\nz\r\n\" style=\"fill:#1f77b4;\"/>\r\n   </g>\r\n   <g id=\"patch_230\">\r\n    <path clip-path=\"url(#p871e283a94)\" d=\"M 333.664471 224.64 \r\nL 334.948705 224.64 \r\nL 334.948705 203.931429 \r\nL 333.664471 203.931429 \r\nz\r\n\" style=\"fill:#1f77b4;\"/>\r\n   </g>\r\n   <g id=\"patch_231\">\r\n    <path clip-path=\"url(#p871e283a94)\" d=\"M 334.948705 224.64 \r\nL 336.23294 224.64 \r\nL 336.23294 224.64 \r\nL 334.948705 224.64 \r\nz\r\n\" style=\"fill:#1f77b4;\"/>\r\n   </g>\r\n   <g id=\"patch_232\">\r\n    <path clip-path=\"url(#p871e283a94)\" d=\"M 336.23294 224.64 \r\nL 337.517175 224.64 \r\nL 337.517175 224.64 \r\nL 336.23294 224.64 \r\nz\r\n\" style=\"fill:#1f77b4;\"/>\r\n   </g>\r\n   <g id=\"patch_233\">\r\n    <path clip-path=\"url(#p871e283a94)\" d=\"M 337.517175 224.64 \r\nL 338.80141 224.64 \r\nL 338.80141 224.64 \r\nL 337.517175 224.64 \r\nz\r\n\" style=\"fill:#1f77b4;\"/>\r\n   </g>\r\n   <g id=\"patch_234\">\r\n    <path clip-path=\"url(#p871e283a94)\" d=\"M 338.80141 224.64 \r\nL 340.085644 224.64 \r\nL 340.085644 224.64 \r\nL 338.80141 224.64 \r\nz\r\n\" style=\"fill:#1f77b4;\"/>\r\n   </g>\r\n   <g id=\"patch_235\">\r\n    <path clip-path=\"url(#p871e283a94)\" d=\"M 340.085644 224.64 \r\nL 341.369879 224.64 \r\nL 341.369879 224.64 \r\nL 340.085644 224.64 \r\nz\r\n\" style=\"fill:#1f77b4;\"/>\r\n   </g>\r\n   <g id=\"patch_236\">\r\n    <path clip-path=\"url(#p871e283a94)\" d=\"M 341.369879 224.64 \r\nL 342.654114 224.64 \r\nL 342.654114 224.64 \r\nL 341.369879 224.64 \r\nz\r\n\" style=\"fill:#1f77b4;\"/>\r\n   </g>\r\n   <g id=\"patch_237\">\r\n    <path clip-path=\"url(#p871e283a94)\" d=\"M 342.654114 224.64 \r\nL 343.938349 224.64 \r\nL 343.938349 224.64 \r\nL 342.654114 224.64 \r\nz\r\n\" style=\"fill:#1f77b4;\"/>\r\n   </g>\r\n   <g id=\"patch_238\">\r\n    <path clip-path=\"url(#p871e283a94)\" d=\"M 343.938349 224.64 \r\nL 345.222583 224.64 \r\nL 345.222583 224.64 \r\nL 343.938349 224.64 \r\nz\r\n\" style=\"fill:#1f77b4;\"/>\r\n   </g>\r\n   <g id=\"patch_239\">\r\n    <path clip-path=\"url(#p871e283a94)\" d=\"M 345.222583 224.64 \r\nL 346.506818 224.64 \r\nL 346.506818 203.931429 \r\nL 345.222583 203.931429 \r\nz\r\n\" style=\"fill:#1f77b4;\"/>\r\n   </g>\r\n   <g id=\"matplotlib.axis_1\">\r\n    <g id=\"xtick_1\">\r\n     <g id=\"line2d_1\">\r\n      <defs>\r\n       <path d=\"M 0 0 \r\nL 0 3.5 \r\n\" id=\"m4fe65fbb07\" style=\"stroke:#000000;stroke-width:0.8;\"/>\r\n      </defs>\r\n      <g>\r\n       <use style=\"stroke:#000000;stroke-width:0.8;\" x=\"42.111906\" xlink:href=\"#m4fe65fbb07\" y=\"224.64\"/>\r\n      </g>\r\n     </g>\r\n     <g id=\"text_1\">\r\n      <!-- 0.000 -->\r\n      <g transform=\"translate(27.797843 239.238437)scale(0.1 -0.1)\">\r\n       <defs>\r\n        <path d=\"M 31.78125 66.40625 \r\nQ 24.171875 66.40625 20.328125 58.90625 \r\nQ 16.5 51.421875 16.5 36.375 \r\nQ 16.5 21.390625 20.328125 13.890625 \r\nQ 24.171875 6.390625 31.78125 6.390625 \r\nQ 39.453125 6.390625 43.28125 13.890625 \r\nQ 47.125 21.390625 47.125 36.375 \r\nQ 47.125 51.421875 43.28125 58.90625 \r\nQ 39.453125 66.40625 31.78125 66.40625 \r\nz\r\nM 31.78125 74.21875 \r\nQ 44.046875 74.21875 50.515625 64.515625 \r\nQ 56.984375 54.828125 56.984375 36.375 \r\nQ 56.984375 17.96875 50.515625 8.265625 \r\nQ 44.046875 -1.421875 31.78125 -1.421875 \r\nQ 19.53125 -1.421875 13.0625 8.265625 \r\nQ 6.59375 17.96875 6.59375 36.375 \r\nQ 6.59375 54.828125 13.0625 64.515625 \r\nQ 19.53125 74.21875 31.78125 74.21875 \r\nz\r\n\" id=\"DejaVuSans-48\"/>\r\n        <path d=\"M 10.6875 12.40625 \r\nL 21 12.40625 \r\nL 21 0 \r\nL 10.6875 0 \r\nz\r\n\" id=\"DejaVuSans-46\"/>\r\n       </defs>\r\n       <use xlink:href=\"#DejaVuSans-48\"/>\r\n       <use x=\"63.623047\" xlink:href=\"#DejaVuSans-46\"/>\r\n       <use x=\"95.410156\" xlink:href=\"#DejaVuSans-48\"/>\r\n       <use x=\"159.033203\" xlink:href=\"#DejaVuSans-48\"/>\r\n       <use x=\"222.65625\" xlink:href=\"#DejaVuSans-48\"/>\r\n      </g>\r\n     </g>\r\n    </g>\r\n    <g id=\"xtick_2\">\r\n     <g id=\"line2d_2\">\r\n      <g>\r\n       <use style=\"stroke:#000000;stroke-width:0.8;\" x=\"107.270537\" xlink:href=\"#m4fe65fbb07\" y=\"224.64\"/>\r\n      </g>\r\n     </g>\r\n     <g id=\"text_2\">\r\n      <!-- 0.001 -->\r\n      <g transform=\"translate(92.956474 239.238437)scale(0.1 -0.1)\">\r\n       <defs>\r\n        <path d=\"M 12.40625 8.296875 \r\nL 28.515625 8.296875 \r\nL 28.515625 63.921875 \r\nL 10.984375 60.40625 \r\nL 10.984375 69.390625 \r\nL 28.421875 72.90625 \r\nL 38.28125 72.90625 \r\nL 38.28125 8.296875 \r\nL 54.390625 8.296875 \r\nL 54.390625 0 \r\nL 12.40625 0 \r\nz\r\n\" id=\"DejaVuSans-49\"/>\r\n       </defs>\r\n       <use xlink:href=\"#DejaVuSans-48\"/>\r\n       <use x=\"63.623047\" xlink:href=\"#DejaVuSans-46\"/>\r\n       <use x=\"95.410156\" xlink:href=\"#DejaVuSans-48\"/>\r\n       <use x=\"159.033203\" xlink:href=\"#DejaVuSans-48\"/>\r\n       <use x=\"222.65625\" xlink:href=\"#DejaVuSans-49\"/>\r\n      </g>\r\n     </g>\r\n    </g>\r\n    <g id=\"xtick_3\">\r\n     <g id=\"line2d_3\">\r\n      <g>\r\n       <use style=\"stroke:#000000;stroke-width:0.8;\" x=\"172.429168\" xlink:href=\"#m4fe65fbb07\" y=\"224.64\"/>\r\n      </g>\r\n     </g>\r\n     <g id=\"text_3\">\r\n      <!-- 0.002 -->\r\n      <g transform=\"translate(158.115105 239.238437)scale(0.1 -0.1)\">\r\n       <defs>\r\n        <path d=\"M 19.1875 8.296875 \r\nL 53.609375 8.296875 \r\nL 53.609375 0 \r\nL 7.328125 0 \r\nL 7.328125 8.296875 \r\nQ 12.9375 14.109375 22.625 23.890625 \r\nQ 32.328125 33.6875 34.8125 36.53125 \r\nQ 39.546875 41.84375 41.421875 45.53125 \r\nQ 43.3125 49.21875 43.3125 52.78125 \r\nQ 43.3125 58.59375 39.234375 62.25 \r\nQ 35.15625 65.921875 28.609375 65.921875 \r\nQ 23.96875 65.921875 18.8125 64.3125 \r\nQ 13.671875 62.703125 7.8125 59.421875 \r\nL 7.8125 69.390625 \r\nQ 13.765625 71.78125 18.9375 73 \r\nQ 24.125 74.21875 28.421875 74.21875 \r\nQ 39.75 74.21875 46.484375 68.546875 \r\nQ 53.21875 62.890625 53.21875 53.421875 \r\nQ 53.21875 48.921875 51.53125 44.890625 \r\nQ 49.859375 40.875 45.40625 35.40625 \r\nQ 44.1875 33.984375 37.640625 27.21875 \r\nQ 31.109375 20.453125 19.1875 8.296875 \r\nz\r\n\" id=\"DejaVuSans-50\"/>\r\n       </defs>\r\n       <use xlink:href=\"#DejaVuSans-48\"/>\r\n       <use x=\"63.623047\" xlink:href=\"#DejaVuSans-46\"/>\r\n       <use x=\"95.410156\" xlink:href=\"#DejaVuSans-48\"/>\r\n       <use x=\"159.033203\" xlink:href=\"#DejaVuSans-48\"/>\r\n       <use x=\"222.65625\" xlink:href=\"#DejaVuSans-50\"/>\r\n      </g>\r\n     </g>\r\n    </g>\r\n    <g id=\"xtick_4\">\r\n     <g id=\"line2d_4\">\r\n      <g>\r\n       <use style=\"stroke:#000000;stroke-width:0.8;\" x=\"237.587799\" xlink:href=\"#m4fe65fbb07\" y=\"224.64\"/>\r\n      </g>\r\n     </g>\r\n     <g id=\"text_4\">\r\n      <!-- 0.003 -->\r\n      <g transform=\"translate(223.273736 239.238437)scale(0.1 -0.1)\">\r\n       <defs>\r\n        <path d=\"M 40.578125 39.3125 \r\nQ 47.65625 37.796875 51.625 33 \r\nQ 55.609375 28.21875 55.609375 21.1875 \r\nQ 55.609375 10.40625 48.1875 4.484375 \r\nQ 40.765625 -1.421875 27.09375 -1.421875 \r\nQ 22.515625 -1.421875 17.65625 -0.515625 \r\nQ 12.796875 0.390625 7.625 2.203125 \r\nL 7.625 11.71875 \r\nQ 11.71875 9.328125 16.59375 8.109375 \r\nQ 21.484375 6.890625 26.8125 6.890625 \r\nQ 36.078125 6.890625 40.9375 10.546875 \r\nQ 45.796875 14.203125 45.796875 21.1875 \r\nQ 45.796875 27.640625 41.28125 31.265625 \r\nQ 36.765625 34.90625 28.71875 34.90625 \r\nL 20.21875 34.90625 \r\nL 20.21875 43.015625 \r\nL 29.109375 43.015625 \r\nQ 36.375 43.015625 40.234375 45.921875 \r\nQ 44.09375 48.828125 44.09375 54.296875 \r\nQ 44.09375 59.90625 40.109375 62.90625 \r\nQ 36.140625 65.921875 28.71875 65.921875 \r\nQ 24.65625 65.921875 20.015625 65.03125 \r\nQ 15.375 64.15625 9.8125 62.3125 \r\nL 9.8125 71.09375 \r\nQ 15.4375 72.65625 20.34375 73.4375 \r\nQ 25.25 74.21875 29.59375 74.21875 \r\nQ 40.828125 74.21875 47.359375 69.109375 \r\nQ 53.90625 64.015625 53.90625 55.328125 \r\nQ 53.90625 49.265625 50.4375 45.09375 \r\nQ 46.96875 40.921875 40.578125 39.3125 \r\nz\r\n\" id=\"DejaVuSans-51\"/>\r\n       </defs>\r\n       <use xlink:href=\"#DejaVuSans-48\"/>\r\n       <use x=\"63.623047\" xlink:href=\"#DejaVuSans-46\"/>\r\n       <use x=\"95.410156\" xlink:href=\"#DejaVuSans-48\"/>\r\n       <use x=\"159.033203\" xlink:href=\"#DejaVuSans-48\"/>\r\n       <use x=\"222.65625\" xlink:href=\"#DejaVuSans-51\"/>\r\n      </g>\r\n     </g>\r\n    </g>\r\n    <g id=\"xtick_5\">\r\n     <g id=\"line2d_5\">\r\n      <g>\r\n       <use style=\"stroke:#000000;stroke-width:0.8;\" x=\"302.74643\" xlink:href=\"#m4fe65fbb07\" y=\"224.64\"/>\r\n      </g>\r\n     </g>\r\n     <g id=\"text_5\">\r\n      <!-- 0.004 -->\r\n      <g transform=\"translate(288.432367 239.238437)scale(0.1 -0.1)\">\r\n       <defs>\r\n        <path d=\"M 37.796875 64.3125 \r\nL 12.890625 25.390625 \r\nL 37.796875 25.390625 \r\nz\r\nM 35.203125 72.90625 \r\nL 47.609375 72.90625 \r\nL 47.609375 25.390625 \r\nL 58.015625 25.390625 \r\nL 58.015625 17.1875 \r\nL 47.609375 17.1875 \r\nL 47.609375 0 \r\nL 37.796875 0 \r\nL 37.796875 17.1875 \r\nL 4.890625 17.1875 \r\nL 4.890625 26.703125 \r\nz\r\n\" id=\"DejaVuSans-52\"/>\r\n       </defs>\r\n       <use xlink:href=\"#DejaVuSans-48\"/>\r\n       <use x=\"63.623047\" xlink:href=\"#DejaVuSans-46\"/>\r\n       <use x=\"95.410156\" xlink:href=\"#DejaVuSans-48\"/>\r\n       <use x=\"159.033203\" xlink:href=\"#DejaVuSans-48\"/>\r\n       <use x=\"222.65625\" xlink:href=\"#DejaVuSans-52\"/>\r\n      </g>\r\n     </g>\r\n    </g>\r\n   </g>\r\n   <g id=\"matplotlib.axis_2\">\r\n    <g id=\"ytick_1\">\r\n     <g id=\"line2d_6\">\r\n      <defs>\r\n       <path d=\"M 0 0 \r\nL -3.5 0 \r\n\" id=\"m982533081d\" style=\"stroke:#000000;stroke-width:0.8;\"/>\r\n      </defs>\r\n      <g>\r\n       <use style=\"stroke:#000000;stroke-width:0.8;\" x=\"26.925\" xlink:href=\"#m982533081d\" y=\"224.64\"/>\r\n      </g>\r\n     </g>\r\n     <g id=\"text_6\">\r\n      <!-- 0 -->\r\n      <g transform=\"translate(13.5625 228.439219)scale(0.1 -0.1)\">\r\n       <use xlink:href=\"#DejaVuSans-48\"/>\r\n      </g>\r\n     </g>\r\n    </g>\r\n    <g id=\"ytick_2\">\r\n     <g id=\"line2d_7\">\r\n      <g>\r\n       <use style=\"stroke:#000000;stroke-width:0.8;\" x=\"26.925\" xlink:href=\"#m982533081d\" y=\"183.222857\"/>\r\n      </g>\r\n     </g>\r\n     <g id=\"text_7\">\r\n      <!-- 2 -->\r\n      <g transform=\"translate(13.5625 187.022076)scale(0.1 -0.1)\">\r\n       <use xlink:href=\"#DejaVuSans-50\"/>\r\n      </g>\r\n     </g>\r\n    </g>\r\n    <g id=\"ytick_3\">\r\n     <g id=\"line2d_8\">\r\n      <g>\r\n       <use style=\"stroke:#000000;stroke-width:0.8;\" x=\"26.925\" xlink:href=\"#m982533081d\" y=\"141.805714\"/>\r\n      </g>\r\n     </g>\r\n     <g id=\"text_8\">\r\n      <!-- 4 -->\r\n      <g transform=\"translate(13.5625 145.604933)scale(0.1 -0.1)\">\r\n       <use xlink:href=\"#DejaVuSans-52\"/>\r\n      </g>\r\n     </g>\r\n    </g>\r\n    <g id=\"ytick_4\">\r\n     <g id=\"line2d_9\">\r\n      <g>\r\n       <use style=\"stroke:#000000;stroke-width:0.8;\" x=\"26.925\" xlink:href=\"#m982533081d\" y=\"100.388571\"/>\r\n      </g>\r\n     </g>\r\n     <g id=\"text_9\">\r\n      <!-- 6 -->\r\n      <g transform=\"translate(13.5625 104.18779)scale(0.1 -0.1)\">\r\n       <defs>\r\n        <path d=\"M 33.015625 40.375 \r\nQ 26.375 40.375 22.484375 35.828125 \r\nQ 18.609375 31.296875 18.609375 23.390625 \r\nQ 18.609375 15.53125 22.484375 10.953125 \r\nQ 26.375 6.390625 33.015625 6.390625 \r\nQ 39.65625 6.390625 43.53125 10.953125 \r\nQ 47.40625 15.53125 47.40625 23.390625 \r\nQ 47.40625 31.296875 43.53125 35.828125 \r\nQ 39.65625 40.375 33.015625 40.375 \r\nz\r\nM 52.59375 71.296875 \r\nL 52.59375 62.3125 \r\nQ 48.875 64.0625 45.09375 64.984375 \r\nQ 41.3125 65.921875 37.59375 65.921875 \r\nQ 27.828125 65.921875 22.671875 59.328125 \r\nQ 17.53125 52.734375 16.796875 39.40625 \r\nQ 19.671875 43.65625 24.015625 45.921875 \r\nQ 28.375 48.1875 33.59375 48.1875 \r\nQ 44.578125 48.1875 50.953125 41.515625 \r\nQ 57.328125 34.859375 57.328125 23.390625 \r\nQ 57.328125 12.15625 50.6875 5.359375 \r\nQ 44.046875 -1.421875 33.015625 -1.421875 \r\nQ 20.359375 -1.421875 13.671875 8.265625 \r\nQ 6.984375 17.96875 6.984375 36.375 \r\nQ 6.984375 53.65625 15.1875 63.9375 \r\nQ 23.390625 74.21875 37.203125 74.21875 \r\nQ 40.921875 74.21875 44.703125 73.484375 \r\nQ 48.484375 72.75 52.59375 71.296875 \r\nz\r\n\" id=\"DejaVuSans-54\"/>\r\n       </defs>\r\n       <use xlink:href=\"#DejaVuSans-54\"/>\r\n      </g>\r\n     </g>\r\n    </g>\r\n    <g id=\"ytick_5\">\r\n     <g id=\"line2d_10\">\r\n      <g>\r\n       <use style=\"stroke:#000000;stroke-width:0.8;\" x=\"26.925\" xlink:href=\"#m982533081d\" y=\"58.971429\"/>\r\n      </g>\r\n     </g>\r\n     <g id=\"text_10\">\r\n      <!-- 8 -->\r\n      <g transform=\"translate(13.5625 62.770647)scale(0.1 -0.1)\">\r\n       <defs>\r\n        <path d=\"M 31.78125 34.625 \r\nQ 24.75 34.625 20.71875 30.859375 \r\nQ 16.703125 27.09375 16.703125 20.515625 \r\nQ 16.703125 13.921875 20.71875 10.15625 \r\nQ 24.75 6.390625 31.78125 6.390625 \r\nQ 38.8125 6.390625 42.859375 10.171875 \r\nQ 46.921875 13.96875 46.921875 20.515625 \r\nQ 46.921875 27.09375 42.890625 30.859375 \r\nQ 38.875 34.625 31.78125 34.625 \r\nz\r\nM 21.921875 38.8125 \r\nQ 15.578125 40.375 12.03125 44.71875 \r\nQ 8.5 49.078125 8.5 55.328125 \r\nQ 8.5 64.0625 14.71875 69.140625 \r\nQ 20.953125 74.21875 31.78125 74.21875 \r\nQ 42.671875 74.21875 48.875 69.140625 \r\nQ 55.078125 64.0625 55.078125 55.328125 \r\nQ 55.078125 49.078125 51.53125 44.71875 \r\nQ 48 40.375 41.703125 38.8125 \r\nQ 48.828125 37.15625 52.796875 32.3125 \r\nQ 56.78125 27.484375 56.78125 20.515625 \r\nQ 56.78125 9.90625 50.3125 4.234375 \r\nQ 43.84375 -1.421875 31.78125 -1.421875 \r\nQ 19.734375 -1.421875 13.25 4.234375 \r\nQ 6.78125 9.90625 6.78125 20.515625 \r\nQ 6.78125 27.484375 10.78125 32.3125 \r\nQ 14.796875 37.15625 21.921875 38.8125 \r\nz\r\nM 18.3125 54.390625 \r\nQ 18.3125 48.734375 21.84375 45.5625 \r\nQ 25.390625 42.390625 31.78125 42.390625 \r\nQ 38.140625 42.390625 41.71875 45.5625 \r\nQ 45.3125 48.734375 45.3125 54.390625 \r\nQ 45.3125 60.0625 41.71875 63.234375 \r\nQ 38.140625 66.40625 31.78125 66.40625 \r\nQ 25.390625 66.40625 21.84375 63.234375 \r\nQ 18.3125 60.0625 18.3125 54.390625 \r\nz\r\n\" id=\"DejaVuSans-56\"/>\r\n       </defs>\r\n       <use xlink:href=\"#DejaVuSans-56\"/>\r\n      </g>\r\n     </g>\r\n    </g>\r\n    <g id=\"ytick_6\">\r\n     <g id=\"line2d_11\">\r\n      <g>\r\n       <use style=\"stroke:#000000;stroke-width:0.8;\" x=\"26.925\" xlink:href=\"#m982533081d\" y=\"17.554286\"/>\r\n      </g>\r\n     </g>\r\n     <g id=\"text_11\">\r\n      <!-- 10 -->\r\n      <g transform=\"translate(7.2 21.353504)scale(0.1 -0.1)\">\r\n       <use xlink:href=\"#DejaVuSans-49\"/>\r\n       <use x=\"63.623047\" xlink:href=\"#DejaVuSans-48\"/>\r\n      </g>\r\n     </g>\r\n    </g>\r\n   </g>\r\n   <g id=\"line2d_12\">\r\n    <path clip-path=\"url(#p871e283a94)\" d=\"M 346.506818 224.64 \r\nL 346.506818 7.2 \r\n\" style=\"fill:none;stroke:#ff0000;stroke-dasharray:5.55,2.4;stroke-dashoffset:0;stroke-width:1.5;\"/>\r\n   </g>\r\n   <g id=\"line2d_13\">\r\n    <path clip-path=\"url(#p871e283a94)\" d=\"M 42.143182 224.64 \r\nL 42.143182 7.2 \r\n\" style=\"fill:none;stroke:#008000;stroke-dasharray:5.55,2.4;stroke-dashoffset:0;stroke-width:1.5;\"/>\r\n   </g>\r\n   <g id=\"patch_240\">\r\n    <path d=\"M 26.925 224.64 \r\nL 26.925 7.2 \r\n\" style=\"fill:none;stroke:#000000;stroke-linecap:square;stroke-linejoin:miter;stroke-width:0.8;\"/>\r\n   </g>\r\n   <g id=\"patch_241\">\r\n    <path d=\"M 361.725 224.64 \r\nL 361.725 7.2 \r\n\" style=\"fill:none;stroke:#000000;stroke-linecap:square;stroke-linejoin:miter;stroke-width:0.8;\"/>\r\n   </g>\r\n   <g id=\"patch_242\">\r\n    <path d=\"M 26.925 224.64 \r\nL 361.725 224.64 \r\n\" style=\"fill:none;stroke:#000000;stroke-linecap:square;stroke-linejoin:miter;stroke-width:0.8;\"/>\r\n   </g>\r\n   <g id=\"patch_243\">\r\n    <path d=\"M 26.925 7.2 \r\nL 361.725 7.2 \r\n\" style=\"fill:none;stroke:#000000;stroke-linecap:square;stroke-linejoin:miter;stroke-width:0.8;\"/>\r\n   </g>\r\n  </g>\r\n </g>\r\n <defs>\r\n  <clipPath id=\"p871e283a94\">\r\n   <rect height=\"217.44\" width=\"334.8\" x=\"26.925\" y=\"7.2\"/>\r\n  </clipPath>\r\n </defs>\r\n</svg>\r\n",
      "image/png": "[encoded data removed]"
     },
     "metadata": {
      "needs_background": "light"
     }
    }
   ],
   "source": [
    "plt.figure()\n",
    "plt.hist(importances_more_zero[COLUMN].values, bins = len(importances_more_zero))\n",
    "plt.axvline(np.percentile(importances_more_zero[COLUMN].values, UP), ls = '--', color = 'red')\n",
    "plt.axvline(np.percentile(importances_more_zero[COLUMN].values, DOWN), ls = '--', color = 'green')\n",
    "plt.show()"
   ]
  },
  {
   "cell_type": "code",
   "execution_count": 88,
   "metadata": {},
   "outputs": [
    {
     "output_type": "execute_result",
     "data": {
      "text/plain": [
       "(4.800005927508709e-07, 0.004671597726559708)"
      ]
     },
     "metadata": {},
     "execution_count": 88
    }
   ],
   "source": [
    "up_limit = np.percentile(importances_more_zero[COLUMN].values, UP)\n",
    "bot_limit = np.percentile(importances_more_zero[COLUMN].values, DOWN)\n",
    "bot_limit, up_limit"
   ]
  },
  {
   "cell_type": "code",
   "execution_count": 89,
   "metadata": {},
   "outputs": [
    {
     "output_type": "execute_result",
     "data": {
      "text/plain": [
       "235"
      ]
     },
     "metadata": {},
     "execution_count": 89
    }
   ],
   "source": [
    "mask = (importances_more_zero[COLUMN] < up_limit) & (importances_more_zero[COLUMN] > bot_limit)\n",
    "IMPORTANT_FEATURES = importances_more_zero[mask].index.tolist()\n",
    "len(IMPORTANT_FEATURES)"
   ]
  },
  {
   "cell_type": "code",
   "execution_count": 81,
   "metadata": {},
   "outputs": [],
   "source": [
    "scr_0 = 0.2\n",
    "scr_1 = 0.4"
   ]
  },
  {
   "cell_type": "code",
   "execution_count": 82,
   "metadata": {},
   "outputs": [],
   "source": [
    "imp = -scr_1 + scr_0"
   ]
  },
  {
   "cell_type": "code",
   "execution_count": 84,
   "metadata": {},
   "outputs": [
    {
     "output_type": "execute_result",
     "data": {
      "text/plain": [
       "-0.2"
      ]
     },
     "metadata": {},
     "execution_count": 84
    }
   ],
   "source": [
    "imp"
   ]
  },
  {
   "cell_type": "code",
   "execution_count": 83,
   "metadata": {},
   "outputs": [
    {
     "output_type": "execute_result",
     "data": {
      "text/plain": [
       "-0.33333333333333337"
      ]
     },
     "metadata": {},
     "execution_count": 83
    }
   ],
   "source": [
    "imp/(1.-scr_1)"
   ]
  },
  {
   "cell_type": "code",
   "execution_count": 74,
   "metadata": {},
   "outputs": [
    {
     "output_type": "execute_result",
     "data": {
      "text/plain": [
       "1.1"
      ]
     },
     "metadata": {},
     "execution_count": 74
    }
   ],
   "source": [
    "(1.-scr_1)"
   ]
  },
  {
   "cell_type": "code",
   "execution_count": null,
   "metadata": {},
   "outputs": [],
   "source": []
  }
 ],
 "metadata": {
  "kernelspec": {
   "name": "python3",
   "display_name": "Python 3.9.0 64-bit",
   "metadata": {
    "interpreter": {
     "hash": "ee5cc6fef2d70a7e71ee3826687cbd150f18158e0b1eef11d4f4f92bb920e304"
    }
   }
  },
  "language_info": {
   "codemirror_mode": {
    "name": "ipython",
    "version": 3
   },
   "file_extension": ".py",
   "mimetype": "text/x-python",
   "name": "python",
   "nbconvert_exporter": "python",
   "pygments_lexer": "ipython3",
   "version": "3.9.0-final"
  },
  "orig_nbformat": 2
 },
 "nbformat": 4,
 "nbformat_minor": 2
}