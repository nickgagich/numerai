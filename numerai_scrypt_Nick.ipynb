{
 "cells": [
  {
   "cell_type": "code",
   "execution_count": 1,
   "metadata": {},
   "outputs": [],
   "source": [
    "import pandas as pd\n",
    "import numpy as np\n",
    "import numerapi\n",
    "import sklearn.linear_model\n",
    "import matplotlib.pylab as plt\n",
    "\n",
    "from datetime import timedelta\n",
    "import tqdm"
   ]
  },
  {
   "cell_type": "code",
   "execution_count": 2,
   "metadata": {},
   "outputs": [],
   "source": [
    "# The models should be scored based on the rank-correlation (spearman) with the target\n",
    "def numerai_score(y_true, y_pred):\n",
    "    rank_pred = y_pred.groupby(eras).apply(lambda x: x.rank(pct=True, method=\"first\"))\n",
    "    return np.corrcoef(y_true, rank_pred)[0,1]\n",
    "\n",
    "# It can also be convenient while working to evaluate based on the regular (pearson) correlation\n",
    "def correlation_score(y_true, y_pred):\n",
    "    return np.corrcoef(y_true, y_pred)[0,1]"
   ]
  },
  {
   "cell_type": "code",
   "execution_count": 3,
   "metadata": {},
   "outputs": [
    {
     "name": "stdout",
     "output_type": "stream",
     "text": [
      "Wall time: 24.2 s\n"
     ]
    },
    {
     "data": {
      "text/html": [
       "<div>\n",
       "<style scoped>\n",
       "    .dataframe tbody tr th:only-of-type {\n",
       "        vertical-align: middle;\n",
       "    }\n",
       "\n",
       "    .dataframe tbody tr th {\n",
       "        vertical-align: top;\n",
       "    }\n",
       "\n",
       "    .dataframe thead th {\n",
       "        text-align: right;\n",
       "    }\n",
       "</style>\n",
       "<table border=\"1\" class=\"dataframe\">\n",
       "  <thead>\n",
       "    <tr style=\"text-align: right;\">\n",
       "      <th></th>\n",
       "      <th>id</th>\n",
       "      <th>era</th>\n",
       "      <th>data_type</th>\n",
       "      <th>feature_intelligence1</th>\n",
       "      <th>feature_intelligence2</th>\n",
       "      <th>feature_intelligence3</th>\n",
       "      <th>feature_intelligence4</th>\n",
       "      <th>feature_intelligence5</th>\n",
       "      <th>feature_intelligence6</th>\n",
       "      <th>feature_intelligence7</th>\n",
       "      <th>...</th>\n",
       "      <th>feature_wisdom38</th>\n",
       "      <th>feature_wisdom39</th>\n",
       "      <th>feature_wisdom40</th>\n",
       "      <th>feature_wisdom41</th>\n",
       "      <th>feature_wisdom42</th>\n",
       "      <th>feature_wisdom43</th>\n",
       "      <th>feature_wisdom44</th>\n",
       "      <th>feature_wisdom45</th>\n",
       "      <th>feature_wisdom46</th>\n",
       "      <th>target</th>\n",
       "    </tr>\n",
       "  </thead>\n",
       "  <tbody>\n",
       "    <tr>\n",
       "      <th>0</th>\n",
       "      <td>n000315175b67977</td>\n",
       "      <td>era1</td>\n",
       "      <td>train</td>\n",
       "      <td>0.00</td>\n",
       "      <td>0.50</td>\n",
       "      <td>0.25</td>\n",
       "      <td>0.00</td>\n",
       "      <td>0.5</td>\n",
       "      <td>0.25</td>\n",
       "      <td>0.25</td>\n",
       "      <td>...</td>\n",
       "      <td>1.00</td>\n",
       "      <td>1.00</td>\n",
       "      <td>0.75</td>\n",
       "      <td>0.50</td>\n",
       "      <td>0.75</td>\n",
       "      <td>0.50</td>\n",
       "      <td>1.00</td>\n",
       "      <td>0.50</td>\n",
       "      <td>0.75</td>\n",
       "      <td>0.50</td>\n",
       "    </tr>\n",
       "    <tr>\n",
       "      <th>1</th>\n",
       "      <td>n0014af834a96cdd</td>\n",
       "      <td>era1</td>\n",
       "      <td>train</td>\n",
       "      <td>0.00</td>\n",
       "      <td>0.00</td>\n",
       "      <td>0.00</td>\n",
       "      <td>0.25</td>\n",
       "      <td>0.5</td>\n",
       "      <td>0.00</td>\n",
       "      <td>0.00</td>\n",
       "      <td>...</td>\n",
       "      <td>1.00</td>\n",
       "      <td>1.00</td>\n",
       "      <td>0.00</td>\n",
       "      <td>0.00</td>\n",
       "      <td>0.75</td>\n",
       "      <td>0.25</td>\n",
       "      <td>0.00</td>\n",
       "      <td>0.25</td>\n",
       "      <td>1.00</td>\n",
       "      <td>0.25</td>\n",
       "    </tr>\n",
       "    <tr>\n",
       "      <th>2</th>\n",
       "      <td>n001c93979ac41d4</td>\n",
       "      <td>era1</td>\n",
       "      <td>train</td>\n",
       "      <td>0.25</td>\n",
       "      <td>0.50</td>\n",
       "      <td>0.25</td>\n",
       "      <td>0.25</td>\n",
       "      <td>1.0</td>\n",
       "      <td>0.75</td>\n",
       "      <td>0.75</td>\n",
       "      <td>...</td>\n",
       "      <td>0.25</td>\n",
       "      <td>0.50</td>\n",
       "      <td>0.00</td>\n",
       "      <td>0.00</td>\n",
       "      <td>0.50</td>\n",
       "      <td>1.00</td>\n",
       "      <td>0.00</td>\n",
       "      <td>0.25</td>\n",
       "      <td>0.75</td>\n",
       "      <td>0.25</td>\n",
       "    </tr>\n",
       "    <tr>\n",
       "      <th>3</th>\n",
       "      <td>n0034e4143f22a13</td>\n",
       "      <td>era1</td>\n",
       "      <td>train</td>\n",
       "      <td>1.00</td>\n",
       "      <td>0.00</td>\n",
       "      <td>0.00</td>\n",
       "      <td>0.50</td>\n",
       "      <td>0.5</td>\n",
       "      <td>0.25</td>\n",
       "      <td>0.25</td>\n",
       "      <td>...</td>\n",
       "      <td>1.00</td>\n",
       "      <td>1.00</td>\n",
       "      <td>0.75</td>\n",
       "      <td>0.75</td>\n",
       "      <td>1.00</td>\n",
       "      <td>1.00</td>\n",
       "      <td>0.75</td>\n",
       "      <td>1.00</td>\n",
       "      <td>1.00</td>\n",
       "      <td>0.25</td>\n",
       "    </tr>\n",
       "    <tr>\n",
       "      <th>4</th>\n",
       "      <td>n00679d1a636062f</td>\n",
       "      <td>era1</td>\n",
       "      <td>train</td>\n",
       "      <td>0.25</td>\n",
       "      <td>0.25</td>\n",
       "      <td>0.25</td>\n",
       "      <td>0.25</td>\n",
       "      <td>0.0</td>\n",
       "      <td>0.25</td>\n",
       "      <td>0.50</td>\n",
       "      <td>...</td>\n",
       "      <td>0.75</td>\n",
       "      <td>0.75</td>\n",
       "      <td>0.25</td>\n",
       "      <td>0.50</td>\n",
       "      <td>0.75</td>\n",
       "      <td>0.00</td>\n",
       "      <td>0.50</td>\n",
       "      <td>0.25</td>\n",
       "      <td>0.75</td>\n",
       "      <td>0.75</td>\n",
       "    </tr>\n",
       "  </tbody>\n",
       "</table>\n",
       "<p>5 rows × 314 columns</p>\n",
       "</div>"
      ],
      "text/plain": [
       "                 id   era data_type  feature_intelligence1  \\\n",
       "0  n000315175b67977  era1     train                   0.00   \n",
       "1  n0014af834a96cdd  era1     train                   0.00   \n",
       "2  n001c93979ac41d4  era1     train                   0.25   \n",
       "3  n0034e4143f22a13  era1     train                   1.00   \n",
       "4  n00679d1a636062f  era1     train                   0.25   \n",
       "\n",
       "   feature_intelligence2  feature_intelligence3  feature_intelligence4  \\\n",
       "0                   0.50                   0.25                   0.00   \n",
       "1                   0.00                   0.00                   0.25   \n",
       "2                   0.50                   0.25                   0.25   \n",
       "3                   0.00                   0.00                   0.50   \n",
       "4                   0.25                   0.25                   0.25   \n",
       "\n",
       "   feature_intelligence5  feature_intelligence6  feature_intelligence7  ...  \\\n",
       "0                    0.5                   0.25                   0.25  ...   \n",
       "1                    0.5                   0.00                   0.00  ...   \n",
       "2                    1.0                   0.75                   0.75  ...   \n",
       "3                    0.5                   0.25                   0.25  ...   \n",
       "4                    0.0                   0.25                   0.50  ...   \n",
       "\n",
       "   feature_wisdom38  feature_wisdom39  feature_wisdom40  feature_wisdom41  \\\n",
       "0              1.00              1.00              0.75              0.50   \n",
       "1              1.00              1.00              0.00              0.00   \n",
       "2              0.25              0.50              0.00              0.00   \n",
       "3              1.00              1.00              0.75              0.75   \n",
       "4              0.75              0.75              0.25              0.50   \n",
       "\n",
       "   feature_wisdom42  feature_wisdom43  feature_wisdom44  feature_wisdom45  \\\n",
       "0              0.75              0.50              1.00              0.50   \n",
       "1              0.75              0.25              0.00              0.25   \n",
       "2              0.50              1.00              0.00              0.25   \n",
       "3              1.00              1.00              0.75              1.00   \n",
       "4              0.75              0.00              0.50              0.25   \n",
       "\n",
       "   feature_wisdom46  target  \n",
       "0              0.75    0.50  \n",
       "1              1.00    0.25  \n",
       "2              0.75    0.25  \n",
       "3              1.00    0.25  \n",
       "4              0.75    0.75  \n",
       "\n",
       "[5 rows x 314 columns]"
      ]
     },
     "execution_count": 3,
     "metadata": {},
     "output_type": "execute_result"
    }
   ],
   "source": [
    "%%time\n",
    "training_data = pd.read_csv(\"https://numerai-public-datasets.s3-us-west-2.amazonaws.com/latest_numerai_training_data.csv.xz\")\n",
    "training_data.head()"
   ]
  },
  {
   "cell_type": "code",
   "execution_count": 4,
   "metadata": {},
   "outputs": [
    {
     "data": {
      "text/html": [
       "<div>\n",
       "<style scoped>\n",
       "    .dataframe tbody tr th:only-of-type {\n",
       "        vertical-align: middle;\n",
       "    }\n",
       "\n",
       "    .dataframe tbody tr th {\n",
       "        vertical-align: top;\n",
       "    }\n",
       "\n",
       "    .dataframe thead th {\n",
       "        text-align: right;\n",
       "    }\n",
       "</style>\n",
       "<table border=\"1\" class=\"dataframe\">\n",
       "  <thead>\n",
       "    <tr style=\"text-align: right;\">\n",
       "      <th></th>\n",
       "      <th>id</th>\n",
       "      <th>era</th>\n",
       "      <th>data_type</th>\n",
       "      <th>feature_intelligence1</th>\n",
       "      <th>feature_intelligence2</th>\n",
       "      <th>feature_intelligence3</th>\n",
       "      <th>feature_intelligence4</th>\n",
       "      <th>feature_intelligence5</th>\n",
       "      <th>feature_intelligence6</th>\n",
       "      <th>feature_intelligence7</th>\n",
       "      <th>...</th>\n",
       "      <th>feature_wisdom38</th>\n",
       "      <th>feature_wisdom39</th>\n",
       "      <th>feature_wisdom40</th>\n",
       "      <th>feature_wisdom41</th>\n",
       "      <th>feature_wisdom42</th>\n",
       "      <th>feature_wisdom43</th>\n",
       "      <th>feature_wisdom44</th>\n",
       "      <th>feature_wisdom45</th>\n",
       "      <th>feature_wisdom46</th>\n",
       "      <th>target</th>\n",
       "    </tr>\n",
       "  </thead>\n",
       "  <tbody>\n",
       "    <tr>\n",
       "      <th>0</th>\n",
       "      <td>n0003aa52cab36c2</td>\n",
       "      <td>era121</td>\n",
       "      <td>validation</td>\n",
       "      <td>0.25</td>\n",
       "      <td>0.75</td>\n",
       "      <td>0.50</td>\n",
       "      <td>0.50</td>\n",
       "      <td>0.0</td>\n",
       "      <td>0.75</td>\n",
       "      <td>0.5</td>\n",
       "      <td>...</td>\n",
       "      <td>0.75</td>\n",
       "      <td>0.75</td>\n",
       "      <td>1.00</td>\n",
       "      <td>0.75</td>\n",
       "      <td>0.50</td>\n",
       "      <td>0.5</td>\n",
       "      <td>1.0</td>\n",
       "      <td>0.00</td>\n",
       "      <td>0.00</td>\n",
       "      <td>0.25</td>\n",
       "    </tr>\n",
       "    <tr>\n",
       "      <th>1</th>\n",
       "      <td>n000920ed083903f</td>\n",
       "      <td>era121</td>\n",
       "      <td>validation</td>\n",
       "      <td>0.75</td>\n",
       "      <td>0.50</td>\n",
       "      <td>0.75</td>\n",
       "      <td>1.00</td>\n",
       "      <td>0.5</td>\n",
       "      <td>0.00</td>\n",
       "      <td>0.0</td>\n",
       "      <td>...</td>\n",
       "      <td>0.50</td>\n",
       "      <td>0.50</td>\n",
       "      <td>0.75</td>\n",
       "      <td>1.00</td>\n",
       "      <td>0.75</td>\n",
       "      <td>0.5</td>\n",
       "      <td>0.5</td>\n",
       "      <td>0.50</td>\n",
       "      <td>0.50</td>\n",
       "      <td>0.50</td>\n",
       "    </tr>\n",
       "    <tr>\n",
       "      <th>2</th>\n",
       "      <td>n0038e640522c4a6</td>\n",
       "      <td>era121</td>\n",
       "      <td>validation</td>\n",
       "      <td>1.00</td>\n",
       "      <td>0.00</td>\n",
       "      <td>0.00</td>\n",
       "      <td>1.00</td>\n",
       "      <td>1.0</td>\n",
       "      <td>1.00</td>\n",
       "      <td>1.0</td>\n",
       "      <td>...</td>\n",
       "      <td>0.00</td>\n",
       "      <td>0.00</td>\n",
       "      <td>0.50</td>\n",
       "      <td>0.25</td>\n",
       "      <td>0.00</td>\n",
       "      <td>0.0</td>\n",
       "      <td>0.5</td>\n",
       "      <td>0.50</td>\n",
       "      <td>0.00</td>\n",
       "      <td>1.00</td>\n",
       "    </tr>\n",
       "    <tr>\n",
       "      <th>3</th>\n",
       "      <td>n004ac94a87dc54b</td>\n",
       "      <td>era121</td>\n",
       "      <td>validation</td>\n",
       "      <td>0.75</td>\n",
       "      <td>1.00</td>\n",
       "      <td>1.00</td>\n",
       "      <td>0.50</td>\n",
       "      <td>0.0</td>\n",
       "      <td>0.00</td>\n",
       "      <td>0.0</td>\n",
       "      <td>...</td>\n",
       "      <td>0.00</td>\n",
       "      <td>0.00</td>\n",
       "      <td>0.00</td>\n",
       "      <td>0.25</td>\n",
       "      <td>0.00</td>\n",
       "      <td>0.0</td>\n",
       "      <td>0.0</td>\n",
       "      <td>0.25</td>\n",
       "      <td>0.25</td>\n",
       "      <td>0.50</td>\n",
       "    </tr>\n",
       "    <tr>\n",
       "      <th>4</th>\n",
       "      <td>n0052fe97ea0c05f</td>\n",
       "      <td>era121</td>\n",
       "      <td>validation</td>\n",
       "      <td>0.25</td>\n",
       "      <td>0.50</td>\n",
       "      <td>0.50</td>\n",
       "      <td>0.25</td>\n",
       "      <td>1.0</td>\n",
       "      <td>0.50</td>\n",
       "      <td>0.5</td>\n",
       "      <td>...</td>\n",
       "      <td>0.50</td>\n",
       "      <td>0.75</td>\n",
       "      <td>0.00</td>\n",
       "      <td>0.00</td>\n",
       "      <td>0.75</td>\n",
       "      <td>1.0</td>\n",
       "      <td>0.0</td>\n",
       "      <td>0.25</td>\n",
       "      <td>1.00</td>\n",
       "      <td>0.75</td>\n",
       "    </tr>\n",
       "  </tbody>\n",
       "</table>\n",
       "<p>5 rows × 314 columns</p>\n",
       "</div>"
      ],
      "text/plain": [
       "                 id     era   data_type  feature_intelligence1  \\\n",
       "0  n0003aa52cab36c2  era121  validation                   0.25   \n",
       "1  n000920ed083903f  era121  validation                   0.75   \n",
       "2  n0038e640522c4a6  era121  validation                   1.00   \n",
       "3  n004ac94a87dc54b  era121  validation                   0.75   \n",
       "4  n0052fe97ea0c05f  era121  validation                   0.25   \n",
       "\n",
       "   feature_intelligence2  feature_intelligence3  feature_intelligence4  \\\n",
       "0                   0.75                   0.50                   0.50   \n",
       "1                   0.50                   0.75                   1.00   \n",
       "2                   0.00                   0.00                   1.00   \n",
       "3                   1.00                   1.00                   0.50   \n",
       "4                   0.50                   0.50                   0.25   \n",
       "\n",
       "   feature_intelligence5  feature_intelligence6  feature_intelligence7  ...  \\\n",
       "0                    0.0                   0.75                    0.5  ...   \n",
       "1                    0.5                   0.00                    0.0  ...   \n",
       "2                    1.0                   1.00                    1.0  ...   \n",
       "3                    0.0                   0.00                    0.0  ...   \n",
       "4                    1.0                   0.50                    0.5  ...   \n",
       "\n",
       "   feature_wisdom38  feature_wisdom39  feature_wisdom40  feature_wisdom41  \\\n",
       "0              0.75              0.75              1.00              0.75   \n",
       "1              0.50              0.50              0.75              1.00   \n",
       "2              0.00              0.00              0.50              0.25   \n",
       "3              0.00              0.00              0.00              0.25   \n",
       "4              0.50              0.75              0.00              0.00   \n",
       "\n",
       "   feature_wisdom42  feature_wisdom43  feature_wisdom44  feature_wisdom45  \\\n",
       "0              0.50               0.5               1.0              0.00   \n",
       "1              0.75               0.5               0.5              0.50   \n",
       "2              0.00               0.0               0.5              0.50   \n",
       "3              0.00               0.0               0.0              0.25   \n",
       "4              0.75               1.0               0.0              0.25   \n",
       "\n",
       "   feature_wisdom46  target  \n",
       "0              0.00    0.25  \n",
       "1              0.50    0.50  \n",
       "2              0.00    1.00  \n",
       "3              0.25    0.50  \n",
       "4              1.00    0.75  \n",
       "\n",
       "[5 rows x 314 columns]"
      ]
     },
     "execution_count": 4,
     "metadata": {},
     "output_type": "execute_result"
    }
   ],
   "source": [
    "# download the latest tournament dataset (takes around 30s)\n",
    "tournament_data = pd.read_csv(\"https://numerai-public-datasets.s3-us-west-2.amazonaws.com/latest_numerai_tournament_data.csv.xz\")\n",
    "tournament_data.head()"
   ]
  },
  {
   "cell_type": "code",
   "execution_count": 5,
   "metadata": {},
   "outputs": [],
   "source": [
    "# find only the feature columns\n",
    "feature_cols = training_data.columns[training_data.columns.str.startswith('feature')]"
   ]
  },
  {
   "cell_type": "code",
   "execution_count": 6,
   "metadata": {},
   "outputs": [],
   "source": [
    "# select those columns out of the training dataset\n",
    "training_features = training_data[feature_cols]"
   ]
  },
  {
   "cell_type": "code",
   "execution_count": 7,
   "metadata": {},
   "outputs": [],
   "source": [
    "target = training_data['target']"
   ]
  },
  {
   "cell_type": "code",
   "execution_count": 42,
   "metadata": {},
   "outputs": [],
   "source": [
    "eras = training_data['era']\n",
    "eras_live = tournament_data['era']"
   ]
  },
  {
   "cell_type": "code",
   "execution_count": 9,
   "metadata": {
    "tags": []
   },
   "outputs": [],
   "source": [
    "N_ERAS_IN_FOLD = 12\n",
    "N_FOLDS = int(len(eras.unique()) / N_ERAS_IN_FOLD)\n",
    "\n",
    "eras2_binned = []\n",
    "current_era = 1\n",
    "thresh_era_limit = N_ERAS_IN_FOLD\n",
    "for era in eras:\n",
    "    era_num = int(era.split('era')[-1])\n",
    "    if era_num <= thresh_era_limit:\n",
    "        eras2_binned.append(current_era)\n",
    "    else:\n",
    "        current_era += 1\n",
    "        thresh_era_limit += N_ERAS_IN_FOLD\n",
    "        eras2_binned.append(current_era)"
   ]
  },
  {
   "cell_type": "code",
   "execution_count": 10,
   "metadata": {},
   "outputs": [],
   "source": [
    "validation_ids = tournament_data.data_type=='validation'"
   ]
  },
  {
   "cell_type": "markdown",
   "metadata": {},
   "source": [
    "### Feature importance"
   ]
  },
  {
   "cell_type": "code",
   "execution_count": 11,
   "metadata": {},
   "outputs": [],
   "source": [
    "from sklearn.linear_model import RidgeClassifier\n",
    "\n",
    "from sklearn.metrics import log_loss, accuracy_score\n",
    "from sklearn import model_selection\n",
    "\n",
    "from scipy.cluster.hierarchy import linkage, fcluster\n",
    "from itertools import product"
   ]
  },
  {
   "cell_type": "code",
   "execution_count": 12,
   "metadata": {},
   "outputs": [],
   "source": [
    "from sklearn import model_selection\n",
    "from sklearn import metrics\n",
    "from sklearn.preprocessing import LabelEncoder\n",
    "from sklearn.metrics import classification_report"
   ]
  },
  {
   "cell_type": "code",
   "execution_count": 13,
   "metadata": {},
   "outputs": [],
   "source": [
    "REFERENCES = [0.0, 0.25, 0.5, 0.75, 1.0]"
   ]
  },
  {
   "cell_type": "code",
   "execution_count": 14,
   "metadata": {},
   "outputs": [],
   "source": [
    "def get_base_model(cw = {0: 1,\n",
    "                          1: 1.1,\n",
    "                          2: 1,\n",
    "                          3: 1.1,\n",
    "                          4: 1\n",
    "                        }):\n",
    "    return RidgeClassifier(alpha = 1, \n",
    "                           class_weight = cw\n",
    "                                    )\n",
    "    \n",
    "def ridge_classifier_2single_prediction(model, X, temperature = 1.0):\n",
    "    try:\n",
    "        predictions_proba_mean = model.decision_function(X)\n",
    "    except:\n",
    "        predictions_proba_mean = model.predict_proba(X)\n",
    "    predictions = np.argmax(predictions_proba_mean, axis=1)\n",
    "    predictions_proba = np.array([np.exp(di / temperature) / np.sum(np.exp(di / temperature)) for di in predictions_proba_mean])\n",
    "    single_score_predictions = np.array(\n",
    "            [\n",
    "                sum(REFERENCES[i] * x[i] for i in range(len(REFERENCES))) for x in predictions_proba\n",
    "            ]\n",
    "        )\n",
    "\n",
    "    return single_score_predictions\n",
    "\n",
    "def train_model(X_train, Y_train, model = None):\n",
    "    if model == None:\n",
    "        model_i = get_base_model()\n",
    "    else:\n",
    "        model_i = model\n",
    "    model_i.fit(X_train, Y_train)\n",
    "    return model_i\n",
    "\n",
    "def calculate_score(train_data, predictions, eras):\n",
    "\n",
    "    ns = numerai_score(train_data, pd.Series(predictions))\n",
    "    cs = correlation_score(train_data, pd.Series(predictions))\n",
    "\n",
    "    df2 = pd.DataFrame(\n",
    "        {\n",
    "            \"era\": eras,\n",
    "            \"preds\": predictions,\n",
    "            \"target\": train_data\n",
    "        }\n",
    "    )\n",
    "\n",
    "    scores_per_era = df2.groupby(\"era\").apply(lambda d: np.corrcoef(d[\"preds\"], d[\"target\"])[0,1])\n",
    "\n",
    "    per_era_score, per_era_std = scores_per_era.mean(), scores_per_era.std()\n",
    "    sharpe_era_score = scores_per_era.mean() / scores_per_era.std()\n",
    "    return ns, cs, per_era_score, per_era_std, sharpe_era_score\n",
    "\n",
    "\n",
    "def ridge2probas(model, X, temperature = 1.0):\n",
    "    try:\n",
    "        predictions_proba_mean = model.decision_function(X)\n",
    "    except:\n",
    "        predictions_proba_mean = model.predict_proba(X)\n",
    "    predictions = np.argmax(predictions_proba_mean, axis=1)\n",
    "    predictions_proba = np.array([np.exp(di / temperature) / np.sum(np.exp(di / temperature)) for di in predictions_proba_mean])\n",
    "    return predictions_proba\n",
    "\n",
    "def softmax2singlescore(predictions_proba):\n",
    "    single_score_predictions = np.array(\n",
    "            [\n",
    "                sum(REFERENCES[i] * x[i] for i in range(len(REFERENCES))) for x in predictions_proba\n",
    "            ]\n",
    "        )\n",
    "\n",
    "    return single_score_predictions"
   ]
  },
  {
   "cell_type": "markdown",
   "metadata": {},
   "source": [
    "# Baseline"
   ]
  },
  {
   "cell_type": "code",
   "execution_count": 15,
   "metadata": {},
   "outputs": [],
   "source": [
    "validation_ids = tournament_data.data_type=='validation'\n",
    "tournament_data = tournament_data[validation_ids]"
   ]
  },
  {
   "cell_type": "code",
   "execution_count": 16,
   "metadata": {},
   "outputs": [],
   "source": [
    "le = LabelEncoder()\n",
    "\n",
    "X = training_features\n",
    "Y = le.fit_transform(target)\n",
    "Y_nmr = target"
   ]
  },
  {
   "cell_type": "code",
   "execution_count": 17,
   "metadata": {},
   "outputs": [],
   "source": [
    "X_test = tournament_data[feature_cols]\n",
    "Y_test = le.fit_transform(tournament_data.target)\n",
    "Y_nmr_test = tournament_data.target\n",
    "test_eras = tournament_data.era"
   ]
  },
  {
   "cell_type": "code",
   "execution_count": 18,
   "metadata": {},
   "outputs": [],
   "source": [
    "clf = get_base_model()\n",
    "clf.fit(X, Y)\n",
    "pred_c = clf.predict(X_test)\n",
    "pred = ridge_classifier_2single_prediction(clf, X_test)"
   ]
  },
  {
   "cell_type": "code",
   "execution_count": 19,
   "metadata": {},
   "outputs": [
    {
     "name": "stdout",
     "output_type": "stream",
     "text": [
      "              precision    recall  f1-score   support\n",
      "\n",
      "           0       0.00      0.00      0.00         0\n",
      "           1       0.01      0.23      0.01       709\n",
      "           2       0.99      0.50      0.67    135810\n",
      "           3       0.01      0.23      0.02      1260\n",
      "           4       0.00      0.00      0.00         0\n",
      "\n",
      "    accuracy                           0.50    137779\n",
      "   macro avg       0.20      0.19      0.14    137779\n",
      "weighted avg       0.98      0.50      0.66    137779\n",
      "\n"
     ]
    },
    {
     "name": "stderr",
     "output_type": "stream",
     "text": [
      "C:\\Users\\ws-111\\anaconda3\\lib\\site-packages\\sklearn\\metrics\\_classification.py:1221: UndefinedMetricWarning: Recall and F-score are ill-defined and being set to 0.0 in labels with no true samples. Use `zero_division` parameter to control this behavior.\n",
      "  _warn_prf(average, modifier, msg_start, len(result))\n"
     ]
    }
   ],
   "source": [
    "print(classification_report(pred_c, Y_test))"
   ]
  },
  {
   "cell_type": "code",
   "execution_count": 20,
   "metadata": {},
   "outputs": [
    {
     "data": {
      "image/png": "[encoded data removed]",
      "text/plain": [
       "<Figure size 432x288 with 1 Axes>"
      ]
     },
     "metadata": {
      "needs_background": "light"
     },
     "output_type": "display_data"
    }
   ],
   "source": [
    "plt.figure()\n",
    "plt.hist(Y_test, alpha = 0.25)\n",
    "plt.hist(pred_c, alpha = 0.25)\n",
    "plt.show()"
   ]
  },
  {
   "cell_type": "code",
   "execution_count": 21,
   "metadata": {},
   "outputs": [
    {
     "data": {
      "image/png": "[encoded data removed]",
      "text/plain": [
       "<Figure size 432x288 with 1 Axes>"
      ]
     },
     "metadata": {
      "needs_background": "light"
     },
     "output_type": "display_data"
    },
    {
     "name": "stdout",
     "output_type": "stream",
     "text": [
      "corr_spearman    = 0.016\n",
      "corr_pearson     = 0.015\n",
      "per_era_avg_corr = 0.016\n",
      "per_era_std_corr = 0.031\n",
      "sharpe_era_corr  = 0.51\n"
     ]
    }
   ],
   "source": [
    "ns_bs = numerai_score(Y_nmr_test, pd.Series(pred))\n",
    "cs_bs = correlation_score(Y_nmr_test, pd.Series(pred))\n",
    "\n",
    "df2 = pd.DataFrame(\n",
    "    {\n",
    "        \"era\": test_eras,\n",
    "        \"preds\": pred,\n",
    "        \"target\": Y_nmr_test\n",
    "    }\n",
    ")\n",
    "\n",
    "scores_per_era_bs = df2.groupby(\"era\").apply(lambda d: np.corrcoef(d[\"preds\"], d[\"target\"])[0,1])\n",
    "\n",
    "per_era_score, per_era_std = scores_per_era_bs.mean(), scores_per_era_bs.std()\n",
    "sharpe_era_score = scores_per_era_bs.mean() / scores_per_era_bs.std()\n",
    "\n",
    "plt.figure()\n",
    "plt.plot(scores_per_era_bs.values, color = 'black')\n",
    "plt.axhline(0.0, ls = '--', color = 'grey')\n",
    "plt.show()\n",
    "print('corr_spearman    = {}'.format(round(ns_bs, 3)))\n",
    "print('corr_pearson     = {}'.format(round(cs_bs, 3)))\n",
    "print('per_era_avg_corr = {}'.format(round(per_era_score, 3)))\n",
    "print('per_era_std_corr = {}'.format(round(per_era_std, 3)))\n",
    "print('sharpe_era_corr  = {}'.format(round(sharpe_era_score, 3)))"
   ]
  },
  {
   "cell_type": "code",
   "execution_count": 22,
   "metadata": {},
   "outputs": [],
   "source": [
    "def featImpMDA(X, y, cv, eras_groups):\n",
    "\n",
    "    cvGen = model_selection.GroupKFold(cv)\n",
    "    X_old = X.copy()\n",
    "    scr0,scr1=pd.Series(), pd.DataFrame(columns=X.columns)\n",
    "\n",
    "    for i, (train,test) in tqdm.tqdm(enumerate(cvGen.split(X=X, groups = eras_groups))):\n",
    "\n",
    "\n",
    "        X0, y0 = X.iloc[train, :], y[train]\n",
    "        X1, y1 = X.iloc[test, :], y[test] \n",
    "        # eras_test = pd.Series(eras2_binned).iloc[test]\n",
    "        eras_test = pd.Series(eras_groups).iloc[test]\n",
    "\n",
    "        clf = get_base_model()\n",
    "        clf.fit(X=X0,y=y0)\n",
    "        y1 = le.inverse_transform(y1)\n",
    "\n",
    "        # pred = fit.predict(X1)\n",
    "        pred = ridge_classifier_2single_prediction(clf, X1)\n",
    "\n",
    "        # scr0.loc[i]=correlation_score(y1,pred)\n",
    "        sharpes_metrics = calculate_score(y1, pred, eras_test)\n",
    "        scr0.loc[i] = sharpes_metrics[0]\n",
    "\n",
    "        for j in X.columns:\n",
    "\n",
    "            X1_ = X1.copy(deep=True)\n",
    "            np.random.shuffle(X1_[j].values) # permutation of a single column\n",
    "\n",
    "            pred_shuffled = ridge_classifier_2single_prediction(clf, X1_)\n",
    "\n",
    "            # scr1.loc[i,j]=correlation_score(y1,pred_shuffled)\n",
    "            sharpes_metrics_shuffled = calculate_score(y1, pred_shuffled, eras_test)\n",
    "            scr1.loc[i,j] = sharpes_metrics_shuffled[0]\n",
    "\n",
    "    imp=(-scr1).add(scr0,axis=0)\n",
    "    imp=imp/(1.-scr1)\n",
    "    imp=pd.concat({'mean':imp.mean(),'std':imp.std()*imp.shape[0]**-.5},axis=1)\n",
    "    return imp,scr0.mean()"
   ]
  },
  {
   "cell_type": "markdown",
   "metadata": {},
   "source": [
    "## Selecting importances features"
   ]
  },
  {
   "cell_type": "code",
   "execution_count": 23,
   "metadata": {},
   "outputs": [],
   "source": [
    "X_FOR_FEATURE_IMPORTANCE = X[:int(len(X)/2)]\n",
    "Y_FOR_FEATURE_IMPORTANCE = Y[:int(len(Y)/2)]\n",
    "ERAS_FOR_FI = eras2_binned[:int(len(eras2_binned)/2)]"
   ]
  },
  {
   "cell_type": "code",
   "execution_count": 24,
   "metadata": {},
   "outputs": [
    {
     "name": "stderr",
     "output_type": "stream",
     "text": [
      "<ipython-input-22-9c60892d4745>:5: DeprecationWarning: The default dtype for empty Series will be 'object' instead of 'float64' in a future version. Specify a dtype explicitly to silence this warning.\n",
      "  scr0,scr1=pd.Series(), pd.DataFrame(columns=X.columns)\n",
      "5it [17:48, 213.63s/it]\n"
     ]
    }
   ],
   "source": [
    "importances, oos = featImpMDA(X=X_FOR_FEATURE_IMPORTANCE, \n",
    "                               y=Y_FOR_FEATURE_IMPORTANCE,\n",
    "                               cv = 5,\n",
    "                               eras_groups = ERAS_FOR_FI)"
   ]
  },
  {
   "cell_type": "code",
   "execution_count": 25,
   "metadata": {},
   "outputs": [
    {
     "data": {
      "text/html": [
       "<div>\n",
       "<style scoped>\n",
       "    .dataframe tbody tr th:only-of-type {\n",
       "        vertical-align: middle;\n",
       "    }\n",
       "\n",
       "    .dataframe tbody tr th {\n",
       "        vertical-align: top;\n",
       "    }\n",
       "\n",
       "    .dataframe thead th {\n",
       "        text-align: right;\n",
       "    }\n",
       "</style>\n",
       "<table border=\"1\" class=\"dataframe\">\n",
       "  <thead>\n",
       "    <tr style=\"text-align: right;\">\n",
       "      <th></th>\n",
       "      <th>mean</th>\n",
       "      <th>std</th>\n",
       "    </tr>\n",
       "  </thead>\n",
       "  <tbody>\n",
       "    <tr>\n",
       "      <th>feature_intelligence1</th>\n",
       "      <td>0.001620</td>\n",
       "      <td>0.000724</td>\n",
       "    </tr>\n",
       "    <tr>\n",
       "      <th>feature_intelligence2</th>\n",
       "      <td>0.003957</td>\n",
       "      <td>0.001808</td>\n",
       "    </tr>\n",
       "    <tr>\n",
       "      <th>feature_intelligence3</th>\n",
       "      <td>0.001750</td>\n",
       "      <td>0.000910</td>\n",
       "    </tr>\n",
       "    <tr>\n",
       "      <th>feature_intelligence4</th>\n",
       "      <td>0.001140</td>\n",
       "      <td>0.000280</td>\n",
       "    </tr>\n",
       "    <tr>\n",
       "      <th>feature_intelligence5</th>\n",
       "      <td>0.000086</td>\n",
       "      <td>0.000313</td>\n",
       "    </tr>\n",
       "    <tr>\n",
       "      <th>...</th>\n",
       "      <td>...</td>\n",
       "      <td>...</td>\n",
       "    </tr>\n",
       "    <tr>\n",
       "      <th>feature_wisdom42</th>\n",
       "      <td>0.000155</td>\n",
       "      <td>0.000171</td>\n",
       "    </tr>\n",
       "    <tr>\n",
       "      <th>feature_wisdom43</th>\n",
       "      <td>0.000337</td>\n",
       "      <td>0.000134</td>\n",
       "    </tr>\n",
       "    <tr>\n",
       "      <th>feature_wisdom44</th>\n",
       "      <td>0.000229</td>\n",
       "      <td>0.000194</td>\n",
       "    </tr>\n",
       "    <tr>\n",
       "      <th>feature_wisdom45</th>\n",
       "      <td>0.000871</td>\n",
       "      <td>0.000404</td>\n",
       "    </tr>\n",
       "    <tr>\n",
       "      <th>feature_wisdom46</th>\n",
       "      <td>0.000548</td>\n",
       "      <td>0.000380</td>\n",
       "    </tr>\n",
       "  </tbody>\n",
       "</table>\n",
       "<p>310 rows × 2 columns</p>\n",
       "</div>"
      ],
      "text/plain": [
       "                           mean       std\n",
       "feature_intelligence1  0.001620  0.000724\n",
       "feature_intelligence2  0.003957  0.001808\n",
       "feature_intelligence3  0.001750  0.000910\n",
       "feature_intelligence4  0.001140  0.000280\n",
       "feature_intelligence5  0.000086  0.000313\n",
       "...                         ...       ...\n",
       "feature_wisdom42       0.000155  0.000171\n",
       "feature_wisdom43       0.000337  0.000134\n",
       "feature_wisdom44       0.000229  0.000194\n",
       "feature_wisdom45       0.000871  0.000404\n",
       "feature_wisdom46       0.000548  0.000380\n",
       "\n",
       "[310 rows x 2 columns]"
      ]
     },
     "execution_count": 25,
     "metadata": {},
     "output_type": "execute_result"
    }
   ],
   "source": [
    "importances"
   ]
  },
  {
   "cell_type": "code",
   "execution_count": 26,
   "metadata": {},
   "outputs": [],
   "source": [
    "# importances_more_zero = importances[importances['mean'] - importances['std']  > 0]\n",
    "# importances_more_zero['mean_std_diff'] = importances_more_zero['mean'] - importances_more_zero['std']\n",
    "importances_more_zero = importances[importances['mean']  > 0]\n",
    "# importances_more_zero = importances.sort_values('mean')[::-1]"
   ]
  },
  {
   "cell_type": "code",
   "execution_count": 27,
   "metadata": {},
   "outputs": [],
   "source": [
    "DOWN, UP = 0, 100\n",
    "COLUMN = 'mean'"
   ]
  },
  {
   "cell_type": "code",
   "execution_count": 28,
   "metadata": {},
   "outputs": [
    {
     "data": {
      "image/png": "[encoded data removed]",
      "text/plain": [
       "<Figure size 432x288 with 1 Axes>"
      ]
     },
     "metadata": {
      "needs_background": "light"
     },
     "output_type": "display_data"
    }
   ],
   "source": [
    "plt.figure()\n",
    "plt.hist(importances_more_zero[COLUMN].values, bins = len(importances_more_zero))\n",
    "plt.axvline(np.percentile(importances_more_zero[COLUMN].values, UP), ls = '--', color = 'red')\n",
    "plt.axvline(np.percentile(importances_more_zero[COLUMN].values, DOWN), ls = '--', color = 'green')\n",
    "plt.show()"
   ]
  },
  {
   "cell_type": "code",
   "execution_count": 29,
   "metadata": {},
   "outputs": [
    {
     "data": {
      "text/plain": [
       "(7.802147126553675e-07, 0.004283005385524822)"
      ]
     },
     "execution_count": 29,
     "metadata": {},
     "output_type": "execute_result"
    }
   ],
   "source": [
    "up_limit = np.percentile(importances_more_zero[COLUMN].values, UP)\n",
    "bot_limit = np.percentile(importances_more_zero[COLUMN].values, DOWN)\n",
    "bot_limit, up_limit"
   ]
  },
  {
   "cell_type": "code",
   "execution_count": 30,
   "metadata": {},
   "outputs": [
    {
     "data": {
      "text/plain": [
       "230"
      ]
     },
     "execution_count": 30,
     "metadata": {},
     "output_type": "execute_result"
    }
   ],
   "source": [
    "mask = (importances_more_zero[COLUMN] < up_limit) & (importances_more_zero[COLUMN] > bot_limit)\n",
    "IMPORTANT_FEATURES = importances_more_zero[mask].index.tolist()\n",
    "len(IMPORTANT_FEATURES)"
   ]
  },
  {
   "cell_type": "markdown",
   "metadata": {},
   "source": [
    "# Re-Balance the Class Weights"
   ]
  },
  {
   "cell_type": "code",
   "execution_count": 53,
   "metadata": {},
   "outputs": [],
   "source": [
    "X_FOR_CV = X[int(len(X)/2):]\n",
    "Y_FOR_CV = Y[int(len(Y)/2):]\n",
    "\n",
    "ERAS_CV = training_data[int(len(training_data)/2):].era\n",
    "ERAS_CV = ERAS_CV.apply(lambda x: 'era' + str(int(x[3:])-63))\n",
    "Y_NMR_CV = Y_nmr[int(len(Y_nmr)/2):]"
   ]
  },
  {
   "cell_type": "code",
   "execution_count": 54,
   "metadata": {},
   "outputs": [],
   "source": [
    "model_t = get_base_model(cw = 'balanced'\n",
    "#         cw = {\n",
    "#             0: 1,\n",
    "#             1: 1.1,\n",
    "#             2: 1,\n",
    "#             3: 1.1,\n",
    "#             4: 1\n",
    "#         }\n",
    "    )\n",
    "model_t = train_model(X_FOR_CV[IMPORTANT_FEATURES], Y_FOR_CV, model_t)\n",
    "pred = model_t.predict(X_FOR_CV[IMPORTANT_FEATURES])"
   ]
  },
  {
   "cell_type": "code",
   "execution_count": 55,
   "metadata": {},
   "outputs": [
    {
     "data": {
      "text/plain": [
       "array([2, 4, 0, ..., 4, 2, 4], dtype=int64)"
      ]
     },
     "execution_count": 55,
     "metadata": {},
     "output_type": "execute_result"
    }
   ],
   "source": [
    "pred"
   ]
  },
  {
   "cell_type": "code",
   "execution_count": 57,
   "metadata": {},
   "outputs": [
    {
     "name": "stdout",
     "output_type": "stream",
     "text": [
      "              precision    recall  f1-score   support\n",
      "\n",
      "           0       0.39      0.10      0.16     47217\n",
      "           1       0.08      0.24      0.12     16850\n",
      "           2       0.58      0.60      0.59    121794\n",
      "           3       0.07      0.24      0.11     14862\n",
      "           4       0.41      0.10      0.16     50181\n",
      "\n",
      "    accuracy                           0.36    250904\n",
      "   macro avg       0.31      0.26      0.23    250904\n",
      "weighted avg       0.45      0.36      0.36    250904\n",
      "\n"
     ]
    }
   ],
   "source": [
    "print(classification_report(pred, Y_FOR_CV))"
   ]
  },
  {
   "cell_type": "code",
   "execution_count": 58,
   "metadata": {},
   "outputs": [
    {
     "data": {
      "image/png": "[encoded data removed]",
      "text/plain": [
       "<Figure size 432x288 with 1 Axes>"
      ]
     },
     "metadata": {
      "needs_background": "light"
     },
     "output_type": "display_data"
    }
   ],
   "source": [
    "plt.figure()\n",
    "plt.hist(Y_FOR_CV, alpha = 0.25)\n",
    "plt.hist(pred, alpha = 0.25)\n",
    "plt.show()"
   ]
  },
  {
   "cell_type": "markdown",
   "metadata": {},
   "source": [
    "# Cross-validation"
   ]
  },
  {
   "cell_type": "code",
   "execution_count": 36,
   "metadata": {},
   "outputs": [],
   "source": [
    "class PurgeCVByEras(model_selection.BaseCrossValidator):\n",
    "\n",
    "    def __init__(self, eras, n_eras_train, n_eras_test, embargo, era_prefix = 'era'):\n",
    "        self.eras = eras\n",
    "        self.n_eras = len(eras.unique())\n",
    "        self.era_prefix = era_prefix\n",
    "        self.n_eras_train = n_eras_train\n",
    "        self.n_eras_test = n_eras_test\n",
    "        self.embargo = embargo\n",
    "\n",
    "    def get_indices_of_era(self, era):\n",
    "        era_str = self.era_prefix + str(era)\n",
    "        return self.eras.index[self.eras == era_str].tolist()\n",
    "\n",
    "    def split(self, X=None, y=None, groups=None):\n",
    "        for i in range(0, self.n_eras, (self.n_eras_train + self.n_eras_test + self.embargo)):\n",
    "            train_eras = [i+n for n in range(self.n_eras_train)]\n",
    "            test_eras = [i+m+self.n_eras_train+self.embargo for m in range(self.n_eras_test)]\n",
    "            train_indices = []\n",
    "\n",
    "            test_limit = 0\n",
    "            if max(train_eras) >= self.n_eras:\n",
    "                break\n",
    "            elif max(test_eras) >= self.n_eras:\n",
    "                max_index = test_eras.index(max(test_eras))\n",
    "                test_eras = test_eras[:max_index]\n",
    "\n",
    "            for e in train_eras:\n",
    "                e_indices = self.get_indices_of_era(e)\n",
    "                train_indices.extend(e_indices)\n",
    "\n",
    "            test_indices = []\n",
    "            for e in test_eras:\n",
    "                e_indices = self.get_indices_of_era(e)\n",
    "                test_indices.extend(e_indices)\n",
    "\n",
    "            yield(train_indices, test_indices)    \n",
    "\n",
    "    def get_n_splits(self):\n",
    "        return len(range(0, self.n_eras, (self.n_eras_train + self.n_eras_test + self.embargo)))"
   ]
  },
  {
   "cell_type": "code",
   "execution_count": 37,
   "metadata": {},
   "outputs": [],
   "source": [
    "class BlockingTimeSeriesSplit():\n",
    "\n",
    "    def __init__(self, n_splits):\n",
    "        self.n_splits = n_splits\n",
    "    \n",
    "    def get_n_splits(self, X, y, groups):\n",
    "        return self.n_splits\n",
    "    \n",
    "    def split(self, X, y=None, groups=None):\n",
    "        n_samples = len(X)\n",
    "        k_fold_size = n_samples // self.n_splits\n",
    "        indices = np.arange(n_samples)\n",
    "\n",
    "        margin = 0\n",
    "        for i in range(self.n_splits):\n",
    "            start = i * k_fold_size\n",
    "            stop = start + k_fold_size\n",
    "            mid = int(0.5 * (stop - start)) + start\n",
    "            yield indices[start: mid], indices[mid + margin: stop]"
   ]
  },
  {
   "cell_type": "code",
   "execution_count": 38,
   "metadata": {},
   "outputs": [],
   "source": [
    "from sklearn.decomposition import PCA"
   ]
  },
  {
   "cell_type": "code",
   "execution_count": 39,
   "metadata": {},
   "outputs": [],
   "source": [
    "from catboost import CatBoostClassifier, Pool, cv"
   ]
  },
  {
   "cell_type": "code",
   "execution_count": 40,
   "metadata": {},
   "outputs": [],
   "source": [
    "alpha, beta = 1, 1 # scaling of the tanh function (the higher - the most \"rough\")\n",
    "def temperature_function(x, alpha=alpha, beta=beta, mi=0.01, ma=10):\n",
    "    return np.clip(alpha * -np.tanh(x * beta) + 1, mi, ma)\n",
    "\n",
    "def train_meta_labeler(X, Y_proba, Y_target):\n",
    "    meta_labels = np.array(\n",
    "          [p == t for p, t in zip(np.argmax(Y_proba, axis=1), Y_target)], dtype = np.int16\n",
    "      )\n",
    "    model_meta = CatBoostClassifier(\n",
    "          custom_loss=['Logloss'],\n",
    "          random_seed=42,\n",
    "          iterations = 25,\n",
    "          logging_level = 'Silent'\n",
    "      )\n",
    "    model_meta.fit(\n",
    "        X, meta_labels\n",
    "    )\n",
    "    meta_predictions = model_meta.predict(X)\n",
    "    meta_predictions_proba = model_meta.predict_proba(X)\n",
    "    mean_meta_prob = np.mean(meta_predictions_proba[:, 1])\n",
    "    return model_meta, mean_meta_prob\n",
    "\n",
    "def normal_labels_to_meta_labels(predictions_proba_live, predictions_proba_live_meta, mean_meta_prob):\n",
    "    predictions_proba_live_comb = []\n",
    "    for pred_proba_live, pred_proba_live_meta in zip(predictions_proba_live, predictions_proba_live_meta[:, 1]):\n",
    "        x = pred_proba_live_meta - mean_meta_prob\n",
    "        temperature = temperature_function(x) # calculation of the trust temperature\n",
    "        res = np.exp(pred_proba_live / temperature) / np.sum(np.exp(pred_proba_live / temperature)) # rescaling to sum up to 1.0\n",
    "        predictions_proba_live_comb.append(res)\n",
    "    predictions_proba_live_comb = np.array(predictions_proba_live_comb)\n",
    "    return predictions_proba_live_comb"
   ]
  },
  {
   "cell_type": "code",
   "execution_count": 81,
   "metadata": {},
   "outputs": [],
   "source": [
    "X_train = X[int(len(X)*0.8):]\n",
    "X_test = X[:int(len(X)*0.8)]\n",
    "Y_train = Y[int(len(Y)*0.8):]\n",
    "Y_test = Y[:int(len(Y)*0.8)]\n",
    "\n",
    "\n",
    "model_i = get_base_model(cw = {\n",
    "                        0: 1,\n",
    "                        1: 1.1,\n",
    "                        2: 1,\n",
    "                        3: 1.1,\n",
    "                        4: 1\n",
    "                    })\n",
    "model_i = train_model(X_train, Y_train, model_i)\n",
    "single_score_predictions = ridge_classifier_2single_prediction(model_i, X_test)\n",
    "Y_proba = model_i.decision_function(X_train)\n",
    "\n",
    "\n",
    "meta_labels = np.array(\n",
    "      [p == t for p, t in zip(np.argmax(Y_proba, axis=1), Y_train)], dtype = np.int16\n",
    "  )\n",
    "model_meta = CatBoostClassifier(\n",
    "      custom_loss=['Logloss'],\n",
    "      random_seed=42,\n",
    "      iterations = 25,\n",
    "      logging_level = 'Silent'\n",
    "  )\n",
    "model_meta.fit(\n",
    "    X_train, meta_labels\n",
    ")\n",
    "meta_predictions = model_meta.predict(X_test)\n",
    "meta_predictions_proba = model_meta.predict_proba(X_test)\n",
    "mean_meta_prob = np.mean(meta_predictions_proba[:, 1])\n",
    "\n",
    "\n",
    "meta_labels = model_meta.predict_proba(X_test)\n",
    "pred_proba = ridge2probas(model_i, X_test)\n",
    "\n",
    "xs = []\n",
    "temp = []\n",
    "predictions_proba_live_comb = []\n",
    "for pred_proba_live, pred_proba_live_meta in zip(pred_proba, meta_labels[:, 1]):\n",
    "    x = pred_proba_live_meta - mean_meta_prob\n",
    "    temperature = temperature_function(x) # calculation of the trust temperature\n",
    "    res = np.exp(pred_proba_live / temperature) / np.sum(np.exp(pred_proba_live / temperature)) # rescaling to sum up to 1.0\n",
    "    predictions_proba_live_comb.append(res)\n",
    "    xs.append(x)\n",
    "    temp.append(temperature)\n",
    "predictions_proba_live_comb = np.array(predictions_proba_live_comb)\n",
    "single_score_predictions = softmax2singlescore(predictions_proba_live_comb)"
   ]
  },
  {
   "cell_type": "code",
   "execution_count": null,
   "metadata": {},
   "outputs": [],
   "source": [
    "def cross_validate(cross_validator, X, Y, Y_nmr, eras, meta = True):\n",
    "\n",
    "    all_sharpes = []\n",
    "    for train_ids, test_ids in cross_validator.split(X, Y, groups = eras):\n",
    "\n",
    "\n",
    "        X_train, X_test = X.values[train_ids], X.values[test_ids]\n",
    "        Y_train, Y_test = Y[train_ids], Y[test_ids]\n",
    "        eras_train, eras_test = eras.values[train_ids], eras.values[test_ids]\n",
    "\n",
    "        pca = PCA(0.999)\n",
    "        X_train = pca.fit_transform(X_train)\n",
    "        X_test = pca.transform(X_test)\n",
    "\n",
    "        model_i = get_base_model(cw = {\n",
    "                                    0: 1,\n",
    "                                    1: 1.1,\n",
    "                                    2: 1,\n",
    "                                    3: 1.1,\n",
    "                                    4: 1\n",
    "                                })\n",
    "        model_i = train_model(X_train, Y_train, model_i)\n",
    "        single_score_predictions = ridge_classifier_2single_prediction(model_i, X_test)\n",
    "\n",
    "        if meta:\n",
    "          \n",
    "            Y_prob = model_i.decision_function(X_train)\n",
    "            model_meta, mean_meta_prob = train_meta_labeler(X_train, Y_prob, Y_train)\n",
    "            meta_labels = model_meta.predict_proba(X_test)\n",
    "            pred_proba = ridge2probas(model_i, X_test)\n",
    "\n",
    "            predictions_proba_live_comb = []\n",
    "            for pred_proba_live, pred_proba_live_meta in zip(pred_proba, meta_labels[:, 1]):\n",
    "                x = pred_proba_live_meta - mean_meta_prob\n",
    "                temperature = temperature_function(x) # calculation of the trust temperature\n",
    "                res = np.exp(pred_proba_live / temperature) / np.sum(np.exp(pred_proba_live / temperature)) # rescaling to sum up to 1.0\n",
    "                predictions_proba_live_comb.append(res)\n",
    "            predictions_proba_live_comb = np.array(predictions_proba_live_comb)\n",
    "            single_score_predictions = softmax2singlescore(predictions_proba_live_comb)\n",
    "\n",
    "        sharpe = calculate_score(\n",
    "            train_data = Y_nmr[test_ids], \n",
    "            predictions = single_score_predictions,\n",
    "            eras = eras_test)\n",
    "\n",
    "        all_sharpes.append(sharpe)\n",
    "\n",
    "    return np.array(all_sharpes)"
   ]
  },
  {
   "cell_type": "markdown",
   "metadata": {},
   "source": [
    "### Посмотреть на функцию temperature_function(x) как она работает"
   ]
  },
  {
   "cell_type": "code",
   "execution_count": 85,
   "metadata": {},
   "outputs": [
    {
     "data": {
      "text/plain": [
       "True"
      ]
     },
     "execution_count": 85,
     "metadata": {},
     "output_type": "execute_result"
    }
   ],
   "source": [
    "len(xs) == len(temp)"
   ]
  },
  {
   "cell_type": "code",
   "execution_count": 89,
   "metadata": {},
   "outputs": [],
   "source": [
    "from matplotlib.pyplot import plot"
   ]
  },
  {
   "cell_type": "code",
   "execution_count": 93,
   "metadata": {},
   "outputs": [],
   "source": [
    "x = np.arange(-1, 1, 0.1)\n",
    "y = temperature_function(np.arange(-1, 1, 0.1))"
   ]
  },
  {
   "cell_type": "code",
   "execution_count": 94,
   "metadata": {},
   "outputs": [
    {
     "data": {
      "text/plain": [
       "[<matplotlib.lines.Line2D at 0x1aa57fb0280>]"
      ]
     },
     "execution_count": 94,
     "metadata": {},
     "output_type": "execute_result"
    },
    {
     "data": {
      "image/png": "[encoded data removed]",
      "text/plain": [
       "<Figure size 432x288 with 1 Axes>"
      ]
     },
     "metadata": {
      "needs_background": "light"
     },
     "output_type": "display_data"
    }
   ],
   "source": [
    "plot(x, y)"
   ]
  },
  {
   "cell_type": "code",
   "execution_count": 103,
   "metadata": {},
   "outputs": [
    {
     "data": {
      "text/plain": [
       "array([0.18661576, 0.19471216, 0.23834934, 0.19300807, 0.18731467])"
      ]
     },
     "execution_count": 103,
     "metadata": {},
     "output_type": "execute_result"
    }
   ],
   "source": [
    "np.exp(pred_proba_live / temperature_function(-0.5)) / np.sum(np.exp(pred_proba_live / temperature_function(-0.5)))"
   ]
  },
  {
   "cell_type": "code",
   "execution_count": 105,
   "metadata": {},
   "outputs": [
    {
     "data": {
      "text/plain": [
       "array([0.18017549, 0.19171854, 0.25767276, 0.18927024, 0.18116297])"
      ]
     },
     "execution_count": 105,
     "metadata": {},
     "output_type": "execute_result"
    }
   ],
   "source": [
    "np.exp(pred_proba_live / temperature_function(0)) / np.sum(np.exp(pred_proba_live / temperature_function(0)))"
   ]
  },
  {
   "cell_type": "markdown",
   "metadata": {},
   "source": [
    "### Когда вероятность того что мы будем правы выше среднего -  вероятности высокие повышаются а низкие занижаются. Когда вероятность того что мы будем правы ниже среднего - вероятности низкие повышаются а высокие занижаются."
   ]
  },
  {
   "cell_type": "code",
   "execution_count": null,
   "metadata": {},
   "outputs": [],
   "source": []
  }
 ],
 "metadata": {
  "kernelspec": {
   "display_name": "Python 3",
   "language": "python",
   "name": "python3"
  },
  "language_info": {
   "codemirror_mode": {
    "name": "ipython",
    "version": 3
   },
   "file_extension": ".py",
   "mimetype": "text/x-python",
   "name": "python",
   "nbconvert_exporter": "python",
   "pygments_lexer": "ipython3",
   "version": "3.8.5"
  }
 },
 "nbformat": 4,
 "nbformat_minor": 4
}
