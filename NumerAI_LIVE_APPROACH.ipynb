{
  "nbformat": 4,
  "nbformat_minor": 0,
  "metadata": {
    "colab": {
      "name": "NumerAI LIVE APPROACH.ipynb",
      "provenance": [],
      "collapsed_sections": [],
      "machine_shape": "hm"
    },
    "kernelspec": {
      "name": "python3",
      "display_name": "Python 3"
    }
  },
  "cells": [
    {
      "cell_type": "code",
      "metadata": {
        "id": "fgab3lykHnRP",
        "outputId": "58538e90-59dc-46df-b297-6aaffeeba70c",
        "colab": {
          "base_uri": "https://localhost:8080/"
        }
      },
      "source": [
        "# install dependencies\n",
        "!pip install pandas sklearn numerapi"
      ],
      "execution_count": null,
      "outputs": [
        {
          "output_type": "stream",
          "text": [
            "Requirement already satisfied: pandas in /usr/local/lib/python3.6/dist-packages (1.1.4)\n",
            "Requirement already satisfied: sklearn in /usr/local/lib/python3.6/dist-packages (0.0)\n",
            "Collecting numerapi\n",
            "  Downloading https://files.pythonhosted.org/packages/1d/64/d104dde59afb0b56d0c025d7db4707fb197e49a7f6e310228629c9f8e73e/numerapi-2.3.8-py3-none-any.whl\n",
            "Requirement already satisfied: python-dateutil>=2.7.3 in /usr/local/lib/python3.6/dist-packages (from pandas) (2.8.1)\n",
            "Requirement already satisfied: pytz>=2017.2 in /usr/local/lib/python3.6/dist-packages (from pandas) (2018.9)\n",
            "Requirement already satisfied: numpy>=1.15.4 in /usr/local/lib/python3.6/dist-packages (from pandas) (1.18.5)\n",
            "Requirement already satisfied: scikit-learn in /usr/local/lib/python3.6/dist-packages (from sklearn) (0.22.2.post1)\n",
            "Requirement already satisfied: requests in /usr/local/lib/python3.6/dist-packages (from numerapi) (2.23.0)\n",
            "Requirement already satisfied: tqdm>=4.29.1 in /usr/local/lib/python3.6/dist-packages (from numerapi) (4.41.1)\n",
            "Requirement already satisfied: click>=7.0 in /usr/local/lib/python3.6/dist-packages (from numerapi) (7.1.2)\n",
            "Requirement already satisfied: six>=1.5 in /usr/local/lib/python3.6/dist-packages (from python-dateutil>=2.7.3->pandas) (1.15.0)\n",
            "Requirement already satisfied: joblib>=0.11 in /usr/local/lib/python3.6/dist-packages (from scikit-learn->sklearn) (0.17.0)\n",
            "Requirement already satisfied: scipy>=0.17.0 in /usr/local/lib/python3.6/dist-packages (from scikit-learn->sklearn) (1.4.1)\n",
            "Requirement already satisfied: urllib3!=1.25.0,!=1.25.1,<1.26,>=1.21.1 in /usr/local/lib/python3.6/dist-packages (from requests->numerapi) (1.24.3)\n",
            "Requirement already satisfied: idna<3,>=2.5 in /usr/local/lib/python3.6/dist-packages (from requests->numerapi) (2.10)\n",
            "Requirement already satisfied: certifi>=2017.4.17 in /usr/local/lib/python3.6/dist-packages (from requests->numerapi) (2020.6.20)\n",
            "Requirement already satisfied: chardet<4,>=3.0.2 in /usr/local/lib/python3.6/dist-packages (from requests->numerapi) (3.0.4)\n",
            "Installing collected packages: numerapi\n",
            "Successfully installed numerapi-2.3.8\n"
          ],
          "name": "stdout"
        }
      ]
    },
    {
      "cell_type": "code",
      "metadata": {
        "id": "FNdw-etZHszx"
      },
      "source": [
        "# import dependencies\n",
        "import pandas as pd\n",
        "import numpy as np\n",
        "import numerapi\n",
        "import sklearn.linear_model\n",
        "import matplotlib.pylab as plt"
      ],
      "execution_count": null,
      "outputs": []
    },
    {
      "cell_type": "code",
      "metadata": {
        "id": "7_Hpt2fFBYqm"
      },
      "source": [
        "### CHANGE FOR https://numerai-public-datasets.s3-us-west-2.amazonaws.com/latest_numerai_datasets.zip"
      ],
      "execution_count": null,
      "outputs": []
    },
    {
      "cell_type": "code",
      "metadata": {
        "id": "FFRKlO74Xa-2",
        "outputId": "80f21ed0-1a28-45a3-de5a-fb0a4d4282a0",
        "colab": {
          "base_uri": "https://localhost:8080/"
        }
      },
      "source": [
        "! wget https://numerai-public-datasets.s3-us-west-2.amazonaws.com/latest_numerai_datasets.zip"
      ],
      "execution_count": null,
      "outputs": [
        {
          "output_type": "stream",
          "text": [
            "--2020-11-09 18:14:25--  https://numerai-public-datasets.s3-us-west-2.amazonaws.com/latest_numerai_datasets.zip\n",
            "Resolving numerai-public-datasets.s3-us-west-2.amazonaws.com (numerai-public-datasets.s3-us-west-2.amazonaws.com)... 52.218.197.33\n",
            "Connecting to numerai-public-datasets.s3-us-west-2.amazonaws.com (numerai-public-datasets.s3-us-west-2.amazonaws.com)|52.218.197.33|:443... connected.\n",
            "HTTP request sent, awaiting response... 200 OK\n",
            "Length: 397008335 (379M) [binary/octet-stream]\n",
            "Saving to: ‘latest_numerai_datasets.zip’\n",
            "\n",
            "latest_numerai_data 100%[===================>] 378.62M  18.6MB/s    in 22s     \n",
            "\n",
            "2020-11-09 18:14:48 (17.3 MB/s) - ‘latest_numerai_datasets.zip’ saved [397008335/397008335]\n",
            "\n"
          ],
          "name": "stdout"
        }
      ]
    },
    {
      "cell_type": "code",
      "metadata": {
        "id": "hx6sz6LkXd65",
        "outputId": "d3850d68-7630-40be-98ea-ef30c8b0078c",
        "colab": {
          "base_uri": "https://localhost:8080/"
        }
      },
      "source": [
        "! unzip latest_numerai_datasets.zip"
      ],
      "execution_count": null,
      "outputs": [
        {
          "output_type": "stream",
          "text": [
            "Archive:  latest_numerai_datasets.zip\n",
            "  inflating: numerai_training_data.csv  \n",
            "  inflating: numerai_tournament_data.csv  \n",
            "  inflating: example_predictions_target_kazutsugi.csv  \n",
            "  inflating: example_model.py        \n",
            "  inflating: example_model.r         \n",
            "  inflating: numerox_example.py      \n",
            "  inflating: analysis_and_tips.ipynb  \n"
          ],
          "name": "stdout"
        }
      ]
    },
    {
      "cell_type": "code",
      "metadata": {
        "id": "6ySYL9ClXt2J",
        "outputId": "f78c9d60-0761-4412-b413-be60f8a90188",
        "colab": {
          "base_uri": "https://localhost:8080/"
        }
      },
      "source": [
        "! ls"
      ],
      "execution_count": null,
      "outputs": [
        {
          "output_type": "stream",
          "text": [
            "analysis_and_tips.ipynb\t\t\t  numerai_tournament_data.csv\n",
            "example_model.py\t\t\t  numerai_training_data.csv\n",
            "example_model.r\t\t\t\t  numerox_example.py\n",
            "example_predictions_target_kazutsugi.csv  sample_data\n",
            "latest_numerai_datasets.zip\n"
          ],
          "name": "stdout"
        }
      ]
    },
    {
      "cell_type": "code",
      "metadata": {
        "id": "Ot2EudWzNpz7"
      },
      "source": [
        "class DataLoader:\n",
        "\n",
        "    def __init__(self, \n",
        "                 train_path = \"numerai_training_data.csv\", \n",
        "                 tournament_path = \"numerai_tournament_data.csv\"):\n",
        "      \n",
        "        # download the latest training dataset (takes around 30s)\n",
        "        self.training_data = pd.read_csv(train_path)\n",
        "        # download the latest tournament dataset (takes around 30s)\n",
        "        self.tournament_data = pd.read_csv(tournament_path)\n",
        "        \n",
        "    def get_dataset(self):\n",
        "\n",
        "        # find only the feature columns\n",
        "        feature_cols = self.training_data.columns[self.training_data.columns.str.startswith('feature')]\n",
        "        # X, Y, eras\n",
        "        training_features, live_features = self.training_data[feature_cols], self.tournament_data[feature_cols]\n",
        "        eras_train, eras_tournament = self.training_data.era, self.tournament_data.era\n",
        "        target_train, target_tournament = self.training_data.target_kazutsugi, self.tournament_data.target_kazutsugi\n",
        "\n",
        "        return training_features, live_features, target_train, target_tournament, eras_train, eras_tournament\n",
        "\n",
        "    def get_validation_ids(self):\n",
        "        return self.tournament_data.data_type=='validation'\n",
        "\n",
        "    def get_tournament_ids(self):\n",
        "        return self.tournament_data[\"id\"]"
      ],
      "execution_count": null,
      "outputs": []
    },
    {
      "cell_type": "markdown",
      "metadata": {
        "id": "UQP0-dA5tHKn"
      },
      "source": [
        "# Loading Data"
      ]
    },
    {
      "cell_type": "code",
      "metadata": {
        "id": "IXd4ItFutIHA"
      },
      "source": [
        "loader = DataLoader()"
      ],
      "execution_count": null,
      "outputs": []
    },
    {
      "cell_type": "code",
      "metadata": {
        "id": "D-dUuRm8tGuG"
      },
      "source": [
        "training_features, live_features, target_train, target_tournament, eras_train, eras_tournament = loader.get_dataset()"
      ],
      "execution_count": null,
      "outputs": []
    },
    {
      "cell_type": "code",
      "metadata": {
        "id": "FoGOgS_atL-D"
      },
      "source": [
        "validation_ids = loader.get_validation_ids()\n",
        "tournament_data_id = loader.get_tournament_ids()"
      ],
      "execution_count": null,
      "outputs": []
    },
    {
      "cell_type": "code",
      "metadata": {
        "id": "ga7Et-GstVfI"
      },
      "source": [
        "del loader"
      ],
      "execution_count": null,
      "outputs": []
    },
    {
      "cell_type": "markdown",
      "metadata": {
        "id": "ik6igMaG-8qt"
      },
      "source": [
        "# Feature Selection"
      ]
    },
    {
      "cell_type": "code",
      "metadata": {
        "id": "GMOeQm3F-8HD"
      },
      "source": [
        "IMPORTANT_FEATURES = ['feature_intelligence1',\n",
        " 'feature_intelligence2',\n",
        " 'feature_intelligence3',\n",
        " 'feature_intelligence4',\n",
        " 'feature_intelligence5',\n",
        " 'feature_intelligence6',\n",
        " 'feature_intelligence7',\n",
        " 'feature_intelligence9',\n",
        " 'feature_intelligence10',\n",
        " 'feature_intelligence11',\n",
        " 'feature_charisma2',\n",
        " 'feature_charisma3',\n",
        " 'feature_charisma4',\n",
        " 'feature_charisma5',\n",
        " 'feature_charisma7',\n",
        " 'feature_charisma10',\n",
        " 'feature_charisma11',\n",
        " 'feature_charisma13',\n",
        " 'feature_charisma15',\n",
        " 'feature_charisma16',\n",
        " 'feature_charisma17',\n",
        " 'feature_charisma18',\n",
        " 'feature_charisma19',\n",
        " 'feature_charisma20',\n",
        " 'feature_charisma21',\n",
        " 'feature_charisma22',\n",
        " 'feature_charisma23',\n",
        " 'feature_charisma24',\n",
        " 'feature_charisma25',\n",
        " 'feature_charisma26',\n",
        " 'feature_charisma27',\n",
        " 'feature_charisma28',\n",
        " 'feature_charisma29',\n",
        " 'feature_charisma30',\n",
        " 'feature_charisma31',\n",
        " 'feature_charisma32',\n",
        " 'feature_charisma33',\n",
        " 'feature_charisma34',\n",
        " 'feature_charisma36',\n",
        " 'feature_charisma37',\n",
        " 'feature_charisma39',\n",
        " 'feature_charisma40',\n",
        " 'feature_charisma41',\n",
        " 'feature_charisma43',\n",
        " 'feature_charisma44',\n",
        " 'feature_charisma45',\n",
        " 'feature_charisma46',\n",
        " 'feature_charisma47',\n",
        " 'feature_charisma48',\n",
        " 'feature_charisma50',\n",
        " 'feature_charisma51',\n",
        " 'feature_charisma52',\n",
        " 'feature_charisma53',\n",
        " 'feature_charisma54',\n",
        " 'feature_charisma55',\n",
        " 'feature_charisma56',\n",
        " 'feature_charisma58',\n",
        " 'feature_charisma62',\n",
        " 'feature_charisma63',\n",
        " 'feature_charisma64',\n",
        " 'feature_charisma65',\n",
        " 'feature_charisma67',\n",
        " 'feature_charisma68',\n",
        " 'feature_charisma69',\n",
        " 'feature_charisma70',\n",
        " 'feature_charisma71',\n",
        " 'feature_charisma72',\n",
        " 'feature_charisma73',\n",
        " 'feature_charisma74',\n",
        " 'feature_charisma75',\n",
        " 'feature_charisma76',\n",
        " 'feature_charisma77',\n",
        " 'feature_charisma78',\n",
        " 'feature_charisma79',\n",
        " 'feature_charisma80',\n",
        " 'feature_charisma81',\n",
        " 'feature_charisma82',\n",
        " 'feature_charisma83',\n",
        " 'feature_charisma85',\n",
        " 'feature_charisma86',\n",
        " 'feature_strength1',\n",
        " 'feature_strength2',\n",
        " 'feature_strength4',\n",
        " 'feature_strength5',\n",
        " 'feature_strength6',\n",
        " 'feature_strength7',\n",
        " 'feature_strength8',\n",
        " 'feature_strength10',\n",
        " 'feature_strength11',\n",
        " 'feature_strength12',\n",
        " 'feature_strength14',\n",
        " 'feature_strength15',\n",
        " 'feature_strength16',\n",
        " 'feature_strength17',\n",
        " 'feature_strength18',\n",
        " 'feature_strength19',\n",
        " 'feature_strength20',\n",
        " 'feature_strength22',\n",
        " 'feature_strength23',\n",
        " 'feature_strength24',\n",
        " 'feature_strength25',\n",
        " 'feature_strength26',\n",
        " 'feature_strength27',\n",
        " 'feature_strength29',\n",
        " 'feature_strength30',\n",
        " 'feature_strength31',\n",
        " 'feature_strength32',\n",
        " 'feature_strength34',\n",
        " 'feature_strength35',\n",
        " 'feature_strength36',\n",
        " 'feature_strength37',\n",
        " 'feature_strength38',\n",
        " 'feature_dexterity1',\n",
        " 'feature_dexterity2',\n",
        " 'feature_dexterity4',\n",
        " 'feature_dexterity5',\n",
        " 'feature_dexterity6',\n",
        " 'feature_dexterity7',\n",
        " 'feature_dexterity9',\n",
        " 'feature_dexterity10',\n",
        " 'feature_dexterity12',\n",
        " 'feature_dexterity13',\n",
        " 'feature_dexterity14',\n",
        " 'feature_constitution1',\n",
        " 'feature_constitution3',\n",
        " 'feature_constitution5',\n",
        " 'feature_constitution6',\n",
        " 'feature_constitution8',\n",
        " 'feature_constitution9',\n",
        " 'feature_constitution11',\n",
        " 'feature_constitution12',\n",
        " 'feature_constitution13',\n",
        " 'feature_constitution14',\n",
        " 'feature_constitution15',\n",
        " 'feature_constitution16',\n",
        " 'feature_constitution17',\n",
        " 'feature_constitution18',\n",
        " 'feature_constitution20',\n",
        " 'feature_constitution21',\n",
        " 'feature_constitution24',\n",
        " 'feature_constitution25',\n",
        " 'feature_constitution27',\n",
        " 'feature_constitution28',\n",
        " 'feature_constitution29',\n",
        " 'feature_constitution30',\n",
        " 'feature_constitution33',\n",
        " 'feature_constitution34',\n",
        " 'feature_constitution35',\n",
        " 'feature_constitution37',\n",
        " 'feature_constitution38',\n",
        " 'feature_constitution43',\n",
        " 'feature_constitution44',\n",
        " 'feature_constitution46',\n",
        " 'feature_constitution48',\n",
        " 'feature_constitution49',\n",
        " 'feature_constitution50',\n",
        " 'feature_constitution51',\n",
        " 'feature_constitution53',\n",
        " 'feature_constitution55',\n",
        " 'feature_constitution56',\n",
        " 'feature_constitution57',\n",
        " 'feature_constitution58',\n",
        " 'feature_constitution59',\n",
        " 'feature_constitution60',\n",
        " 'feature_constitution61',\n",
        " 'feature_constitution62',\n",
        " 'feature_constitution63',\n",
        " 'feature_constitution64',\n",
        " 'feature_constitution65',\n",
        " 'feature_constitution66',\n",
        " 'feature_constitution69',\n",
        " 'feature_constitution70',\n",
        " 'feature_constitution72',\n",
        " 'feature_constitution74',\n",
        " 'feature_constitution75',\n",
        " 'feature_constitution77',\n",
        " 'feature_constitution78',\n",
        " 'feature_constitution80',\n",
        " 'feature_constitution81',\n",
        " 'feature_constitution82',\n",
        " 'feature_constitution84',\n",
        " 'feature_constitution85',\n",
        " 'feature_constitution86',\n",
        " 'feature_constitution88',\n",
        " 'feature_constitution89',\n",
        " 'feature_constitution91',\n",
        " 'feature_constitution92',\n",
        " 'feature_constitution94',\n",
        " 'feature_constitution95',\n",
        " 'feature_constitution96',\n",
        " 'feature_constitution97',\n",
        " 'feature_constitution98',\n",
        " 'feature_constitution99',\n",
        " 'feature_constitution100',\n",
        " 'feature_constitution102',\n",
        " 'feature_constitution103',\n",
        " 'feature_constitution104',\n",
        " 'feature_constitution105',\n",
        " 'feature_constitution106',\n",
        " 'feature_constitution107',\n",
        " 'feature_constitution108',\n",
        " 'feature_constitution109',\n",
        " 'feature_constitution110',\n",
        " 'feature_constitution111',\n",
        " 'feature_constitution113',\n",
        " 'feature_constitution114',\n",
        " 'feature_wisdom1',\n",
        " 'feature_wisdom2',\n",
        " 'feature_wisdom4',\n",
        " 'feature_wisdom5',\n",
        " 'feature_wisdom7',\n",
        " 'feature_wisdom8',\n",
        " 'feature_wisdom9',\n",
        " 'feature_wisdom10',\n",
        " 'feature_wisdom11',\n",
        " 'feature_wisdom12',\n",
        " 'feature_wisdom14',\n",
        " 'feature_wisdom16',\n",
        " 'feature_wisdom17',\n",
        " 'feature_wisdom18',\n",
        " 'feature_wisdom19',\n",
        " 'feature_wisdom20',\n",
        " 'feature_wisdom21',\n",
        " 'feature_wisdom22',\n",
        " 'feature_wisdom23',\n",
        " 'feature_wisdom24',\n",
        " 'feature_wisdom25',\n",
        " 'feature_wisdom28',\n",
        " 'feature_wisdom29',\n",
        " 'feature_wisdom30',\n",
        " 'feature_wisdom31',\n",
        " 'feature_wisdom32',\n",
        " 'feature_wisdom33',\n",
        " 'feature_wisdom34',\n",
        " 'feature_wisdom35',\n",
        " 'feature_wisdom36',\n",
        " 'feature_wisdom38',\n",
        " 'feature_wisdom39',\n",
        " 'feature_wisdom41',\n",
        " 'feature_wisdom42',\n",
        " 'feature_wisdom43',\n",
        " 'feature_wisdom44',\n",
        " 'feature_wisdom45',\n",
        " 'feature_wisdom46']"
      ],
      "execution_count": null,
      "outputs": []
    },
    {
      "cell_type": "code",
      "metadata": {
        "id": "gDdorvJA_CdK"
      },
      "source": [
        "training_features = training_features[IMPORTANT_FEATURES]\n",
        "live_features = live_features[IMPORTANT_FEATURES]"
      ],
      "execution_count": null,
      "outputs": []
    },
    {
      "cell_type": "markdown",
      "metadata": {
        "id": "0O6JeXIEOIRW"
      },
      "source": [
        "# Modeling"
      ]
    },
    {
      "cell_type": "code",
      "metadata": {
        "id": "CPjDNHcOR4D9"
      },
      "source": [
        "from sklearn.decomposition import PCA\n",
        "from sklearn import preprocessing\n",
        "from sklearn.metrics import classification_report, confusion_matrix, roc_auc_score"
      ],
      "execution_count": null,
      "outputs": []
    },
    {
      "cell_type": "code",
      "metadata": {
        "id": "t9icZbkwIV6u"
      },
      "source": [
        "class FeatureExtractor:\n",
        "    \n",
        "    def __init__(self):\n",
        "        self.model = None\n",
        "\n",
        "    def extract(self, X):\n",
        "        if self.model == None:\n",
        "            self.model = PCA(0.999)\n",
        "            return self.model.fit_transform(X)\n",
        "        else:\n",
        "            return self.model.transform(X)"
      ],
      "execution_count": null,
      "outputs": []
    },
    {
      "cell_type": "code",
      "metadata": {
        "id": "W_mNIzjoIZmY"
      },
      "source": [
        "class LabelProcessor:\n",
        "\n",
        "    def __init__(self):\n",
        "        self.model = None\n",
        "\n",
        "    def process(self, X):\n",
        "        if self.model == None:\n",
        "            self.model = preprocessing.LabelEncoder()\n",
        "            return self.model.fit_transform(X)\n",
        "        else:\n",
        "            return self.model.transform(X)   "
      ],
      "execution_count": null,
      "outputs": []
    },
    {
      "cell_type": "code",
      "metadata": {
        "id": "JqdjRo_PisId"
      },
      "source": [
        "class RidgeClassifierModel:\n",
        "\n",
        "    def __init__(self, cw = {\n",
        "                              0: 1,\n",
        "                              1: 1.1, \n",
        "                              2: 1,\n",
        "                              3: 1.1,\n",
        "                              4: 0.999\n",
        "                          }, alpha = 10, references = [0.0, 0.25, 0.5, 0.75, 1.0]\n",
        "                 ):\n",
        "\n",
        "        self.cw = cw\n",
        "        self.alpha = alpha\n",
        "        self.references = references\n",
        "        self.model = sklearn.linear_model.RidgeClassifier(class_weight = self.cw, alpha = self.alpha)\n",
        "    \n",
        "    def fit(self, X, Y):\n",
        "        self.model.fit(X, Y)\n",
        "\n",
        "    def predict(self, X):\n",
        "        return self.model.predict(X)\n",
        "\n",
        "    def predict_softmax(self, X, temperature = 1.0):\n",
        "        d = self.model.decision_function(X)\n",
        "        predictions_proba = np.array([np.exp(di / temperature) / np.sum(np.exp(di / temperature)) for di in d])\n",
        "        single_score_predictions = np.array(\n",
        "                [\n",
        "                    sum(self.references[i] * x[i] for i in range(len(self.references))) for x in predictions_proba\n",
        "                ]\n",
        "            )\n",
        "        return single_score_predictions"
      ],
      "execution_count": null,
      "outputs": []
    },
    {
      "cell_type": "code",
      "metadata": {
        "id": "FrG_8CvwgTCs"
      },
      "source": [
        "fe = FeatureExtractor()\n",
        "training_features_pca = fe.extract(training_features)\n",
        "live_features_pca = fe.extract(live_features)"
      ],
      "execution_count": null,
      "outputs": []
    },
    {
      "cell_type": "code",
      "metadata": {
        "id": "p-Lcscd1jnh8"
      },
      "source": [
        "le = LabelProcessor()\n",
        "target_train_c = le.process(target_train)"
      ],
      "execution_count": null,
      "outputs": []
    },
    {
      "cell_type": "code",
      "metadata": {
        "id": "bd-2dkDNR-K9"
      },
      "source": [
        "model = RidgeClassifierModel()\n",
        "model.fit(training_features_pca, target_train_c)\n",
        "predictions = model.predict(training_features_pca)\n",
        "predictions_single = model.predict_softmax(training_features_pca)"
      ],
      "execution_count": null,
      "outputs": []
    },
    {
      "cell_type": "code",
      "metadata": {
        "id": "ngaxRPsCgwX8",
        "outputId": "2c5bd65e-73ec-464a-dd75-74a842954a5b",
        "colab": {
          "base_uri": "https://localhost:8080/"
        }
      },
      "source": [
        "print(classification_report(target_train_c, predictions))"
      ],
      "execution_count": null,
      "outputs": [
        {
          "output_type": "stream",
          "text": [
            "              precision    recall  f1-score   support\n",
            "\n",
            "           0       0.27      0.30      0.28    100042\n",
            "           1       0.23      0.23      0.23    100046\n",
            "           2       0.29      0.24      0.26    101632\n",
            "           3       0.23      0.23      0.23    100041\n",
            "           4       0.28      0.31      0.29    100047\n",
            "\n",
            "    accuracy                           0.26    501808\n",
            "   macro avg       0.26      0.26      0.26    501808\n",
            "weighted avg       0.26      0.26      0.26    501808\n",
            "\n"
          ],
          "name": "stdout"
        }
      ]
    },
    {
      "cell_type": "code",
      "metadata": {
        "id": "r-LhWYGyix-o",
        "outputId": "21e32703-c4fe-42f1-ded5-dae434e66d5c",
        "colab": {
          "base_uri": "https://localhost:8080/",
          "height": 265
        }
      },
      "source": [
        "plt.figure()\n",
        "plt.hist(target_train_c, alpha = 0.25)\n",
        "plt.hist(predictions, alpha = 0.25)\n",
        "plt.show()"
      ],
      "execution_count": null,
      "outputs": [
        {
          "output_type": "display_data",
          "data": {
            "image/png": "[encoded data removed]",
            "text/plain": [
              "<Figure size 432x288 with 1 Axes>"
            ]
          },
          "metadata": {
            "tags": [],
            "needs_background": "light"
          }
        }
      ]
    },
    {
      "cell_type": "code",
      "metadata": {
        "id": "10mcA21zpjpa"
      },
      "source": [
        "class Scorer:\n",
        "\n",
        "    def __init__(self, eras):\n",
        "        self.eras = eras\n",
        "\n",
        "    # The models should be scored based on the rank-correlation (spearman) with the target\n",
        "    def numerai_score(self, y_true, y_pred):\n",
        "        rank_pred = y_pred.groupby(self.eras).apply(lambda x: x.rank(pct=True, method=\"first\"))\n",
        "        return np.corrcoef(y_true, rank_pred)[0,1]\n",
        "\n",
        "    # It can also be convenient while working to evaluate based on the regular (pearson) correlation\n",
        "    def correlation_score(self, y_true, y_pred):\n",
        "        return np.corrcoef(y_true, y_pred)[0,1]\n",
        "\n",
        "    def sharpe_score(self, y_true, y_pred):\n",
        "        df2 = pd.DataFrame(\n",
        "            {\n",
        "                \"era\": self.eras,\n",
        "                \"preds\": y_pred,\n",
        "                \"target\": y_true\n",
        "            }\n",
        "        )\n",
        "        scores_per_era = df2.groupby(\"era\").apply(lambda d: np.corrcoef(d[\"preds\"], d[\"target\"])[0,1])\n",
        "        return scores_per_era.mean(), scores_per_era.std(), scores_per_era.mean() / scores_per_era.std()"
      ],
      "execution_count": null,
      "outputs": []
    },
    {
      "cell_type": "code",
      "metadata": {
        "id": "YAmG7JaiqAVk",
        "outputId": "58b91c36-208f-4706-ecc0-49265d1f0a49",
        "colab": {
          "base_uri": "https://localhost:8080/"
        }
      },
      "source": [
        "scorer = Scorer(eras_train)\n",
        "print(scorer.numerai_score(target_train, pd.Series(predictions_single)))\n",
        "print(scorer.correlation_score(target_train, pd.Series(predictions_single)))\n",
        "print(scorer.sharpe_score(target_train, pd.Series(predictions_single)))"
      ],
      "execution_count": null,
      "outputs": [
        {
          "output_type": "stream",
          "text": [
            "0.05313778333306397\n",
            "0.05399732351597411\n",
            "(0.05534367276904025, 0.03713095937139626, 1.4904994028157028)\n"
          ],
          "name": "stdout"
        }
      ]
    },
    {
      "cell_type": "markdown",
      "metadata": {
        "id": "sh1rxyfZOMtE"
      },
      "source": [
        "# Live Prediction"
      ]
    },
    {
      "cell_type": "code",
      "metadata": {
        "id": "HO7P83AM_7DX"
      },
      "source": [
        "predictions_live = model.predict(live_features_pca)\n",
        "predictions_single_live = model.predict_softmax(live_features_pca, temperature = 1.0)"
      ],
      "execution_count": null,
      "outputs": []
    },
    {
      "cell_type": "code",
      "metadata": {
        "id": "gR0IBES4CH6m",
        "outputId": "4a87f41f-8d76-4322-97c8-dc5e18b1b53e",
        "colab": {
          "base_uri": "https://localhost:8080/"
        }
      },
      "source": [
        "print(classification_report(le.process(\n",
        "    target_tournament[validation_ids]), \n",
        "    predictions_live[validation_ids])\n",
        ")"
      ],
      "execution_count": null,
      "outputs": [
        {
          "output_type": "stream",
          "text": [
            "              precision    recall  f1-score   support\n",
            "\n",
            "           0       0.27      0.29      0.28     21352\n",
            "           1       0.23      0.22      0.22     21363\n",
            "           2       0.29      0.24      0.26     21474\n",
            "           3       0.22      0.22      0.22     21362\n",
            "           4       0.27      0.31      0.29     21344\n",
            "\n",
            "    accuracy                           0.26    106895\n",
            "   macro avg       0.26      0.26      0.26    106895\n",
            "weighted avg       0.26      0.26      0.26    106895\n",
            "\n"
          ],
          "name": "stdout"
        }
      ]
    },
    {
      "cell_type": "code",
      "metadata": {
        "id": "QxRA5L03CJVN",
        "outputId": "c85c8a33-9527-46b2-85f6-3baa1a510642",
        "colab": {
          "base_uri": "https://localhost:8080/",
          "height": 265
        }
      },
      "source": [
        "plt.figure()\n",
        "plt.hist(le.process(target_tournament[validation_ids]), alpha = 0.25)\n",
        "plt.hist(predictions_live[validation_ids], alpha = 0.25)\n",
        "plt.show()"
      ],
      "execution_count": null,
      "outputs": [
        {
          "output_type": "display_data",
          "data": {
            "image/png": "[encoded data removed]",
            "text/plain": [
              "<Figure size 432x288 with 1 Axes>"
            ]
          },
          "metadata": {
            "tags": [],
            "needs_background": "light"
          }
        }
      ]
    },
    {
      "cell_type": "code",
      "metadata": {
        "id": "DsJsPQxktgeQ",
        "outputId": "dd8b3620-cb68-4a11-b1d7-726b87631cda",
        "colab": {
          "base_uri": "https://localhost:8080/"
        }
      },
      "source": [
        "scorer = Scorer(eras_tournament[validation_ids])\n",
        "print(scorer.numerai_score(target_tournament[validation_ids], pd.Series(predictions_single_live)[validation_ids]))\n",
        "print(scorer.correlation_score(target_tournament[validation_ids], pd.Series(predictions_single_live)[validation_ids]))\n",
        "print(scorer.sharpe_score(target_tournament[validation_ids], pd.Series(predictions_single_live)[validation_ids]))"
      ],
      "execution_count": null,
      "outputs": [
        {
          "output_type": "stream",
          "text": [
            "0.016476323636429986\n",
            "0.016123436239599317\n",
            "(0.016930760917250536, 0.03489698127201992, 0.48516405431393184)\n"
          ],
          "name": "stdout"
        }
      ]
    },
    {
      "cell_type": "markdown",
      "metadata": {
        "id": "J6GN-XN2YxYk"
      },
      "source": [
        "# Making submission"
      ]
    },
    {
      "cell_type": "code",
      "metadata": {
        "id": "JiwP_0uJY1UD",
        "outputId": "0deecff7-87ca-4a9f-abd0-b29aa819c342",
        "colab": {
          "base_uri": "https://localhost:8080/",
          "height": 204
        }
      },
      "source": [
        "# predictions must have an `id` column and a `prediction_kazutsugi` column\n",
        "predictions_df = tournament_data_id.to_frame()\n",
        "predictions_df[\"prediction_kazutsugi\"] = predictions_single_live\n",
        "predictions_df.head()"
      ],
      "execution_count": null,
      "outputs": [
        {
          "output_type": "execute_result",
          "data": {
            "text/html": [
              "<div>\n",
              "<style scoped>\n",
              "    .dataframe tbody tr th:only-of-type {\n",
              "        vertical-align: middle;\n",
              "    }\n",
              "\n",
              "    .dataframe tbody tr th {\n",
              "        vertical-align: top;\n",
              "    }\n",
              "\n",
              "    .dataframe thead th {\n",
              "        text-align: right;\n",
              "    }\n",
              "</style>\n",
              "<table border=\"1\" class=\"dataframe\">\n",
              "  <thead>\n",
              "    <tr style=\"text-align: right;\">\n",
              "      <th></th>\n",
              "      <th>id</th>\n",
              "      <th>prediction_kazutsugi</th>\n",
              "    </tr>\n",
              "  </thead>\n",
              "  <tbody>\n",
              "    <tr>\n",
              "      <th>0</th>\n",
              "      <td>n0003aa52cab36c2</td>\n",
              "      <td>0.489449</td>\n",
              "    </tr>\n",
              "    <tr>\n",
              "      <th>1</th>\n",
              "      <td>n000920ed083903f</td>\n",
              "      <td>0.495210</td>\n",
              "    </tr>\n",
              "    <tr>\n",
              "      <th>2</th>\n",
              "      <td>n0038e640522c4a6</td>\n",
              "      <td>0.523504</td>\n",
              "    </tr>\n",
              "    <tr>\n",
              "      <th>3</th>\n",
              "      <td>n004ac94a87dc54b</td>\n",
              "      <td>0.496724</td>\n",
              "    </tr>\n",
              "    <tr>\n",
              "      <th>4</th>\n",
              "      <td>n0052fe97ea0c05f</td>\n",
              "      <td>0.499568</td>\n",
              "    </tr>\n",
              "  </tbody>\n",
              "</table>\n",
              "</div>"
            ],
            "text/plain": [
              "                 id  prediction_kazutsugi\n",
              "0  n0003aa52cab36c2              0.489449\n",
              "1  n000920ed083903f              0.495210\n",
              "2  n0038e640522c4a6              0.523504\n",
              "3  n004ac94a87dc54b              0.496724\n",
              "4  n0052fe97ea0c05f              0.499568"
            ]
          },
          "metadata": {
            "tags": []
          },
          "execution_count": 29
        }
      ]
    },
    {
      "cell_type": "code",
      "metadata": {
        "id": "fe8wp4S4Y-Gq"
      },
      "source": [
        "# Get your API keys from https://numer.ai/submit\n",
        "public_id = \"O3QGN6P6PP5WOUM4FEPDP35D4Q7XSDI4\"\n",
        "secret_key = \"PAEPK26X3K6AU7NERIW5PEOK53SZ3VB55LE4FG5S3Z6WTTLYIRQXMXCTRZOX4PRX\"\n",
        "napi = numerapi.NumerAPI(public_id=public_id, secret_key=secret_key)"
      ],
      "execution_count": null,
      "outputs": []
    },
    {
      "cell_type": "code",
      "metadata": {
        "id": "oh9qLUPeZXMm",
        "outputId": "9e1504e4-1cb8-4b6b-9cca-9d67b4b44ef2",
        "colab": {
          "base_uri": "https://localhost:8080/"
        }
      },
      "source": [
        "# Upload your predictions\n",
        "predictions_df.to_csv(\"predictions.csv\", index=False)\n",
        "submission_id = napi.upload_predictions(\"predictions.csv\")"
      ],
      "execution_count": null,
      "outputs": [
        {
          "output_type": "stream",
          "text": [
            "2020-11-09 18:17:19,345 INFO numerapi.base_api: uploading predictions...\n"
          ],
          "name": "stderr"
        }
      ]
    },
    {
      "cell_type": "code",
      "metadata": {
        "id": "Zc5wtl8JZYnf",
        "outputId": "d4eac508-27ae-4cbc-d8a9-fcf303c74ea6",
        "colab": {
          "base_uri": "https://localhost:8080/",
          "height": 35
        }
      },
      "source": [
        "submission_id"
      ],
      "execution_count": null,
      "outputs": [
        {
          "output_type": "execute_result",
          "data": {
            "application/vnd.google.colaboratory.intrinsic+json": {
              "type": "string"
            },
            "text/plain": [
              "'83ec66f4-6f1a-426a-828f-e52990892911'"
            ]
          },
          "metadata": {
            "tags": []
          },
          "execution_count": 32
        }
      ]
    }
  ]
}