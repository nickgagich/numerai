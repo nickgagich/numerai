{
 "cells": [
  {
   "cell_type": "code",
   "execution_count": null,
   "metadata": {
    "colab": {
     "base_uri": "https://localhost:8080/",
     "height": 683
    },
    "id": "fgab3lykHnRP",
    "outputId": "7c065d99-cc12-49ac-9a98-6aa2e28ef4ec"
   },
   "outputs": [
    {
     "name": "stdout",
     "output_type": "stream",
     "text": [
      "Requirement already satisfied: pandas in /usr/local/lib/python3.6/dist-packages (1.0.5)\n",
      "Requirement already satisfied: sklearn in /usr/local/lib/python3.6/dist-packages (0.0)\n",
      "Collecting numerapi\n",
      "  Downloading https://files.pythonhosted.org/packages/e9/b0/4992d6de584c82297b6060260a21b94c05c37fb64438746057b612e10f07/numerapi-2.3.4-py3-none-any.whl\n",
      "Requirement already satisfied: python-dateutil>=2.6.1 in /usr/local/lib/python3.6/dist-packages (from pandas) (2.8.1)\n",
      "Requirement already satisfied: numpy>=1.13.3 in /usr/local/lib/python3.6/dist-packages (from pandas) (1.18.5)\n",
      "Requirement already satisfied: pytz>=2017.2 in /usr/local/lib/python3.6/dist-packages (from pandas) (2018.9)\n",
      "Requirement already satisfied: scikit-learn in /usr/local/lib/python3.6/dist-packages (from sklearn) (0.22.2.post1)\n",
      "Requirement already satisfied: tqdm>=4.29.1 in /usr/local/lib/python3.6/dist-packages (from numerapi) (4.41.1)\n",
      "Requirement already satisfied: click>=7.0 in /usr/local/lib/python3.6/dist-packages (from numerapi) (7.1.2)\n",
      "Requirement already satisfied: requests in /usr/local/lib/python3.6/dist-packages (from numerapi) (2.23.0)\n",
      "Requirement already satisfied: six>=1.5 in /usr/local/lib/python3.6/dist-packages (from python-dateutil>=2.6.1->pandas) (1.15.0)\n",
      "Requirement already satisfied: scipy>=0.17.0 in /usr/local/lib/python3.6/dist-packages (from scikit-learn->sklearn) (1.4.1)\n",
      "Requirement already satisfied: joblib>=0.11 in /usr/local/lib/python3.6/dist-packages (from scikit-learn->sklearn) (0.16.0)\n",
      "Requirement already satisfied: certifi>=2017.4.17 in /usr/local/lib/python3.6/dist-packages (from requests->numerapi) (2020.6.20)\n",
      "Requirement already satisfied: idna<3,>=2.5 in /usr/local/lib/python3.6/dist-packages (from requests->numerapi) (2.10)\n",
      "Requirement already satisfied: chardet<4,>=3.0.2 in /usr/local/lib/python3.6/dist-packages (from requests->numerapi) (3.0.4)\n",
      "Requirement already satisfied: urllib3!=1.25.0,!=1.25.1,<1.26,>=1.21.1 in /usr/local/lib/python3.6/dist-packages (from requests->numerapi) (1.24.3)\n",
      "Installing collected packages: numerapi\n",
      "Successfully installed numerapi-2.3.4\n",
      "Collecting catboost\n",
      "\u001b[?25l  Downloading https://files.pythonhosted.org/packages/90/86/c3dcb600b4f9e7584ed90ea9d30a717fb5c0111574675f442c3e7bc19535/catboost-0.24.1-cp36-none-manylinux1_x86_64.whl (66.1MB)\n",
      "\u001b[K     |████████████████████████████████| 66.1MB 61kB/s \n",
      "\u001b[?25hRequirement already satisfied: scipy in /usr/local/lib/python3.6/dist-packages (from catboost) (1.4.1)\n",
      "Requirement already satisfied: matplotlib in /usr/local/lib/python3.6/dist-packages (from catboost) (3.2.2)\n",
      "Requirement already satisfied: pandas>=0.24.0 in /usr/local/lib/python3.6/dist-packages (from catboost) (1.0.5)\n",
      "Requirement already satisfied: six in /usr/local/lib/python3.6/dist-packages (from catboost) (1.15.0)\n",
      "Requirement already satisfied: graphviz in /usr/local/lib/python3.6/dist-packages (from catboost) (0.10.1)\n",
      "Requirement already satisfied: plotly in /usr/local/lib/python3.6/dist-packages (from catboost) (4.4.1)\n",
      "Requirement already satisfied: numpy>=1.16.0 in /usr/local/lib/python3.6/dist-packages (from catboost) (1.18.5)\n",
      "Requirement already satisfied: pyparsing!=2.0.4,!=2.1.2,!=2.1.6,>=2.0.1 in /usr/local/lib/python3.6/dist-packages (from matplotlib->catboost) (2.4.7)\n",
      "Requirement already satisfied: cycler>=0.10 in /usr/local/lib/python3.6/dist-packages (from matplotlib->catboost) (0.10.0)\n",
      "Requirement already satisfied: kiwisolver>=1.0.1 in /usr/local/lib/python3.6/dist-packages (from matplotlib->catboost) (1.2.0)\n",
      "Requirement already satisfied: python-dateutil>=2.1 in /usr/local/lib/python3.6/dist-packages (from matplotlib->catboost) (2.8.1)\n",
      "Requirement already satisfied: pytz>=2017.2 in /usr/local/lib/python3.6/dist-packages (from pandas>=0.24.0->catboost) (2018.9)\n",
      "Requirement already satisfied: retrying>=1.3.3 in /usr/local/lib/python3.6/dist-packages (from plotly->catboost) (1.3.3)\n",
      "Installing collected packages: catboost\n",
      "Successfully installed catboost-0.24.1\n"
     ]
    }
   ],
   "source": [
    "# install dependencies\n",
    "! pip install pandas sklearn numerapi\n",
    "! pip install catboost"
   ]
  },
  {
   "cell_type": "markdown",
   "metadata": {
    "id": "HgIJMO1Ru262"
   },
   "source": [
    "# Loading"
   ]
  },
  {
   "cell_type": "code",
   "execution_count": 1,
   "metadata": {
    "id": "FNdw-etZHszx"
   },
   "outputs": [],
   "source": [
    "# import dependencies\n",
    "import pandas as pd\n",
    "import numpy as np\n",
    "import numerapi\n",
    "import sklearn.linear_model\n",
    "import matplotlib.pylab as plt\n",
    "\n",
    "from datetime import timedelta\n",
    "import tqdm"
   ]
  },
  {
   "cell_type": "code",
   "execution_count": 2,
   "metadata": {
    "id": "Ot2EudWzNpz7"
   },
   "outputs": [],
   "source": [
    "# The models should be scored based on the rank-correlation (spearman) with the target\n",
    "def numerai_score(y_true, y_pred):\n",
    "    rank_pred = y_pred.groupby(eras).apply(lambda x: x.rank(pct=True, method=\"first\"))\n",
    "    return np.corrcoef(y_true, rank_pred)[0,1]\n",
    "\n",
    "# It can also be convenient while working to evaluate based on the regular (pearson) correlation\n",
    "def correlation_score(y_true, y_pred):\n",
    "    return np.corrcoef(y_true, y_pred)[0,1]"
   ]
  },
  {
   "cell_type": "code",
   "execution_count": 2,
   "metadata": {
    "colab": {
     "base_uri": "https://localhost:8080/",
     "height": 253
    },
    "id": "e9uDP3H-HuMJ",
    "outputId": "01649431-3e91-4a25-ae92-b38ae38e81f3"
   },
   "outputs": [
    {
     "data": {
      "text/html": [
       "<div>\n",
       "<style scoped>\n",
       "    .dataframe tbody tr th:only-of-type {\n",
       "        vertical-align: middle;\n",
       "    }\n",
       "\n",
       "    .dataframe tbody tr th {\n",
       "        vertical-align: top;\n",
       "    }\n",
       "\n",
       "    .dataframe thead th {\n",
       "        text-align: right;\n",
       "    }\n",
       "</style>\n",
       "<table border=\"1\" class=\"dataframe\">\n",
       "  <thead>\n",
       "    <tr style=\"text-align: right;\">\n",
       "      <th></th>\n",
       "      <th>id</th>\n",
       "      <th>era</th>\n",
       "      <th>data_type</th>\n",
       "      <th>feature_intelligence1</th>\n",
       "      <th>feature_intelligence2</th>\n",
       "      <th>feature_intelligence3</th>\n",
       "      <th>feature_intelligence4</th>\n",
       "      <th>feature_intelligence5</th>\n",
       "      <th>feature_intelligence6</th>\n",
       "      <th>feature_intelligence7</th>\n",
       "      <th>...</th>\n",
       "      <th>feature_wisdom38</th>\n",
       "      <th>feature_wisdom39</th>\n",
       "      <th>feature_wisdom40</th>\n",
       "      <th>feature_wisdom41</th>\n",
       "      <th>feature_wisdom42</th>\n",
       "      <th>feature_wisdom43</th>\n",
       "      <th>feature_wisdom44</th>\n",
       "      <th>feature_wisdom45</th>\n",
       "      <th>feature_wisdom46</th>\n",
       "      <th>target_kazutsugi</th>\n",
       "    </tr>\n",
       "  </thead>\n",
       "  <tbody>\n",
       "    <tr>\n",
       "      <th>0</th>\n",
       "      <td>n000315175b67977</td>\n",
       "      <td>era1</td>\n",
       "      <td>train</td>\n",
       "      <td>0.00</td>\n",
       "      <td>0.50</td>\n",
       "      <td>0.25</td>\n",
       "      <td>0.00</td>\n",
       "      <td>0.5</td>\n",
       "      <td>0.25</td>\n",
       "      <td>0.25</td>\n",
       "      <td>...</td>\n",
       "      <td>1.00</td>\n",
       "      <td>1.00</td>\n",
       "      <td>0.75</td>\n",
       "      <td>0.50</td>\n",
       "      <td>0.75</td>\n",
       "      <td>0.50</td>\n",
       "      <td>1.00</td>\n",
       "      <td>0.50</td>\n",
       "      <td>0.75</td>\n",
       "      <td>0.75</td>\n",
       "    </tr>\n",
       "    <tr>\n",
       "      <th>1</th>\n",
       "      <td>n0014af834a96cdd</td>\n",
       "      <td>era1</td>\n",
       "      <td>train</td>\n",
       "      <td>0.00</td>\n",
       "      <td>0.00</td>\n",
       "      <td>0.00</td>\n",
       "      <td>0.25</td>\n",
       "      <td>0.5</td>\n",
       "      <td>0.00</td>\n",
       "      <td>0.00</td>\n",
       "      <td>...</td>\n",
       "      <td>1.00</td>\n",
       "      <td>1.00</td>\n",
       "      <td>0.00</td>\n",
       "      <td>0.00</td>\n",
       "      <td>0.75</td>\n",
       "      <td>0.25</td>\n",
       "      <td>0.00</td>\n",
       "      <td>0.25</td>\n",
       "      <td>1.00</td>\n",
       "      <td>0.25</td>\n",
       "    </tr>\n",
       "    <tr>\n",
       "      <th>2</th>\n",
       "      <td>n001c93979ac41d4</td>\n",
       "      <td>era1</td>\n",
       "      <td>train</td>\n",
       "      <td>0.25</td>\n",
       "      <td>0.50</td>\n",
       "      <td>0.25</td>\n",
       "      <td>0.25</td>\n",
       "      <td>1.0</td>\n",
       "      <td>0.75</td>\n",
       "      <td>0.75</td>\n",
       "      <td>...</td>\n",
       "      <td>0.25</td>\n",
       "      <td>0.50</td>\n",
       "      <td>0.00</td>\n",
       "      <td>0.00</td>\n",
       "      <td>0.50</td>\n",
       "      <td>1.00</td>\n",
       "      <td>0.00</td>\n",
       "      <td>0.25</td>\n",
       "      <td>0.75</td>\n",
       "      <td>0.00</td>\n",
       "    </tr>\n",
       "    <tr>\n",
       "      <th>3</th>\n",
       "      <td>n0034e4143f22a13</td>\n",
       "      <td>era1</td>\n",
       "      <td>train</td>\n",
       "      <td>1.00</td>\n",
       "      <td>0.00</td>\n",
       "      <td>0.00</td>\n",
       "      <td>0.50</td>\n",
       "      <td>0.5</td>\n",
       "      <td>0.25</td>\n",
       "      <td>0.25</td>\n",
       "      <td>...</td>\n",
       "      <td>1.00</td>\n",
       "      <td>1.00</td>\n",
       "      <td>0.75</td>\n",
       "      <td>0.75</td>\n",
       "      <td>1.00</td>\n",
       "      <td>1.00</td>\n",
       "      <td>0.75</td>\n",
       "      <td>1.00</td>\n",
       "      <td>1.00</td>\n",
       "      <td>0.00</td>\n",
       "    </tr>\n",
       "    <tr>\n",
       "      <th>4</th>\n",
       "      <td>n00679d1a636062f</td>\n",
       "      <td>era1</td>\n",
       "      <td>train</td>\n",
       "      <td>0.25</td>\n",
       "      <td>0.25</td>\n",
       "      <td>0.25</td>\n",
       "      <td>0.25</td>\n",
       "      <td>0.0</td>\n",
       "      <td>0.25</td>\n",
       "      <td>0.50</td>\n",
       "      <td>...</td>\n",
       "      <td>0.75</td>\n",
       "      <td>0.75</td>\n",
       "      <td>0.25</td>\n",
       "      <td>0.50</td>\n",
       "      <td>0.75</td>\n",
       "      <td>0.00</td>\n",
       "      <td>0.50</td>\n",
       "      <td>0.25</td>\n",
       "      <td>0.75</td>\n",
       "      <td>0.75</td>\n",
       "    </tr>\n",
       "  </tbody>\n",
       "</table>\n",
       "<p>5 rows × 314 columns</p>\n",
       "</div>"
      ],
      "text/plain": [
       "                 id   era data_type  feature_intelligence1  \\\n",
       "0  n000315175b67977  era1     train                   0.00   \n",
       "1  n0014af834a96cdd  era1     train                   0.00   \n",
       "2  n001c93979ac41d4  era1     train                   0.25   \n",
       "3  n0034e4143f22a13  era1     train                   1.00   \n",
       "4  n00679d1a636062f  era1     train                   0.25   \n",
       "\n",
       "   feature_intelligence2  feature_intelligence3  feature_intelligence4  \\\n",
       "0                   0.50                   0.25                   0.00   \n",
       "1                   0.00                   0.00                   0.25   \n",
       "2                   0.50                   0.25                   0.25   \n",
       "3                   0.00                   0.00                   0.50   \n",
       "4                   0.25                   0.25                   0.25   \n",
       "\n",
       "   feature_intelligence5  feature_intelligence6  feature_intelligence7  ...  \\\n",
       "0                    0.5                   0.25                   0.25  ...   \n",
       "1                    0.5                   0.00                   0.00  ...   \n",
       "2                    1.0                   0.75                   0.75  ...   \n",
       "3                    0.5                   0.25                   0.25  ...   \n",
       "4                    0.0                   0.25                   0.50  ...   \n",
       "\n",
       "   feature_wisdom38  feature_wisdom39  feature_wisdom40  feature_wisdom41  \\\n",
       "0              1.00              1.00              0.75              0.50   \n",
       "1              1.00              1.00              0.00              0.00   \n",
       "2              0.25              0.50              0.00              0.00   \n",
       "3              1.00              1.00              0.75              0.75   \n",
       "4              0.75              0.75              0.25              0.50   \n",
       "\n",
       "   feature_wisdom42  feature_wisdom43  feature_wisdom44  feature_wisdom45  \\\n",
       "0              0.75              0.50              1.00              0.50   \n",
       "1              0.75              0.25              0.00              0.25   \n",
       "2              0.50              1.00              0.00              0.25   \n",
       "3              1.00              1.00              0.75              1.00   \n",
       "4              0.75              0.00              0.50              0.25   \n",
       "\n",
       "   feature_wisdom46  target_kazutsugi  \n",
       "0              0.75              0.75  \n",
       "1              1.00              0.25  \n",
       "2              0.75              0.00  \n",
       "3              1.00              0.00  \n",
       "4              0.75              0.75  \n",
       "\n",
       "[5 rows x 314 columns]"
      ]
     },
     "execution_count": 2,
     "metadata": {},
     "output_type": "execute_result"
    }
   ],
   "source": [
    "# download the latest training dataset (takes around 30s)\n",
    "training_data = pd.read_csv(\"https://numerai-public-datasets.s3-us-west-2.amazonaws.com/latest_numerai_training_data.csv.xz\")\n",
    "training_data.head()"
   ]
  },
  {
   "cell_type": "code",
   "execution_count": 3,
   "metadata": {
    "colab": {
     "base_uri": "https://localhost:8080/",
     "height": 253
    },
    "id": "zDToDCtAIRBK",
    "outputId": "4bfb64f4-3fd9-4332-8b80-c203d6729023"
   },
   "outputs": [
    {
     "data": {
      "text/html": [
       "<div>\n",
       "<style scoped>\n",
       "    .dataframe tbody tr th:only-of-type {\n",
       "        vertical-align: middle;\n",
       "    }\n",
       "\n",
       "    .dataframe tbody tr th {\n",
       "        vertical-align: top;\n",
       "    }\n",
       "\n",
       "    .dataframe thead th {\n",
       "        text-align: right;\n",
       "    }\n",
       "</style>\n",
       "<table border=\"1\" class=\"dataframe\">\n",
       "  <thead>\n",
       "    <tr style=\"text-align: right;\">\n",
       "      <th></th>\n",
       "      <th>id</th>\n",
       "      <th>era</th>\n",
       "      <th>data_type</th>\n",
       "      <th>feature_intelligence1</th>\n",
       "      <th>feature_intelligence2</th>\n",
       "      <th>feature_intelligence3</th>\n",
       "      <th>feature_intelligence4</th>\n",
       "      <th>feature_intelligence5</th>\n",
       "      <th>feature_intelligence6</th>\n",
       "      <th>feature_intelligence7</th>\n",
       "      <th>...</th>\n",
       "      <th>feature_wisdom38</th>\n",
       "      <th>feature_wisdom39</th>\n",
       "      <th>feature_wisdom40</th>\n",
       "      <th>feature_wisdom41</th>\n",
       "      <th>feature_wisdom42</th>\n",
       "      <th>feature_wisdom43</th>\n",
       "      <th>feature_wisdom44</th>\n",
       "      <th>feature_wisdom45</th>\n",
       "      <th>feature_wisdom46</th>\n",
       "      <th>target_kazutsugi</th>\n",
       "    </tr>\n",
       "  </thead>\n",
       "  <tbody>\n",
       "    <tr>\n",
       "      <th>0</th>\n",
       "      <td>n0003aa52cab36c2</td>\n",
       "      <td>era121</td>\n",
       "      <td>validation</td>\n",
       "      <td>0.25</td>\n",
       "      <td>0.75</td>\n",
       "      <td>0.50</td>\n",
       "      <td>0.50</td>\n",
       "      <td>0.0</td>\n",
       "      <td>0.75</td>\n",
       "      <td>0.5</td>\n",
       "      <td>...</td>\n",
       "      <td>0.75</td>\n",
       "      <td>0.75</td>\n",
       "      <td>1.00</td>\n",
       "      <td>0.75</td>\n",
       "      <td>0.50</td>\n",
       "      <td>0.5</td>\n",
       "      <td>1.0</td>\n",
       "      <td>0.00</td>\n",
       "      <td>0.00</td>\n",
       "      <td>0.00</td>\n",
       "    </tr>\n",
       "    <tr>\n",
       "      <th>1</th>\n",
       "      <td>n000920ed083903f</td>\n",
       "      <td>era121</td>\n",
       "      <td>validation</td>\n",
       "      <td>0.75</td>\n",
       "      <td>0.50</td>\n",
       "      <td>0.75</td>\n",
       "      <td>1.00</td>\n",
       "      <td>0.5</td>\n",
       "      <td>0.00</td>\n",
       "      <td>0.0</td>\n",
       "      <td>...</td>\n",
       "      <td>0.50</td>\n",
       "      <td>0.50</td>\n",
       "      <td>0.75</td>\n",
       "      <td>1.00</td>\n",
       "      <td>0.75</td>\n",
       "      <td>0.5</td>\n",
       "      <td>0.5</td>\n",
       "      <td>0.50</td>\n",
       "      <td>0.50</td>\n",
       "      <td>0.25</td>\n",
       "    </tr>\n",
       "    <tr>\n",
       "      <th>2</th>\n",
       "      <td>n0038e640522c4a6</td>\n",
       "      <td>era121</td>\n",
       "      <td>validation</td>\n",
       "      <td>1.00</td>\n",
       "      <td>0.00</td>\n",
       "      <td>0.00</td>\n",
       "      <td>1.00</td>\n",
       "      <td>1.0</td>\n",
       "      <td>1.00</td>\n",
       "      <td>1.0</td>\n",
       "      <td>...</td>\n",
       "      <td>0.00</td>\n",
       "      <td>0.00</td>\n",
       "      <td>0.50</td>\n",
       "      <td>0.25</td>\n",
       "      <td>0.00</td>\n",
       "      <td>0.0</td>\n",
       "      <td>0.5</td>\n",
       "      <td>0.50</td>\n",
       "      <td>0.00</td>\n",
       "      <td>1.00</td>\n",
       "    </tr>\n",
       "    <tr>\n",
       "      <th>3</th>\n",
       "      <td>n004ac94a87dc54b</td>\n",
       "      <td>era121</td>\n",
       "      <td>validation</td>\n",
       "      <td>0.75</td>\n",
       "      <td>1.00</td>\n",
       "      <td>1.00</td>\n",
       "      <td>0.50</td>\n",
       "      <td>0.0</td>\n",
       "      <td>0.00</td>\n",
       "      <td>0.0</td>\n",
       "      <td>...</td>\n",
       "      <td>0.00</td>\n",
       "      <td>0.00</td>\n",
       "      <td>0.00</td>\n",
       "      <td>0.25</td>\n",
       "      <td>0.00</td>\n",
       "      <td>0.0</td>\n",
       "      <td>0.0</td>\n",
       "      <td>0.25</td>\n",
       "      <td>0.25</td>\n",
       "      <td>0.75</td>\n",
       "    </tr>\n",
       "    <tr>\n",
       "      <th>4</th>\n",
       "      <td>n0052fe97ea0c05f</td>\n",
       "      <td>era121</td>\n",
       "      <td>validation</td>\n",
       "      <td>0.25</td>\n",
       "      <td>0.50</td>\n",
       "      <td>0.50</td>\n",
       "      <td>0.25</td>\n",
       "      <td>1.0</td>\n",
       "      <td>0.50</td>\n",
       "      <td>0.5</td>\n",
       "      <td>...</td>\n",
       "      <td>0.50</td>\n",
       "      <td>0.75</td>\n",
       "      <td>0.00</td>\n",
       "      <td>0.00</td>\n",
       "      <td>0.75</td>\n",
       "      <td>1.0</td>\n",
       "      <td>0.0</td>\n",
       "      <td>0.25</td>\n",
       "      <td>1.00</td>\n",
       "      <td>1.00</td>\n",
       "    </tr>\n",
       "  </tbody>\n",
       "</table>\n",
       "<p>5 rows × 314 columns</p>\n",
       "</div>"
      ],
      "text/plain": [
       "                 id     era   data_type  feature_intelligence1  \\\n",
       "0  n0003aa52cab36c2  era121  validation                   0.25   \n",
       "1  n000920ed083903f  era121  validation                   0.75   \n",
       "2  n0038e640522c4a6  era121  validation                   1.00   \n",
       "3  n004ac94a87dc54b  era121  validation                   0.75   \n",
       "4  n0052fe97ea0c05f  era121  validation                   0.25   \n",
       "\n",
       "   feature_intelligence2  feature_intelligence3  feature_intelligence4  \\\n",
       "0                   0.75                   0.50                   0.50   \n",
       "1                   0.50                   0.75                   1.00   \n",
       "2                   0.00                   0.00                   1.00   \n",
       "3                   1.00                   1.00                   0.50   \n",
       "4                   0.50                   0.50                   0.25   \n",
       "\n",
       "   feature_intelligence5  feature_intelligence6  feature_intelligence7  ...  \\\n",
       "0                    0.0                   0.75                    0.5  ...   \n",
       "1                    0.5                   0.00                    0.0  ...   \n",
       "2                    1.0                   1.00                    1.0  ...   \n",
       "3                    0.0                   0.00                    0.0  ...   \n",
       "4                    1.0                   0.50                    0.5  ...   \n",
       "\n",
       "   feature_wisdom38  feature_wisdom39  feature_wisdom40  feature_wisdom41  \\\n",
       "0              0.75              0.75              1.00              0.75   \n",
       "1              0.50              0.50              0.75              1.00   \n",
       "2              0.00              0.00              0.50              0.25   \n",
       "3              0.00              0.00              0.00              0.25   \n",
       "4              0.50              0.75              0.00              0.00   \n",
       "\n",
       "   feature_wisdom42  feature_wisdom43  feature_wisdom44  feature_wisdom45  \\\n",
       "0              0.50               0.5               1.0              0.00   \n",
       "1              0.75               0.5               0.5              0.50   \n",
       "2              0.00               0.0               0.5              0.50   \n",
       "3              0.00               0.0               0.0              0.25   \n",
       "4              0.75               1.0               0.0              0.25   \n",
       "\n",
       "   feature_wisdom46  target_kazutsugi  \n",
       "0              0.00              0.00  \n",
       "1              0.50              0.25  \n",
       "2              0.00              1.00  \n",
       "3              0.25              0.75  \n",
       "4              1.00              1.00  \n",
       "\n",
       "[5 rows x 314 columns]"
      ]
     },
     "execution_count": 3,
     "metadata": {},
     "output_type": "execute_result"
    }
   ],
   "source": [
    "# download the latest tournament dataset (takes around 30s)\n",
    "tournament_data = pd.read_csv(\"https://numerai-public-datasets.s3-us-west-2.amazonaws.com/latest_numerai_tournament_data.csv.xz\")\n",
    "tournament_data.head()"
   ]
  },
  {
   "cell_type": "code",
   "execution_count": 4,
   "metadata": {
    "id": "t9icZbkwIV6u"
   },
   "outputs": [],
   "source": [
    "# find only the feature columns\n",
    "feature_cols = training_data.columns[training_data.columns.str.startswith('feature')]"
   ]
  },
  {
   "cell_type": "code",
   "execution_count": 5,
   "metadata": {
    "id": "W_mNIzjoIZmY"
   },
   "outputs": [],
   "source": [
    "# select those columns out of the training dataset\n",
    "training_features = training_data[feature_cols]"
   ]
  },
  {
   "cell_type": "code",
   "execution_count": 6,
   "metadata": {
    "id": "DlfJE5sHav1e"
   },
   "outputs": [],
   "source": [
    "target = training_data['target_kazutsugi']"
   ]
  },
  {
   "cell_type": "code",
   "execution_count": 7,
   "metadata": {
    "id": "aW37qQS6TO5U"
   },
   "outputs": [],
   "source": [
    "eras = training_data['era']\n",
    "eras_live = tournament_data.era"
   ]
  },
  {
   "cell_type": "code",
   "execution_count": null,
   "metadata": {
    "id": "ZwN4eWdE83MY"
   },
   "outputs": [],
   "source": [
    "N_ERAS_IN_FOLD = 12\n",
    "N_FOLDS = int(len(eras.unique()) / N_ERAS_IN_FOLD)\n",
    "\n",
    "eras2_binned = []\n",
    "current_era = 1\n",
    "thresh_era_limit = N_ERAS_IN_FOLD\n",
    "for era in eras:\n",
    "    era_num = int(era.split('era')[-1])\n",
    "    if era_num <= thresh_era_limit:\n",
    "        eras2_binned.append(current_era)\n",
    "    else:\n",
    "        current_era += 1\n",
    "        thresh_era_limit += N_ERAS_IN_FOLD\n",
    "        eras2_binned.append(current_era)"
   ]
  },
  {
   "cell_type": "code",
   "execution_count": 9,
   "metadata": {
    "id": "TXnQLMtQ9Ydy"
   },
   "outputs": [],
   "source": [
    "validation_ids = tournament_data.data_type=='validation'"
   ]
  },
  {
   "cell_type": "markdown",
   "metadata": {
    "id": "2SRAOTDfu5NQ"
   },
   "source": [
    "# Feature Importance"
   ]
  },
  {
   "cell_type": "code",
   "execution_count": 10,
   "metadata": {
    "id": "S7E6nTowBpY1"
   },
   "outputs": [],
   "source": [
    "from sklearn.linear_model import RidgeClassifier\n",
    "\n",
    "from sklearn.metrics import log_loss, accuracy_score\n",
    "from sklearn import model_selection\n",
    "\n",
    "from scipy.cluster.hierarchy import linkage, fcluster\n",
    "from itertools import product"
   ]
  },
  {
   "cell_type": "code",
   "execution_count": 11,
   "metadata": {
    "id": "2qChRBdJfX1F"
   },
   "outputs": [],
   "source": [
    "from sklearn import model_selection\n",
    "from sklearn import metrics\n",
    "from sklearn.preprocessing import LabelEncoder\n",
    "from sklearn.metrics import classification_report"
   ]
  },
  {
   "cell_type": "code",
   "execution_count": 12,
   "metadata": {
    "id": "3helgnRCdOWQ"
   },
   "outputs": [],
   "source": [
    "REFERENCES = [0.0, 0.25, 0.5, 0.75, 1.0]"
   ]
  },
  {
   "cell_type": "code",
   "execution_count": null,
   "metadata": {
    "id": "8ZwnjyyRbhuM"
   },
   "outputs": [],
   "source": [
    "def get_base_model(cw = {0: 1,\n",
    "                          1: 1.1,\n",
    "                          2: 1,\n",
    "                          3: 1.1,\n",
    "                          4: 1\n",
    "                        }):\n",
    "    return RidgeClassifier(alpha = 1, \n",
    "                           class_weight = cw\n",
    "                                    )\n",
    "    \n",
    "def ridge_classifier_2single_prediction(model, X, temperature = 1.0):\n",
    "    try:\n",
    "        predictions_proba_mean = model.decision_function(X)\n",
    "    except:\n",
    "        predictions_proba_mean = model.predict_proba(X)\n",
    "    predictions = np.argmax(predictions_proba_mean, axis=1)\n",
    "    predictions_proba = np.array([np.exp(di / temperature) / np.sum(np.exp(di / temperature)) for di in predictions_proba_mean])\n",
    "    single_score_predictions = np.array(\n",
    "            [\n",
    "                sum(REFERENCES[i] * x[i] for i in range(len(REFERENCES))) for x in predictions_proba\n",
    "            ]\n",
    "        )\n",
    "\n",
    "    return single_score_predictions\n",
    "\n",
    "def train_model(X_train, Y_train, model = None):\n",
    "    if model == None:\n",
    "        model_i = get_base_model()\n",
    "    else:\n",
    "        model_i = model\n",
    "    model_i.fit(X_train, Y_train)\n",
    "    return model_i\n",
    "\n",
    "def calculate_score(train_data, predictions, eras):\n",
    "\n",
    "    ns = numerai_score(train_data, pd.Series(predictions))\n",
    "    cs = correlation_score(train_data, pd.Series(predictions))\n",
    "\n",
    "    df2 = pd.DataFrame(\n",
    "        {\n",
    "            \"era\": eras,\n",
    "            \"preds\": predictions,\n",
    "            \"target\": train_data\n",
    "        }\n",
    "    )\n",
    "\n",
    "    scores_per_era = df2.groupby(\"era\").apply(lambda d: np.corrcoef(d[\"preds\"], d[\"target\"])[0,1])\n",
    "\n",
    "    per_era_score, per_era_std = scores_per_era.mean(), scores_per_era.std()\n",
    "    sharpe_era_score = scores_per_era.mean() / scores_per_era.std()\n",
    "    return ns, cs, per_era_score, per_era_std, sharpe_era_score\n",
    "\n",
    "\n",
    "def ridge2probas(model, X, temperature = 1.0):\n",
    "    try:\n",
    "        predictions_proba_mean = model.decision_function(X)\n",
    "    except:\n",
    "        predictions_proba_mean = model.predict_proba(X)\n",
    "    predictions = np.argmax(predictions_proba_mean, axis=1)\n",
    "    predictions_proba = np.array([np.exp(di / temperature) / np.sum(np.exp(di / temperature)) for di in predictions_proba_mean])\n",
    "    return predictions_proba\n",
    "\n",
    "def softmax2singlescore(predictions_proba):\n",
    "    single_score_predictions = np.array(\n",
    "            [\n",
    "                sum(REFERENCES[i] * x[i] for i in range(len(REFERENCES))) for x in predictions_proba\n",
    "            ]\n",
    "        )\n",
    "\n",
    "    return single_score_predictions"
   ]
  },
  {
   "cell_type": "markdown",
   "metadata": {
    "id": "awn053kreUoW"
   },
   "source": [
    "# Baseline"
   ]
  },
  {
   "cell_type": "code",
   "execution_count": null,
   "metadata": {
    "id": "0STttp63huV2"
   },
   "outputs": [],
   "source": [
    "validation_ids = tournament_data.data_type=='validation'\n",
    "tournament_data = tournament_data[validation_ids]"
   ]
  },
  {
   "cell_type": "code",
   "execution_count": null,
   "metadata": {
    "id": "AFJuz1l9eVIb"
   },
   "outputs": [],
   "source": [
    "le = LabelEncoder()\n",
    "\n",
    "X = training_features\n",
    "Y = le.fit_transform(target)\n",
    "Y_nmr = target"
   ]
  },
  {
   "cell_type": "code",
   "execution_count": null,
   "metadata": {
    "id": "-oUkV3dghyNr"
   },
   "outputs": [],
   "source": [
    "X_test = tournament_data[feature_cols]\n",
    "Y_test = le.fit_transform(tournament_data.target_kazutsugi)\n",
    "Y_nmr_test = tournament_data.target_kazutsugi\n",
    "test_eras = tournament_data.era"
   ]
  },
  {
   "cell_type": "code",
   "execution_count": null,
   "metadata": {
    "id": "Abu_qwJDeVV2"
   },
   "outputs": [],
   "source": [
    "clf = get_base_model()\n",
    "clf.fit(X, Y)\n",
    "pred_c = clf.predict(X_test)\n",
    "pred = ridge_classifier_2single_prediction(clf, X_test)"
   ]
  },
  {
   "cell_type": "code",
   "execution_count": null,
   "metadata": {
    "colab": {
     "base_uri": "https://localhost:8080/",
     "height": 221
    },
    "id": "bFc_1oYieVV6",
    "outputId": "757e54fa-a416-4b76-ce2e-d8d460eb35c9"
   },
   "outputs": [
    {
     "name": "stdout",
     "output_type": "stream",
     "text": [
      "precision    recall  f1-score   support\n",
      "\n",
      "           0       0.28      0.27      0.28     22466\n",
      "           1       0.22      0.23      0.22     20430\n",
      "           2       0.25      0.29      0.27     18562\n",
      "           3       0.21      0.22      0.22     20410\n",
      "           4       0.32      0.27      0.29     25027\n",
      "\n",
      "    accuracy                           0.26    106895\n",
      "   macro avg       0.26      0.26      0.26    106895\n",
      "weighted avg       0.26      0.26      0.26    106895\n",
      "\n"
     ]
    }
   ],
   "source": [
    "print(classification_report(pred_c, Y_test))"
   ]
  },
  {
   "cell_type": "code",
   "execution_count": null,
   "metadata": {
    "colab": {
     "base_uri": "https://localhost:8080/",
     "height": 282
    },
    "id": "LSVJHOD3eVV9",
    "outputId": "4af61034-b329-4105-a967-08838bf379b6"
   },
   "outputs": [
    {
     "data": {
      "image/png": "[encoded data removed]",
      "text/plain": [
       "<Figure size 432x288 with 1 Axes>"
      ]
     },
     "metadata": {
      "needs_background": "light",
      "tags": []
     },
     "output_type": "display_data"
    },
    {
     "name": "stdout",
     "output_type": "stream",
     "text": [
      "0.01637580370681022 0.016117269943725906 0.01691723938559604 0.035049295033485126 0.4826698902056026\n"
     ]
    }
   ],
   "source": [
    "ns_bs = numerai_score(Y_nmr_test, pd.Series(pred))\n",
    "cs_bs = correlation_score(Y_nmr_test, pd.Series(pred))\n",
    "\n",
    "df2 = pd.DataFrame(\n",
    "    {\n",
    "        \"era\": test_eras,\n",
    "        \"preds\": pred,\n",
    "        \"target\": Y_nmr_test\n",
    "    }\n",
    ")\n",
    "\n",
    "scores_per_era_bs = df2.groupby(\"era\").apply(lambda d: np.corrcoef(d[\"preds\"], d[\"target\"])[0,1])\n",
    "\n",
    "per_era_score, per_era_std = scores_per_era_bs.mean(), scores_per_era_bs.std()\n",
    "sharpe_era_score = scores_per_era_bs.mean() / scores_per_era_bs.std()\n",
    "\n",
    "plt.figure()\n",
    "plt.plot(scores_per_era_bs.values, color = 'black')\n",
    "plt.axhline(0.0, ls = '--', color = 'grey')\n",
    "plt.show()\n",
    "print(ns_bs, cs_bs, per_era_score, per_era_std, sharpe_era_score)"
   ]
  },
  {
   "cell_type": "markdown",
   "metadata": {
    "id": "PhQo5vCfecdI"
   },
   "source": [
    "# Feature Importance"
   ]
  },
  {
   "cell_type": "code",
   "execution_count": null,
   "metadata": {
    "id": "pFQvu86xliVb"
   },
   "outputs": [],
   "source": [
    "def featImpMDA(X, y, cv, eras_groups):\n",
    "\n",
    "    cvGen = model_selection.GroupKFold(cv)\n",
    "    X_old = X.copy()\n",
    "    scr0,scr1=pd.Series(), pd.DataFrame(columns=X.columns)\n",
    "\n",
    "    for i, (train,test) in tqdm.tqdm(enumerate(cvGen.split(X=X, groups = eras_groups))):\n",
    "\n",
    "        X0, y0 = X.iloc[train, :], y[train]\n",
    "        X1, y1 = X.iloc[test, :], y[test] \n",
    "        # eras_test = pd.Series(eras2_binned).iloc[test]\n",
    "        eras_test = pd.Series(eras_groups).iloc[test]\n",
    "\n",
    "        clf = get_base_model()\n",
    "        clf.fit(X=X0,y=y0)\n",
    "        y1 = le.inverse_transform(y1)\n",
    "\n",
    "        # pred = fit.predict(X1)\n",
    "        pred = ridge_classifier_2single_prediction(clf, X1)\n",
    "\n",
    "        # scr0.loc[i]=correlation_score(y1,pred)\n",
    "        sharpes_metrics = calculate_score(y1, pred, eras_test)\n",
    "        scr0.loc[i] = sharpes_metrics[0]\n",
    "\n",
    "        for j in X.columns:\n",
    "\n",
    "            X1_ = X1.copy(deep=True)\n",
    "            np.random.shuffle(X1_[j].values) # permutation of a single column\n",
    "\n",
    "            pred_shuffled = ridge_classifier_2single_prediction(clf, X1_)\n",
    "\n",
    "            # scr1.loc[i,j]=correlation_score(y1,pred_shuffled)\n",
    "            sharpes_metrics_shuffled = calculate_score(y1, pred_shuffled, eras_test)\n",
    "            scr1.loc[i,j] = sharpes_metrics_shuffled[0]\n",
    "\n",
    "    imp=(-scr1).add(scr0,axis=0)\n",
    "    imp=imp/(1.-scr1)\n",
    "    imp=pd.concat({'mean':imp.mean(),'std':imp.std()*imp.shape[0]**-.5},axis=1)\n",
    "    return imp,scr0.mean()"
   ]
  },
  {
   "cell_type": "markdown",
   "metadata": {
    "id": "Fzk4QbU7Vz5r"
   },
   "source": [
    "# Selecting Important Features\n",
    "## 1/2 train set"
   ]
  },
  {
   "cell_type": "code",
   "execution_count": null,
   "metadata": {
    "id": "kvelULTg9dbQ"
   },
   "outputs": [],
   "source": [
    "X_FOR_FEATURE_IMPORTANCE = X[:int(len(X)/2)]\n",
    "Y_FOR_FEATURE_IMPORTANCE = Y[:int(len(Y)/2)]\n",
    "ERAS_FOR_FI = eras2_binned[:int(len(eras2_binned)/2)]"
   ]
  },
  {
   "cell_type": "code",
   "execution_count": null,
   "metadata": {
    "colab": {
     "base_uri": "https://localhost:8080/",
     "height": 88
    },
    "id": "8bBl7dCSl4BZ",
    "outputId": "4b12302e-1d08-4253-de24-e52fc1ab42f0"
   },
   "outputs": [
    {
     "name": "stderr",
     "output_type": "stream",
     "text": [
      "/usr/local/lib/python3.6/dist-packages/ipykernel_launcher.py:5: DeprecationWarning: The default dtype for empty Series will be 'object' instead of 'float64' in a future version. Specify a dtype explicitly to silence this warning.\n",
      "  \"\"\"\n",
      "5it [21:59, 263.96s/it]\n"
     ]
    }
   ],
   "source": [
    " importances, oos = featImpMDA(X=X_FOR_FEATURE_IMPORTANCE, \n",
    "                               y=Y_FOR_FEATURE_IMPORTANCE,\n",
    "                               cv = 5,\n",
    "                               eras_groups = ERAS_FOR_FI)"
   ]
  },
  {
   "cell_type": "code",
   "execution_count": null,
   "metadata": {
    "id": "sBj-yP22LbhC"
   },
   "outputs": [],
   "source": [
    "# importances_more_zero = importances[importances['mean'] - importances['std']  > 0]\n",
    "# importances_more_zero['mean_std_diff'] = importances_more_zero['mean'] - importances_more_zero['std']\n",
    "importances_more_zero = importances[importances['mean']  > 0]\n",
    "# importances_more_zero = importances.sort_values('mean')[::-1]"
   ]
  },
  {
   "cell_type": "code",
   "execution_count": null,
   "metadata": {
    "id": "STEqFX9-kZw3"
   },
   "outputs": [],
   "source": [
    "DOWN, UP = 0, 100\n",
    "COLUMN = 'mean'"
   ]
  },
  {
   "cell_type": "code",
   "execution_count": null,
   "metadata": {
    "id": "-ZQyyZblzB4R"
   },
   "outputs": [],
   "source": [
    "# importances_more_zero.sort_values('mean')[::-1].plot.bar(figsize = (40, 10))"
   ]
  },
  {
   "cell_type": "code",
   "execution_count": null,
   "metadata": {
    "colab": {
     "base_uri": "https://localhost:8080/",
     "height": 265
    },
    "id": "CeFkXYcfmiSD",
    "outputId": "db947ad9-a757-4dbe-ddcc-2406f7ab6ce0"
   },
   "outputs": [
    {
     "data": {
      "image/png": "[encoded data removed]",
      "text/plain": [
       "<Figure size 432x288 with 1 Axes>"
      ]
     },
     "metadata": {
      "needs_background": "light",
      "tags": []
     },
     "output_type": "display_data"
    }
   ],
   "source": [
    "plt.figure()\n",
    "plt.hist(importances_more_zero[COLUMN].values, bins = len(importances_more_zero))\n",
    "plt.axvline(np.percentile(importances_more_zero[COLUMN].values, UP), ls = '--', color = 'red')\n",
    "plt.axvline(np.percentile(importances_more_zero[COLUMN].values, DOWN), ls = '--', color = 'green')\n",
    "plt.show()"
   ]
  },
  {
   "cell_type": "code",
   "execution_count": null,
   "metadata": {
    "colab": {
     "base_uri": "https://localhost:8080/",
     "height": 34
    },
    "id": "7O7mS3Oqm5lZ",
    "outputId": "399b3f95-654d-4d92-e4d8-8a1a570e59e3"
   },
   "outputs": [
    {
     "data": {
      "text/plain": [
       "(2.937597982260151e-06, 0.0061110641938244585)"
      ]
     },
     "execution_count": 29,
     "metadata": {
      "tags": []
     },
     "output_type": "execute_result"
    }
   ],
   "source": [
    "up_limit = np.percentile(importances_more_zero[COLUMN].values, UP)\n",
    "bot_limit = np.percentile(importances_more_zero[COLUMN].values, DOWN)\n",
    "bot_limit, up_limit"
   ]
  },
  {
   "cell_type": "code",
   "execution_count": null,
   "metadata": {
    "colab": {
     "base_uri": "https://localhost:8080/",
     "height": 34
    },
    "id": "BHE0DKEHnqT1",
    "outputId": "18c8e434-260b-4bd7-c31a-dd22820328ac"
   },
   "outputs": [
    {
     "data": {
      "text/plain": [
       "244"
      ]
     },
     "execution_count": 30,
     "metadata": {
      "tags": []
     },
     "output_type": "execute_result"
    }
   ],
   "source": [
    "mask = (importances_more_zero[COLUMN] < up_limit) & (importances_more_zero[COLUMN] > bot_limit)\n",
    "IMPORTANT_FEATURES = importances_more_zero[mask].index.tolist()\n",
    "len(IMPORTANT_FEATURES)"
   ]
  },
  {
   "cell_type": "markdown",
   "metadata": {
    "id": "h4FZvM6yV3iU"
   },
   "source": [
    "# Re-Balance the Class Weights"
   ]
  },
  {
   "cell_type": "code",
   "execution_count": null,
   "metadata": {
    "id": "hlmKj7ykW82v"
   },
   "outputs": [],
   "source": [
    "X_FOR_CV = X[int(len(X)/2):]\n",
    "Y_FOR_CV = Y[int(len(Y)/2):]\n",
    "\n",
    "ERAS_CV = training_data[int(len(training_data)/2):].era\n",
    "ERAS_CV = ERAS_CV.apply(lambda x: 'era' + str(int(x[3:])-63))\n",
    "Y_NMR_CV = Y_nmr[int(len(Y_nmr)/2):]"
   ]
  },
  {
   "cell_type": "code",
   "execution_count": null,
   "metadata": {
    "id": "voy7rAFMWDPr"
   },
   "outputs": [],
   "source": [
    "model_t = get_base_model(   \n",
    "        cw = {\n",
    "            0: 1,\n",
    "            1: 1.1,\n",
    "            2: 1,\n",
    "            3: 1.1,\n",
    "            4: 1\n",
    "        }\n",
    "    )\n",
    "model_t = train_model(X_FOR_CV[IMPORTANT_FEATURES], Y_FOR_CV, model_t)\n",
    "pred = model_t.predict(X_FOR_CV[IMPORTANT_FEATURES])"
   ]
  },
  {
   "cell_type": "code",
   "execution_count": null,
   "metadata": {
    "colab": {
     "base_uri": "https://localhost:8080/",
     "height": 267
    },
    "id": "vWysDaxhV6A6",
    "outputId": "4918671d-5052-4797-b21a-1744a981ad9b"
   },
   "outputs": [
    {
     "data": {
      "image/png": "[encoded data removed]",
      "text/plain": [
       "<Figure size 432x288 with 1 Axes>"
      ]
     },
     "metadata": {
      "needs_background": "light",
      "tags": []
     },
     "output_type": "display_data"
    }
   ],
   "source": [
    "plt.figure()\n",
    "plt.hist(Y_FOR_CV, alpha = 0.25)\n",
    "plt.hist(pred, alpha = 0.25)\n",
    "plt.show()"
   ]
  },
  {
   "cell_type": "markdown",
   "metadata": {
    "id": "bhZzoIorWyPC"
   },
   "source": [
    "# Cross-validation"
   ]
  },
  {
   "cell_type": "code",
   "execution_count": null,
   "metadata": {
    "id": "xiTMU21vrG5W"
   },
   "outputs": [],
   "source": [
    "class PurgeCVByEras(model_selection.BaseCrossValidator):\n",
    "\n",
    "    def __init__(self, eras, n_eras_train, n_eras_test, embargo, era_prefix = 'era'):\n",
    "        self.eras = eras\n",
    "        self.n_eras = len(eras.unique())\n",
    "        self.era_prefix = era_prefix\n",
    "        self.n_eras_train = n_eras_train\n",
    "        self.n_eras_test = n_eras_test\n",
    "        self.embargo = embargo\n",
    "\n",
    "    def get_indices_of_era(self, era):\n",
    "        era_str = self.era_prefix + str(era)\n",
    "        return self.eras.index[self.eras == era_str].tolist()\n",
    "\n",
    "    def split(self, X=None, y=None, groups=None):\n",
    "        for i in range(0, self.n_eras, (self.n_eras_train + self.n_eras_test + self.embargo)):\n",
    "            train_eras = [i+n for n in range(self.n_eras_train)]\n",
    "            test_eras = [i+m+self.n_eras_train+self.embargo for m in range(self.n_eras_test)]\n",
    "            train_indices = []\n",
    "\n",
    "            test_limit = 0\n",
    "            if max(train_eras) >= self.n_eras:\n",
    "                break\n",
    "            elif max(test_eras) >= self.n_eras:\n",
    "                max_index = test_eras.index(max(test_eras))\n",
    "                test_eras = test_eras[:max_index]\n",
    "\n",
    "            for e in train_eras:\n",
    "                e_indices = self.get_indices_of_era(e)\n",
    "                train_indices.extend(e_indices)\n",
    "\n",
    "            test_indices = []\n",
    "            for e in test_eras:\n",
    "                e_indices = self.get_indices_of_era(e)\n",
    "                test_indices.extend(e_indices)\n",
    "\n",
    "            yield(train_indices, test_indices)        \n",
    "\n",
    "    def get_n_splits(self):\n",
    "        return len(range(0, self.n_eras, (self.n_eras_train + self.n_eras_test + self.embargo)))"
   ]
  },
  {
   "cell_type": "code",
   "execution_count": null,
   "metadata": {
    "id": "dug5YtH5gs11"
   },
   "outputs": [],
   "source": [
    "class BlockingTimeSeriesSplit():\n",
    "\n",
    "    def __init__(self, n_splits):\n",
    "        self.n_splits = n_splits\n",
    "    \n",
    "    def get_n_splits(self, X, y, groups):\n",
    "        return self.n_splits\n",
    "    \n",
    "    def split(self, X, y=None, groups=None):\n",
    "        n_samples = len(X)\n",
    "        k_fold_size = n_samples // self.n_splits\n",
    "        indices = np.arange(n_samples)\n",
    "\n",
    "        margin = 0\n",
    "        for i in range(self.n_splits):\n",
    "            start = i * k_fold_size\n",
    "            stop = start + k_fold_size\n",
    "            mid = int(0.5 * (stop - start)) + start\n",
    "            yield indices[start: mid], indices[mid + margin: stop]"
   ]
  },
  {
   "cell_type": "code",
   "execution_count": null,
   "metadata": {
    "id": "f1rXCNQfmdlg"
   },
   "outputs": [],
   "source": [
    "from sklearn.decomposition import PCA"
   ]
  },
  {
   "cell_type": "code",
   "execution_count": null,
   "metadata": {
    "id": "tMPeJtNr9T6G"
   },
   "outputs": [],
   "source": [
    "from catboost import CatBoostClassifier, Pool, cv"
   ]
  },
  {
   "cell_type": "code",
   "execution_count": null,
   "metadata": {
    "id": "KB8HFemruOqx"
   },
   "outputs": [],
   "source": [
    "alpha, beta = 1, 1 # scaling of the tanh function (the higher - the most \"rough\")\n",
    "def temperature_function(x, alpha=alpha, beta=beta, mi=0.01, ma=10):\n",
    "    return np.clip(alpha * -np.tanh(x * beta) + 1, mi, ma)\n",
    "\n",
    "def train_meta_labeler(X, Y_proba, Y_target):\n",
    "    meta_labels = np.array(\n",
    "          [p == t for p, t in zip(np.argmax(Y_proba, axis=1), Y_target)], dtype = np.int16\n",
    "      )\n",
    "    model_meta = CatBoostClassifier(\n",
    "          custom_loss=['Logloss'],\n",
    "          random_seed=42,\n",
    "          iterations = 25,\n",
    "          logging_level = 'Silent'\n",
    "      )\n",
    "    model_meta.fit(\n",
    "        X, meta_labels\n",
    "    )\n",
    "    meta_predictions = model_meta.predict(X)\n",
    "    meta_predictions_proba = model_meta.predict_proba(X)\n",
    "    mean_meta_prob = np.mean(meta_predictions_proba[:, 1])\n",
    "    return model_meta, mean_meta_prob\n",
    "\n",
    "def normal_labels_to_meta_labels(predictions_proba_live, predictions_proba_live_meta, mean_meta_prob):\n",
    "    predictions_proba_live_comb = []\n",
    "    for pred_proba_live, pred_proba_live_meta in zip(predictions_proba_live, predictions_proba_live_meta[:, 1]):\n",
    "        x = pred_proba_live_meta - mean_meta_prob\n",
    "        temperature = temperature_function(x) # calculation of the trust temperature\n",
    "        res = np.exp(pred_proba_live / temperature) / np.sum(np.exp(pred_proba_live / temperature)) # rescaling to sum up to 1.0\n",
    "        predictions_proba_live_comb.append(res)\n",
    "    predictions_proba_live_comb = np.array(predictions_proba_live_comb)\n",
    "    return predictions_proba_live_comb"
   ]
  },
  {
   "cell_type": "code",
   "execution_count": null,
   "metadata": {
    "id": "l9xVg-uyq-JZ"
   },
   "outputs": [],
   "source": [
    "def cross_validate(cross_validator, X, Y, Y_nmr, eras, meta = True):\n",
    "\n",
    "    all_sharpes = []\n",
    "    for train_ids, test_ids in cross_validator.split(X, Y, groups = eras):\n",
    "\n",
    "\n",
    "        X_train, X_test = X.values[train_ids], X.values[test_ids]\n",
    "        Y_train, Y_test = Y[train_ids], Y[test_ids]\n",
    "        eras_train, eras_test = eras.values[train_ids], eras.values[test_ids]\n",
    "\n",
    "        pca = PCA(0.999)\n",
    "        X_train = pca.fit_transform(X_train)\n",
    "        X_test = pca.transform(X_test)\n",
    "\n",
    "        model_i = get_base_model(cw = {\n",
    "                                    0: 1,\n",
    "                                    1: 1.1,\n",
    "                                    2: 1,\n",
    "                                    3: 1.1,\n",
    "                                    4: 1\n",
    "                                })\n",
    "        model_i = train_model(X_train, Y_train, model_i)\n",
    "        single_score_predictions = ridge_classifier_2single_prediction(model_i, X_test)\n",
    "\n",
    "        if meta:\n",
    "          \n",
    "            Y_prob = model_i.decision_function(X_train)\n",
    "            model_meta, mean_meta_prob = train_meta_labeler(X_train, Y_prob, Y_train)\n",
    "            meta_labels = model_meta.predict_proba(X_test)\n",
    "            pred_proba = ridge2probas(model_i, X_test)\n",
    "\n",
    "            predictions_proba_live_comb = []\n",
    "            for pred_proba_live, pred_proba_live_meta in zip(pred_proba, meta_labels[:, 1]):\n",
    "                x = pred_proba_live_meta - mean_meta_prob\n",
    "                temperature = temperature_function(x) # calculation of the trust temperature\n",
    "                res = np.exp(pred_proba_live / temperature) / np.sum(np.exp(pred_proba_live / temperature)) # rescaling to sum up to 1.0\n",
    "                predictions_proba_live_comb.append(res)\n",
    "            predictions_proba_live_comb = np.array(predictions_proba_live_comb)\n",
    "            single_score_predictions = softmax2singlescore(predictions_proba_live_comb)\n",
    "\n",
    "        sharpe = calculate_score(\n",
    "            train_data = Y_nmr[test_ids], \n",
    "            predictions = single_score_predictions,\n",
    "            eras = eras_test)\n",
    "\n",
    "        all_sharpes.append(sharpe)\n",
    "\n",
    "    return np.array(all_sharpes)"
   ]
  },
  {
   "cell_type": "markdown",
   "metadata": {
    "id": "5N7kA5UDAyz8"
   },
   "source": [
    "### CV on all features 2/2 train set"
   ]
  },
  {
   "cell_type": "code",
   "execution_count": null,
   "metadata": {
    "id": "y04X6KmVaFWf"
   },
   "outputs": [],
   "source": [
    "np.random.seed(0)"
   ]
  },
  {
   "cell_type": "code",
   "execution_count": null,
   "metadata": {
    "id": "ZSBe5ob8rAr-"
   },
   "outputs": [],
   "source": [
    "# cvs = {\n",
    "#     # \"GroupKFold\": model_selection.GroupKFold(5),\n",
    "#     \"TimeSeriesSplit\": model_selection.TimeSeriesSplit(5),\n",
    "#     \"BlockingTimeSeriesSplit\": BlockingTimeSeriesSplit(5),\n",
    "#     \"PurgeCVByEras\" : PurgeCVByEras(ERAS_CV.reset_index(drop=True), 12, 12, 6)\n",
    "#   }\n",
    "\n",
    "# for cv in cvs.keys():\n",
    "#     sharpes = cross_validate(cvs[cv], \n",
    "#                              X_FOR_CV.reset_index(drop=True), \n",
    "#                              Y_FOR_CV, \n",
    "#                              Y_NMR_CV.reset_index(drop=True).values, \n",
    "#                              ERAS_CV)\n",
    "#     ns = sharpes[:, 0]\n",
    "#     cs = sharpes[:, 1]\n",
    "#     per_era_score = sharpes[:, 2]\n",
    "#     per_era_std = sharpes[:, 3]\n",
    "#     sharpe_era_score = sharpes[:, 4]\n",
    "#     print(cv)\n",
    "#     print('Numerai Score', np.mean(ns), np.std(ns))\n",
    "#     print('Correlation Score', np.mean(cs), np.std(cs))\n",
    "#     print('Per-Era Correlation', np.mean(per_era_score), np.std(per_era_score))\n",
    "#     print('Per-Era Standard Deviation', np.mean(per_era_std), np.std(per_era_std))\n",
    "#     print('Per-Era Sharpe Ratio', np.mean(sharpe_era_score), np.std(sharpe_era_score))\n",
    "#     print('-' * 10)"
   ]
  },
  {
   "cell_type": "markdown",
   "metadata": {
    "id": "HAqi0jFVA2Rz"
   },
   "source": [
    "### CV on important features 2/2 train set"
   ]
  },
  {
   "cell_type": "code",
   "execution_count": null,
   "metadata": {
    "colab": {
     "base_uri": "https://localhost:8080/",
     "height": 374
    },
    "id": "KR9pZRao48_9",
    "outputId": "4a410ee1-2040-40e9-c8f2-505264fd5e88"
   },
   "outputs": [
    {
     "name": "stdout",
     "output_type": "stream",
     "text": [
      "TimeSeriesSplit\n",
      "Numerai Score 0.020318859316360113 0.010561771870042695\n",
      "Correlation Score 0.02185705143098694 0.010429330477348788\n",
      "Per-Era Correlation 0.022048919410545813 0.009499389370344615\n",
      "Per-Era Standard Deviation 0.032204401941200854 0.013183080597013822\n",
      "Per-Era Sharpe Ratio 0.7200799834289351 0.33071879229488443\n",
      "----------\n",
      "BlockingTimeSeriesSplit\n",
      "Numerai Score 0.015977856057554203 0.014485986317520861\n",
      "Correlation Score 0.01663562823617133 0.014429622992557118\n",
      "Per-Era Correlation 0.019753114507429233 0.014581750976699857\n",
      "Per-Era Standard Deviation 0.0267098272578788 0.008089381023005696\n",
      "Per-Era Sharpe Ratio 0.8133886662327287 0.729190272492613\n",
      "----------\n",
      "PurgeCVByEras\n",
      "Numerai Score 0.016126950381312063 0.006969447086941606\n",
      "Correlation Score 0.016583421206554434 0.006457549335012183\n",
      "Per-Era Correlation 0.01666164826113978 0.006511106656737055\n",
      "Per-Era Standard Deviation 0.02215798921812429 0.00032014207991064303\n",
      "Per-Era Sharpe Ratio 0.7563511315632362 0.30477704518488585\n",
      "----------\n"
     ]
    }
   ],
   "source": [
    "cvs = {\n",
    "    # \"GroupKFold\": model_selection.GroupKFold(5),\n",
    "    \"TimeSeriesSplit\": model_selection.TimeSeriesSplit(5),\n",
    "    \"BlockingTimeSeriesSplit\": BlockingTimeSeriesSplit(5),\n",
    "    \"PurgeCVByEras\" : PurgeCVByEras(ERAS_CV.reset_index(drop=True), 12, 12, 6)\n",
    "  }\n",
    "\n",
    "for cv in cvs.keys():\n",
    "    sharpes = cross_validate(cvs[cv], \n",
    "                             X_FOR_CV[IMPORTANT_FEATURES].reset_  index(drop=True), \n",
    "                             Y_FOR_CV, \n",
    "                             Y_NMR_CV.reset_index(drop=True).values, \n",
    "                             ERAS_CV,\n",
    "                             True)\n",
    "    ns = sharpes[:, 0]\n",
    "    cs = sharpes[:, 1]\n",
    "    per_era_score = sharpes[:, 2]\n",
    "    per_era_std = sharpes[:, 3]\n",
    "    sharpe_era_score = sharpes[:, 4]\n",
    "    print(cv)\n",
    "    print('Numerai Score', np.mean(ns), np.std(ns))\n",
    "    print('Correlation Score', np.mean(cs), np.std(cs))\n",
    "    print('Per-Era Correlation', np.mean(per_era_score), np.std(per_era_score))\n",
    "    print('Per-Era Standard Deviation', np.mean(per_era_std), np.std(per_era_std))\n",
    "    print('Per-Era Sharpe Ratio', np.mean(sharpe_era_score), np.std(sharpe_era_score))\n",
    "    print('-' * 10)"
   ]
  },
  {
   "cell_type": "code",
   "execution_count": null,
   "metadata": {
    "id": "HvJgmVm025cK"
   },
   "outputs": [],
   "source": [
    "# TimeSeriesSplit\n",
    "# Numerai Score 0.0192546204601281237978793262 0.009900275688495575\n",
    "# Per-Era Correlation5627 0.009945674177002841\n",
    "# Correlation Score 0.020 0.020351144914288265 0.009558358133184052\n",
    "# Per-Era Standard Deviation 0.03148433069321672 0.015217252267864998\n",
    "# Per-Era Sharpe Ratio 0.6763038015393811 0.35337794957104884\n",
    "# ----------\n",
    "# BlockingTimeSeriesSplit\n",
    "# Numerai Score 0.017357464096510865 0.012836981320395383\n",
    "# Correlation Score 0.017920222716025697 0.013369830409459603\n",
    "# Per-Era Correlation 0.02190719592987754 0.013944126615746757\n",
    "# Per-Era Standard Deviation 0.026080775818348077 0.007932714138070066\n",
    "# Per-Era Sharpe Ratio 0.8948490467333936 0.6466697114680272\n",
    "# ----------\n",
    "# PurgeCVByEras\n",
    "# Numerai Score 0.013242613898943342 0.00766841254656926\n",
    "# Correlation Score 0.013190882038723603 0.007379940144351194\n",
    "# Per-Era Correlation 0.013255279242168322 0.007459466336770321\n",
    "# Per-Era Standard Deviation 0.020017224014070682 0.0018776388099172505\n",
    "# Per-Era Sharpe Ratio 0.6328063004037553 0.3132944240202242\n",
    "# ----------"
   ]
  },
  {
   "cell_type": "code",
   "execution_count": null,
   "metadata": {
    "id": "9SLHsWFXVbQE"
   },
   "outputs": [],
   "source": [
    "# TimeSeriesSplit\n",
    "# Numerai Score 0.02097256380133245 0.010013304793910693\n",
    "# Correlation Score 0.022389722781826167 0.009915355575225753\n",
    "# Per-Era Correlation 0.02271200354105003 0.008879267635339095\n",
    "# Per-Era Standard Deviation 0.03354371473178732 0.012071340946551126\n",
    "# Per-Era Sharpe Ratio 0.6975813447369505 0.280578880285802\n",
    "# ----------\n",
    "# BlockingTimeSeriesSplit\n",
    "# Numerai Score 0.017714859461851987 0.015647730336606373\n",
    "# Correlation Score 0.01866113165931573 0.01580110304774684\n",
    "# Per-Era Correlation 0.021961981979271815 0.016443722898939354\n",
    "# Per-Era Standard Deviation 0.02597788186077334 0.006730381851703717\n",
    "# Per-Era Sharpe Ratio 0.8857505026078005 0.7612270120539839\n",
    "# ----------\n",
    "# PurgeCVByEras\n",
    "# Numerai Score 0.014262925641734505 0.0060517181791186056\n",
    "# Correlation Score 0.014860589337502828 0.006240294463612156\n",
    "# Per-Era Correlation 0.014969936884651858 0.006338905390379263\n",
    "# Per-Era Standard Deviation 0.02290642946126601 0.0006344368680178351\n",
    "# Per-Era Sharpe Ratio 0.6616977204423878 0.2950573694228523\n",
    "# ----------"
   ]
  },
  {
   "cell_type": "code",
   "execution_count": null,
   "metadata": {
    "id": "AODLrOcNVbWA"
   },
   "outputs": [],
   "source": [
    "# TimeSeriesSplit\n",
    "# Numerai Score 0.020925707426224523 0.009978817402474733\n",
    "# Correlation Score 0.022363503936886325 0.00978196523757409\n",
    "# Per-Era Correlation 0.022699633265259464 0.008786733091903606\n",
    "# Per-Era Standard Deviation 0.033550790679720534 0.0120730366336198\n",
    "# Per-Era Sharpe Ratio 0.6949696052782974 0.27259800172135307\n",
    "# ----------\n",
    "# BlockingTimeSeriesSplit\n",
    "# Numerai Score 0.017583533750837065 0.015516714565264881\n",
    "# Correlation Score 0.01834605361937234 0.015556431070866263\n",
    "# Per-Era Correlation 0.02222291121028109 0.01681195828297658\n",
    "# Per-Era Standard Deviation 0.027082426863812875 0.006963238869225877\n",
    "# Per-Era Sharpe Ratio 0.8224676837618027 0.6632216252915604\n",
    "# ----------\n",
    "# PurgeCVByEras\n",
    "# Numerai Score 0.014184639073992006 0.005836885339597908\n",
    "# Correlation Score 0.014899994440039893 0.006357032282929712\n",
    "# Per-Era Correlation 0.014993982353271557 0.006435644449725583\n",
    "# Per-Era Standard Deviation 0.02268378052274169 0.0010921198281787486\n",
    "# Per-Era Sharpe Ratio 0.6762270268475762 0.3162685067819142\n",
    "# ----------"
   ]
  },
  {
   "cell_type": "markdown",
   "metadata": {
    "id": "UlKNFPctAMu0"
   },
   "source": [
    "# Final Validation"
   ]
  },
  {
   "cell_type": "code",
   "execution_count": null,
   "metadata": {
    "id": "cmuODG-6tZrG"
   },
   "outputs": [],
   "source": [
    "X_test = tournament_data[IMPORTANT_FEATURES]\n",
    "Y_test = le.fit_transform(tournament_data.target_kazutsugi)\n",
    "Y_nmr_test = tournament_data.target_kazutsugi\n",
    "test_eras = tournament_data.era"
   ]
  },
  {
   "cell_type": "code",
   "execution_count": null,
   "metadata": {
    "id": "bMBn0aigtvXO"
   },
   "outputs": [],
   "source": [
    "clf = get_base_model()\n",
    "clf.fit(X[IMPORTANT_FEATURES], Y)\n",
    "pred_c = clf.predict(X_test)\n",
    "pred = ridge_classifier_2single_prediction(clf, X_test)"
   ]
  },
  {
   "cell_type": "code",
   "execution_count": null,
   "metadata": {
    "colab": {
     "base_uri": "https://localhost:8080/",
     "height": 221
    },
    "id": "qz-2E60KyZut",
    "outputId": "6f7944f0-dda5-41de-d729-ebe935318368"
   },
   "outputs": [
    {
     "name": "stdout",
     "output_type": "stream",
     "text": [
      "precision    recall  f1-score   support\n",
      "\n",
      "           0       0.29      0.27      0.28     22644\n",
      "           1       0.22      0.23      0.22     20593\n",
      "           2       0.24      0.29      0.26     18140\n",
      "           3       0.22      0.22      0.22     20640\n",
      "           4       0.32      0.27      0.29     24878\n",
      "\n",
      "    accuracy                           0.26    106895\n",
      "   macro avg       0.26      0.26      0.26    106895\n",
      "weighted avg       0.26      0.26      0.26    106895\n",
      "\n"
     ]
    }
   ],
   "source": [
    "print(classification_report(pred_c, Y_test))"
   ]
  },
  {
   "cell_type": "code",
   "execution_count": null,
   "metadata": {
    "colab": {
     "base_uri": "https://localhost:8080/",
     "height": 34
    },
    "id": "S2yXtDNgueY6",
    "outputId": "db9ec46f-f9b6-4247-d48e-f9f3f3775d83"
   },
   "outputs": [
    {
     "data": {
      "text/plain": [
       "((106895, 244), (106895,), (106895,))"
      ]
     },
     "execution_count": 49,
     "metadata": {
      "tags": []
     },
     "output_type": "execute_result"
    }
   ],
   "source": [
    "X_test.shape, pred.shape, test_eras.shape"
   ]
  },
  {
   "cell_type": "code",
   "execution_count": null,
   "metadata": {
    "colab": {
     "base_uri": "https://localhost:8080/",
     "height": 282
    },
    "id": "FW7VCbKGuNvI",
    "outputId": "0af1f14a-3781-4784-a7a8-a86637f9ce93"
   },
   "outputs": [
    {
     "data": {
      "image/png": "[encoded data removed]",
      "text/plain": [
       "<Figure size 432x288 with 1 Axes>"
      ]
     },
     "metadata": {
      "needs_background": "light",
      "tags": []
     },
     "output_type": "display_data"
    },
    {
     "name": "stdout",
     "output_type": "stream",
     "text": [
      "0.016432322340894753 0.016002683882384846 0.016818310521582804 0.03492848494360476 0.4815070149403133\n"
     ]
    }
   ],
   "source": [
    "ns = numerai_score(Y_nmr_test, pd.Series(pred))\n",
    "cs = correlation_score(Y_nmr_test, pd.Series(pred))\n",
    "\n",
    "df2 = pd.DataFrame(\n",
    "    {\n",
    "        \"era\": test_eras,\n",
    "        \"preds\": pred,\n",
    "        \"target\": Y_nmr_test\n",
    "    }\n",
    ")\n",
    "\n",
    "scores_per_era = df2.groupby(\"era\").apply(lambda d: np.corrcoef(d[\"preds\"], d[\"target\"])[0,1])\n",
    "\n",
    "per_era_score, per_era_std = scores_per_era.mean(), scores_per_era.std()\n",
    "sharpe_era_score = scores_per_era.mean() / scores_per_era.std()\n",
    "\n",
    "plt.figure()\n",
    "plt.plot(scores_per_era_bs.values, color = 'black')\n",
    "plt.plot(scores_per_era.values, ls = '--', color = 'red')\n",
    "plt.axhline(0.0, ls = '--', color = 'grey')\n",
    "plt.show()\n",
    "print(ns, cs, per_era_score, per_era_std, sharpe_era_score)"
   ]
  },
  {
   "cell_type": "code",
   "execution_count": null,
   "metadata": {
    "colab": {
     "base_uri": "https://localhost:8080/",
     "height": 1000
    },
    "id": "1_eEcv25T5Xe",
    "outputId": "01ae0adb-89c4-425f-8ffe-2cd8c76590a7"
   },
   "outputs": [
    {
     "data": {
      "text/plain": [
       "['feature_intelligence1',\n",
       " 'feature_intelligence2',\n",
       " 'feature_intelligence3',\n",
       " 'feature_intelligence4',\n",
       " 'feature_intelligence5',\n",
       " 'feature_intelligence6',\n",
       " 'feature_intelligence7',\n",
       " 'feature_intelligence9',\n",
       " 'feature_intelligence10',\n",
       " 'feature_intelligence11',\n",
       " 'feature_charisma2',\n",
       " 'feature_charisma3',\n",
       " 'feature_charisma4',\n",
       " 'feature_charisma5',\n",
       " 'feature_charisma7',\n",
       " 'feature_charisma10',\n",
       " 'feature_charisma11',\n",
       " 'feature_charisma13',\n",
       " 'feature_charisma15',\n",
       " 'feature_charisma16',\n",
       " 'feature_charisma17',\n",
       " 'feature_charisma18',\n",
       " 'feature_charisma19',\n",
       " 'feature_charisma20',\n",
       " 'feature_charisma21',\n",
       " 'feature_charisma22',\n",
       " 'feature_charisma23',\n",
       " 'feature_charisma24',\n",
       " 'feature_charisma25',\n",
       " 'feature_charisma26',\n",
       " 'feature_charisma27',\n",
       " 'feature_charisma28',\n",
       " 'feature_charisma29',\n",
       " 'feature_charisma30',\n",
       " 'feature_charisma31',\n",
       " 'feature_charisma32',\n",
       " 'feature_charisma33',\n",
       " 'feature_charisma34',\n",
       " 'feature_charisma36',\n",
       " 'feature_charisma37',\n",
       " 'feature_charisma39',\n",
       " 'feature_charisma40',\n",
       " 'feature_charisma41',\n",
       " 'feature_charisma43',\n",
       " 'feature_charisma44',\n",
       " 'feature_charisma45',\n",
       " 'feature_charisma46',\n",
       " 'feature_charisma47',\n",
       " 'feature_charisma48',\n",
       " 'feature_charisma50',\n",
       " 'feature_charisma51',\n",
       " 'feature_charisma52',\n",
       " 'feature_charisma53',\n",
       " 'feature_charisma54',\n",
       " 'feature_charisma55',\n",
       " 'feature_charisma56',\n",
       " 'feature_charisma58',\n",
       " 'feature_charisma62',\n",
       " 'feature_charisma63',\n",
       " 'feature_charisma64',\n",
       " 'feature_charisma65',\n",
       " 'feature_charisma67',\n",
       " 'feature_charisma68',\n",
       " 'feature_charisma69',\n",
       " 'feature_charisma70',\n",
       " 'feature_charisma71',\n",
       " 'feature_charisma72',\n",
       " 'feature_charisma73',\n",
       " 'feature_charisma74',\n",
       " 'feature_charisma75',\n",
       " 'feature_charisma76',\n",
       " 'feature_charisma77',\n",
       " 'feature_charisma78',\n",
       " 'feature_charisma79',\n",
       " 'feature_charisma80',\n",
       " 'feature_charisma81',\n",
       " 'feature_charisma82',\n",
       " 'feature_charisma83',\n",
       " 'feature_charisma85',\n",
       " 'feature_charisma86',\n",
       " 'feature_strength1',\n",
       " 'feature_strength2',\n",
       " 'feature_strength4',\n",
       " 'feature_strength5',\n",
       " 'feature_strength6',\n",
       " 'feature_strength7',\n",
       " 'feature_strength8',\n",
       " 'feature_strength10',\n",
       " 'feature_strength11',\n",
       " 'feature_strength12',\n",
       " 'feature_strength14',\n",
       " 'feature_strength15',\n",
       " 'feature_strength16',\n",
       " 'feature_strength17',\n",
       " 'feature_strength18',\n",
       " 'feature_strength19',\n",
       " 'feature_strength20',\n",
       " 'feature_strength22',\n",
       " 'feature_strength23',\n",
       " 'feature_strength24',\n",
       " 'feature_strength25',\n",
       " 'feature_strength26',\n",
       " 'feature_strength27',\n",
       " 'feature_strength29',\n",
       " 'feature_strength30',\n",
       " 'feature_strength31',\n",
       " 'feature_strength32',\n",
       " 'feature_strength34',\n",
       " 'feature_strength35',\n",
       " 'feature_strength36',\n",
       " 'feature_strength37',\n",
       " 'feature_strength38',\n",
       " 'feature_dexterity1',\n",
       " 'feature_dexterity2',\n",
       " 'feature_dexterity4',\n",
       " 'feature_dexterity5',\n",
       " 'feature_dexterity6',\n",
       " 'feature_dexterity7',\n",
       " 'feature_dexterity9',\n",
       " 'feature_dexterity10',\n",
       " 'feature_dexterity12',\n",
       " 'feature_dexterity13',\n",
       " 'feature_dexterity14',\n",
       " 'feature_constitution1',\n",
       " 'feature_constitution3',\n",
       " 'feature_constitution5',\n",
       " 'feature_constitution6',\n",
       " 'feature_constitution8',\n",
       " 'feature_constitution9',\n",
       " 'feature_constitution11',\n",
       " 'feature_constitution12',\n",
       " 'feature_constitution13',\n",
       " 'feature_constitution14',\n",
       " 'feature_constitution15',\n",
       " 'feature_constitution16',\n",
       " 'feature_constitution17',\n",
       " 'feature_constitution18',\n",
       " 'feature_constitution20',\n",
       " 'feature_constitution21',\n",
       " 'feature_constitution24',\n",
       " 'feature_constitution25',\n",
       " 'feature_constitution27',\n",
       " 'feature_constitution28',\n",
       " 'feature_constitution29',\n",
       " 'feature_constitution30',\n",
       " 'feature_constitution33',\n",
       " 'feature_constitution34',\n",
       " 'feature_constitution35',\n",
       " 'feature_constitution37',\n",
       " 'feature_constitution38',\n",
       " 'feature_constitution43',\n",
       " 'feature_constitution44',\n",
       " 'feature_constitution46',\n",
       " 'feature_constitution48',\n",
       " 'feature_constitution49',\n",
       " 'feature_constitution50',\n",
       " 'feature_constitution51',\n",
       " 'feature_constitution53',\n",
       " 'feature_constitution55',\n",
       " 'feature_constitution56',\n",
       " 'feature_constitution57',\n",
       " 'feature_constitution58',\n",
       " 'feature_constitution59',\n",
       " 'feature_constitution60',\n",
       " 'feature_constitution61',\n",
       " 'feature_constitution62',\n",
       " 'feature_constitution63',\n",
       " 'feature_constitution64',\n",
       " 'feature_constitution65',\n",
       " 'feature_constitution66',\n",
       " 'feature_constitution69',\n",
       " 'feature_constitution70',\n",
       " 'feature_constitution72',\n",
       " 'feature_constitution74',\n",
       " 'feature_constitution75',\n",
       " 'feature_constitution77',\n",
       " 'feature_constitution78',\n",
       " 'feature_constitution80',\n",
       " 'feature_constitution81',\n",
       " 'feature_constitution82',\n",
       " 'feature_constitution84',\n",
       " 'feature_constitution85',\n",
       " 'feature_constitution86',\n",
       " 'feature_constitution88',\n",
       " 'feature_constitution89',\n",
       " 'feature_constitution91',\n",
       " 'feature_constitution92',\n",
       " 'feature_constitution94',\n",
       " 'feature_constitution95',\n",
       " 'feature_constitution96',\n",
       " 'feature_constitution97',\n",
       " 'feature_constitution98',\n",
       " 'feature_constitution99',\n",
       " 'feature_constitution100',\n",
       " 'feature_constitution102',\n",
       " 'feature_constitution103',\n",
       " 'feature_constitution104',\n",
       " 'feature_constitution105',\n",
       " 'feature_constitution106',\n",
       " 'feature_constitution107',\n",
       " 'feature_constitution108',\n",
       " 'feature_constitution109',\n",
       " 'feature_constitution110',\n",
       " 'feature_constitution111',\n",
       " 'feature_constitution113',\n",
       " 'feature_constitution114',\n",
       " 'feature_wisdom1',\n",
       " 'feature_wisdom2',\n",
       " 'feature_wisdom4',\n",
       " 'feature_wisdom5',\n",
       " 'feature_wisdom7',\n",
       " 'feature_wisdom8',\n",
       " 'feature_wisdom9',\n",
       " 'feature_wisdom10',\n",
       " 'feature_wisdom11',\n",
       " 'feature_wisdom12',\n",
       " 'feature_wisdom14',\n",
       " 'feature_wisdom16',\n",
       " 'feature_wisdom17',\n",
       " 'feature_wisdom18',\n",
       " 'feature_wisdom19',\n",
       " 'feature_wisdom20',\n",
       " 'feature_wisdom21',\n",
       " 'feature_wisdom22',\n",
       " 'feature_wisdom23',\n",
       " 'feature_wisdom24',\n",
       " 'feature_wisdom25',\n",
       " 'feature_wisdom28',\n",
       " 'feature_wisdom29',\n",
       " 'feature_wisdom30',\n",
       " 'feature_wisdom31',\n",
       " 'feature_wisdom32',\n",
       " 'feature_wisdom33',\n",
       " 'feature_wisdom34',\n",
       " 'feature_wisdom35',\n",
       " 'feature_wisdom36',\n",
       " 'feature_wisdom38',\n",
       " 'feature_wisdom39',\n",
       " 'feature_wisdom41',\n",
       " 'feature_wisdom42',\n",
       " 'feature_wisdom43',\n",
       " 'feature_wisdom44',\n",
       " 'feature_wisdom45',\n",
       " 'feature_wisdom46']"
      ]
     },
     "execution_count": 54,
     "metadata": {
      "tags": []
     },
     "output_type": "execute_result"
    }
   ],
   "source": [
    "IMPORTANT_FEATURES"
   ]
  },
  {
   "cell_type": "code",
   "execution_count": null,
   "metadata": {
    "id": "lbZVduA-t-5F"
   },
   "outputs": [],
   "source": [
    "# 0.016377875621628485 0.01611916480602046 0.016919172393467265 0.035054573477805176 0.48265235359887204"
   ]
  },
  {
   "cell_type": "code",
   "execution_count": null,
   "metadata": {
    "id": "05xGwaT6T59t"
   },
   "outputs": [],
   "source": [
    "# 0.016891909006799235 0.01645011349547171 0.017219044707080692 0.035294027287233395 0.48787418242035496"
   ]
  },
  {
   "cell_type": "code",
   "execution_count": null,
   "metadata": {
    "id": "XPHdfeptT9Tf"
   },
   "outputs": [],
   "source": [
    "# 0.01695515820999998 0.0165072009830593 0.017262188559532085 0.03516001888771483 0.49096073055761696"
   ]
  }
 ],
 "metadata": {
  "colab": {
   "collapsed_sections": [],
   "machine_shape": "hm",
   "name": "NumerAI Feature Importance CROSS-VALIDATION.ipynb",
   "provenance": []
  },
  "kernelspec": {
   "display_name": "Python 3",
   "language": "python",
   "name": "python3"
  },
  "language_info": {
   "codemirror_mode": {
    "name": "ipython",
    "version": 3
   },
   "file_extension": ".py",
   "mimetype": "text/x-python",
   "name": "python",
   "nbconvert_exporter": "python",
   "pygments_lexer": "ipython3",
   "version": "3.8.5"
  }
 },
 "nbformat": 4,
 "nbformat_minor": 4
}
