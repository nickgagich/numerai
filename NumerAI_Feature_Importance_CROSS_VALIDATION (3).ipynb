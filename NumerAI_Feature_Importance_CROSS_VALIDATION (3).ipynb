{
  "cells": [
    {
      "cell_type": "code",
      "execution_count": null,
      "metadata": {
        "colab": {
          "base_uri": "https://localhost:8080/",
          "height": 683
        },
        "id": "fgab3lykHnRP",
        "outputId": "7c065d99-cc12-49ac-9a98-6aa2e28ef4ec"
      },
      "outputs": [
        {
          "name": "stdout",
          "output_type": "stream",
          "text": [
            "Requirement already satisfied: pandas in /usr/local/lib/python3.6/dist-packages (1.0.5)\n",
            "Requirement already satisfied: sklearn in /usr/local/lib/python3.6/dist-packages (0.0)\n",
            "Collecting numerapi\n",
            "  Downloading https://files.pythonhosted.org/packages/e9/b0/4992d6de584c82297b6060260a21b94c05c37fb64438746057b612e10f07/numerapi-2.3.4-py3-none-any.whl\n",
            "Requirement already satisfied: python-dateutil>=2.6.1 in /usr/local/lib/python3.6/dist-packages (from pandas) (2.8.1)\n",
            "Requirement already satisfied: numpy>=1.13.3 in /usr/local/lib/python3.6/dist-packages (from pandas) (1.18.5)\n",
            "Requirement already satisfied: pytz>=2017.2 in /usr/local/lib/python3.6/dist-packages (from pandas) (2018.9)\n",
            "Requirement already satisfied: scikit-learn in /usr/local/lib/python3.6/dist-packages (from sklearn) (0.22.2.post1)\n",
            "Requirement already satisfied: tqdm>=4.29.1 in /usr/local/lib/python3.6/dist-packages (from numerapi) (4.41.1)\n",
            "Requirement already satisfied: click>=7.0 in /usr/local/lib/python3.6/dist-packages (from numerapi) (7.1.2)\n",
            "Requirement already satisfied: requests in /usr/local/lib/python3.6/dist-packages (from numerapi) (2.23.0)\n",
            "Requirement already satisfied: six>=1.5 in /usr/local/lib/python3.6/dist-packages (from python-dateutil>=2.6.1->pandas) (1.15.0)\n",
            "Requirement already satisfied: scipy>=0.17.0 in /usr/local/lib/python3.6/dist-packages (from scikit-learn->sklearn) (1.4.1)\n",
            "Requirement already satisfied: joblib>=0.11 in /usr/local/lib/python3.6/dist-packages (from scikit-learn->sklearn) (0.16.0)\n",
            "Requirement already satisfied: certifi>=2017.4.17 in /usr/local/lib/python3.6/dist-packages (from requests->numerapi) (2020.6.20)\n",
            "Requirement already satisfied: idna<3,>=2.5 in /usr/local/lib/python3.6/dist-packages (from requests->numerapi) (2.10)\n",
            "Requirement already satisfied: chardet<4,>=3.0.2 in /usr/local/lib/python3.6/dist-packages (from requests->numerapi) (3.0.4)\n",
            "Requirement already satisfied: urllib3!=1.25.0,!=1.25.1,<1.26,>=1.21.1 in /usr/local/lib/python3.6/dist-packages (from requests->numerapi) (1.24.3)\n",
            "Installing collected packages: numerapi\n",
            "Successfully installed numerapi-2.3.4\n",
            "Collecting catboost\n",
            "\u001b[?25l  Downloading https://files.pythonhosted.org/packages/90/86/c3dcb600b4f9e7584ed90ea9d30a717fb5c0111574675f442c3e7bc19535/catboost-0.24.1-cp36-none-manylinux1_x86_64.whl (66.1MB)\n",
            "\u001b[K     |████████████████████████████████| 66.1MB 61kB/s \n",
            "\u001b[?25hRequirement already satisfied: scipy in /usr/local/lib/python3.6/dist-packages (from catboost) (1.4.1)\n",
            "Requirement already satisfied: matplotlib in /usr/local/lib/python3.6/dist-packages (from catboost) (3.2.2)\n",
            "Requirement already satisfied: pandas>=0.24.0 in /usr/local/lib/python3.6/dist-packages (from catboost) (1.0.5)\n",
            "Requirement already satisfied: six in /usr/local/lib/python3.6/dist-packages (from catboost) (1.15.0)\n",
            "Requirement already satisfied: graphviz in /usr/local/lib/python3.6/dist-packages (from catboost) (0.10.1)\n",
            "Requirement already satisfied: plotly in /usr/local/lib/python3.6/dist-packages (from catboost) (4.4.1)\n",
            "Requirement already satisfied: numpy>=1.16.0 in /usr/local/lib/python3.6/dist-packages (from catboost) (1.18.5)\n",
            "Requirement already satisfied: pyparsing!=2.0.4,!=2.1.2,!=2.1.6,>=2.0.1 in /usr/local/lib/python3.6/dist-packages (from matplotlib->catboost) (2.4.7)\n",
            "Requirement already satisfied: cycler>=0.10 in /usr/local/lib/python3.6/dist-packages (from matplotlib->catboost) (0.10.0)\n",
            "Requirement already satisfied: kiwisolver>=1.0.1 in /usr/local/lib/python3.6/dist-packages (from matplotlib->catboost) (1.2.0)\n",
            "Requirement already satisfied: python-dateutil>=2.1 in /usr/local/lib/python3.6/dist-packages (from matplotlib->catboost) (2.8.1)\n",
            "Requirement already satisfied: pytz>=2017.2 in /usr/local/lib/python3.6/dist-packages (from pandas>=0.24.0->catboost) (2018.9)\n",
            "Requirement already satisfied: retrying>=1.3.3 in /usr/local/lib/python3.6/dist-packages (from plotly->catboost) (1.3.3)\n",
            "Installing collected packages: catboost\n",
            "Successfully installed catboost-0.24.1\n"
          ]
        }
      ],
      "source": [
        "# install dependencies\n",
        "! pip install pandas sklearn numerapi\n",
        "! pip install catboost"
      ]
    },
    {
      "cell_type": "markdown",
      "metadata": {
        "id": "HgIJMO1Ru262"
      },
      "source": [
        "# Loading"
      ]
    },
    {
      "cell_type": "code",
      "execution_count": 1,
      "metadata": {
        "id": "FNdw-etZHszx"
      },
      "outputs": [],
      "source": [
        "# import dependencies\n",
        "import pandas as pd\n",
        "import numpy as np\n",
        "import numerapi\n",
        "import sklearn.linear_model\n",
        "import matplotlib.pylab as plt\n",
        "\n",
        "from datetime import timedelta\n",
        "import tqdm"
      ]
    },
    {
      "cell_type": "code",
      "execution_count": 2,
      "metadata": {
        "id": "Ot2EudWzNpz7"
      },
      "outputs": [],
      "source": [
        "# The models should be scored based on the rank-correlation (spearman) with the target\n",
        "def numerai_score(y_true, y_pred):\n",
        "    rank_pred = y_pred.groupby(eras).apply(lambda x: x.rank(pct=True, method=\"first\"))\n",
        "    return np.corrcoef(y_true, rank_pred)[0,1]\n",
        "\n",
        "# It can also be convenient while working to evaluate based on the regular (pearson) correlation\n",
        "def correlation_score(y_true, y_pred):\n",
        "    return np.corrcoef(y_true, y_pred)[0,1]"
      ]
    },
    {
      "cell_type": "code",
      "execution_count": 3,
      "metadata": {
        "colab": {
          "base_uri": "https://localhost:8080/",
          "height": 253
        },
        "id": "e9uDP3H-HuMJ",
        "outputId": "01649431-3e91-4a25-ae92-b38ae38e81f3"
      },
      "outputs": [
        {
          "output_type": "execute_result",
          "data": {
            "text/plain": [
              "                 id   era data_type  feature_intelligence1  \\\n",
              "0  n000315175b67977  era1     train                   0.00   \n",
              "1  n0014af834a96cdd  era1     train                   0.00   \n",
              "2  n001c93979ac41d4  era1     train                   0.25   \n",
              "3  n0034e4143f22a13  era1     train                   1.00   \n",
              "4  n00679d1a636062f  era1     train                   0.25   \n",
              "\n",
              "   feature_intelligence2  feature_intelligence3  feature_intelligence4  \\\n",
              "0                   0.50                   0.25                   0.00   \n",
              "1                   0.00                   0.00                   0.25   \n",
              "2                   0.50                   0.25                   0.25   \n",
              "3                   0.00                   0.00                   0.50   \n",
              "4                   0.25                   0.25                   0.25   \n",
              "\n",
              "   feature_intelligence5  feature_intelligence6  feature_intelligence7  ...  \\\n",
              "0                    0.5                   0.25                   0.25  ...   \n",
              "1                    0.5                   0.00                   0.00  ...   \n",
              "2                    1.0                   0.75                   0.75  ...   \n",
              "3                    0.5                   0.25                   0.25  ...   \n",
              "4                    0.0                   0.25                   0.50  ...   \n",
              "\n",
              "   feature_wisdom38  feature_wisdom39  feature_wisdom40  feature_wisdom41  \\\n",
              "0              1.00              1.00              0.75              0.50   \n",
              "1              1.00              1.00              0.00              0.00   \n",
              "2              0.25              0.50              0.00              0.00   \n",
              "3              1.00              1.00              0.75              0.75   \n",
              "4              0.75              0.75              0.25              0.50   \n",
              "\n",
              "   feature_wisdom42  feature_wisdom43  feature_wisdom44  feature_wisdom45  \\\n",
              "0              0.75              0.50              1.00              0.50   \n",
              "1              0.75              0.25              0.00              0.25   \n",
              "2              0.50              1.00              0.00              0.25   \n",
              "3              1.00              1.00              0.75              1.00   \n",
              "4              0.75              0.00              0.50              0.25   \n",
              "\n",
              "   feature_wisdom46  target  \n",
              "0              0.75    0.50  \n",
              "1              1.00    0.25  \n",
              "2              0.75    0.25  \n",
              "3              1.00    0.25  \n",
              "4              0.75    0.75  \n",
              "\n",
              "[5 rows x 314 columns]"
            ],
            "text/html": "<div>\n<style scoped>\n    .dataframe tbody tr th:only-of-type {\n        vertical-align: middle;\n    }\n\n    .dataframe tbody tr th {\n        vertical-align: top;\n    }\n\n    .dataframe thead th {\n        text-align: right;\n    }\n</style>\n<table border=\"1\" class=\"dataframe\">\n  <thead>\n    <tr style=\"text-align: right;\">\n      <th></th>\n      <th>id</th>\n      <th>era</th>\n      <th>data_type</th>\n      <th>feature_intelligence1</th>\n      <th>feature_intelligence2</th>\n      <th>feature_intelligence3</th>\n      <th>feature_intelligence4</th>\n      <th>feature_intelligence5</th>\n      <th>feature_intelligence6</th>\n      <th>feature_intelligence7</th>\n      <th>...</th>\n      <th>feature_wisdom38</th>\n      <th>feature_wisdom39</th>\n      <th>feature_wisdom40</th>\n      <th>feature_wisdom41</th>\n      <th>feature_wisdom42</th>\n      <th>feature_wisdom43</th>\n      <th>feature_wisdom44</th>\n      <th>feature_wisdom45</th>\n      <th>feature_wisdom46</th>\n      <th>target</th>\n    </tr>\n  </thead>\n  <tbody>\n    <tr>\n      <th>0</th>\n      <td>n000315175b67977</td>\n      <td>era1</td>\n      <td>train</td>\n      <td>0.00</td>\n      <td>0.50</td>\n      <td>0.25</td>\n      <td>0.00</td>\n      <td>0.5</td>\n      <td>0.25</td>\n      <td>0.25</td>\n      <td>...</td>\n      <td>1.00</td>\n      <td>1.00</td>\n      <td>0.75</td>\n      <td>0.50</td>\n      <td>0.75</td>\n      <td>0.50</td>\n      <td>1.00</td>\n      <td>0.50</td>\n      <td>0.75</td>\n      <td>0.50</td>\n    </tr>\n    <tr>\n      <th>1</th>\n      <td>n0014af834a96cdd</td>\n      <td>era1</td>\n      <td>train</td>\n      <td>0.00</td>\n      <td>0.00</td>\n      <td>0.00</td>\n      <td>0.25</td>\n      <td>0.5</td>\n      <td>0.00</td>\n      <td>0.00</td>\n      <td>...</td>\n      <td>1.00</td>\n      <td>1.00</td>\n      <td>0.00</td>\n      <td>0.00</td>\n      <td>0.75</td>\n      <td>0.25</td>\n      <td>0.00</td>\n      <td>0.25</td>\n      <td>1.00</td>\n      <td>0.25</td>\n    </tr>\n    <tr>\n      <th>2</th>\n      <td>n001c93979ac41d4</td>\n      <td>era1</td>\n      <td>train</td>\n      <td>0.25</td>\n      <td>0.50</td>\n      <td>0.25</td>\n      <td>0.25</td>\n      <td>1.0</td>\n      <td>0.75</td>\n      <td>0.75</td>\n      <td>...</td>\n      <td>0.25</td>\n      <td>0.50</td>\n      <td>0.00</td>\n      <td>0.00</td>\n      <td>0.50</td>\n      <td>1.00</td>\n      <td>0.00</td>\n      <td>0.25</td>\n      <td>0.75</td>\n      <td>0.25</td>\n    </tr>\n    <tr>\n      <th>3</th>\n      <td>n0034e4143f22a13</td>\n      <td>era1</td>\n      <td>train</td>\n      <td>1.00</td>\n      <td>0.00</td>\n      <td>0.00</td>\n      <td>0.50</td>\n      <td>0.5</td>\n      <td>0.25</td>\n      <td>0.25</td>\n      <td>...</td>\n      <td>1.00</td>\n      <td>1.00</td>\n      <td>0.75</td>\n      <td>0.75</td>\n      <td>1.00</td>\n      <td>1.00</td>\n      <td>0.75</td>\n      <td>1.00</td>\n      <td>1.00</td>\n      <td>0.25</td>\n    </tr>\n    <tr>\n      <th>4</th>\n      <td>n00679d1a636062f</td>\n      <td>era1</td>\n      <td>train</td>\n      <td>0.25</td>\n      <td>0.25</td>\n      <td>0.25</td>\n      <td>0.25</td>\n      <td>0.0</td>\n      <td>0.25</td>\n      <td>0.50</td>\n      <td>...</td>\n      <td>0.75</td>\n      <td>0.75</td>\n      <td>0.25</td>\n      <td>0.50</td>\n      <td>0.75</td>\n      <td>0.00</td>\n      <td>0.50</td>\n      <td>0.25</td>\n      <td>0.75</td>\n      <td>0.75</td>\n    </tr>\n  </tbody>\n</table>\n<p>5 rows × 314 columns</p>\n</div>"
          },
          "metadata": {},
          "execution_count": 3
        }
      ],
      "source": [
        "# download the latest training dataset (takes around 30s)\n",
        "training_data = pd.read_csv(\"https://numerai-public-datasets.s3-us-west-2.amazonaws.com/latest_numerai_training_data.csv.xz\")\n",
        "training_data.head()"
      ]
    },
    {
      "cell_type": "code",
      "execution_count": 4,
      "metadata": {
        "colab": {
          "base_uri": "https://localhost:8080/",
          "height": 253
        },
        "id": "zDToDCtAIRBK",
        "outputId": "4bfb64f4-3fd9-4332-8b80-c203d6729023"
      },
      "outputs": [
        {
          "output_type": "execute_result",
          "data": {
            "text/plain": [
              "                 id     era   data_type  feature_intelligence1  \\\n",
              "0  n0003aa52cab36c2  era121  validation                   0.25   \n",
              "1  n000920ed083903f  era121  validation                   0.75   \n",
              "2  n0038e640522c4a6  era121  validation                   1.00   \n",
              "3  n004ac94a87dc54b  era121  validation                   0.75   \n",
              "4  n0052fe97ea0c05f  era121  validation                   0.25   \n",
              "\n",
              "   feature_intelligence2  feature_intelligence3  feature_intelligence4  \\\n",
              "0                   0.75                   0.50                   0.50   \n",
              "1                   0.50                   0.75                   1.00   \n",
              "2                   0.00                   0.00                   1.00   \n",
              "3                   1.00                   1.00                   0.50   \n",
              "4                   0.50                   0.50                   0.25   \n",
              "\n",
              "   feature_intelligence5  feature_intelligence6  feature_intelligence7  ...  \\\n",
              "0                    0.0                   0.75                    0.5  ...   \n",
              "1                    0.5                   0.00                    0.0  ...   \n",
              "2                    1.0                   1.00                    1.0  ...   \n",
              "3                    0.0                   0.00                    0.0  ...   \n",
              "4                    1.0                   0.50                    0.5  ...   \n",
              "\n",
              "   feature_wisdom38  feature_wisdom39  feature_wisdom40  feature_wisdom41  \\\n",
              "0              0.75              0.75              1.00              0.75   \n",
              "1              0.50              0.50              0.75              1.00   \n",
              "2              0.00              0.00              0.50              0.25   \n",
              "3              0.00              0.00              0.00              0.25   \n",
              "4              0.50              0.75              0.00              0.00   \n",
              "\n",
              "   feature_wisdom42  feature_wisdom43  feature_wisdom44  feature_wisdom45  \\\n",
              "0              0.50               0.5               1.0              0.00   \n",
              "1              0.75               0.5               0.5              0.50   \n",
              "2              0.00               0.0               0.5              0.50   \n",
              "3              0.00               0.0               0.0              0.25   \n",
              "4              0.75               1.0               0.0              0.25   \n",
              "\n",
              "   feature_wisdom46  target  \n",
              "0              0.00    0.25  \n",
              "1              0.50    0.50  \n",
              "2              0.00    1.00  \n",
              "3              0.25    0.50  \n",
              "4              1.00    0.75  \n",
              "\n",
              "[5 rows x 314 columns]"
            ],
            "text/html": "<div>\n<style scoped>\n    .dataframe tbody tr th:only-of-type {\n        vertical-align: middle;\n    }\n\n    .dataframe tbody tr th {\n        vertical-align: top;\n    }\n\n    .dataframe thead th {\n        text-align: right;\n    }\n</style>\n<table border=\"1\" class=\"dataframe\">\n  <thead>\n    <tr style=\"text-align: right;\">\n      <th></th>\n      <th>id</th>\n      <th>era</th>\n      <th>data_type</th>\n      <th>feature_intelligence1</th>\n      <th>feature_intelligence2</th>\n      <th>feature_intelligence3</th>\n      <th>feature_intelligence4</th>\n      <th>feature_intelligence5</th>\n      <th>feature_intelligence6</th>\n      <th>feature_intelligence7</th>\n      <th>...</th>\n      <th>feature_wisdom38</th>\n      <th>feature_wisdom39</th>\n      <th>feature_wisdom40</th>\n      <th>feature_wisdom41</th>\n      <th>feature_wisdom42</th>\n      <th>feature_wisdom43</th>\n      <th>feature_wisdom44</th>\n      <th>feature_wisdom45</th>\n      <th>feature_wisdom46</th>\n      <th>target</th>\n    </tr>\n  </thead>\n  <tbody>\n    <tr>\n      <th>0</th>\n      <td>n0003aa52cab36c2</td>\n      <td>era121</td>\n      <td>validation</td>\n      <td>0.25</td>\n      <td>0.75</td>\n      <td>0.50</td>\n      <td>0.50</td>\n      <td>0.0</td>\n      <td>0.75</td>\n      <td>0.5</td>\n      <td>...</td>\n      <td>0.75</td>\n      <td>0.75</td>\n      <td>1.00</td>\n      <td>0.75</td>\n      <td>0.50</td>\n      <td>0.5</td>\n      <td>1.0</td>\n      <td>0.00</td>\n      <td>0.00</td>\n      <td>0.25</td>\n    </tr>\n    <tr>\n      <th>1</th>\n      <td>n000920ed083903f</td>\n      <td>era121</td>\n      <td>validation</td>\n      <td>0.75</td>\n      <td>0.50</td>\n      <td>0.75</td>\n      <td>1.00</td>\n      <td>0.5</td>\n      <td>0.00</td>\n      <td>0.0</td>\n      <td>...</td>\n      <td>0.50</td>\n      <td>0.50</td>\n      <td>0.75</td>\n      <td>1.00</td>\n      <td>0.75</td>\n      <td>0.5</td>\n      <td>0.5</td>\n      <td>0.50</td>\n      <td>0.50</td>\n      <td>0.50</td>\n    </tr>\n    <tr>\n      <th>2</th>\n      <td>n0038e640522c4a6</td>\n      <td>era121</td>\n      <td>validation</td>\n      <td>1.00</td>\n      <td>0.00</td>\n      <td>0.00</td>\n      <td>1.00</td>\n      <td>1.0</td>\n      <td>1.00</td>\n      <td>1.0</td>\n      <td>...</td>\n      <td>0.00</td>\n      <td>0.00</td>\n      <td>0.50</td>\n      <td>0.25</td>\n      <td>0.00</td>\n      <td>0.0</td>\n      <td>0.5</td>\n      <td>0.50</td>\n      <td>0.00</td>\n      <td>1.00</td>\n    </tr>\n    <tr>\n      <th>3</th>\n      <td>n004ac94a87dc54b</td>\n      <td>era121</td>\n      <td>validation</td>\n      <td>0.75</td>\n      <td>1.00</td>\n      <td>1.00</td>\n      <td>0.50</td>\n      <td>0.0</td>\n      <td>0.00</td>\n      <td>0.0</td>\n      <td>...</td>\n      <td>0.00</td>\n      <td>0.00</td>\n      <td>0.00</td>\n      <td>0.25</td>\n      <td>0.00</td>\n      <td>0.0</td>\n      <td>0.0</td>\n      <td>0.25</td>\n      <td>0.25</td>\n      <td>0.50</td>\n    </tr>\n    <tr>\n      <th>4</th>\n      <td>n0052fe97ea0c05f</td>\n      <td>era121</td>\n      <td>validation</td>\n      <td>0.25</td>\n      <td>0.50</td>\n      <td>0.50</td>\n      <td>0.25</td>\n      <td>1.0</td>\n      <td>0.50</td>\n      <td>0.5</td>\n      <td>...</td>\n      <td>0.50</td>\n      <td>0.75</td>\n      <td>0.00</td>\n      <td>0.00</td>\n      <td>0.75</td>\n      <td>1.0</td>\n      <td>0.0</td>\n      <td>0.25</td>\n      <td>1.00</td>\n      <td>0.75</td>\n    </tr>\n  </tbody>\n</table>\n<p>5 rows × 314 columns</p>\n</div>"
          },
          "metadata": {},
          "execution_count": 4
        }
      ],
      "source": [
        "# download the latest tournament dataset (takes around 30s)\n",
        "tournament_data = pd.read_csv(\"https://numerai-public-datasets.s3-us-west-2.amazonaws.com/latest_numerai_tournament_data.csv.xz\")\n",
        "tournament_data.head()"
      ]
    },
    {
      "cell_type": "code",
      "execution_count": 5,
      "metadata": {
        "id": "t9icZbkwIV6u"
      },
      "outputs": [],
      "source": [
        "# find only the feature columns\n",
        "feature_cols = training_data.columns[training_data.columns.str.startswith('feature')]"
      ]
    },
    {
      "cell_type": "code",
      "execution_count": 6,
      "metadata": {
        "id": "W_mNIzjoIZmY"
      },
      "outputs": [],
      "source": [
        "# select those columns out of the training dataset\n",
        "training_features = training_data[feature_cols]"
      ]
    },
    {
      "cell_type": "code",
      "execution_count": 25,
      "metadata": {
        "id": "DlfJE5sHav1e"
      },
      "outputs": [],
      "source": [
        "target = training_data['target']"
      ]
    },
    {
      "cell_type": "code",
      "execution_count": 28,
      "metadata": {
        "id": "aW37qQS6TO5U"
      },
      "outputs": [],
      "source": [
        "eras = training_data['era']\n",
        "eras_live = tournament_data.era"
      ]
    },
    {
      "cell_type": "code",
      "execution_count": 29,
      "metadata": {
        "id": "ZwN4eWdE83MY"
      },
      "outputs": [],
      "source": [
        "N_ERAS_IN_FOLD = 12\n",
        "N_FOLDS = int(len(eras.unique()) / N_ERAS_IN_FOLD)\n",
        "\n",
        "eras2_binned = []\n",
        "current_era = 1\n",
        "thresh_era_limit = N_ERAS_IN_FOLD\n",
        "for era in eras:\n",
        "    era_num = int(era.split('era')[-1])\n",
        "    if era_num <= thresh_era_limit:\n",
        "        eras2_binned.append(current_era)\n",
        "    else:\n",
        "        current_era += 1\n",
        "        thresh_era_limit += N_ERAS_IN_FOLD\n",
        "        eras2_binned.append(current_era)"
      ]
    },
    {
      "cell_type": "code",
      "execution_count": 30,
      "metadata": {
        "id": "TXnQLMtQ9Ydy"
      },
      "outputs": [],
      "source": [
        "validation_ids = tournament_data.data_type=='validation'"
      ]
    },
    {
      "cell_type": "markdown",
      "metadata": {
        "id": "2SRAOTDfu5NQ"
      },
      "source": [
        "# Feature Importance"
      ]
    },
    {
      "cell_type": "code",
      "execution_count": 31,
      "metadata": {
        "id": "S7E6nTowBpY1"
      },
      "outputs": [],
      "source": [
        "from sklearn.linear_model import RidgeClassifier\n",
        "\n",
        "from sklearn.metrics import log_loss, accuracy_score\n",
        "from sklearn import model_selection\n",
        "\n",
        "from scipy.cluster.hierarchy import linkage, fcluster\n",
        "from itertools import product"
      ]
    },
    {
      "cell_type": "code",
      "execution_count": 33,
      "metadata": {
        "id": "2qChRBdJfX1F"
      },
      "outputs": [],
      "source": [
        "from sklearn import model_selection\n",
        "from sklearn import metrics\n",
        "from sklearn.preprocessing import LabelEncoder\n",
        "from sklearn.metrics import classification_report"
      ]
    },
    {
      "cell_type": "code",
      "execution_count": 34,
      "metadata": {
        "id": "3helgnRCdOWQ"
      },
      "outputs": [],
      "source": [
        "REFERENCES = [0.0, 0.25, 0.5, 0.75, 1.0]"
      ]
    },
    {
      "cell_type": "code",
      "execution_count": 35,
      "metadata": {
        "id": "8ZwnjyyRbhuM"
      },
      "outputs": [],
      "source": [
        "def get_base_model(cw = {0: 1,\n",
        "                          1: 1.1,\n",
        "                          2: 1,\n",
        "                          3: 1.1,\n",
        "                          4: 1\n",
        "                        }):\n",
        "    return RidgeClassifier(alpha = 1, \n",
        "                           class_weight = cw\n",
        "                                    )\n",
        "    \n",
        "def ridge_classifier_2single_prediction(model, X, temperature = 1.0):\n",
        "    try:\n",
        "        predictions_proba_mean = model.decision_function(X)\n",
        "    except:\n",
        "        predictions_proba_mean = model.predict_proba(X)\n",
        "    predictions = np.argmax(predictions_proba_mean, axis=1)\n",
        "    predictions_proba = np.array([np.exp(di / temperature) / np.sum(np.exp(di / temperature)) for di in predictions_proba_mean])\n",
        "    single_score_predictions = np.array(\n",
        "            [\n",
        "                sum(REFERENCES[i] * x[i] for i in range(len(REFERENCES))) for x in predictions_proba\n",
        "            ]\n",
        "        )\n",
        "\n",
        "    return single_score_predictions\n",
        "\n",
        "def train_model(X_train, Y_train, model = None):\n",
        "    if model == None:\n",
        "        model_i = get_base_model()\n",
        "    else:\n",
        "        model_i = model\n",
        "    model_i.fit(X_train, Y_train)\n",
        "    return model_i\n",
        "\n",
        "def calculate_score(train_data, predictions, eras):\n",
        "\n",
        "    ns = numerai_score(train_data, pd.Series(predictions))\n",
        "    cs = correlation_score(train_data, pd.Series(predictions))\n",
        "\n",
        "    df2 = pd.DataFrame(\n",
        "        {\n",
        "            \"era\": eras,\n",
        "            \"preds\": predictions,\n",
        "            \"target\": train_data\n",
        "        }\n",
        "    )\n",
        "\n",
        "    scores_per_era = df2.groupby(\"era\").apply(lambda d: np.corrcoef(d[\"preds\"], d[\"target\"])[0,1])\n",
        "\n",
        "    per_era_score, per_era_std = scores_per_era.mean(), scores_per_era.std()\n",
        "    sharpe_era_score = scores_per_era.mean() / scores_per_era.std()\n",
        "    return ns, cs, per_era_score, per_era_std, sharpe_era_score\n",
        "\n",
        "\n",
        "def ridge2probas(model, X, temperature = 1.0):\n",
        "    try:\n",
        "        predictions_proba_mean = model.decision_function(X)\n",
        "    except:\n",
        "        predictions_proba_mean = model.predict_proba(X)\n",
        "    predictions = np.argmax(predictions_proba_mean, axis=1)\n",
        "    predictions_proba = np.array([np.exp(di / temperature) / np.sum(np.exp(di / temperature)) for di in predictions_proba_mean])\n",
        "    return predictions_proba\n",
        "\n",
        "def softmax2singlescore(predictions_proba):\n",
        "    single_score_predictions = np.array(\n",
        "            [\n",
        "                sum(REFERENCES[i] * x[i] for i in range(len(REFERENCES))) for x in predictions_proba\n",
        "            ]\n",
        "        )\n",
        "\n",
        "    return single_score_predictions"
      ]
    },
    {
      "cell_type": "markdown",
      "metadata": {
        "id": "awn053kreUoW"
      },
      "source": [
        "# Baseline"
      ]
    },
    {
      "cell_type": "code",
      "execution_count": 36,
      "metadata": {
        "id": "0STttp63huV2"
      },
      "outputs": [],
      "source": [
        "validation_ids = tournament_data.data_type=='validation'\n",
        "tournament_data = tournament_data[validation_ids]"
      ]
    },
    {
      "cell_type": "code",
      "execution_count": 37,
      "metadata": {
        "id": "AFJuz1l9eVIb"
      },
      "outputs": [],
      "source": [
        "le = LabelEncoder()\n",
        "\n",
        "X = training_features\n",
        "Y = le.fit_transform(target)\n",
        "Y_nmr = target"
      ]
    },
    {
      "cell_type": "code",
      "execution_count": 38,
      "metadata": {
        "id": "-oUkV3dghyNr"
      },
      "outputs": [],
      "source": [
        "X_test = tournament_data[feature_cols]\n",
        "Y_test = le.fit_transform(tournament_data.target)\n",
        "Y_nmr_test = tournament_data.target\n",
        "test_eras = tournament_data.era"
      ]
    },
    {
      "cell_type": "code",
      "execution_count": 39,
      "metadata": {
        "id": "Abu_qwJDeVV2"
      },
      "outputs": [],
      "source": [
        "clf = get_base_model()\n",
        "clf.fit(X, Y)\n",
        "pred_c = clf.predict(X_test)\n",
        "pred = ridge_classifier_2single_prediction(clf, X_test)"
      ]
    },
    {
      "cell_type": "code",
      "execution_count": 40,
      "metadata": {
        "colab": {
          "base_uri": "https://localhost:8080/",
          "height": 221
        },
        "id": "bFc_1oYieVV6",
        "outputId": "757e54fa-a416-4b76-ce2e-d8d460eb35c9"
      },
      "outputs": [
        {
          "output_type": "stream",
          "name": "stdout",
          "text": [
            "              precision    recall  f1-score   support\n\n           0       0.00      0.00      0.00         0\n           1       0.01      0.23      0.01       709\n           2       0.99      0.50      0.67    135810\n           3       0.01      0.23      0.02      1260\n           4       0.00      0.00      0.00         0\n\n    accuracy                           0.50    137779\n   macro avg       0.20      0.19      0.14    137779\nweighted avg       0.98      0.50      0.66    137779\n\n"
          ]
        }
      ],
      "source": [
        "print(classification_report(pred_c, Y_test))"
      ]
    },
    {
      "cell_type": "code",
      "execution_count": 41,
      "metadata": {
        "colab": {
          "base_uri": "https://localhost:8080/",
          "height": 282
        },
        "id": "LSVJHOD3eVV9",
        "outputId": "4af61034-b329-4105-a967-08838bf379b6"
      },
      "outputs": [
        {
          "output_type": "display_data",
          "data": {
            "text/plain": "<Figure size 432x288 with 1 Axes>",
            "image/svg+xml": "<?xml version=\"1.0\" encoding=\"utf-8\" standalone=\"no\"?>\r\n<!DOCTYPE svg PUBLIC \"-//W3C//DTD SVG 1.1//EN\"\r\n  \"http://www.w3.org/Graphics/SVG/1.1/DTD/svg11.dtd\">\r\n<!-- Created with matplotlib (https://matplotlib.org/) -->\r\n<svg height=\"248.518125pt\" version=\"1.1\" viewBox=\"0 0 386.845313 248.518125\" width=\"386.845313pt\" xmlns=\"http://www.w3.org/2000/svg\" xmlns:xlink=\"http://www.w3.org/1999/xlink\">\r\n <metadata>\r\n  <rdf:RDF xmlns:cc=\"http://creativecommons.org/ns#\" xmlns:dc=\"http://purl.org/dc/elements/1.1/\" xmlns:rdf=\"http://www.w3.org/1999/02/22-rdf-syntax-ns#\">\r\n   <cc:Work>\r\n    <dc:type rdf:resource=\"http://purl.org/dc/dcmitype/StillImage\"/>\r\n    <dc:date>2020-11-22T19:59:49.962999</dc:date>\r\n    <dc:format>image/svg+xml</dc:format>\r\n    <dc:creator>\r\n     <cc:Agent>\r\n      <dc:title>Matplotlib v3.3.3, https://matplotlib.org/</dc:title>\r\n     </cc:Agent>\r\n    </dc:creator>\r\n   </cc:Work>\r\n  </rdf:RDF>\r\n </metadata>\r\n <defs>\r\n  <style type=\"text/css\">*{stroke-linecap:butt;stroke-linejoin:round;}</style>\r\n </defs>\r\n <g id=\"figure_1\">\r\n  <g id=\"patch_1\">\r\n   <path d=\"M 0 248.518125 \r\nL 386.845313 248.518125 \r\nL 386.845313 0 \r\nL 0 0 \r\nz\r\n\" style=\"fill:none;\"/>\r\n  </g>\r\n  <g id=\"axes_1\">\r\n   <g id=\"patch_2\">\r\n    <path d=\"M 44.845313 224.64 \r\nL 379.645313 224.64 \r\nL 379.645313 7.2 \r\nL 44.845313 7.2 \r\nz\r\n\" style=\"fill:#ffffff;\"/>\r\n   </g>\r\n   <g id=\"matplotlib.axis_1\">\r\n    <g id=\"xtick_1\">\r\n     <g id=\"line2d_1\">\r\n      <defs>\r\n       <path d=\"M 0 0 \r\nL 0 3.5 \r\n\" id=\"ma4d2a662ba\" style=\"stroke:#000000;stroke-width:0.8;\"/>\r\n      </defs>\r\n      <g>\r\n       <use style=\"stroke:#000000;stroke-width:0.8;\" x=\"60.063494\" xlink:href=\"#ma4d2a662ba\" y=\"224.64\"/>\r\n      </g>\r\n     </g>\r\n     <g id=\"text_1\">\r\n      <!-- 0 -->\r\n      <g transform=\"translate(56.882244 239.238438)scale(0.1 -0.1)\">\r\n       <defs>\r\n        <path d=\"M 31.78125 66.40625 \r\nQ 24.171875 66.40625 20.328125 58.90625 \r\nQ 16.5 51.421875 16.5 36.375 \r\nQ 16.5 21.390625 20.328125 13.890625 \r\nQ 24.171875 6.390625 31.78125 6.390625 \r\nQ 39.453125 6.390625 43.28125 13.890625 \r\nQ 47.125 21.390625 47.125 36.375 \r\nQ 47.125 51.421875 43.28125 58.90625 \r\nQ 39.453125 66.40625 31.78125 66.40625 \r\nz\r\nM 31.78125 74.21875 \r\nQ 44.046875 74.21875 50.515625 64.515625 \r\nQ 56.984375 54.828125 56.984375 36.375 \r\nQ 56.984375 17.96875 50.515625 8.265625 \r\nQ 44.046875 -1.421875 31.78125 -1.421875 \r\nQ 19.53125 -1.421875 13.0625 8.265625 \r\nQ 6.59375 17.96875 6.59375 36.375 \r\nQ 6.59375 54.828125 13.0625 64.515625 \r\nQ 19.53125 74.21875 31.78125 74.21875 \r\nz\r\n\" id=\"DejaVuSans-48\"/>\r\n       </defs>\r\n       <use xlink:href=\"#DejaVuSans-48\"/>\r\n      </g>\r\n     </g>\r\n    </g>\r\n    <g id=\"xtick_2\">\r\n     <g id=\"line2d_2\">\r\n      <g>\r\n       <use style=\"stroke:#000000;stroke-width:0.8;\" x=\"116.427131\" xlink:href=\"#ma4d2a662ba\" y=\"224.64\"/>\r\n      </g>\r\n     </g>\r\n     <g id=\"text_2\">\r\n      <!-- 5 -->\r\n      <g transform=\"translate(113.245881 239.238438)scale(0.1 -0.1)\">\r\n       <defs>\r\n        <path d=\"M 10.796875 72.90625 \r\nL 49.515625 72.90625 \r\nL 49.515625 64.59375 \r\nL 19.828125 64.59375 \r\nL 19.828125 46.734375 \r\nQ 21.96875 47.46875 24.109375 47.828125 \r\nQ 26.265625 48.1875 28.421875 48.1875 \r\nQ 40.625 48.1875 47.75 41.5 \r\nQ 54.890625 34.8125 54.890625 23.390625 \r\nQ 54.890625 11.625 47.5625 5.09375 \r\nQ 40.234375 -1.421875 26.90625 -1.421875 \r\nQ 22.3125 -1.421875 17.546875 -0.640625 \r\nQ 12.796875 0.140625 7.71875 1.703125 \r\nL 7.71875 11.625 \r\nQ 12.109375 9.234375 16.796875 8.0625 \r\nQ 21.484375 6.890625 26.703125 6.890625 \r\nQ 35.15625 6.890625 40.078125 11.328125 \r\nQ 45.015625 15.765625 45.015625 23.390625 \r\nQ 45.015625 31 40.078125 35.4375 \r\nQ 35.15625 39.890625 26.703125 39.890625 \r\nQ 22.75 39.890625 18.8125 39.015625 \r\nQ 14.890625 38.140625 10.796875 36.28125 \r\nz\r\n\" id=\"DejaVuSans-53\"/>\r\n       </defs>\r\n       <use xlink:href=\"#DejaVuSans-53\"/>\r\n      </g>\r\n     </g>\r\n    </g>\r\n    <g id=\"xtick_3\">\r\n     <g id=\"line2d_3\">\r\n      <g>\r\n       <use style=\"stroke:#000000;stroke-width:0.8;\" x=\"172.790767\" xlink:href=\"#ma4d2a662ba\" y=\"224.64\"/>\r\n      </g>\r\n     </g>\r\n     <g id=\"text_3\">\r\n      <!-- 10 -->\r\n      <g transform=\"translate(166.428267 239.238438)scale(0.1 -0.1)\">\r\n       <defs>\r\n        <path d=\"M 12.40625 8.296875 \r\nL 28.515625 8.296875 \r\nL 28.515625 63.921875 \r\nL 10.984375 60.40625 \r\nL 10.984375 69.390625 \r\nL 28.421875 72.90625 \r\nL 38.28125 72.90625 \r\nL 38.28125 8.296875 \r\nL 54.390625 8.296875 \r\nL 54.390625 0 \r\nL 12.40625 0 \r\nz\r\n\" id=\"DejaVuSans-49\"/>\r\n       </defs>\r\n       <use xlink:href=\"#DejaVuSans-49\"/>\r\n       <use x=\"63.623047\" xlink:href=\"#DejaVuSans-48\"/>\r\n      </g>\r\n     </g>\r\n    </g>\r\n    <g id=\"xtick_4\">\r\n     <g id=\"line2d_4\">\r\n      <g>\r\n       <use style=\"stroke:#000000;stroke-width:0.8;\" x=\"229.154403\" xlink:href=\"#ma4d2a662ba\" y=\"224.64\"/>\r\n      </g>\r\n     </g>\r\n     <g id=\"text_4\">\r\n      <!-- 15 -->\r\n      <g transform=\"translate(222.791903 239.238438)scale(0.1 -0.1)\">\r\n       <use xlink:href=\"#DejaVuSans-49\"/>\r\n       <use x=\"63.623047\" xlink:href=\"#DejaVuSans-53\"/>\r\n      </g>\r\n     </g>\r\n    </g>\r\n    <g id=\"xtick_5\">\r\n     <g id=\"line2d_5\">\r\n      <g>\r\n       <use style=\"stroke:#000000;stroke-width:0.8;\" x=\"285.51804\" xlink:href=\"#ma4d2a662ba\" y=\"224.64\"/>\r\n      </g>\r\n     </g>\r\n     <g id=\"text_5\">\r\n      <!-- 20 -->\r\n      <g transform=\"translate(279.15554 239.238438)scale(0.1 -0.1)\">\r\n       <defs>\r\n        <path d=\"M 19.1875 8.296875 \r\nL 53.609375 8.296875 \r\nL 53.609375 0 \r\nL 7.328125 0 \r\nL 7.328125 8.296875 \r\nQ 12.9375 14.109375 22.625 23.890625 \r\nQ 32.328125 33.6875 34.8125 36.53125 \r\nQ 39.546875 41.84375 41.421875 45.53125 \r\nQ 43.3125 49.21875 43.3125 52.78125 \r\nQ 43.3125 58.59375 39.234375 62.25 \r\nQ 35.15625 65.921875 28.609375 65.921875 \r\nQ 23.96875 65.921875 18.8125 64.3125 \r\nQ 13.671875 62.703125 7.8125 59.421875 \r\nL 7.8125 69.390625 \r\nQ 13.765625 71.78125 18.9375 73 \r\nQ 24.125 74.21875 28.421875 74.21875 \r\nQ 39.75 74.21875 46.484375 68.546875 \r\nQ 53.21875 62.890625 53.21875 53.421875 \r\nQ 53.21875 48.921875 51.53125 44.890625 \r\nQ 49.859375 40.875 45.40625 35.40625 \r\nQ 44.1875 33.984375 37.640625 27.21875 \r\nQ 31.109375 20.453125 19.1875 8.296875 \r\nz\r\n\" id=\"DejaVuSans-50\"/>\r\n       </defs>\r\n       <use xlink:href=\"#DejaVuSans-50\"/>\r\n       <use x=\"63.623047\" xlink:href=\"#DejaVuSans-48\"/>\r\n      </g>\r\n     </g>\r\n    </g>\r\n    <g id=\"xtick_6\">\r\n     <g id=\"line2d_6\">\r\n      <g>\r\n       <use style=\"stroke:#000000;stroke-width:0.8;\" x=\"341.881676\" xlink:href=\"#ma4d2a662ba\" y=\"224.64\"/>\r\n      </g>\r\n     </g>\r\n     <g id=\"text_6\">\r\n      <!-- 25 -->\r\n      <g transform=\"translate(335.519176 239.238438)scale(0.1 -0.1)\">\r\n       <use xlink:href=\"#DejaVuSans-50\"/>\r\n       <use x=\"63.623047\" xlink:href=\"#DejaVuSans-53\"/>\r\n      </g>\r\n     </g>\r\n    </g>\r\n   </g>\r\n   <g id=\"matplotlib.axis_2\">\r\n    <g id=\"ytick_1\">\r\n     <g id=\"line2d_7\">\r\n      <defs>\r\n       <path d=\"M 0 0 \r\nL -3.5 0 \r\n\" id=\"m76235d9f1b\" style=\"stroke:#000000;stroke-width:0.8;\"/>\r\n      </defs>\r\n      <g>\r\n       <use style=\"stroke:#000000;stroke-width:0.8;\" x=\"44.845313\" xlink:href=\"#m76235d9f1b\" y=\"219.338266\"/>\r\n      </g>\r\n     </g>\r\n     <g id=\"text_7\">\r\n      <!-- −0.06 -->\r\n      <g transform=\"translate(7.2 223.137485)scale(0.1 -0.1)\">\r\n       <defs>\r\n        <path d=\"M 10.59375 35.5 \r\nL 73.1875 35.5 \r\nL 73.1875 27.203125 \r\nL 10.59375 27.203125 \r\nz\r\n\" id=\"DejaVuSans-8722\"/>\r\n        <path d=\"M 10.6875 12.40625 \r\nL 21 12.40625 \r\nL 21 0 \r\nL 10.6875 0 \r\nz\r\n\" id=\"DejaVuSans-46\"/>\r\n        <path d=\"M 33.015625 40.375 \r\nQ 26.375 40.375 22.484375 35.828125 \r\nQ 18.609375 31.296875 18.609375 23.390625 \r\nQ 18.609375 15.53125 22.484375 10.953125 \r\nQ 26.375 6.390625 33.015625 6.390625 \r\nQ 39.65625 6.390625 43.53125 10.953125 \r\nQ 47.40625 15.53125 47.40625 23.390625 \r\nQ 47.40625 31.296875 43.53125 35.828125 \r\nQ 39.65625 40.375 33.015625 40.375 \r\nz\r\nM 52.59375 71.296875 \r\nL 52.59375 62.3125 \r\nQ 48.875 64.0625 45.09375 64.984375 \r\nQ 41.3125 65.921875 37.59375 65.921875 \r\nQ 27.828125 65.921875 22.671875 59.328125 \r\nQ 17.53125 52.734375 16.796875 39.40625 \r\nQ 19.671875 43.65625 24.015625 45.921875 \r\nQ 28.375 48.1875 33.59375 48.1875 \r\nQ 44.578125 48.1875 50.953125 41.515625 \r\nQ 57.328125 34.859375 57.328125 23.390625 \r\nQ 57.328125 12.15625 50.6875 5.359375 \r\nQ 44.046875 -1.421875 33.015625 -1.421875 \r\nQ 20.359375 -1.421875 13.671875 8.265625 \r\nQ 6.984375 17.96875 6.984375 36.375 \r\nQ 6.984375 53.65625 15.1875 63.9375 \r\nQ 23.390625 74.21875 37.203125 74.21875 \r\nQ 40.921875 74.21875 44.703125 73.484375 \r\nQ 48.484375 72.75 52.59375 71.296875 \r\nz\r\n\" id=\"DejaVuSans-54\"/>\r\n       </defs>\r\n       <use xlink:href=\"#DejaVuSans-8722\"/>\r\n       <use x=\"83.789062\" xlink:href=\"#DejaVuSans-48\"/>\r\n       <use x=\"147.412109\" xlink:href=\"#DejaVuSans-46\"/>\r\n       <use x=\"179.199219\" xlink:href=\"#DejaVuSans-48\"/>\r\n       <use x=\"242.822266\" xlink:href=\"#DejaVuSans-54\"/>\r\n      </g>\r\n     </g>\r\n    </g>\r\n    <g id=\"ytick_2\">\r\n     <g id=\"line2d_8\">\r\n      <g>\r\n       <use style=\"stroke:#000000;stroke-width:0.8;\" x=\"44.845313\" xlink:href=\"#m76235d9f1b\" y=\"191.221279\"/>\r\n      </g>\r\n     </g>\r\n     <g id=\"text_8\">\r\n      <!-- −0.04 -->\r\n      <g transform=\"translate(7.2 195.020498)scale(0.1 -0.1)\">\r\n       <defs>\r\n        <path d=\"M 37.796875 64.3125 \r\nL 12.890625 25.390625 \r\nL 37.796875 25.390625 \r\nz\r\nM 35.203125 72.90625 \r\nL 47.609375 72.90625 \r\nL 47.609375 25.390625 \r\nL 58.015625 25.390625 \r\nL 58.015625 17.1875 \r\nL 47.609375 17.1875 \r\nL 47.609375 0 \r\nL 37.796875 0 \r\nL 37.796875 17.1875 \r\nL 4.890625 17.1875 \r\nL 4.890625 26.703125 \r\nz\r\n\" id=\"DejaVuSans-52\"/>\r\n       </defs>\r\n       <use xlink:href=\"#DejaVuSans-8722\"/>\r\n       <use x=\"83.789062\" xlink:href=\"#DejaVuSans-48\"/>\r\n       <use x=\"147.412109\" xlink:href=\"#DejaVuSans-46\"/>\r\n       <use x=\"179.199219\" xlink:href=\"#DejaVuSans-48\"/>\r\n       <use x=\"242.822266\" xlink:href=\"#DejaVuSans-52\"/>\r\n      </g>\r\n     </g>\r\n    </g>\r\n    <g id=\"ytick_3\">\r\n     <g id=\"line2d_9\">\r\n      <g>\r\n       <use style=\"stroke:#000000;stroke-width:0.8;\" x=\"44.845313\" xlink:href=\"#m76235d9f1b\" y=\"163.104292\"/>\r\n      </g>\r\n     </g>\r\n     <g id=\"text_9\">\r\n      <!-- −0.02 -->\r\n      <g transform=\"translate(7.2 166.903511)scale(0.1 -0.1)\">\r\n       <use xlink:href=\"#DejaVuSans-8722\"/>\r\n       <use x=\"83.789062\" xlink:href=\"#DejaVuSans-48\"/>\r\n       <use x=\"147.412109\" xlink:href=\"#DejaVuSans-46\"/>\r\n       <use x=\"179.199219\" xlink:href=\"#DejaVuSans-48\"/>\r\n       <use x=\"242.822266\" xlink:href=\"#DejaVuSans-50\"/>\r\n      </g>\r\n     </g>\r\n    </g>\r\n    <g id=\"ytick_4\">\r\n     <g id=\"line2d_10\">\r\n      <g>\r\n       <use style=\"stroke:#000000;stroke-width:0.8;\" x=\"44.845313\" xlink:href=\"#m76235d9f1b\" y=\"134.987306\"/>\r\n      </g>\r\n     </g>\r\n     <g id=\"text_10\">\r\n      <!-- 0.00 -->\r\n      <g transform=\"translate(15.579688 138.786524)scale(0.1 -0.1)\">\r\n       <use xlink:href=\"#DejaVuSans-48\"/>\r\n       <use x=\"63.623047\" xlink:href=\"#DejaVuSans-46\"/>\r\n       <use x=\"95.410156\" xlink:href=\"#DejaVuSans-48\"/>\r\n       <use x=\"159.033203\" xlink:href=\"#DejaVuSans-48\"/>\r\n      </g>\r\n     </g>\r\n    </g>\r\n    <g id=\"ytick_5\">\r\n     <g id=\"line2d_11\">\r\n      <g>\r\n       <use style=\"stroke:#000000;stroke-width:0.8;\" x=\"44.845313\" xlink:href=\"#m76235d9f1b\" y=\"106.870319\"/>\r\n      </g>\r\n     </g>\r\n     <g id=\"text_11\">\r\n      <!-- 0.02 -->\r\n      <g transform=\"translate(15.579688 110.669538)scale(0.1 -0.1)\">\r\n       <use xlink:href=\"#DejaVuSans-48\"/>\r\n       <use x=\"63.623047\" xlink:href=\"#DejaVuSans-46\"/>\r\n       <use x=\"95.410156\" xlink:href=\"#DejaVuSans-48\"/>\r\n       <use x=\"159.033203\" xlink:href=\"#DejaVuSans-50\"/>\r\n      </g>\r\n     </g>\r\n    </g>\r\n    <g id=\"ytick_6\">\r\n     <g id=\"line2d_12\">\r\n      <g>\r\n       <use style=\"stroke:#000000;stroke-width:0.8;\" x=\"44.845313\" xlink:href=\"#m76235d9f1b\" y=\"78.753332\"/>\r\n      </g>\r\n     </g>\r\n     <g id=\"text_12\">\r\n      <!-- 0.04 -->\r\n      <g transform=\"translate(15.579688 82.552551)scale(0.1 -0.1)\">\r\n       <use xlink:href=\"#DejaVuSans-48\"/>\r\n       <use x=\"63.623047\" xlink:href=\"#DejaVuSans-46\"/>\r\n       <use x=\"95.410156\" xlink:href=\"#DejaVuSans-48\"/>\r\n       <use x=\"159.033203\" xlink:href=\"#DejaVuSans-52\"/>\r\n      </g>\r\n     </g>\r\n    </g>\r\n    <g id=\"ytick_7\">\r\n     <g id=\"line2d_13\">\r\n      <g>\r\n       <use style=\"stroke:#000000;stroke-width:0.8;\" x=\"44.845313\" xlink:href=\"#m76235d9f1b\" y=\"50.636346\"/>\r\n      </g>\r\n     </g>\r\n     <g id=\"text_13\">\r\n      <!-- 0.06 -->\r\n      <g transform=\"translate(15.579688 54.435564)scale(0.1 -0.1)\">\r\n       <use xlink:href=\"#DejaVuSans-48\"/>\r\n       <use x=\"63.623047\" xlink:href=\"#DejaVuSans-46\"/>\r\n       <use x=\"95.410156\" xlink:href=\"#DejaVuSans-48\"/>\r\n       <use x=\"159.033203\" xlink:href=\"#DejaVuSans-54\"/>\r\n      </g>\r\n     </g>\r\n    </g>\r\n    <g id=\"ytick_8\">\r\n     <g id=\"line2d_14\">\r\n      <g>\r\n       <use style=\"stroke:#000000;stroke-width:0.8;\" x=\"44.845313\" xlink:href=\"#m76235d9f1b\" y=\"22.519359\"/>\r\n      </g>\r\n     </g>\r\n     <g id=\"text_14\">\r\n      <!-- 0.08 -->\r\n      <g transform=\"translate(15.579688 26.318578)scale(0.1 -0.1)\">\r\n       <defs>\r\n        <path d=\"M 31.78125 34.625 \r\nQ 24.75 34.625 20.71875 30.859375 \r\nQ 16.703125 27.09375 16.703125 20.515625 \r\nQ 16.703125 13.921875 20.71875 10.15625 \r\nQ 24.75 6.390625 31.78125 6.390625 \r\nQ 38.8125 6.390625 42.859375 10.171875 \r\nQ 46.921875 13.96875 46.921875 20.515625 \r\nQ 46.921875 27.09375 42.890625 30.859375 \r\nQ 38.875 34.625 31.78125 34.625 \r\nz\r\nM 21.921875 38.8125 \r\nQ 15.578125 40.375 12.03125 44.71875 \r\nQ 8.5 49.078125 8.5 55.328125 \r\nQ 8.5 64.0625 14.71875 69.140625 \r\nQ 20.953125 74.21875 31.78125 74.21875 \r\nQ 42.671875 74.21875 48.875 69.140625 \r\nQ 55.078125 64.0625 55.078125 55.328125 \r\nQ 55.078125 49.078125 51.53125 44.71875 \r\nQ 48 40.375 41.703125 38.8125 \r\nQ 48.828125 37.15625 52.796875 32.3125 \r\nQ 56.78125 27.484375 56.78125 20.515625 \r\nQ 56.78125 9.90625 50.3125 4.234375 \r\nQ 43.84375 -1.421875 31.78125 -1.421875 \r\nQ 19.734375 -1.421875 13.25 4.234375 \r\nQ 6.78125 9.90625 6.78125 20.515625 \r\nQ 6.78125 27.484375 10.78125 32.3125 \r\nQ 14.796875 37.15625 21.921875 38.8125 \r\nz\r\nM 18.3125 54.390625 \r\nQ 18.3125 48.734375 21.84375 45.5625 \r\nQ 25.390625 42.390625 31.78125 42.390625 \r\nQ 38.140625 42.390625 41.71875 45.5625 \r\nQ 45.3125 48.734375 45.3125 54.390625 \r\nQ 45.3125 60.0625 41.71875 63.234375 \r\nQ 38.140625 66.40625 31.78125 66.40625 \r\nQ 25.390625 66.40625 21.84375 63.234375 \r\nQ 18.3125 60.0625 18.3125 54.390625 \r\nz\r\n\" id=\"DejaVuSans-56\"/>\r\n       </defs>\r\n       <use xlink:href=\"#DejaVuSans-48\"/>\r\n       <use x=\"63.623047\" xlink:href=\"#DejaVuSans-46\"/>\r\n       <use x=\"95.410156\" xlink:href=\"#DejaVuSans-48\"/>\r\n       <use x=\"159.033203\" xlink:href=\"#DejaVuSans-56\"/>\r\n      </g>\r\n     </g>\r\n    </g>\r\n   </g>\r\n   <g id=\"line2d_15\">\r\n    <path clip-path=\"url(#p74ede86f94)\" d=\"M 60.063494 137.208765 \r\nL 71.336222 123.63847 \r\nL 82.608949 84.845906 \r\nL 93.881676 79.684093 \r\nL 105.154403 105.918679 \r\nL 116.427131 77.317729 \r\nL 127.699858 140.921172 \r\nL 138.972585 43.033624 \r\nL 150.245313 141.332793 \r\nL 161.51804 90.055081 \r\nL 172.790767 86.312451 \r\nL 184.063494 17.083636 \r\nL 195.336222 110.142477 \r\nL 206.608949 173.873735 \r\nL 217.881676 214.756364 \r\nL 229.154403 87.239784 \r\nL 240.427131 123.852089 \r\nL 251.699858 105.792364 \r\nL 262.972585 98.114383 \r\nL 274.245313 87.881523 \r\nL 285.51804 169.814596 \r\nL 296.790767 151.659351 \r\nL 308.063494 57.751609 \r\nL 319.336222 109.653386 \r\nL 330.608949 96.217578 \r\nL 341.881676 139.618439 \r\nL 353.154403 196.482373 \r\nL 364.427131 100.275492 \r\n\" style=\"fill:none;stroke:#000000;stroke-linecap:square;stroke-width:1.5;\"/>\r\n   </g>\r\n   <g id=\"line2d_16\">\r\n    <path clip-path=\"url(#p74ede86f94)\" d=\"M 44.845313 134.987306 \r\nL 379.645313 134.987306 \r\n\" style=\"fill:none;stroke:#808080;stroke-dasharray:5.55,2.4;stroke-dashoffset:0;stroke-width:1.5;\"/>\r\n   </g>\r\n   <g id=\"patch_3\">\r\n    <path d=\"M 44.845313 224.64 \r\nL 44.845313 7.2 \r\n\" style=\"fill:none;stroke:#000000;stroke-linecap:square;stroke-linejoin:miter;stroke-width:0.8;\"/>\r\n   </g>\r\n   <g id=\"patch_4\">\r\n    <path d=\"M 379.645313 224.64 \r\nL 379.645313 7.2 \r\n\" style=\"fill:none;stroke:#000000;stroke-linecap:square;stroke-linejoin:miter;stroke-width:0.8;\"/>\r\n   </g>\r\n   <g id=\"patch_5\">\r\n    <path d=\"M 44.845313 224.64 \r\nL 379.645313 224.64 \r\n\" style=\"fill:none;stroke:#000000;stroke-linecap:square;stroke-linejoin:miter;stroke-width:0.8;\"/>\r\n   </g>\r\n   <g id=\"patch_6\">\r\n    <path d=\"M 44.845313 7.2 \r\nL 379.645313 7.2 \r\n\" style=\"fill:none;stroke:#000000;stroke-linecap:square;stroke-linejoin:miter;stroke-width:0.8;\"/>\r\n   </g>\r\n  </g>\r\n </g>\r\n <defs>\r\n  <clipPath id=\"p74ede86f94\">\r\n   <rect height=\"217.44\" width=\"334.8\" x=\"44.845313\" y=\"7.2\"/>\r\n  </clipPath>\r\n </defs>\r\n</svg>\r\n",
            "image/png": "[encoded data removed]"
          },
          "metadata": {
            "needs_background": "light"
          }
        },
        {
          "output_type": "stream",
          "name": "stdout",
          "text": [
            "0.015581439471059536 0.015413564772967979 0.015983388686390602 0.03136490170397082 0.5095947322661972\n"
          ]
        }
      ],
      "source": [
        "ns_bs = numerai_score(Y_nmr_test, pd.Series(pred))\n",
        "cs_bs = correlation_score(Y_nmr_test, pd.Series(pred))\n",
        "\n",
        "df2 = pd.DataFrame(\n",
        "    {\n",
        "        \"era\": test_eras,\n",
        "        \"preds\": pred,\n",
        "        \"target\": Y_nmr_test\n",
        "    }\n",
        ")\n",
        "\n",
        "scores_per_era_bs = df2.groupby(\"era\").apply(lambda d: np.corrcoef(d[\"preds\"], d[\"target\"])[0,1])\n",
        "\n",
        "per_era_score, per_era_std = scores_per_era_bs.mean(), scores_per_era_bs.std()\n",
        "sharpe_era_score = scores_per_era_bs.mean() / scores_per_era_bs.std()\n",
        "\n",
        "plt.figure()\n",
        "plt.plot(scores_per_era_bs.values, color = 'black')\n",
        "plt.axhline(0.0, ls = '--', color = 'grey')\n",
        "plt.show()\n",
        "print(ns_bs, cs_bs, per_era_score, per_era_std, sharpe_era_score)"
      ]
    },
    {
      "cell_type": "markdown",
      "metadata": {
        "id": "PhQo5vCfecdI"
      },
      "source": [
        "# Feature Importance"
      ]
    },
    {
      "cell_type": "code",
      "execution_count": 63,
      "metadata": {
        "id": "pFQvu86xliVb"
      },
      "outputs": [],
      "source": [
        "def featImpMDA(X, y, cv, eras_groups):\n",
        "\n",
        "    cvGen = model_selection.GroupKFold(cv)\n",
        "    X_old = X.copy()\n",
        "    scr0,scr1=pd.Series(), pd.DataFrame(columns=X.columns)\n",
        "\n",
        "    for i, (train,test) in tqdm.tqdm(enumerate(cvGen.split(X=X, groups = eras_groups))):\n",
        "\n",
        "        if i > 3:\n",
        "            break\n",
        "\n",
        "        X0, y0 = X.iloc[train, :], y[train]\n",
        "        X1, y1 = X.iloc[test, :], y[test] \n",
        "        # eras_test = pd.Series(eras2_binned).iloc[test]\n",
        "        eras_test = pd.Series(eras_groups).iloc[test]\n",
        "\n",
        "        clf = get_base_model()\n",
        "        clf.fit(X=X0,y=y0)\n",
        "        y1 = le.inverse_transform(y1)\n",
        "\n",
        "        # pred = fit.predict(X1)\n",
        "        pred = ridge_classifier_2single_prediction(clf, X1)\n",
        "\n",
        "        # scr0.loc[i]=correlation_score(y1,pred)\n",
        "        sharpes_metrics = calculate_score(y1, pred, eras_test)\n",
        "        scr0.loc[i] = sharpes_metrics[0]\n",
        "\n",
        "        for j in X.columns:\n",
        "\n",
        "            X1_ = X1.copy(deep=True)\n",
        "            np.random.shuffle(X1_[j].values) # permutation of a single column\n",
        "\n",
        "            pred_shuffled = ridge_classifier_2single_prediction(clf, X1_)\n",
        "\n",
        "            # scr1.loc[i,j]=correlation_score(y1,pred_shuffled)\n",
        "            sharpes_metrics_shuffled = calculate_score(y1, pred_shuffled, eras_test)\n",
        "            scr1.loc[i,j] = sharpes_metrics_shuffled[0]\n",
        "\n",
        "    imp=(-scr1).add(scr0,axis=0)\n",
        "    imp=imp/(1.-scr1)\n",
        "    imp=pd.concat({'mean':imp.mean(),'std':imp.std()*imp.shape[0]**-.5},axis=1)\n",
        "    #imp,scr0.mean()\n",
        "    return scr1, scr0"
      ]
    },
    {
      "cell_type": "code",
      "execution_count": 76,
      "metadata": {},
      "outputs": [],
      "source": [
        "for j in X.columns:\n",
        "    X1_ = X1.copy(deep=True)\n",
        "    np.random.shuffle(X1_[j].values) # permutation of a single column\n",
        "    pred_shuffled = ridge_classifier_2single_prediction(clf, X1_)\n",
        "\n",
        "    # scr1.loc[i,j]=correlation_score(y1,pred_shuffled)\n",
        "    sharpes_metrics_shuffled = calculate_score(y1, pred_shuffled, eras_test)\n",
        "    scr1.loc[i,j] = sharpes_metrics_shuffled[0]"
      ]
    },
    {
      "cell_type": "code",
      "execution_count": 77,
      "metadata": {},
      "outputs": [
        {
          "output_type": "execute_result",
          "data": {
            "text/plain": [
              "  feature_intelligence1 feature_intelligence2 feature_intelligence3  \\\n",
              "2             0.0427556             0.0403414             0.0412436   \n",
              "\n",
              "  feature_intelligence4 feature_intelligence5 feature_intelligence6  \\\n",
              "2             0.0432153             0.0454432             0.0449987   \n",
              "\n",
              "  feature_intelligence7 feature_intelligence8 feature_intelligence9  \\\n",
              "2             0.0443145             0.0459347              0.042114   \n",
              "\n",
              "  feature_intelligence10  ... feature_wisdom37 feature_wisdom38  \\\n",
              "2              0.0450247  ...        0.0453063        0.0436154   \n",
              "\n",
              "  feature_wisdom39 feature_wisdom40 feature_wisdom41 feature_wisdom42  \\\n",
              "2        0.0449107        0.0451331        0.0449791        0.0439055   \n",
              "\n",
              "  feature_wisdom43 feature_wisdom44 feature_wisdom45 feature_wisdom46  \n",
              "2        0.0451715        0.0450675        0.0450665        0.0448353  \n",
              "\n",
              "[1 rows x 310 columns]"
            ],
            "text/html": "<div>\n<style scoped>\n    .dataframe tbody tr th:only-of-type {\n        vertical-align: middle;\n    }\n\n    .dataframe tbody tr th {\n        vertical-align: top;\n    }\n\n    .dataframe thead th {\n        text-align: right;\n    }\n</style>\n<table border=\"1\" class=\"dataframe\">\n  <thead>\n    <tr style=\"text-align: right;\">\n      <th></th>\n      <th>feature_intelligence1</th>\n      <th>feature_intelligence2</th>\n      <th>feature_intelligence3</th>\n      <th>feature_intelligence4</th>\n      <th>feature_intelligence5</th>\n      <th>feature_intelligence6</th>\n      <th>feature_intelligence7</th>\n      <th>feature_intelligence8</th>\n      <th>feature_intelligence9</th>\n      <th>feature_intelligence10</th>\n      <th>...</th>\n      <th>feature_wisdom37</th>\n      <th>feature_wisdom38</th>\n      <th>feature_wisdom39</th>\n      <th>feature_wisdom40</th>\n      <th>feature_wisdom41</th>\n      <th>feature_wisdom42</th>\n      <th>feature_wisdom43</th>\n      <th>feature_wisdom44</th>\n      <th>feature_wisdom45</th>\n      <th>feature_wisdom46</th>\n    </tr>\n  </thead>\n  <tbody>\n    <tr>\n      <th>2</th>\n      <td>0.0427556</td>\n      <td>0.0403414</td>\n      <td>0.0412436</td>\n      <td>0.0432153</td>\n      <td>0.0454432</td>\n      <td>0.0449987</td>\n      <td>0.0443145</td>\n      <td>0.0459347</td>\n      <td>0.042114</td>\n      <td>0.0450247</td>\n      <td>...</td>\n      <td>0.0453063</td>\n      <td>0.0436154</td>\n      <td>0.0449107</td>\n      <td>0.0451331</td>\n      <td>0.0449791</td>\n      <td>0.0439055</td>\n      <td>0.0451715</td>\n      <td>0.0450675</td>\n      <td>0.0450665</td>\n      <td>0.0448353</td>\n    </tr>\n  </tbody>\n</table>\n<p>1 rows × 310 columns</p>\n</div>"
          },
          "metadata": {},
          "execution_count": 77
        }
      ],
      "source": [
        "scr1"
      ]
    },
    {
      "cell_type": "markdown",
      "metadata": {
        "id": "Fzk4QbU7Vz5r"
      },
      "source": [
        "# Selecting Important Features\n",
        "## 1/2 train set"
      ]
    },
    {
      "cell_type": "code",
      "execution_count": 64,
      "metadata": {
        "id": "kvelULTg9dbQ"
      },
      "outputs": [],
      "source": [
        "X_FOR_FEATURE_IMPORTANCE = X[:int(len(X)/2)]\n",
        "Y_FOR_FEATURE_IMPORTANCE = Y[:int(len(Y)/2)]\n",
        "ERAS_FOR_FI = eras2_binned[:int(len(eras2_binned)/2)]"
      ]
    },
    {
      "cell_type": "code",
      "execution_count": 65,
      "metadata": {},
      "outputs": [
        {
          "output_type": "stream",
          "name": "stderr",
          "text": [
            "0it [00:00, ?it/s]random shuffle single column: None\n",
            "random shuffle single column: None\n",
            "random shuffle single column: None\n",
            "random shuffle single column: None\n",
            "random shuffle single column: None\n",
            "random shuffle single column: None\n",
            "random shuffle single column: None\n",
            "random shuffle single column: None\n",
            "random shuffle single column: None\n",
            "random shuffle single column: None\n",
            "random shuffle single column: None\n",
            "random shuffle single column: None\n",
            "random shuffle single column: None\n",
            "random shuffle single column: None\n",
            "random shuffle single column: None\n",
            "random shuffle single column: None\n",
            "random shuffle single column: None\n",
            "random shuffle single column: None\n",
            "random shuffle single column: None\n",
            "random shuffle single column: None\n",
            "random shuffle single column: None\n",
            "random shuffle single column: None\n",
            "random shuffle single column: None\n",
            "random shuffle single column: None\n",
            "random shuffle single column: None\n",
            "random shuffle single column: None\n",
            "random shuffle single column: None\n",
            "random shuffle single column: None\n",
            "random shuffle single column: None\n",
            "random shuffle single column: None\n",
            "random shuffle single column: None\n",
            "random shuffle single column: None\n",
            "random shuffle single column: None\n",
            "random shuffle single column: None\n",
            "random shuffle single column: None\n",
            "random shuffle single column: None\n",
            "random shuffle single column: None\n",
            "random shuffle single column: None\n",
            "random shuffle single column: None\n",
            "random shuffle single column: None\n",
            "random shuffle single column: None\n",
            "random shuffle single column: None\n",
            "random shuffle single column: None\n",
            "random shuffle single column: None\n",
            "random shuffle single column: None\n",
            "random shuffle single column: None\n",
            "random shuffle single column: None\n",
            "random shuffle single column: None\n",
            "random shuffle single column: None\n",
            "random shuffle single column: None\n",
            "random shuffle single column: None\n",
            "random shuffle single column: None\n",
            "random shuffle single column: None\n",
            "random shuffle single column: None\n",
            "random shuffle single column: None\n",
            "random shuffle single column: None\n",
            "random shuffle single column: None\n",
            "random shuffle single column: None\n",
            "random shuffle single column: None\n",
            "random shuffle single column: None\n",
            "random shuffle single column: None\n",
            "random shuffle single column: None\n",
            "random shuffle single column: None\n",
            "random shuffle single column: None\n",
            "random shuffle single column: None\n",
            "random shuffle single column: None\n",
            "random shuffle single column: None\n",
            "random shuffle single column: None\n",
            "random shuffle single column: None\n",
            "random shuffle single column: None\n",
            "random shuffle single column: None\n",
            "random shuffle single column: None\n",
            "random shuffle single column: None\n",
            "random shuffle single column: None\n",
            "random shuffle single column: None\n",
            "0it [00:57, ?it/s]\n"
          ]
        },
        {
          "output_type": "error",
          "ename": "KeyboardInterrupt",
          "evalue": "",
          "traceback": [
            "\u001b[1;31m---------------------------------------------------------------------------\u001b[0m",
            "\u001b[1;31mKeyboardInterrupt\u001b[0m                         Traceback (most recent call last)",
            "\u001b[1;32m<ipython-input-65-7633e31c1181>\u001b[0m in \u001b[0;36m<module>\u001b[1;34m\u001b[0m\n\u001b[1;32m----> 1\u001b[1;33m scr_1, scr_0 = featImpMDA(X=X_FOR_FEATURE_IMPORTANCE, \n\u001b[0m\u001b[0;32m      2\u001b[0m                                 \u001b[0my\u001b[0m\u001b[1;33m=\u001b[0m\u001b[0mY_FOR_FEATURE_IMPORTANCE\u001b[0m\u001b[1;33m,\u001b[0m\u001b[1;33m\u001b[0m\u001b[1;33m\u001b[0m\u001b[0m\n\u001b[0;32m      3\u001b[0m                                 \u001b[0mcv\u001b[0m \u001b[1;33m=\u001b[0m \u001b[1;36m5\u001b[0m\u001b[1;33m,\u001b[0m\u001b[1;33m\u001b[0m\u001b[1;33m\u001b[0m\u001b[0m\n\u001b[0;32m      4\u001b[0m                                 eras_groups = ERAS_FOR_FI)\n",
            "\u001b[1;32m<ipython-input-63-144a84e7ed1c>\u001b[0m in \u001b[0;36mfeatImpMDA\u001b[1;34m(X, y, cv, eras_groups)\u001b[0m\n\u001b[0;32m     32\u001b[0m             \u001b[0mprint\u001b[0m\u001b[1;33m(\u001b[0m\u001b[1;34m\"random shuffle single column:\"\u001b[0m\u001b[1;33m,\u001b[0m \u001b[0mnp\u001b[0m\u001b[1;33m.\u001b[0m\u001b[0mrandom\u001b[0m\u001b[1;33m.\u001b[0m\u001b[0mshuffle\u001b[0m\u001b[1;33m(\u001b[0m\u001b[0mX1_\u001b[0m\u001b[1;33m[\u001b[0m\u001b[0mj\u001b[0m\u001b[1;33m]\u001b[0m\u001b[1;33m.\u001b[0m\u001b[0mvalues\u001b[0m\u001b[1;33m)\u001b[0m\u001b[1;33m)\u001b[0m\u001b[1;33m\u001b[0m\u001b[1;33m\u001b[0m\u001b[0m\n\u001b[0;32m     33\u001b[0m \u001b[1;33m\u001b[0m\u001b[0m\n\u001b[1;32m---> 34\u001b[1;33m             \u001b[0mpred_shuffled\u001b[0m \u001b[1;33m=\u001b[0m \u001b[0mridge_classifier_2single_prediction\u001b[0m\u001b[1;33m(\u001b[0m\u001b[0mclf\u001b[0m\u001b[1;33m,\u001b[0m \u001b[0mX1_\u001b[0m\u001b[1;33m)\u001b[0m\u001b[1;33m\u001b[0m\u001b[1;33m\u001b[0m\u001b[0m\n\u001b[0m\u001b[0;32m     35\u001b[0m \u001b[1;33m\u001b[0m\u001b[0m\n\u001b[0;32m     36\u001b[0m             \u001b[1;31m# scr1.loc[i,j]=correlation_score(y1,pred_shuffled)\u001b[0m\u001b[1;33m\u001b[0m\u001b[1;33m\u001b[0m\u001b[1;33m\u001b[0m\u001b[0m\n",
            "\u001b[1;32m<ipython-input-35-770ea7107e3c>\u001b[0m in \u001b[0;36mridge_classifier_2single_prediction\u001b[1;34m(model, X, temperature)\u001b[0m\n\u001b[0;32m     16\u001b[0m     \u001b[0mpredictions\u001b[0m \u001b[1;33m=\u001b[0m \u001b[0mnp\u001b[0m\u001b[1;33m.\u001b[0m\u001b[0margmax\u001b[0m\u001b[1;33m(\u001b[0m\u001b[0mpredictions_proba_mean\u001b[0m\u001b[1;33m,\u001b[0m \u001b[0maxis\u001b[0m\u001b[1;33m=\u001b[0m\u001b[1;36m1\u001b[0m\u001b[1;33m)\u001b[0m\u001b[1;33m\u001b[0m\u001b[1;33m\u001b[0m\u001b[0m\n\u001b[0;32m     17\u001b[0m     \u001b[0mpredictions_proba\u001b[0m \u001b[1;33m=\u001b[0m \u001b[0mnp\u001b[0m\u001b[1;33m.\u001b[0m\u001b[0marray\u001b[0m\u001b[1;33m(\u001b[0m\u001b[1;33m[\u001b[0m\u001b[0mnp\u001b[0m\u001b[1;33m.\u001b[0m\u001b[0mexp\u001b[0m\u001b[1;33m(\u001b[0m\u001b[0mdi\u001b[0m \u001b[1;33m/\u001b[0m \u001b[0mtemperature\u001b[0m\u001b[1;33m)\u001b[0m \u001b[1;33m/\u001b[0m \u001b[0mnp\u001b[0m\u001b[1;33m.\u001b[0m\u001b[0msum\u001b[0m\u001b[1;33m(\u001b[0m\u001b[0mnp\u001b[0m\u001b[1;33m.\u001b[0m\u001b[0mexp\u001b[0m\u001b[1;33m(\u001b[0m\u001b[0mdi\u001b[0m \u001b[1;33m/\u001b[0m \u001b[0mtemperature\u001b[0m\u001b[1;33m)\u001b[0m\u001b[1;33m)\u001b[0m \u001b[1;32mfor\u001b[0m \u001b[0mdi\u001b[0m \u001b[1;32min\u001b[0m \u001b[0mpredictions_proba_mean\u001b[0m\u001b[1;33m]\u001b[0m\u001b[1;33m)\u001b[0m\u001b[1;33m\u001b[0m\u001b[1;33m\u001b[0m\u001b[0m\n\u001b[1;32m---> 18\u001b[1;33m     single_score_predictions = np.array(\n\u001b[0m\u001b[0;32m     19\u001b[0m             [\n\u001b[0;32m     20\u001b[0m                 \u001b[0msum\u001b[0m\u001b[1;33m(\u001b[0m\u001b[0mREFERENCES\u001b[0m\u001b[1;33m[\u001b[0m\u001b[0mi\u001b[0m\u001b[1;33m]\u001b[0m \u001b[1;33m*\u001b[0m \u001b[0mx\u001b[0m\u001b[1;33m[\u001b[0m\u001b[0mi\u001b[0m\u001b[1;33m]\u001b[0m \u001b[1;32mfor\u001b[0m \u001b[0mi\u001b[0m \u001b[1;32min\u001b[0m \u001b[0mrange\u001b[0m\u001b[1;33m(\u001b[0m\u001b[0mlen\u001b[0m\u001b[1;33m(\u001b[0m\u001b[0mREFERENCES\u001b[0m\u001b[1;33m)\u001b[0m\u001b[1;33m)\u001b[0m\u001b[1;33m)\u001b[0m \u001b[1;32mfor\u001b[0m \u001b[0mx\u001b[0m \u001b[1;32min\u001b[0m \u001b[0mpredictions_proba\u001b[0m\u001b[1;33m\u001b[0m\u001b[1;33m\u001b[0m\u001b[0m\n",
            "\u001b[1;31mKeyboardInterrupt\u001b[0m: "
          ]
        }
      ],
      "source": [
        "scr_1, scr_0 = featImpMDA(X=X_FOR_FEATURE_IMPORTANCE, \n",
        "                                y=Y_FOR_FEATURE_IMPORTANCE,\n",
        "                                cv = 5,\n",
        "                                eras_groups = ERAS_FOR_FI)"
      ]
    },
    {
      "cell_type": "code",
      "execution_count": null,
      "metadata": {},
      "outputs": [],
      "source": [
        "scr_0"
      ]
    },
    {
      "cell_type": "code",
      "execution_count": 47,
      "metadata": {
        "colab": {
          "base_uri": "https://localhost:8080/",
          "height": 88
        },
        "id": "8bBl7dCSl4BZ",
        "outputId": "4b12302e-1d08-4253-de24-e52fc1ab42f0"
      },
      "outputs": [
        {
          "output_type": "stream",
          "name": "stderr",
          "text": [
            "0it [00:05, ?it/s]\n"
          ]
        },
        {
          "output_type": "error",
          "ename": "KeyboardInterrupt",
          "evalue": "",
          "traceback": [
            "\u001b[1;31m---------------------------------------------------------------------------\u001b[0m",
            "\u001b[1;31mKeyboardInterrupt\u001b[0m                         Traceback (most recent call last)",
            "\u001b[1;32m<ipython-input-47-0c00e2ae61f5>\u001b[0m in \u001b[0;36m<module>\u001b[1;34m\u001b[0m\n\u001b[1;32m----> 1\u001b[1;33m importances, oos = featImpMDA(X=X_FOR_FEATURE_IMPORTANCE, \n\u001b[0m\u001b[0;32m      2\u001b[0m                               \u001b[0my\u001b[0m\u001b[1;33m=\u001b[0m\u001b[0mY_FOR_FEATURE_IMPORTANCE\u001b[0m\u001b[1;33m,\u001b[0m\u001b[1;33m\u001b[0m\u001b[1;33m\u001b[0m\u001b[0m\n\u001b[0;32m      3\u001b[0m                               \u001b[0mcv\u001b[0m \u001b[1;33m=\u001b[0m \u001b[1;36m5\u001b[0m\u001b[1;33m,\u001b[0m\u001b[1;33m\u001b[0m\u001b[1;33m\u001b[0m\u001b[0m\n\u001b[0;32m      4\u001b[0m                               eras_groups = ERAS_FOR_FI)\n",
            "\u001b[1;32m<ipython-input-45-01838d5e839d>\u001b[0m in \u001b[0;36mfeatImpMDA\u001b[1;34m(X, y, cv, eras_groups)\u001b[0m\n\u001b[0;32m     31\u001b[0m             \u001b[0mnp\u001b[0m\u001b[1;33m.\u001b[0m\u001b[0mrandom\u001b[0m\u001b[1;33m.\u001b[0m\u001b[0mshuffle\u001b[0m\u001b[1;33m(\u001b[0m\u001b[0mX1_\u001b[0m\u001b[1;33m[\u001b[0m\u001b[0mj\u001b[0m\u001b[1;33m]\u001b[0m\u001b[1;33m.\u001b[0m\u001b[0mvalues\u001b[0m\u001b[1;33m)\u001b[0m \u001b[1;31m# permutation of a single column\u001b[0m\u001b[1;33m\u001b[0m\u001b[1;33m\u001b[0m\u001b[0m\n\u001b[0;32m     32\u001b[0m \u001b[1;33m\u001b[0m\u001b[0m\n\u001b[1;32m---> 33\u001b[1;33m             \u001b[0mpred_shuffled\u001b[0m \u001b[1;33m=\u001b[0m \u001b[0mridge_classifier_2single_prediction\u001b[0m\u001b[1;33m(\u001b[0m\u001b[0mclf\u001b[0m\u001b[1;33m,\u001b[0m \u001b[0mX1_\u001b[0m\u001b[1;33m)\u001b[0m\u001b[1;33m\u001b[0m\u001b[1;33m\u001b[0m\u001b[0m\n\u001b[0m\u001b[0;32m     34\u001b[0m \u001b[1;33m\u001b[0m\u001b[0m\n\u001b[0;32m     35\u001b[0m             \u001b[1;31m# scr1.loc[i,j]=correlation_score(y1,pred_shuffled)\u001b[0m\u001b[1;33m\u001b[0m\u001b[1;33m\u001b[0m\u001b[1;33m\u001b[0m\u001b[0m\n",
            "\u001b[1;32m<ipython-input-35-770ea7107e3c>\u001b[0m in \u001b[0;36mridge_classifier_2single_prediction\u001b[1;34m(model, X, temperature)\u001b[0m\n\u001b[0;32m     15\u001b[0m         \u001b[0mpredictions_proba_mean\u001b[0m \u001b[1;33m=\u001b[0m \u001b[0mmodel\u001b[0m\u001b[1;33m.\u001b[0m\u001b[0mpredict_proba\u001b[0m\u001b[1;33m(\u001b[0m\u001b[0mX\u001b[0m\u001b[1;33m)\u001b[0m\u001b[1;33m\u001b[0m\u001b[1;33m\u001b[0m\u001b[0m\n\u001b[0;32m     16\u001b[0m     \u001b[0mpredictions\u001b[0m \u001b[1;33m=\u001b[0m \u001b[0mnp\u001b[0m\u001b[1;33m.\u001b[0m\u001b[0margmax\u001b[0m\u001b[1;33m(\u001b[0m\u001b[0mpredictions_proba_mean\u001b[0m\u001b[1;33m,\u001b[0m \u001b[0maxis\u001b[0m\u001b[1;33m=\u001b[0m\u001b[1;36m1\u001b[0m\u001b[1;33m)\u001b[0m\u001b[1;33m\u001b[0m\u001b[1;33m\u001b[0m\u001b[0m\n\u001b[1;32m---> 17\u001b[1;33m     \u001b[0mpredictions_proba\u001b[0m \u001b[1;33m=\u001b[0m \u001b[0mnp\u001b[0m\u001b[1;33m.\u001b[0m\u001b[0marray\u001b[0m\u001b[1;33m(\u001b[0m\u001b[1;33m[\u001b[0m\u001b[0mnp\u001b[0m\u001b[1;33m.\u001b[0m\u001b[0mexp\u001b[0m\u001b[1;33m(\u001b[0m\u001b[0mdi\u001b[0m \u001b[1;33m/\u001b[0m \u001b[0mtemperature\u001b[0m\u001b[1;33m)\u001b[0m \u001b[1;33m/\u001b[0m \u001b[0mnp\u001b[0m\u001b[1;33m.\u001b[0m\u001b[0msum\u001b[0m\u001b[1;33m(\u001b[0m\u001b[0mnp\u001b[0m\u001b[1;33m.\u001b[0m\u001b[0mexp\u001b[0m\u001b[1;33m(\u001b[0m\u001b[0mdi\u001b[0m \u001b[1;33m/\u001b[0m \u001b[0mtemperature\u001b[0m\u001b[1;33m)\u001b[0m\u001b[1;33m)\u001b[0m \u001b[1;32mfor\u001b[0m \u001b[0mdi\u001b[0m \u001b[1;32min\u001b[0m \u001b[0mpredictions_proba_mean\u001b[0m\u001b[1;33m]\u001b[0m\u001b[1;33m)\u001b[0m\u001b[1;33m\u001b[0m\u001b[1;33m\u001b[0m\u001b[0m\n\u001b[0m\u001b[0;32m     18\u001b[0m     single_score_predictions = np.array(\n\u001b[0;32m     19\u001b[0m             [\n",
            "\u001b[1;32m<ipython-input-35-770ea7107e3c>\u001b[0m in \u001b[0;36m<listcomp>\u001b[1;34m(.0)\u001b[0m\n\u001b[0;32m     15\u001b[0m         \u001b[0mpredictions_proba_mean\u001b[0m \u001b[1;33m=\u001b[0m \u001b[0mmodel\u001b[0m\u001b[1;33m.\u001b[0m\u001b[0mpredict_proba\u001b[0m\u001b[1;33m(\u001b[0m\u001b[0mX\u001b[0m\u001b[1;33m)\u001b[0m\u001b[1;33m\u001b[0m\u001b[1;33m\u001b[0m\u001b[0m\n\u001b[0;32m     16\u001b[0m     \u001b[0mpredictions\u001b[0m \u001b[1;33m=\u001b[0m \u001b[0mnp\u001b[0m\u001b[1;33m.\u001b[0m\u001b[0margmax\u001b[0m\u001b[1;33m(\u001b[0m\u001b[0mpredictions_proba_mean\u001b[0m\u001b[1;33m,\u001b[0m \u001b[0maxis\u001b[0m\u001b[1;33m=\u001b[0m\u001b[1;36m1\u001b[0m\u001b[1;33m)\u001b[0m\u001b[1;33m\u001b[0m\u001b[1;33m\u001b[0m\u001b[0m\n\u001b[1;32m---> 17\u001b[1;33m     \u001b[0mpredictions_proba\u001b[0m \u001b[1;33m=\u001b[0m \u001b[0mnp\u001b[0m\u001b[1;33m.\u001b[0m\u001b[0marray\u001b[0m\u001b[1;33m(\u001b[0m\u001b[1;33m[\u001b[0m\u001b[0mnp\u001b[0m\u001b[1;33m.\u001b[0m\u001b[0mexp\u001b[0m\u001b[1;33m(\u001b[0m\u001b[0mdi\u001b[0m \u001b[1;33m/\u001b[0m \u001b[0mtemperature\u001b[0m\u001b[1;33m)\u001b[0m \u001b[1;33m/\u001b[0m \u001b[0mnp\u001b[0m\u001b[1;33m.\u001b[0m\u001b[0msum\u001b[0m\u001b[1;33m(\u001b[0m\u001b[0mnp\u001b[0m\u001b[1;33m.\u001b[0m\u001b[0mexp\u001b[0m\u001b[1;33m(\u001b[0m\u001b[0mdi\u001b[0m \u001b[1;33m/\u001b[0m \u001b[0mtemperature\u001b[0m\u001b[1;33m)\u001b[0m\u001b[1;33m)\u001b[0m \u001b[1;32mfor\u001b[0m \u001b[0mdi\u001b[0m \u001b[1;32min\u001b[0m \u001b[0mpredictions_proba_mean\u001b[0m\u001b[1;33m]\u001b[0m\u001b[1;33m)\u001b[0m\u001b[1;33m\u001b[0m\u001b[1;33m\u001b[0m\u001b[0m\n\u001b[0m\u001b[0;32m     18\u001b[0m     single_score_predictions = np.array(\n\u001b[0;32m     19\u001b[0m             [\n",
            "\u001b[1;32m<__array_function__ internals>\u001b[0m in \u001b[0;36msum\u001b[1;34m(*args, **kwargs)\u001b[0m\n",
            "\u001b[1;32mC:\\Python\\Python39\\lib\\site-packages\\numpy\\core\\fromnumeric.py\u001b[0m in \u001b[0;36msum\u001b[1;34m(a, axis, dtype, out, keepdims, initial, where)\u001b[0m\n\u001b[0;32m   2239\u001b[0m         \u001b[1;32mreturn\u001b[0m \u001b[0mres\u001b[0m\u001b[1;33m\u001b[0m\u001b[1;33m\u001b[0m\u001b[0m\n\u001b[0;32m   2240\u001b[0m \u001b[1;33m\u001b[0m\u001b[0m\n\u001b[1;32m-> 2241\u001b[1;33m     return _wrapreduction(a, np.add, 'sum', axis, dtype, out, keepdims=keepdims,\n\u001b[0m\u001b[0;32m   2242\u001b[0m                           initial=initial, where=where)\n\u001b[0;32m   2243\u001b[0m \u001b[1;33m\u001b[0m\u001b[0m\n",
            "\u001b[1;31mKeyboardInterrupt\u001b[0m: "
          ]
        }
      ],
      "source": [
        "#  importances, oos = featImpMDA(X=X_FOR_FEATURE_IMPORTANCE, \n",
        "#                                y=Y_FOR_FEATURE_IMPORTANCE,\n",
        "#                                cv = 5,\n",
        "#                                eras_groups = ERAS_FOR_FI)"
      ]
    },
    {
      "cell_type": "code",
      "execution_count": null,
      "metadata": {
        "id": "sBj-yP22LbhC"
      },
      "outputs": [],
      "source": [
        "# importances_more_zero = importances[importances['mean'] - importances['std']  > 0]\n",
        "# importances_more_zero['mean_std_diff'] = importances_more_zero['mean'] - importances_more_zero['std']\n",
        "importances_more_zero = importances[importances['mean']  > 0]\n",
        "# importances_more_zero = importances.sort_values('mean')[::-1]"
      ]
    },
    {
      "cell_type": "code",
      "execution_count": null,
      "metadata": {
        "id": "STEqFX9-kZw3"
      },
      "outputs": [],
      "source": [
        "DOWN, UP = 0, 100\n",
        "COLUMN = 'mean'"
      ]
    },
    {
      "cell_type": "code",
      "execution_count": null,
      "metadata": {
        "id": "-ZQyyZblzB4R"
      },
      "outputs": [],
      "source": [
        "# importances_more_zero.sort_values('mean')[::-1].plot.bar(figsize = (40, 10))"
      ]
    },
    {
      "cell_type": "code",
      "execution_count": null,
      "metadata": {
        "colab": {
          "base_uri": "https://localhost:8080/",
          "height": 265
        },
        "id": "CeFkXYcfmiSD",
        "outputId": "db947ad9-a757-4dbe-ddcc-2406f7ab6ce0"
      },
      "outputs": [
        {
          "data": {
            "image/png": "[encoded data removed]",
            "text/plain": [
              "<Figure size 432x288 with 1 Axes>"
            ]
          },
          "metadata": {
            "needs_background": "light",
            "tags": []
          },
          "output_type": "display_data"
        }
      ],
      "source": [
        "plt.figure()\n",
        "plt.hist(importances_more_zero[COLUMN].values, bins = len(importances_more_zero))\n",
        "plt.axvline(np.percentile(importances_more_zero[COLUMN].values, UP), ls = '--', color = 'red')\n",
        "plt.axvline(np.percentile(importances_more_zero[COLUMN].values, DOWN), ls = '--', color = 'green')\n",
        "plt.show()"
      ]
    },
    {
      "cell_type": "code",
      "execution_count": null,
      "metadata": {
        "colab": {
          "base_uri": "https://localhost:8080/",
          "height": 34
        },
        "id": "7O7mS3Oqm5lZ",
        "outputId": "399b3f95-654d-4d92-e4d8-8a1a570e59e3"
      },
      "outputs": [
        {
          "data": {
            "text/plain": [
              "(2.937597982260151e-06, 0.0061110641938244585)"
            ]
          },
          "execution_count": 29,
          "metadata": {
            "tags": []
          },
          "output_type": "execute_result"
        }
      ],
      "source": [
        "up_limit = np.percentile(importances_more_zero[COLUMN].values, UP)\n",
        "bot_limit = np.percentile(importances_more_zero[COLUMN].values, DOWN)\n",
        "bot_limit, up_limit"
      ]
    },
    {
      "cell_type": "code",
      "execution_count": null,
      "metadata": {
        "colab": {
          "base_uri": "https://localhost:8080/",
          "height": 34
        },
        "id": "BHE0DKEHnqT1",
        "outputId": "18c8e434-260b-4bd7-c31a-dd22820328ac"
      },
      "outputs": [
        {
          "data": {
            "text/plain": [
              "244"
            ]
          },
          "execution_count": 30,
          "metadata": {
            "tags": []
          },
          "output_type": "execute_result"
        }
      ],
      "source": [
        "mask = (importances_more_zero[COLUMN] < up_limit) & (importances_more_zero[COLUMN] > bot_limit)\n",
        "IMPORTANT_FEATURES = importances_more_zero[mask].index.tolist()\n",
        "len(IMPORTANT_FEATURES)"
      ]
    },
    {
      "cell_type": "markdown",
      "metadata": {
        "id": "h4FZvM6yV3iU"
      },
      "source": [
        "# Re-Balance the Class Weights"
      ]
    },
    {
      "cell_type": "code",
      "execution_count": null,
      "metadata": {
        "id": "hlmKj7ykW82v"
      },
      "outputs": [],
      "source": [
        "X_FOR_CV = X[int(len(X)/2):]\n",
        "Y_FOR_CV = Y[int(len(Y)/2):]\n",
        "\n",
        "ERAS_CV = training_data[int(len(training_data)/2):].era\n",
        "ERAS_CV = ERAS_CV.apply(lambda x: 'era' + str(int(x[3:])-63))\n",
        "Y_NMR_CV = Y_nmr[int(len(Y_nmr)/2):]"
      ]
    },
    {
      "cell_type": "code",
      "execution_count": null,
      "metadata": {
        "id": "voy7rAFMWDPr"
      },
      "outputs": [],
      "source": [
        "model_t = get_base_model(   \n",
        "        cw = {\n",
        "            0: 1,\n",
        "            1: 1.1,\n",
        "            2: 1,\n",
        "            3: 1.1,\n",
        "            4: 1\n",
        "        }\n",
        "    )\n",
        "model_t = train_model(X_FOR_CV[IMPORTANT_FEATURES], Y_FOR_CV, model_t)\n",
        "pred = model_t.predict(X_FOR_CV[IMPORTANT_FEATURES])"
      ]
    },
    {
      "cell_type": "code",
      "execution_count": null,
      "metadata": {
        "colab": {
          "base_uri": "https://localhost:8080/",
          "height": 267
        },
        "id": "vWysDaxhV6A6",
        "outputId": "4918671d-5052-4797-b21a-1744a981ad9b"
      },
      "outputs": [
        {
          "data": {
            "image/png": "[encoded data removed]",
            "text/plain": [
              "<Figure size 432x288 with 1 Axes>"
            ]
          },
          "metadata": {
            "needs_background": "light",
            "tags": []
          },
          "output_type": "display_data"
        }
      ],
      "source": [
        "plt.figure()\n",
        "plt.hist(Y_FOR_CV, alpha = 0.25)\n",
        "plt.hist(pred, alpha = 0.25)\n",
        "plt.show()"
      ]
    },
    {
      "cell_type": "markdown",
      "metadata": {
        "id": "bhZzoIorWyPC"
      },
      "source": [
        "# Cross-validation"
      ]
    },
    {
      "cell_type": "code",
      "execution_count": null,
      "metadata": {
        "id": "xiTMU21vrG5W"
      },
      "outputs": [],
      "source": [
        "class PurgeCVByEras(model_selection.BaseCrossValidator):\n",
        "\n",
        "    def __init__(self, eras, n_eras_train, n_eras_test, embargo, era_prefix = 'era'):\n",
        "        self.eras = eras\n",
        "        self.n_eras = len(eras.unique())\n",
        "        self.era_prefix = era_prefix\n",
        "        self.n_eras_train = n_eras_train\n",
        "        self.n_eras_test = n_eras_test\n",
        "        self.embargo = embargo\n",
        "\n",
        "    def get_indices_of_era(self, era):\n",
        "        era_str = self.era_prefix + str(era)\n",
        "        return self.eras.index[self.eras == era_str].tolist()\n",
        "\n",
        "    def split(self, X=None, y=None, groups=None):\n",
        "        for i in range(0, self.n_eras, (self.n_eras_train + self.n_eras_test + self.embargo)):\n",
        "            train_eras = [i+n for n in range(self.n_eras_train)]\n",
        "            test_eras = [i+m+self.n_eras_train+self.embargo for m in range(self.n_eras_test)]\n",
        "            train_indices = []\n",
        "\n",
        "            test_limit = 0\n",
        "            if max(train_eras) >= self.n_eras:\n",
        "                break\n",
        "            elif max(test_eras) >= self.n_eras:\n",
        "                max_index = test_eras.index(max(test_eras))\n",
        "                test_eras = test_eras[:max_index]\n",
        "\n",
        "            for e in train_eras:\n",
        "                e_indices = self.get_indices_of_era(e)\n",
        "                train_indices.extend(e_indices)\n",
        "\n",
        "            test_indices = []\n",
        "            for e in test_eras:\n",
        "                e_indices = self.get_indices_of_era(e)\n",
        "                test_indices.extend(e_indices)\n",
        "\n",
        "            yield(train_indices, test_indices)        \n",
        "\n",
        "    def get_n_splits(self):\n",
        "        return len(range(0, self.n_eras, (self.n_eras_train + self.n_eras_test + self.embargo)))"
      ]
    },
    {
      "cell_type": "code",
      "execution_count": null,
      "metadata": {
        "id": "dug5YtH5gs11"
      },
      "outputs": [],
      "source": [
        "class BlockingTimeSeriesSplit():\n",
        "\n",
        "    def __init__(self, n_splits):\n",
        "        self.n_splits = n_splits\n",
        "    \n",
        "    def get_n_splits(self, X, y, groups):\n",
        "        return self.n_splits\n",
        "    \n",
        "    def split(self, X, y=None, groups=None):\n",
        "        n_samples = len(X)\n",
        "        k_fold_size = n_samples // self.n_splits\n",
        "        indices = np.arange(n_samples)\n",
        "\n",
        "        margin = 0\n",
        "        for i in range(self.n_splits):\n",
        "            start = i * k_fold_size\n",
        "            stop = start + k_fold_size\n",
        "            mid = int(0.5 * (stop - start)) + start\n",
        "            yield indices[start: mid], indices[mid + margin: stop]"
      ]
    },
    {
      "cell_type": "code",
      "execution_count": null,
      "metadata": {
        "id": "f1rXCNQfmdlg"
      },
      "outputs": [],
      "source": [
        "from sklearn.decomposition import PCA"
      ]
    },
    {
      "cell_type": "code",
      "execution_count": null,
      "metadata": {
        "id": "tMPeJtNr9T6G"
      },
      "outputs": [],
      "source": [
        "from catboost import CatBoostClassifier, Pool, cv"
      ]
    },
    {
      "cell_type": "code",
      "execution_count": null,
      "metadata": {
        "id": "KB8HFemruOqx"
      },
      "outputs": [],
      "source": [
        "alpha, beta = 1, 1 # scaling of the tanh function (the higher - the most \"rough\")\n",
        "def temperature_function(x, alpha=alpha, beta=beta, mi=0.01, ma=10):\n",
        "    return np.clip(alpha * -np.tanh(x * beta) + 1, mi, ma)\n",
        "\n",
        "def train_meta_labeler(X, Y_proba, Y_target):\n",
        "    meta_labels = np.array(\n",
        "          [p == t for p, t in zip(np.argmax(Y_proba, axis=1), Y_target)], dtype = np.int16\n",
        "      )\n",
        "    model_meta = CatBoostClassifier(\n",
        "          custom_loss=['Logloss'],\n",
        "          random_seed=42,\n",
        "          iterations = 25,\n",
        "          logging_level = 'Silent'\n",
        "      )\n",
        "    model_meta.fit(\n",
        "        X, meta_labels\n",
        "    )\n",
        "    meta_predictions = model_meta.predict(X)\n",
        "    meta_predictions_proba = model_meta.predict_proba(X)\n",
        "    mean_meta_prob = np.mean(meta_predictions_proba[:, 1])\n",
        "    return model_meta, mean_meta_prob\n",
        "\n",
        "def normal_labels_to_meta_labels(predictions_proba_live, predictions_proba_live_meta, mean_meta_prob):\n",
        "    predictions_proba_live_comb = []\n",
        "    for pred_proba_live, pred_proba_live_meta in zip(predictions_proba_live, predictions_proba_live_meta[:, 1]):\n",
        "        x = pred_proba_live_meta - mean_meta_prob\n",
        "        temperature = temperature_function(x) # calculation of the trust temperature\n",
        "        res = np.exp(pred_proba_live / temperature) / np.sum(np.exp(pred_proba_live / temperature)) # rescaling to sum up to 1.0\n",
        "        predictions_proba_live_comb.append(res)\n",
        "    predictions_proba_live_comb = np.array(predictions_proba_live_comb)\n",
        "    return predictions_proba_live_comb"
      ]
    },
    {
      "cell_type": "code",
      "execution_count": null,
      "metadata": {
        "id": "l9xVg-uyq-JZ"
      },
      "outputs": [],
      "source": [
        "def cross_validate(cross_validator, X, Y, Y_nmr, eras, meta = True):\n",
        "\n",
        "    all_sharpes = []\n",
        "    for train_ids, test_ids in cross_validator.split(X, Y, groups = eras):\n",
        "\n",
        "\n",
        "        X_train, X_test = X.values[train_ids], X.values[test_ids]\n",
        "        Y_train, Y_test = Y[train_ids], Y[test_ids]\n",
        "        eras_train, eras_test = eras.values[train_ids], eras.values[test_ids]\n",
        "\n",
        "        pca = PCA(0.999)\n",
        "        X_train = pca.fit_transform(X_train)\n",
        "        X_test = pca.transform(X_test)\n",
        "\n",
        "        model_i = get_base_model(cw = {\n",
        "                                    0: 1,\n",
        "                                    1: 1.1,\n",
        "                                    2: 1,\n",
        "                                    3: 1.1,\n",
        "                                    4: 1\n",
        "                                })\n",
        "        model_i = train_model(X_train, Y_train, model_i)\n",
        "        single_score_predictions = ridge_classifier_2single_prediction(model_i, X_test)\n",
        "\n",
        "        if meta:\n",
        "          \n",
        "            Y_prob = model_i.decision_function(X_train)\n",
        "            model_meta, mean_meta_prob = train_meta_labeler(X_train, Y_prob, Y_train)\n",
        "            meta_labels = model_meta.predict_proba(X_test)\n",
        "            pred_proba = ridge2probas(model_i, X_test)\n",
        "\n",
        "            predictions_proba_live_comb = []\n",
        "            for pred_proba_live, pred_proba_live_meta in zip(pred_proba, meta_labels[:, 1]):\n",
        "                x = pred_proba_live_meta - mean_meta_prob\n",
        "                temperature = temperature_function(x) # calculation of the trust temperature\n",
        "                res = np.exp(pred_proba_live / temperature) / np.sum(np.exp(pred_proba_live / temperature)) # rescaling to sum up to 1.0\n",
        "                predictions_proba_live_comb.append(res)\n",
        "            predictions_proba_live_comb = np.array(predictions_proba_live_comb)\n",
        "            single_score_predictions = softmax2singlescore(predictions_proba_live_comb)\n",
        "\n",
        "        sharpe = calculate_score(\n",
        "            train_data = Y_nmr[test_ids], \n",
        "            predictions = single_score_predictions,\n",
        "            eras = eras_test)\n",
        "\n",
        "        all_sharpes.append(sharpe)\n",
        "\n",
        "    return np.array(all_sharpes)"
      ]
    },
    {
      "cell_type": "markdown",
      "metadata": {
        "id": "5N7kA5UDAyz8"
      },
      "source": [
        "### CV on all features 2/2 train set"
      ]
    },
    {
      "cell_type": "code",
      "execution_count": null,
      "metadata": {
        "id": "y04X6KmVaFWf"
      },
      "outputs": [],
      "source": [
        "np.random.seed(0)"
      ]
    },
    {
      "cell_type": "code",
      "execution_count": null,
      "metadata": {
        "id": "ZSBe5ob8rAr-"
      },
      "outputs": [],
      "source": [
        "# cvs = {\n",
        "#     # \"GroupKFold\": model_selection.GroupKFold(5),\n",
        "#     \"TimeSeriesSplit\": model_selection.TimeSeriesSplit(5),\n",
        "#     \"BlockingTimeSeriesSplit\": BlockingTimeSeriesSplit(5),\n",
        "#     \"PurgeCVByEras\" : PurgeCVByEras(ERAS_CV.reset_index(drop=True), 12, 12, 6)\n",
        "#   }\n",
        "\n",
        "# for cv in cvs.keys():\n",
        "#     sharpes = cross_validate(cvs[cv], \n",
        "#                              X_FOR_CV.reset_index(drop=True), \n",
        "#                              Y_FOR_CV, \n",
        "#                              Y_NMR_CV.reset_index(drop=True).values, \n",
        "#                              ERAS_CV)\n",
        "#     ns = sharpes[:, 0]\n",
        "#     cs = sharpes[:, 1]\n",
        "#     per_era_score = sharpes[:, 2]\n",
        "#     per_era_std = sharpes[:, 3]\n",
        "#     sharpe_era_score = sharpes[:, 4]\n",
        "#     print(cv)\n",
        "#     print('Numerai Score', np.mean(ns), np.std(ns))\n",
        "#     print('Correlation Score', np.mean(cs), np.std(cs))\n",
        "#     print('Per-Era Correlation', np.mean(per_era_score), np.std(per_era_score))\n",
        "#     print('Per-Era Standard Deviation', np.mean(per_era_std), np.std(per_era_std))\n",
        "#     print('Per-Era Sharpe Ratio', np.mean(sharpe_era_score), np.std(sharpe_era_score))\n",
        "#     print('-' * 10)"
      ]
    },
    {
      "cell_type": "markdown",
      "metadata": {
        "id": "HAqi0jFVA2Rz"
      },
      "source": [
        "### CV on important features 2/2 train set"
      ]
    },
    {
      "cell_type": "code",
      "execution_count": null,
      "metadata": {
        "colab": {
          "base_uri": "https://localhost:8080/",
          "height": 374
        },
        "id": "KR9pZRao48_9",
        "outputId": "4a410ee1-2040-40e9-c8f2-505264fd5e88"
      },
      "outputs": [
        {
          "name": "stdout",
          "output_type": "stream",
          "text": [
            "TimeSeriesSplit\n",
            "Numerai Score 0.020318859316360113 0.010561771870042695\n",
            "Correlation Score 0.02185705143098694 0.010429330477348788\n",
            "Per-Era Correlation 0.022048919410545813 0.009499389370344615\n",
            "Per-Era Standard Deviation 0.032204401941200854 0.013183080597013822\n",
            "Per-Era Sharpe Ratio 0.7200799834289351 0.33071879229488443\n",
            "----------\n",
            "BlockingTimeSeriesSplit\n",
            "Numerai Score 0.015977856057554203 0.014485986317520861\n",
            "Correlation Score 0.01663562823617133 0.014429622992557118\n",
            "Per-Era Correlation 0.019753114507429233 0.014581750976699857\n",
            "Per-Era Standard Deviation 0.0267098272578788 0.008089381023005696\n",
            "Per-Era Sharpe Ratio 0.8133886662327287 0.729190272492613\n",
            "----------\n",
            "PurgeCVByEras\n",
            "Numerai Score 0.016126950381312063 0.006969447086941606\n",
            "Correlation Score 0.016583421206554434 0.006457549335012183\n",
            "Per-Era Correlation 0.01666164826113978 0.006511106656737055\n",
            "Per-Era Standard Deviation 0.02215798921812429 0.00032014207991064303\n",
            "Per-Era Sharpe Ratio 0.7563511315632362 0.30477704518488585\n",
            "----------\n"
          ]
        }
      ],
      "source": [
        "cvs = {\n",
        "    # \"GroupKFold\": model_selection.GroupKFold(5),\n",
        "    \"TimeSeriesSplit\": model_selection.TimeSeriesSplit(5),\n",
        "    \"BlockingTimeSeriesSplit\": BlockingTimeSeriesSplit(5),\n",
        "    \"PurgeCVByEras\" : PurgeCVByEras(ERAS_CV.reset_index(drop=True), 12, 12, 6)\n",
        "  }\n",
        "\n",
        "for cv in cvs.keys():\n",
        "    sharpes = cross_validate(cvs[cv], \n",
        "                             X_FOR_CV[IMPORTANT_FEATURES].reset_index(drop=True), \n",
        "                             Y_FOR_CV, \n",
        "                             Y_NMR_CV.reset_index(drop=True).values, \n",
        "                             ERAS_CV,\n",
        "                             True)\n",
        "    ns = sharpes[:, 0]\n",
        "    cs = sharpes[:, 1]\n",
        "    per_era_score = sharpes[:, 2]\n",
        "    per_era_std = sharpes[:, 3]\n",
        "    sharpe_era_score = sharpes[:, 4]\n",
        "    print(cv)\n",
        "    print('Numerai Score', np.mean(ns), np.std(ns))\n",
        "    print('Correlation Score', np.mean(cs), np.std(cs))\n",
        "    print('Per-Era Correlation', np.mean(per_era_score), np.std(per_era_score))\n",
        "    print('Per-Era Standard Deviation', np.mean(per_era_std), np.std(per_era_std))\n",
        "    print('Per-Era Sharpe Ratio', np.mean(sharpe_era_score), np.std(sharpe_era_score))\n",
        "    print('-' * 10)"
      ]
    },
    {
      "cell_type": "code",
      "execution_count": null,
      "metadata": {
        "id": "HvJgmVm025cK"
      },
      "outputs": [],
      "source": [
        "# TimeSeriesSplit\n",
        "# Numerai Score 0.01925462046015627 0.009945674177002841\n",
        "# Correlation Score 0.020281237978793262 0.009900275688495575\n",
        "# Per-Era Correlation 0.020351144914288265 0.009558358133184052\n",
        "# Per-Era Standard Deviation 0.03148433069321672 0.015217252267864998\n",
        "# Per-Era Sharpe Ratio 0.6763038015393811 0.35337794957104884\n",
        "# ----------\n",
        "# BlockingTimeSeriesSplit\n",
        "# Numerai Score 0.017357464096510865 0.012836981320395383\n",
        "# Correlation Score 0.017920222716025697 0.013369830409459603\n",
        "# Per-Era Correlation 0.02190719592987754 0.013944126615746757\n",
        "# Per-Era Standard Deviation 0.026080775818348077 0.007932714138070066\n",
        "# Per-Era Sharpe Ratio 0.8948490467333936 0.6466697114680272\n",
        "# ----------\n",
        "# PurgeCVByEras\n",
        "# Numerai Score 0.013242613898943342 0.00766841254656926\n",
        "# Correlation Score 0.013190882038723603 0.007379940144351194\n",
        "# Per-Era Correlation 0.013255279242168322 0.007459466336770321\n",
        "# Per-Era Standard Deviation 0.020017224014070682 0.0018776388099172505\n",
        "# Per-Era Sharpe Ratio 0.6328063004037553 0.3132944240202242\n",
        "# ----------"
      ]
    },
    {
      "cell_type": "code",
      "execution_count": null,
      "metadata": {
        "id": "9SLHsWFXVbQE"
      },
      "outputs": [],
      "source": [
        "# TimeSeriesSplit\n",
        "# Numerai Score 0.02097256380133245 0.010013304793910693\n",
        "# Correlation Score 0.022389722781826167 0.009915355575225753\n",
        "# Per-Era Correlation 0.02271200354105003 0.008879267635339095\n",
        "# Per-Era Standard Deviation 0.03354371473178732 0.012071340946551126\n",
        "# Per-Era Sharpe Ratio 0.6975813447369505 0.280578880285802\n",
        "# ----------\n",
        "# BlockingTimeSeriesSplit\n",
        "# Numerai Score 0.017714859461851987 0.015647730336606373\n",
        "# Correlation Score 0.01866113165931573 0.01580110304774684\n",
        "# Per-Era Correlation 0.021961981979271815 0.016443722898939354\n",
        "# Per-Era Standard Deviation 0.02597788186077334 0.006730381851703717\n",
        "# Per-Era Sharpe Ratio 0.8857505026078005 0.7612270120539839\n",
        "# ----------\n",
        "# PurgeCVByEras\n",
        "# Numerai Score 0.014262925641734505 0.0060517181791186056\n",
        "# Correlation Score 0.014860589337502828 0.006240294463612156\n",
        "# Per-Era Correlation 0.014969936884651858 0.006338905390379263\n",
        "# Per-Era Standard Deviation 0.02290642946126601 0.0006344368680178351\n",
        "# Per-Era Sharpe Ratio 0.6616977204423878 0.2950573694228523\n",
        "# ----------"
      ]
    },
    {
      "cell_type": "code",
      "execution_count": null,
      "metadata": {
        "id": "AODLrOcNVbWA"
      },
      "outputs": [],
      "source": [
        "# TimeSeriesSplit\n",
        "# Numerai Score 0.020925707426224523 0.009978817402474733\n",
        "# Correlation Score 0.022363503936886325 0.00978196523757409\n",
        "# Per-Era Correlation 0.022699633265259464 0.008786733091903606\n",
        "# Per-Era Standard Deviation 0.033550790679720534 0.0120730366336198\n",
        "# Per-Era Sharpe Ratio 0.6949696052782974 0.27259800172135307\n",
        "# ----------\n",
        "# BlockingTimeSeriesSplit\n",
        "# Numerai Score 0.017583533750837065 0.015516714565264881\n",
        "# Correlation Score 0.01834605361937234 0.015556431070866263\n",
        "# Per-Era Correlation 0.02222291121028109 0.01681195828297658\n",
        "# Per-Era Standard Deviation 0.027082426863812875 0.006963238869225877\n",
        "# Per-Era Sharpe Ratio 0.8224676837618027 0.6632216252915604\n",
        "# ----------\n",
        "# PurgeCVByEras\n",
        "# Numerai Score 0.014184639073992006 0.005836885339597908\n",
        "# Correlation Score 0.014899994440039893 0.006357032282929712\n",
        "# Per-Era Correlation 0.014993982353271557 0.006435644449725583\n",
        "# Per-Era Standard Deviation 0.02268378052274169 0.0010921198281787486\n",
        "# Per-Era Sharpe Ratio 0.6762270268475762 0.3162685067819142\n",
        "# ----------"
      ]
    },
    {
      "cell_type": "markdown",
      "metadata": {
        "id": "UlKNFPctAMu0"
      },
      "source": [
        "# Final Validation"
      ]
    },
    {
      "cell_type": "code",
      "execution_count": null,
      "metadata": {
        "id": "cmuODG-6tZrG"
      },
      "outputs": [],
      "source": [
        "X_test = tournament_data[IMPORTANT_FEATURES]\n",
        "Y_test = le.fit_transform(tournament_data.target_kazutsugi)\n",
        "Y_nmr_test = tournament_data.target_kazutsugi\n",
        "test_eras = tournament_data.era"
      ]
    },
    {
      "cell_type": "code",
      "execution_count": null,
      "metadata": {
        "id": "bMBn0aigtvXO"
      },
      "outputs": [],
      "source": [
        "clf = get_base_model()\n",
        "clf.fit(X[IMPORTANT_FEATURES], Y)\n",
        "pred_c = clf.predict(X_test)\n",
        "pred = ridge_classifier_2single_prediction(clf, X_test)"
      ]
    },
    {
      "cell_type": "code",
      "execution_count": null,
      "metadata": {
        "colab": {
          "base_uri": "https://localhost:8080/",
          "height": 221
        },
        "id": "qz-2E60KyZut",
        "outputId": "6f7944f0-dda5-41de-d729-ebe935318368"
      },
      "outputs": [
        {
          "name": "stdout",
          "output_type": "stream",
          "text": [
            "precision    recall  f1-score   support\n",
            "\n",
            "           0       0.29      0.27      0.28     22644\n",
            "           1       0.22      0.23      0.22     20593\n",
            "           2       0.24      0.29      0.26     18140\n",
            "           3       0.22      0.22      0.22     20640\n",
            "           4       0.32      0.27      0.29     24878\n",
            "\n",
            "    accuracy                           0.26    106895\n",
            "   macro avg       0.26      0.26      0.26    106895\n",
            "weighted avg       0.26      0.26      0.26    106895\n",
            "\n"
          ]
        }
      ],
      "source": [
        "print(classification_report(pred_c, Y_test))"
      ]
    },
    {
      "cell_type": "code",
      "execution_count": null,
      "metadata": {
        "colab": {
          "base_uri": "https://localhost:8080/",
          "height": 34
        },
        "id": "S2yXtDNgueY6",
        "outputId": "db9ec46f-f9b6-4247-d48e-f9f3f3775d83"
      },
      "outputs": [
        {
          "data": {
            "text/plain": [
              "((106895, 244), (106895,), (106895,))"
            ]
          },
          "execution_count": 49,
          "metadata": {
            "tags": []
          },
          "output_type": "execute_result"
        }
      ],
      "source": [
        "X_test.shape, pred.shape, test_eras.shape"
      ]
    },
    {
      "cell_type": "code",
      "execution_count": null,
      "metadata": {
        "colab": {
          "base_uri": "https://localhost:8080/",
          "height": 282
        },
        "id": "FW7VCbKGuNvI",
        "outputId": "0af1f14a-3781-4784-a7a8-a86637f9ce93"
      },
      "outputs": [
        {
          "data": {
            "image/png": "[encoded data removed]",
            "text/plain": [
              "<Figure size 432x288 with 1 Axes>"
            ]
          },
          "metadata": {
            "needs_background": "light",
            "tags": []
          },
          "output_type": "display_data"
        },
        {
          "name": "stdout",
          "output_type": "stream",
          "text": [
            "0.016432322340894753 0.016002683882384846 0.016818310521582804 0.03492848494360476 0.4815070149403133\n"
          ]
        }
      ],
      "source": [
        "ns = numerai_score(Y_nmr_test, pd.Series(pred))\n",
        "cs = correlation_score(Y_nmr_test, pd.Series(pred))\n",
        "\n",
        "df2 = pd.DataFrame(\n",
        "    {\n",
        "        \"era\": test_eras,\n",
        "        \"preds\": pred,\n",
        "        \"target\": Y_nmr_test\n",
        "    }\n",
        ")\n",
        "\n",
        "scores_per_era = df2.groupby(\"era\").apply(lambda d: np.corrcoef(d[\"preds\"], d[\"target\"])[0,1])\n",
        "\n",
        "per_era_score, per_era_std = scores_per_era.mean(), scores_per_era.std()\n",
        "sharpe_era_score = scores_per_era.mean() / scores_per_era.std()\n",
        "\n",
        "plt.figure()\n",
        "plt.plot(scores_per_era_bs.values, color = 'black')\n",
        "plt.plot(scores_per_era.values, ls = '--', color = 'red')\n",
        "plt.axhline(0.0, ls = '--', color = 'grey')\n",
        "plt.show()\n",
        "print(ns, cs, per_era_score, per_era_std, sharpe_era_score)"
      ]
    },
    {
      "cell_type": "code",
      "execution_count": null,
      "metadata": {
        "colab": {
          "base_uri": "https://localhost:8080/",
          "height": 1000
        },
        "id": "1_eEcv25T5Xe",
        "outputId": "01ae0adb-89c4-425f-8ffe-2cd8c76590a7"
      },
      "outputs": [
        {
          "data": {
            "text/plain": [
              "['feature_intelligence1',\n",
              " 'feature_intelligence2',\n",
              " 'feature_intelligence3',\n",
              " 'feature_intelligence4',\n",
              " 'feature_intelligence5',\n",
              " 'feature_intelligence6',\n",
              " 'feature_intelligence7',\n",
              " 'feature_intelligence9',\n",
              " 'feature_intelligence10',\n",
              " 'feature_intelligence11',\n",
              " 'feature_charisma2',\n",
              " 'feature_charisma3',\n",
              " 'feature_charisma4',\n",
              " 'feature_charisma5',\n",
              " 'feature_charisma7',\n",
              " 'feature_charisma10',\n",
              " 'feature_charisma11',\n",
              " 'feature_charisma13',\n",
              " 'feature_charisma15',\n",
              " 'feature_charisma16',\n",
              " 'feature_charisma17',\n",
              " 'feature_charisma18',\n",
              " 'feature_charisma19',\n",
              " 'feature_charisma20',\n",
              " 'feature_charisma21',\n",
              " 'feature_charisma22',\n",
              " 'feature_charisma23',\n",
              " 'feature_charisma24',\n",
              " 'feature_charisma25',\n",
              " 'feature_charisma26',\n",
              " 'feature_charisma27',\n",
              " 'feature_charisma28',\n",
              " 'feature_charisma29',\n",
              " 'feature_charisma30',\n",
              " 'feature_charisma31',\n",
              " 'feature_charisma32',\n",
              " 'feature_charisma33',\n",
              " 'feature_charisma34',\n",
              " 'feature_charisma36',\n",
              " 'feature_charisma37',\n",
              " 'feature_charisma39',\n",
              " 'feature_charisma40',\n",
              " 'feature_charisma41',\n",
              " 'feature_charisma43',\n",
              " 'feature_charisma44',\n",
              " 'feature_charisma45',\n",
              " 'feature_charisma46',\n",
              " 'feature_charisma47',\n",
              " 'feature_charisma48',\n",
              " 'feature_charisma50',\n",
              " 'feature_charisma51',\n",
              " 'feature_charisma52',\n",
              " 'feature_charisma53',\n",
              " 'feature_charisma54',\n",
              " 'feature_charisma55',\n",
              " 'feature_charisma56',\n",
              " 'feature_charisma58',\n",
              " 'feature_charisma62',\n",
              " 'feature_charisma63',\n",
              " 'feature_charisma64',\n",
              " 'feature_charisma65',\n",
              " 'feature_charisma67',\n",
              " 'feature_charisma68',\n",
              " 'feature_charisma69',\n",
              " 'feature_charisma70',\n",
              " 'feature_charisma71',\n",
              " 'feature_charisma72',\n",
              " 'feature_charisma73',\n",
              " 'feature_charisma74',\n",
              " 'feature_charisma75',\n",
              " 'feature_charisma76',\n",
              " 'feature_charisma77',\n",
              " 'feature_charisma78',\n",
              " 'feature_charisma79',\n",
              " 'feature_charisma80',\n",
              " 'feature_charisma81',\n",
              " 'feature_charisma82',\n",
              " 'feature_charisma83',\n",
              " 'feature_charisma85',\n",
              " 'feature_charisma86',\n",
              " 'feature_strength1',\n",
              " 'feature_strength2',\n",
              " 'feature_strength4',\n",
              " 'feature_strength5',\n",
              " 'feature_strength6',\n",
              " 'feature_strength7',\n",
              " 'feature_strength8',\n",
              " 'feature_strength10',\n",
              " 'feature_strength11',\n",
              " 'feature_strength12',\n",
              " 'feature_strength14',\n",
              " 'feature_strength15',\n",
              " 'feature_strength16',\n",
              " 'feature_strength17',\n",
              " 'feature_strength18',\n",
              " 'feature_strength19',\n",
              " 'feature_strength20',\n",
              " 'feature_strength22',\n",
              " 'feature_strength23',\n",
              " 'feature_strength24',\n",
              " 'feature_strength25',\n",
              " 'feature_strength26',\n",
              " 'feature_strength27',\n",
              " 'feature_strength29',\n",
              " 'feature_strength30',\n",
              " 'feature_strength31',\n",
              " 'feature_strength32',\n",
              " 'feature_strength34',\n",
              " 'feature_strength35',\n",
              " 'feature_strength36',\n",
              " 'feature_strength37',\n",
              " 'feature_strength38',\n",
              " 'feature_dexterity1',\n",
              " 'feature_dexterity2',\n",
              " 'feature_dexterity4',\n",
              " 'feature_dexterity5',\n",
              " 'feature_dexterity6',\n",
              " 'feature_dexterity7',\n",
              " 'feature_dexterity9',\n",
              " 'feature_dexterity10',\n",
              " 'feature_dexterity12',\n",
              " 'feature_dexterity13',\n",
              " 'feature_dexterity14',\n",
              " 'feature_constitution1',\n",
              " 'feature_constitution3',\n",
              " 'feature_constitution5',\n",
              " 'feature_constitution6',\n",
              " 'feature_constitution8',\n",
              " 'feature_constitution9',\n",
              " 'feature_constitution11',\n",
              " 'feature_constitution12',\n",
              " 'feature_constitution13',\n",
              " 'feature_constitution14',\n",
              " 'feature_constitution15',\n",
              " 'feature_constitution16',\n",
              " 'feature_constitution17',\n",
              " 'feature_constitution18',\n",
              " 'feature_constitution20',\n",
              " 'feature_constitution21',\n",
              " 'feature_constitution24',\n",
              " 'feature_constitution25',\n",
              " 'feature_constitution27',\n",
              " 'feature_constitution28',\n",
              " 'feature_constitution29',\n",
              " 'feature_constitution30',\n",
              " 'feature_constitution33',\n",
              " 'feature_constitution34',\n",
              " 'feature_constitution35',\n",
              " 'feature_constitution37',\n",
              " 'feature_constitution38',\n",
              " 'feature_constitution43',\n",
              " 'feature_constitution44',\n",
              " 'feature_constitution46',\n",
              " 'feature_constitution48',\n",
              " 'feature_constitution49',\n",
              " 'feature_constitution50',\n",
              " 'feature_constitution51',\n",
              " 'feature_constitution53',\n",
              " 'feature_constitution55',\n",
              " 'feature_constitution56',\n",
              " 'feature_constitution57',\n",
              " 'feature_constitution58',\n",
              " 'feature_constitution59',\n",
              " 'feature_constitution60',\n",
              " 'feature_constitution61',\n",
              " 'feature_constitution62',\n",
              " 'feature_constitution63',\n",
              " 'feature_constitution64',\n",
              " 'feature_constitution65',\n",
              " 'feature_constitution66',\n",
              " 'feature_constitution69',\n",
              " 'feature_constitution70',\n",
              " 'feature_constitution72',\n",
              " 'feature_constitution74',\n",
              " 'feature_constitution75',\n",
              " 'feature_constitution77',\n",
              " 'feature_constitution78',\n",
              " 'feature_constitution80',\n",
              " 'feature_constitution81',\n",
              " 'feature_constitution82',\n",
              " 'feature_constitution84',\n",
              " 'feature_constitution85',\n",
              " 'feature_constitution86',\n",
              " 'feature_constitution88',\n",
              " 'feature_constitution89',\n",
              " 'feature_constitution91',\n",
              " 'feature_constitution92',\n",
              " 'feature_constitution94',\n",
              " 'feature_constitution95',\n",
              " 'feature_constitution96',\n",
              " 'feature_constitution97',\n",
              " 'feature_constitution98',\n",
              " 'feature_constitution99',\n",
              " 'feature_constitution100',\n",
              " 'feature_constitution102',\n",
              " 'feature_constitution103',\n",
              " 'feature_constitution104',\n",
              " 'feature_constitution105',\n",
              " 'feature_constitution106',\n",
              " 'feature_constitution107',\n",
              " 'feature_constitution108',\n",
              " 'feature_constitution109',\n",
              " 'feature_constitution110',\n",
              " 'feature_constitution111',\n",
              " 'feature_constitution113',\n",
              " 'feature_constitution114',\n",
              " 'feature_wisdom1',\n",
              " 'feature_wisdom2',\n",
              " 'feature_wisdom4',\n",
              " 'feature_wisdom5',\n",
              " 'feature_wisdom7',\n",
              " 'feature_wisdom8',\n",
              " 'feature_wisdom9',\n",
              " 'feature_wisdom10',\n",
              " 'feature_wisdom11',\n",
              " 'feature_wisdom12',\n",
              " 'feature_wisdom14',\n",
              " 'feature_wisdom16',\n",
              " 'feature_wisdom17',\n",
              " 'feature_wisdom18',\n",
              " 'feature_wisdom19',\n",
              " 'feature_wisdom20',\n",
              " 'feature_wisdom21',\n",
              " 'feature_wisdom22',\n",
              " 'feature_wisdom23',\n",
              " 'feature_wisdom24',\n",
              " 'feature_wisdom25',\n",
              " 'feature_wisdom28',\n",
              " 'feature_wisdom29',\n",
              " 'feature_wisdom30',\n",
              " 'feature_wisdom31',\n",
              " 'feature_wisdom32',\n",
              " 'feature_wisdom33',\n",
              " 'feature_wisdom34',\n",
              " 'feature_wisdom35',\n",
              " 'feature_wisdom36',\n",
              " 'feature_wisdom38',\n",
              " 'feature_wisdom39',\n",
              " 'feature_wisdom41',\n",
              " 'feature_wisdom42',\n",
              " 'feature_wisdom43',\n",
              " 'feature_wisdom44',\n",
              " 'feature_wisdom45',\n",
              " 'feature_wisdom46']"
            ]
          },
          "execution_count": 54,
          "metadata": {
            "tags": []
          },
          "output_type": "execute_result"
        }
      ],
      "source": [
        "IMPORTANT_FEATURES"
      ]
    },
    {
      "cell_type": "code",
      "execution_count": null,
      "metadata": {
        "id": "lbZVduA-t-5F"
      },
      "outputs": [],
      "source": [
        "# 0.016377875621628485 0.01611916480602046 0.016919172393467265 0.035054573477805176 0.48265235359887204"
      ]
    },
    {
      "cell_type": "code",
      "execution_count": null,
      "metadata": {
        "id": "05xGwaT6T59t"
      },
      "outputs": [],
      "source": [
        "# 0.016891909006799235 0.01645011349547171 0.017219044707080692 0.035294027287233395 0.48787418242035496"
      ]
    },
    {
      "cell_type": "code",
      "execution_count": null,
      "metadata": {
        "id": "XPHdfeptT9Tf"
      },
      "outputs": [],
      "source": [
        "# 0.01695515820999998 0.0165072009830593 0.017262188559532085 0.03516001888771483 0.49096073055761696"
      ]
    }
  ],
  "metadata": {
    "colab": {
      "collapsed_sections": [],
      "machine_shape": "hm",
      "name": "NumerAI Feature Importance CROSS-VALIDATION.ipynb",
      "provenance": []
    },
    "kernelspec": {
      "name": "python3",
      "display_name": "Python 3.9.0 64-bit",
      "metadata": {
        "interpreter": {
          "hash": "ee5cc6fef2d70a7e71ee3826687cbd150f18158e0b1eef11d4f4f92bb920e304"
        }
      }
    },
    "language_info": {
      "version": "3.9.0-final"
    }
  },
  "nbformat": 4,
  "nbformat_minor": 0
}